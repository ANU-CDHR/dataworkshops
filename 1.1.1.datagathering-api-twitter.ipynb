{
 "cells": [
  {
   "cell_type": "markdown",
   "metadata": {},
   "source": [
    "1.1 Getting data via APIs\n",
    "------\n"
   ]
  },
  {
   "cell_type": "markdown",
   "metadata": {},
   "source": [
    "### 1.1.1 Twitter API\n",
    "Get twitter data and save in file"
   ]
  },
  {
   "cell_type": "code",
   "execution_count": null,
   "metadata": {},
   "outputs": [],
   "source": [
    "# import tweepy and other required python libraries\n",
    "import tweepy\n",
    "import numpy as np\n",
    "import pandas as pd\n",
    "\n",
    "import warnings\n",
    "warnings.filterwarnings(\"ignore\")"
   ]
  },
  {
   "cell_type": "markdown",
   "metadata": {},
   "source": []
  },
  {
   "cell_type": "code",
   "execution_count": 2,
   "metadata": {},
   "outputs": [],
   "source": [
    "# set twitter API information\n",
    "consumer_key = '########'\n",
    "consumer_secret = '########'\n",
    "access_token = '########'\n",
    "access_token_secret = '########'"
   ]
  },
  {
   "cell_type": "code",
   "execution_count": 3,
   "metadata": {},
   "outputs": [],
   "source": [
    "# create Tweepy API object\n",
    "auth = tweepy.OAuthHandler(consumer_key, consumer_secret)\n",
    "auth.set_access_token(access_token, access_token_secret)\n",
    "api = tweepy.API(auth)"
   ]
  },
  {
   "cell_type": "code",
   "execution_count": 35,
   "metadata": {},
   "outputs": [],
   "source": [
    "# create DataFrame from twitter data\n",
    "df = pd.DataFrame(columns = ['Tweets', 'User', 'User_statuses_count', \n",
    "                             'user_followers', 'User_location', 'User_verified',\n",
    "                             'fav_count', 'rt_count', 'tweet_date','User_lat','User_lng'])\n"
   ]
  },
  {
   "cell_type": "code",
   "execution_count": 36,
   "metadata": {},
   "outputs": [],
   "source": [
    "# prepare library to get gps information (latitude, longitude) from twitter data location \n",
    "from geopy.geocoders import Nominatim\n",
    "geolocator = Nominatim(user_agent=\"test\")\n",
    "#loc = geolocator.geocode(\"New York, NY\")\n",
    "#loc"
   ]
  },
  {
   "cell_type": "code",
   "execution_count": 37,
   "metadata": {},
   "outputs": [],
   "source": [
    "# set maximum tweets to get\n",
    "tweet_number=100\n",
    "# stream function to get twitter data save in csv\n",
    "def stream(data, file_name):\n",
    "    i = 0\n",
    "    for tweet in tweepy.Cursor(api.search, q=data, count=100, lang='en').items():\n",
    "        #print(i, end='\\r')\n",
    "        df.loc[i, 'Tweets'] = tweet.text\n",
    "        df.loc[i, 'User'] = tweet.user.name\n",
    "        df.loc[i, 'User_statuses_count'] = tweet.user.statuses_count\n",
    "        df.loc[i, 'user_followers'] = tweet.user.followers_count\n",
    "        df.loc[i, 'User_location'] = tweet.user.location\n",
    "        df.loc[i, 'User_verified'] = tweet.user.verified\n",
    "        df.loc[i, 'fav_count'] = tweet.favorite_count\n",
    "        df.loc[i, 'rt_count'] = tweet.retweet_count\n",
    "        df.loc[i, 'tweet_date'] = tweet.created_at\n",
    "        if tweet.user.location is not None:\n",
    "            coord = geolocator.geocode(tweet.user.location)\n",
    "            if coord is not None:\n",
    "                df.loc[i, 'User_lat'] = coord.latitude\n",
    "                df.loc[i, 'User_lng'] = coord.longitude\n",
    "        df.to_csv('{}.csv'.format(file_name))\n",
    "        i+=1\n",
    "        if i == tweet_number:\n",
    "            break\n",
    "        else:\n",
    "            pass"
   ]
  },
  {
   "cell_type": "code",
   "execution_count": 38,
   "metadata": {},
   "outputs": [],
   "source": [
    "#stream(data = ['#digitalHumanities'], file_name = 'dh_tweets')\n",
    "# set twitter query for getting data, file_name to save data\n",
    "stream(data = ['digitalhumanities or #digitalhumanities'], file_name = 'dh_tweets')"
   ]
  },
  {
   "cell_type": "code",
   "execution_count": 39,
   "metadata": {},
   "outputs": [
    {
     "data": {
      "text/html": [
       "<div>\n",
       "<style scoped>\n",
       "    .dataframe tbody tr th:only-of-type {\n",
       "        vertical-align: middle;\n",
       "    }\n",
       "\n",
       "    .dataframe tbody tr th {\n",
       "        vertical-align: top;\n",
       "    }\n",
       "\n",
       "    .dataframe thead th {\n",
       "        text-align: right;\n",
       "    }\n",
       "</style>\n",
       "<table border=\"1\" class=\"dataframe\">\n",
       "  <thead>\n",
       "    <tr style=\"text-align: right;\">\n",
       "      <th></th>\n",
       "      <th>Tweets</th>\n",
       "      <th>User</th>\n",
       "      <th>User_statuses_count</th>\n",
       "      <th>user_followers</th>\n",
       "      <th>User_location</th>\n",
       "      <th>User_verified</th>\n",
       "      <th>fav_count</th>\n",
       "      <th>rt_count</th>\n",
       "      <th>tweet_date</th>\n",
       "      <th>User_lat</th>\n",
       "      <th>User_lng</th>\n",
       "    </tr>\n",
       "  </thead>\n",
       "  <tbody>\n",
       "    <tr>\n",
       "      <th>0</th>\n",
       "      <td>@sfiscience @SimonDeDeo @davidbkinney Congratu...</td>\n",
       "      <td>Adam Kola</td>\n",
       "      <td>892</td>\n",
       "      <td>149</td>\n",
       "      <td></td>\n",
       "      <td>False</td>\n",
       "      <td>1</td>\n",
       "      <td>0</td>\n",
       "      <td>2020-09-10 20:02:16</td>\n",
       "      <td>NaN</td>\n",
       "      <td>NaN</td>\n",
       "    </tr>\n",
       "    <tr>\n",
       "      <th>1</th>\n",
       "      <td>RT @comebackcities: I'm looking for upcoming r...</td>\n",
       "      <td>Jaime 🏳️‍🌈</td>\n",
       "      <td>240</td>\n",
       "      <td>37</td>\n",
       "      <td></td>\n",
       "      <td>False</td>\n",
       "      <td>0</td>\n",
       "      <td>8</td>\n",
       "      <td>2020-09-10 18:24:01</td>\n",
       "      <td>NaN</td>\n",
       "      <td>NaN</td>\n",
       "    </tr>\n",
       "    <tr>\n",
       "      <th>2</th>\n",
       "      <td>RT @comebackcities: I'm looking for upcoming r...</td>\n",
       "      <td>Emily Esten</td>\n",
       "      <td>8061</td>\n",
       "      <td>1714</td>\n",
       "      <td>Philadelphia</td>\n",
       "      <td>False</td>\n",
       "      <td>0</td>\n",
       "      <td>8</td>\n",
       "      <td>2020-09-10 16:09:54</td>\n",
       "      <td>39.9527</td>\n",
       "      <td>-75.1635</td>\n",
       "    </tr>\n",
       "    <tr>\n",
       "      <th>3</th>\n",
       "      <td>RT @comebackcities: I'm looking for upcoming r...</td>\n",
       "      <td>Pedagogy &amp; American Literary Studies</td>\n",
       "      <td>23587</td>\n",
       "      <td>2519</td>\n",
       "      <td></td>\n",
       "      <td>False</td>\n",
       "      <td>0</td>\n",
       "      <td>8</td>\n",
       "      <td>2020-09-10 11:38:07</td>\n",
       "      <td>NaN</td>\n",
       "      <td>NaN</td>\n",
       "    </tr>\n",
       "    <tr>\n",
       "      <th>4</th>\n",
       "      <td>RT @comebackcities: I'm looking for upcoming r...</td>\n",
       "      <td>Michelle Moravec</td>\n",
       "      <td>47556</td>\n",
       "      <td>5232</td>\n",
       "      <td>Intersection Public &amp; Digital</td>\n",
       "      <td>False</td>\n",
       "      <td>0</td>\n",
       "      <td>8</td>\n",
       "      <td>2020-09-10 11:37:44</td>\n",
       "      <td>NaN</td>\n",
       "      <td>NaN</td>\n",
       "    </tr>\n",
       "  </tbody>\n",
       "</table>\n",
       "</div>"
      ],
      "text/plain": [
       "                                              Tweets  \\\n",
       "0  @sfiscience @SimonDeDeo @davidbkinney Congratu...   \n",
       "1  RT @comebackcities: I'm looking for upcoming r...   \n",
       "2  RT @comebackcities: I'm looking for upcoming r...   \n",
       "3  RT @comebackcities: I'm looking for upcoming r...   \n",
       "4  RT @comebackcities: I'm looking for upcoming r...   \n",
       "\n",
       "                                   User User_statuses_count user_followers  \\\n",
       "0                             Adam Kola                 892            149   \n",
       "1                            Jaime 🏳️‍🌈                 240             37   \n",
       "2                           Emily Esten                8061           1714   \n",
       "3  Pedagogy & American Literary Studies               23587           2519   \n",
       "4                      Michelle Moravec               47556           5232   \n",
       "\n",
       "                   User_location User_verified fav_count rt_count  \\\n",
       "0                                        False         1        0   \n",
       "1                                        False         0        8   \n",
       "2                   Philadelphia         False         0        8   \n",
       "3                                        False         0        8   \n",
       "4  Intersection Public & Digital         False         0        8   \n",
       "\n",
       "            tweet_date User_lat User_lng  \n",
       "0  2020-09-10 20:02:16      NaN      NaN  \n",
       "1  2020-09-10 18:24:01      NaN      NaN  \n",
       "2  2020-09-10 16:09:54  39.9527 -75.1635  \n",
       "3  2020-09-10 11:38:07      NaN      NaN  \n",
       "4  2020-09-10 11:37:44      NaN      NaN  "
      ]
     },
     "execution_count": 39,
     "metadata": {},
     "output_type": "execute_result"
    }
   ],
   "source": [
    "# check dataframe\n",
    "df.head()"
   ]
  }
 ],
 "metadata": {
  "kernelspec": {
   "display_name": "Python 3",
   "language": "python",
   "name": "python3"
  },
  "language_info": {
   "codemirror_mode": {
    "name": "ipython",
    "version": 3
   },
   "file_extension": ".py",
   "mimetype": "text/x-python",
   "name": "python",
   "nbconvert_exporter": "python",
   "pygments_lexer": "ipython3",
   "version": "3.6.9"
  }
 },
 "nbformat": 4,
 "nbformat_minor": 4
}
