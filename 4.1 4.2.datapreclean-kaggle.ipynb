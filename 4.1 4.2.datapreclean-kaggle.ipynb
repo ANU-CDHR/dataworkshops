{
 "cells": [
  {
   "cell_type": "markdown",
   "metadata": {},
   "source": [
    "4.1 Getting data via public data sources - Kaggle\n",
    "======"
   ]
  },
  {
   "cell_type": "markdown",
   "metadata": {},
   "source": [
    "**Titanic extended dataset**"
   ]
  },
  {
   "cell_type": "markdown",
   "metadata": {},
   "source": [
    "**We will experiment with the Titanic passenger list data. The Titanic extended dataset (Kaggle + Wikipedia)\n",
    "https://www.kaggle.com/pavlofesenko/titanic-extended\n",
    "has more features and data than the usual Titanic dataset such as the one in the Titanic R package and https://www.kaggle.com/c/titanic/data.**"
   ]
  },
  {
   "cell_type": "markdown",
   "metadata": {},
   "source": [
    "Download the titanic_full.csv file from the Kaggle page. Import python library. Read data from csv file. Check and inspect data frame."
   ]
  },
  {
   "cell_type": "code",
   "execution_count": 1,
   "metadata": {},
   "outputs": [
    {
     "name": "stdout",
     "output_type": "stream",
     "text": [
      "   PassengerId  Survived  Pclass  \\\n",
      "0            1       0.0       3   \n",
      "1            2       1.0       1   \n",
      "2            3       1.0       3   \n",
      "3            4       1.0       1   \n",
      "4            5       0.0       3   \n",
      "\n",
      "                                                Name     Sex   Age  SibSp  \\\n",
      "0                            Braund, Mr. Owen Harris    male  22.0      1   \n",
      "1  Cumings, Mrs. John Bradley (Florence Briggs Th...  female  38.0      1   \n",
      "2                             Heikkinen, Miss. Laina  female  26.0      0   \n",
      "3       Futrelle, Mrs. Jacques Heath (Lily May Peel)  female  35.0      1   \n",
      "4                           Allen, Mr. William Henry    male  35.0      0   \n",
      "\n",
      "   Parch            Ticket     Fare  ... Embarked WikiId  \\\n",
      "0      0         A/5 21171   7.2500  ...        S  691.0   \n",
      "1      0          PC 17599  71.2833  ...        C   90.0   \n",
      "2      0  STON/O2. 3101282   7.9250  ...        S  865.0   \n",
      "3      0            113803  53.1000  ...        S  127.0   \n",
      "4      0            373450   8.0500  ...        S  627.0   \n",
      "\n",
      "                                    Name_wiki Age_wiki  \\\n",
      "0                     Braund, Mr. Owen Harris     22.0   \n",
      "1  Cumings, Mrs. Florence Briggs (née Thayer)     35.0   \n",
      "2                       Heikkinen, Miss Laina     26.0   \n",
      "3          Futrelle, Mrs. Lily May (née Peel)     35.0   \n",
      "4                    Allen, Mr. William Henry     35.0   \n",
      "\n",
      "                             Hometown      Boarded  \\\n",
      "0          Bridgerule, Devon, England  Southampton   \n",
      "1              New York, New York, US    Cherbourg   \n",
      "2                  Jyväskylä, Finland  Southampton   \n",
      "3         Scituate, Massachusetts, US  Southampton   \n",
      "4  Birmingham, West Midlands, England  Southampton   \n",
      "\n",
      "                               Destination Lifeboat Body Class  \n",
      "0  Qu'Appelle Valley, Saskatchewan, Canada      NaN  NaN   3.0  \n",
      "1                   New York, New York, US        4  NaN   1.0  \n",
      "2                            New York City      14?  NaN   3.0  \n",
      "3              Scituate, Massachusetts, US        D  NaN   1.0  \n",
      "4                            New York City      NaN  NaN   3.0  \n",
      "\n",
      "[5 rows x 21 columns]\n",
      "(1309, 21)\n"
     ]
    }
   ],
   "source": [
    "# import pandas python library\n",
    "import pandas as pd \n",
    "# Read data from file \n",
    "titanic_full = pd.read_csv(\"titanic_full.csv\") \n",
    "# Preview the first 5 lines of the loaded data \n",
    "print(titanic_full.head())\n",
    "# show data frame dimension\n",
    "print(titanic_full.shape)"
   ]
  },
  {
   "cell_type": "code",
   "execution_count": null,
   "metadata": {},
   "outputs": [],
   "source": []
  },
  {
   "cell_type": "markdown",
   "metadata": {},
   "source": [
    "4.2 Kaggle data preparation and cleaning\n",
    "======"
   ]
  },
  {
   "cell_type": "markdown",
   "metadata": {},
   "source": [
    "4.2.1 Titanic extended dataset\n",
    "------\n",
    "Titanic extended dataset\n",
    "https://www.kaggle.com/pavlofesenko/titanic-extended"
   ]
  },
  {
   "cell_type": "markdown",
   "metadata": {},
   "source": [
    "**The Titanic extended dataset includes extra age data in Age_wiki. We will remove the Age field, use Age_wiki as Age, and keep Survived, Sex, SibSp, PClass, Parch, Fare, Embarked, Lifeboat etc data for data processing and visualisation later.**"
   ]
  },
  {
   "cell_type": "markdown",
   "metadata": {},
   "source": [
    "**Check columns with null value.**"
   ]
  },
  {
   "cell_type": "code",
   "execution_count": 2,
   "metadata": {},
   "outputs": [
    {
     "name": "stdout",
     "output_type": "stream",
     "text": [
      "PassengerId       0\n",
      "Survived        418\n",
      "Pclass            0\n",
      "Name              0\n",
      "Sex               0\n",
      "Age             263\n",
      "SibSp             0\n",
      "Parch             0\n",
      "Ticket            0\n",
      "Fare              1\n",
      "Cabin          1014\n",
      "Embarked          2\n",
      "WikiId            5\n",
      "Name_wiki         5\n",
      "Age_wiki          7\n",
      "Hometown          5\n",
      "Boarded           5\n",
      "Destination       5\n",
      "Lifeboat        807\n",
      "Body           1179\n",
      "Class             5\n",
      "dtype: int64\n"
     ]
    }
   ],
   "source": [
    "# check columns with null value\n",
    "na_report = titanic_full.isnull().sum()\n",
    "print(na_report)"
   ]
  },
  {
   "cell_type": "markdown",
   "metadata": {},
   "source": [
    "**Remove rows with null in suvivied data column.**"
   ]
  },
  {
   "cell_type": "code",
   "execution_count": 3,
   "metadata": {},
   "outputs": [
    {
     "name": "stdout",
     "output_type": "stream",
     "text": [
      "(891, 21)\n",
      "PassengerId      0\n",
      "Survived         0\n",
      "Pclass           0\n",
      "Name             0\n",
      "Sex              0\n",
      "Age            177\n",
      "SibSp            0\n",
      "Parch            0\n",
      "Ticket           0\n",
      "Fare             0\n",
      "Cabin          687\n",
      "Embarked         2\n",
      "WikiId           2\n",
      "Name_wiki        2\n",
      "Age_wiki         4\n",
      "Hometown         2\n",
      "Boarded          2\n",
      "Destination      2\n",
      "Lifeboat       546\n",
      "Body           804\n",
      "Class            2\n",
      "dtype: int64\n"
     ]
    }
   ],
   "source": [
    "# remove rows with null suvivied data\n",
    "titanic_clean = titanic_full[~titanic_full['Survived'].isnull()]\n",
    "# check data again\n",
    "print(titanic_clean.shape)\n",
    "na_report = titanic_clean.isnull().sum()\n",
    "print(na_report)\n"
   ]
  },
  {
   "cell_type": "markdown",
   "metadata": {},
   "source": [
    "**Select subset of columns from the data for data analysis.**"
   ]
  },
  {
   "cell_type": "code",
   "execution_count": 4,
   "metadata": {},
   "outputs": [
    {
     "name": "stdout",
     "output_type": "stream",
     "text": [
      "   Survived     Sex  Pclass  Age_wiki     Fare  SibSp  Parch Embarked  \\\n",
      "0       0.0    male       3      22.0   7.2500      1      0        S   \n",
      "1       1.0  female       1      35.0  71.2833      1      0        C   \n",
      "2       1.0  female       3      26.0   7.9250      0      0        S   \n",
      "3       1.0  female       1      35.0  53.1000      1      0        S   \n",
      "4       0.0    male       3      35.0   8.0500      0      0        S   \n",
      "\n",
      "  Lifeboat Cabin  \n",
      "0      NaN   NaN  \n",
      "1        4   C85  \n",
      "2      14?   NaN  \n",
      "3        D  C123  \n",
      "4      NaN   NaN  \n"
     ]
    }
   ],
   "source": [
    "# select subset of columns from data\n",
    "titanic_clean = titanic_clean[['Survived', 'Sex', 'Pclass', 'Age_wiki', 'Fare', 'SibSp', 'Parch', 'Embarked', 'Lifeboat', 'Cabin']]\n",
    "print(titanic_clean.head())"
   ]
  },
  {
   "cell_type": "markdown",
   "metadata": {},
   "source": [
    "**Create family size data from SibSp (Number of Siblings/Spouses Aboard) and Parch (Number of Parents/Children)**"
   ]
  },
  {
   "cell_type": "code",
   "execution_count": 5,
   "metadata": {},
   "outputs": [
    {
     "name": "stdout",
     "output_type": "stream",
     "text": [
      "   Survived     Sex  Pclass  Age_wiki     Fare  SibSp  Parch Embarked  \\\n",
      "0       0.0    male       3      22.0   7.2500      1      0        S   \n",
      "1       1.0  female       1      35.0  71.2833      1      0        C   \n",
      "2       1.0  female       3      26.0   7.9250      0      0        S   \n",
      "3       1.0  female       1      35.0  53.1000      1      0        S   \n",
      "4       0.0    male       3      35.0   8.0500      0      0        S   \n",
      "\n",
      "  Lifeboat Cabin  FamilySize  \n",
      "0      NaN   NaN           2  \n",
      "1        4   C85           2  \n",
      "2      14?   NaN           1  \n",
      "3        D  C123           2  \n",
      "4      NaN   NaN           1  \n"
     ]
    }
   ],
   "source": [
    "# create family size data column\n",
    "titanic_clean['FamilySize'] = titanic_clean['SibSp'] + titanic_clean['Parch']+1\n",
    "print(titanic_clean.head())"
   ]
  },
  {
   "cell_type": "markdown",
   "metadata": {},
   "source": [
    "**Fill empty age data with media age from the Sex and Pclass group**"
   ]
  },
  {
   "cell_type": "code",
   "execution_count": 6,
   "metadata": {},
   "outputs": [],
   "source": [
    "# fill age data with media age from the Sex and Pclass group\n",
    "titanic_clean.Age_wiki.fillna(titanic_clean.groupby(['Sex','Pclass']).transform('median').Age_wiki, inplace=True)"
   ]
  },
  {
   "cell_type": "markdown",
   "metadata": {},
   "source": [
    "**Check columns with null value again.**"
   ]
  },
  {
   "cell_type": "code",
   "execution_count": 7,
   "metadata": {},
   "outputs": [
    {
     "name": "stdout",
     "output_type": "stream",
     "text": [
      "Survived        0\n",
      "Sex             0\n",
      "Pclass          0\n",
      "Age_wiki        0\n",
      "Fare            0\n",
      "SibSp           0\n",
      "Parch           0\n",
      "Embarked        2\n",
      "Lifeboat      546\n",
      "Cabin         687\n",
      "FamilySize      0\n",
      "dtype: int64\n"
     ]
    }
   ],
   "source": [
    "# check data with null\n",
    "na_report = titanic_clean.isnull().sum()\n",
    "print(na_report)"
   ]
  },
  {
   "cell_type": "markdown",
   "metadata": {},
   "source": [
    "**Fill all NA data with X. Check columns with null value again.**"
   ]
  },
  {
   "cell_type": "code",
   "execution_count": 8,
   "metadata": {},
   "outputs": [
    {
     "name": "stdout",
     "output_type": "stream",
     "text": [
      "Survived      0\n",
      "Sex           0\n",
      "Pclass        0\n",
      "Age           0\n",
      "Fare          0\n",
      "SibSp         0\n",
      "Parch         0\n",
      "Embarked      0\n",
      "Lifeboat      0\n",
      "Cabin         0\n",
      "FamilySize    0\n",
      "dtype: int64\n",
      "   Survived     Sex  Pclass   Age     Fare  SibSp  Parch Embarked Lifeboat  \\\n",
      "0       0.0    male       3  22.0   7.2500      1      0        S        X   \n",
      "1       1.0  female       1  35.0  71.2833      1      0        C        4   \n",
      "2       1.0  female       3  26.0   7.9250      0      0        S      14?   \n",
      "3       1.0  female       1  35.0  53.1000      1      0        S        D   \n",
      "4       0.0    male       3  35.0   8.0500      0      0        S        X   \n",
      "\n",
      "  Cabin  FamilySize  \n",
      "0     X           2  \n",
      "1   C85           2  \n",
      "2     X           1  \n",
      "3  C123           2  \n",
      "4     X           1  \n"
     ]
    }
   ],
   "source": [
    "# fill na lifeboat with X\n",
    "titanic_clean.Lifeboat.fillna('X', inplace=True)\n",
    "# fill na Cabin with X\n",
    "titanic_clean.Cabin.fillna('X', inplace=True)\n",
    "# fill na Embarked with X\n",
    "titanic_clean.Embarked.fillna('X', inplace=True)\n",
    "# rename Age_wiki to Age\n",
    "titanic_clean.rename(columns = {'Age_wiki':'Age'}, inplace = True) \n",
    "# check data again\n",
    "na_report = titanic_clean.isnull().sum()\n",
    "print(na_report)\n",
    "print(titanic_clean.head())"
   ]
  },
  {
   "cell_type": "markdown",
   "metadata": {},
   "source": [
    "**List lifeboat column unique data values.**"
   ]
  },
  {
   "cell_type": "code",
   "execution_count": 9,
   "metadata": {},
   "outputs": [
    {
     "data": {
      "text/plain": [
       "array(['X', '4', '14?', 'D', '15', '?', '13', '8', '14', 'C', '7', '6',\n",
       "       '3', '16', '12', '10', '11', 'B', '5', 'A', '9', '2', '1'],\n",
       "      dtype=object)"
      ]
     },
     "execution_count": 9,
     "metadata": {},
     "output_type": "execute_result"
    }
   ],
   "source": [
    "# list lifeboat column unique values\n",
    "titanic_clean.Lifeboat.unique()"
   ]
  },
  {
   "cell_type": "markdown",
   "metadata": {},
   "source": [
    "**Replace data ? with Q in Lifeboat column.**"
   ]
  },
  {
   "cell_type": "code",
   "execution_count": 10,
   "metadata": {},
   "outputs": [],
   "source": [
    "# replace ? with Q\n",
    "titanic_clean.loc[titanic_clean['Lifeboat'] =='?', 'Lifeboat'] = 'Q'"
   ]
  },
  {
   "cell_type": "markdown",
   "metadata": {},
   "source": [
    "**List lifeboat column unique data values again.**"
   ]
  },
  {
   "cell_type": "code",
   "execution_count": 11,
   "metadata": {},
   "outputs": [
    {
     "data": {
      "text/plain": [
       "array(['X', '4', '14?', 'D', '15', 'Q', '13', '8', '14', 'C', '7', '6',\n",
       "       '3', '16', '12', '10', '11', 'B', '5', 'A', '9', '2', '1'],\n",
       "      dtype=object)"
      ]
     },
     "execution_count": 11,
     "metadata": {},
     "output_type": "execute_result"
    }
   ],
   "source": [
    "# list values again\n",
    "titanic_clean.Lifeboat.unique()"
   ]
  },
  {
   "cell_type": "markdown",
   "metadata": {},
   "source": [
    "**Remove ? in 14?**"
   ]
  },
  {
   "cell_type": "code",
   "execution_count": 12,
   "metadata": {},
   "outputs": [
    {
     "data": {
      "text/plain": [
       "array(['X', '4', '14', 'D', '15', 'Q', '13', '8', 'C', '7', '6', '3',\n",
       "       '16', '12', '10', '11', 'B', '5', 'A', '9', '2', '1'], dtype=object)"
      ]
     },
     "execution_count": 12,
     "metadata": {},
     "output_type": "execute_result"
    }
   ],
   "source": [
    "# remove ? in 14\n",
    "titanic_clean['Lifeboat'] = titanic_clean['Lifeboat'].str.replace('?','')\n",
    "titanic_clean.Lifeboat.unique()"
   ]
  },
  {
   "cell_type": "markdown",
   "metadata": {},
   "source": [
    "**Convert Survived column data type.**"
   ]
  },
  {
   "cell_type": "code",
   "execution_count": 13,
   "metadata": {},
   "outputs": [],
   "source": [
    "# convert survived column to int\n",
    "titanic_clean['Survived'] = titanic_clean['Survived'].astype(int)\n"
   ]
  },
  {
   "cell_type": "code",
   "execution_count": 14,
   "metadata": {},
   "outputs": [
    {
     "name": "stdout",
     "output_type": "stream",
     "text": [
      "   Survived     Sex  Pclass   Age     Fare  SibSp  Parch Embarked Lifeboat  \\\n",
      "0         0    male       3  22.0   7.2500      1      0        S        X   \n",
      "1         1  female       1  35.0  71.2833      1      0        C        4   \n",
      "2         1  female       3  26.0   7.9250      0      0        S       14   \n",
      "3         1  female       1  35.0  53.1000      1      0        S        D   \n",
      "4         0    male       3  35.0   8.0500      0      0        S        X   \n",
      "\n",
      "  Cabin  FamilySize  \n",
      "0     X           2  \n",
      "1   C85           2  \n",
      "2     X           1  \n",
      "3  C123           2  \n",
      "4     X           1  \n"
     ]
    }
   ],
   "source": [
    "print(titanic_clean.head())"
   ]
  },
  {
   "cell_type": "markdown",
   "metadata": {},
   "source": [
    "**List cabin column unique values.**"
   ]
  },
  {
   "cell_type": "code",
   "execution_count": 15,
   "metadata": {},
   "outputs": [
    {
     "data": {
      "text/plain": [
       "array(['X', 'C85', 'C123', 'E46', 'G6', 'C103', 'D56', 'A6',\n",
       "       'C23 C25 C27', 'B78', 'D33', 'B30', 'C52', 'B28', 'C83', 'F33',\n",
       "       'F G73', 'E31', 'A5', 'D10 D12', 'D26', 'C110', 'B58 B60', 'E101',\n",
       "       'F E69', 'D47', 'B86', 'F2', 'C2', 'E33', 'B19', 'A7', 'C49', 'F4',\n",
       "       'A32', 'B4', 'B80', 'A31', 'D36', 'D15', 'C93', 'C78', 'D35',\n",
       "       'C87', 'B77', 'E67', 'B94', 'C125', 'C99', 'C118', 'D7', 'A19',\n",
       "       'B49', 'D', 'C22 C26', 'C106', 'C65', 'E36', 'C54',\n",
       "       'B57 B59 B63 B66', 'C7', 'E34', 'C32', 'B18', 'C124', 'C91', 'E40',\n",
       "       'T', 'C128', 'D37', 'B35', 'E50', 'C82', 'B96 B98', 'E10', 'E44',\n",
       "       'A34', 'C104', 'C111', 'C92', 'E38', 'D21', 'E12', 'E63', 'A14',\n",
       "       'B37', 'C30', 'D20', 'B79', 'E25', 'D46', 'B73', 'C95', 'B38',\n",
       "       'B39', 'B22', 'C86', 'C70', 'A16', 'C101', 'C68', 'A10', 'E68',\n",
       "       'B41', 'A20', 'D19', 'D50', 'D9', 'A23', 'B50', 'A26', 'D48',\n",
       "       'E58', 'C126', 'B71', 'B51 B53 B55', 'D49', 'B5', 'B20', 'F G63',\n",
       "       'C62 C64', 'E24', 'C90', 'C45', 'E8', 'B101', 'D45', 'C46', 'D30',\n",
       "       'E121', 'D11', 'E77', 'F38', 'B3', 'D6', 'B82 B84', 'D17', 'A36',\n",
       "       'B102', 'B69', 'E49', 'C47', 'D28', 'E17', 'A24', 'C50', 'B42',\n",
       "       'C148'], dtype=object)"
      ]
     },
     "execution_count": 15,
     "metadata": {},
     "output_type": "execute_result"
    }
   ],
   "source": [
    "# list cabin column unique values\n",
    "titanic_clean.Cabin.unique()"
   ]
  },
  {
   "cell_type": "markdown",
   "metadata": {},
   "source": [
    "**Keep first character only in the Cabin data.**"
   ]
  },
  {
   "cell_type": "code",
   "execution_count": 16,
   "metadata": {},
   "outputs": [
    {
     "data": {
      "text/plain": [
       "array(['X', 'C', 'E', 'G', 'D', 'A', 'B', 'F', 'T'], dtype=object)"
      ]
     },
     "execution_count": 16,
     "metadata": {},
     "output_type": "execute_result"
    }
   ],
   "source": [
    "# keep first character only in Cabin\n",
    "import re\n",
    "titanic_clean['Cabin'] = titanic_clean['Cabin'].str.replace('[^a-zA-Z]', '').str[0]\n",
    "titanic_clean.Cabin.unique()"
   ]
  },
  {
   "cell_type": "markdown",
   "metadata": {},
   "source": [
    "**Check and inspect data.**"
   ]
  },
  {
   "cell_type": "code",
   "execution_count": 17,
   "metadata": {},
   "outputs": [
    {
     "data": {
      "text/html": [
       "<div>\n",
       "<style scoped>\n",
       "    .dataframe tbody tr th:only-of-type {\n",
       "        vertical-align: middle;\n",
       "    }\n",
       "\n",
       "    .dataframe tbody tr th {\n",
       "        vertical-align: top;\n",
       "    }\n",
       "\n",
       "    .dataframe thead th {\n",
       "        text-align: right;\n",
       "    }\n",
       "</style>\n",
       "<table border=\"1\" class=\"dataframe\">\n",
       "  <thead>\n",
       "    <tr style=\"text-align: right;\">\n",
       "      <th></th>\n",
       "      <th>Survived</th>\n",
       "      <th>Pclass</th>\n",
       "      <th>Age</th>\n",
       "      <th>Fare</th>\n",
       "      <th>SibSp</th>\n",
       "      <th>Parch</th>\n",
       "      <th>FamilySize</th>\n",
       "    </tr>\n",
       "  </thead>\n",
       "  <tbody>\n",
       "    <tr>\n",
       "      <th>count</th>\n",
       "      <td>891.000000</td>\n",
       "      <td>891.000000</td>\n",
       "      <td>891.000000</td>\n",
       "      <td>891.000000</td>\n",
       "      <td>891.000000</td>\n",
       "      <td>891.000000</td>\n",
       "      <td>891.000000</td>\n",
       "    </tr>\n",
       "    <tr>\n",
       "      <th>mean</th>\n",
       "      <td>0.383838</td>\n",
       "      <td>2.308642</td>\n",
       "      <td>29.316128</td>\n",
       "      <td>32.204208</td>\n",
       "      <td>0.523008</td>\n",
       "      <td>0.381594</td>\n",
       "      <td>1.904602</td>\n",
       "    </tr>\n",
       "    <tr>\n",
       "      <th>std</th>\n",
       "      <td>0.486592</td>\n",
       "      <td>0.836071</td>\n",
       "      <td>13.907032</td>\n",
       "      <td>49.693429</td>\n",
       "      <td>1.102743</td>\n",
       "      <td>0.806057</td>\n",
       "      <td>1.613459</td>\n",
       "    </tr>\n",
       "    <tr>\n",
       "      <th>min</th>\n",
       "      <td>0.000000</td>\n",
       "      <td>1.000000</td>\n",
       "      <td>0.420000</td>\n",
       "      <td>0.000000</td>\n",
       "      <td>0.000000</td>\n",
       "      <td>0.000000</td>\n",
       "      <td>1.000000</td>\n",
       "    </tr>\n",
       "    <tr>\n",
       "      <th>25%</th>\n",
       "      <td>0.000000</td>\n",
       "      <td>2.000000</td>\n",
       "      <td>20.000000</td>\n",
       "      <td>7.910400</td>\n",
       "      <td>0.000000</td>\n",
       "      <td>0.000000</td>\n",
       "      <td>1.000000</td>\n",
       "    </tr>\n",
       "    <tr>\n",
       "      <th>50%</th>\n",
       "      <td>0.000000</td>\n",
       "      <td>3.000000</td>\n",
       "      <td>28.000000</td>\n",
       "      <td>14.454200</td>\n",
       "      <td>0.000000</td>\n",
       "      <td>0.000000</td>\n",
       "      <td>1.000000</td>\n",
       "    </tr>\n",
       "    <tr>\n",
       "      <th>75%</th>\n",
       "      <td>1.000000</td>\n",
       "      <td>3.000000</td>\n",
       "      <td>38.000000</td>\n",
       "      <td>31.000000</td>\n",
       "      <td>1.000000</td>\n",
       "      <td>0.000000</td>\n",
       "      <td>2.000000</td>\n",
       "    </tr>\n",
       "    <tr>\n",
       "      <th>max</th>\n",
       "      <td>1.000000</td>\n",
       "      <td>3.000000</td>\n",
       "      <td>74.000000</td>\n",
       "      <td>512.329200</td>\n",
       "      <td>8.000000</td>\n",
       "      <td>6.000000</td>\n",
       "      <td>11.000000</td>\n",
       "    </tr>\n",
       "  </tbody>\n",
       "</table>\n",
       "</div>"
      ],
      "text/plain": [
       "         Survived      Pclass         Age        Fare       SibSp       Parch  \\\n",
       "count  891.000000  891.000000  891.000000  891.000000  891.000000  891.000000   \n",
       "mean     0.383838    2.308642   29.316128   32.204208    0.523008    0.381594   \n",
       "std      0.486592    0.836071   13.907032   49.693429    1.102743    0.806057   \n",
       "min      0.000000    1.000000    0.420000    0.000000    0.000000    0.000000   \n",
       "25%      0.000000    2.000000   20.000000    7.910400    0.000000    0.000000   \n",
       "50%      0.000000    3.000000   28.000000   14.454200    0.000000    0.000000   \n",
       "75%      1.000000    3.000000   38.000000   31.000000    1.000000    0.000000   \n",
       "max      1.000000    3.000000   74.000000  512.329200    8.000000    6.000000   \n",
       "\n",
       "       FamilySize  \n",
       "count  891.000000  \n",
       "mean     1.904602  \n",
       "std      1.613459  \n",
       "min      1.000000  \n",
       "25%      1.000000  \n",
       "50%      1.000000  \n",
       "75%      2.000000  \n",
       "max     11.000000  "
      ]
     },
     "execution_count": 17,
     "metadata": {},
     "output_type": "execute_result"
    }
   ],
   "source": [
    "# check data with different functions\n",
    "titanic_clean.describe()"
   ]
  },
  {
   "cell_type": "code",
   "execution_count": 19,
   "metadata": {},
   "outputs": [
    {
     "name": "stdout",
     "output_type": "stream",
     "text": [
      "((891, 11),   Survived             Sex     Pclass  \\\n",
      "0   [0, 1]  [male, female]  [3, 1, 2]   \n",
      "\n",
      "                                                 Age  \\\n",
      "0  [22.0, 35.0, 26.0, 54.0, 2.0, 14.0, 4.0, 61.0,...   \n",
      "\n",
      "                                                Fare                  SibSp  \\\n",
      "0  [7.25, 71.2833, 7.925, 53.1, 8.05, 8.4583, 51....  [1, 0, 3, 4, 2, 5, 8]   \n",
      "\n",
      "                   Parch      Embarked  \\\n",
      "0  [0, 1, 2, 5, 3, 4, 6]  [S, C, Q, X]   \n",
      "\n",
      "                                            Lifeboat  \\\n",
      "0  [X, 4, 14, D, 15, Q, 13, 8, C, 7, 6, 3, 16, 12...   \n",
      "\n",
      "                         Cabin                    FamilySize  \n",
      "0  [X, C, E, G, D, A, B, F, T]  [2, 1, 5, 3, 7, 6, 4, 8, 11]  )\n"
     ]
    }
   ],
   "source": [
    "# list all columns unique values\n",
    "def rstr(df): \n",
    "    return df.shape, df.apply(lambda x: [x.unique()])\n",
    "print(rstr(titanic_clean))\n"
   ]
  },
  {
   "cell_type": "markdown",
   "metadata": {},
   "source": [
    "**Reindex and export dataFrame to cleandata_titanic.csv**"
   ]
  },
  {
   "cell_type": "code",
   "execution_count": 20,
   "metadata": {},
   "outputs": [],
   "source": [
    "# reindex and export dataFrame to csv\n",
    "titanic_clean=titanic_clean.reset_index(drop=True)\n",
    "titanic_clean.to_csv('{}.csv'.format(\"cleandata_titanic\"),index = False, header=True)"
   ]
  }
 ],
 "metadata": {
  "kernelspec": {
   "display_name": "Python 3",
   "language": "python",
   "name": "python3"
  },
  "language_info": {
   "codemirror_mode": {
    "name": "ipython",
    "version": 3
   },
   "file_extension": ".py",
   "mimetype": "text/x-python",
   "name": "python",
   "nbconvert_exporter": "python",
   "pygments_lexer": "ipython3",
   "version": "3.6.9"
  }
 },
 "nbformat": 4,
 "nbformat_minor": 4
}
