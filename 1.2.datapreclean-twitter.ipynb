{
 "cells": [
  {
   "cell_type": "markdown",
   "metadata": {},
   "source": [
    "1.2 Twitter data preparation and cleaning\n",
    "======\n"
   ]
  },
  {
   "cell_type": "markdown",
   "metadata": {},
   "source": [
    "**In this example we will process the hashtags and quoted_hashtags from tweets, so that each hashtag will be linked to a quoted_hashtag in the data table, later on we can use these data to visualise the hashtags and quoted hashtags relationships from the tweets.**"
   ]
  },
  {
   "cell_type": "code",
   "execution_count": 128,
   "metadata": {},
   "outputs": [],
   "source": [
    "#Import required libraries\n",
    "import pandas as pd\n",
    "import glob, os \n",
    "\n",
    "#enter path\n",
    "path = r'./'   \n",
    "#read all or selected csv to dataframe\n",
    "all_csv = glob.glob(os.path.join(path, \"dba_tweets_*.csv\"))   \n",
    "df = (pd.read_csv(f) for f in all_csv)\n",
    "#read all the data and drop the index column\n",
    "df_all   = pd.concat(df, ignore_index=True)"
   ]
  },
  {
   "cell_type": "markdown",
   "metadata": {},
   "source": [
    "**Check and inspect the data frame.**"
   ]
  },
  {
   "cell_type": "code",
   "execution_count": 129,
   "metadata": {},
   "outputs": [
    {
     "name": "stdout",
     "output_type": "stream",
     "text": [
      "(5000, 13)\n",
      "<bound method NDFrame.head of                                                  Tweets  \\\n",
      "0     RT @SpirosMargaris: 5 #Free #Books \\n\\nto #Lea...   \n",
      "1     RT @Eli_Krumova: #Anatomy Education in #3D #Au...   \n",
      "2     RT @Eli_Krumova: #Anatomy Education in #3D #Au...   \n",
      "3     RT @Eli_Krumova: #Anatomy Education in #3D #Au...   \n",
      "4     RT @Eli_Krumova: #Anatomy Education in #3D #Au...   \n",
      "...                                                 ...   \n",
      "4995  Key findings in the @SPLUNK \"#DataAge\" survey ...   \n",
      "4996  RT @Bomoimajid: 💡Get a Bang 💣 for Your Buck! W...   \n",
      "4997  RT @Bomoimajid: 💡Get a Bang 💣 for Your Buck! W...   \n",
      "4998  RT @Udemy_Coupons1: Microsoft OneDrive Master ...   \n",
      "4999  RT @Bomoimajid: 💡Get a Bang 💣 for Your Buck! W...   \n",
      "\n",
      "                             User  User_statuses_count  user_followers  \\\n",
      "0                           Irene                  698              12   \n",
      "1     The Secret Junior Developer               226992            1187   \n",
      "2     The Secret Junior Developer               226992            1187   \n",
      "3     The Secret Junior Developer               226992            1187   \n",
      "4                            Maac                 6401            5601   \n",
      "...                           ...                  ...             ...   \n",
      "4995                   Kirk Borne               128984          272212   \n",
      "4996                    GentooBot                85383             990   \n",
      "4997                     LinuxBot               475696            3226   \n",
      "4998                     xael bot               745407            3352   \n",
      "4999            Jessica shoonover               186705            1574   \n",
      "\n",
      "      User_location  User_verified  fav_count  rt_count           tweet_date  \\\n",
      "0               NaN          False          0        55  2020-12-06 17:47:32   \n",
      "1               NaN          False          0        22  2020-12-06 17:46:51   \n",
      "2               NaN          False          0        18  2020-12-06 17:46:51   \n",
      "3               NaN          False          0        22  2020-12-06 17:46:51   \n",
      "4               NaN          False          0        18  2020-12-06 17:46:16   \n",
      "...             ...            ...        ...       ...                  ...   \n",
      "4995  Maryland, USA           True          9         2  2020-12-06 19:34:23   \n",
      "4996      The Cloud          False          0       144  2020-12-06 19:34:12   \n",
      "4997   Raspberry Pi          False          0       144  2020-12-06 19:34:02   \n",
      "4998          Earth          False          0        19  2020-12-06 19:33:45   \n",
      "4999       bootcamp          False          0       144  2020-12-06 19:33:11   \n",
      "\n",
      "                                               hashtags quoted_hashtags  \\\n",
      "0     ['Free', 'Books', 'Learn', 'Statistics', 'Data...              []   \n",
      "1     ['Anatomy', '3D', 'AugmentedReality', 'Video',...              []   \n",
      "2     ['Anatomy', '3D', 'AugmentedReality', 'Video',...              []   \n",
      "3     ['Anatomy', '3D', 'AugmentedReality', 'Video',...              []   \n",
      "4     ['Anatomy', '3D', 'AugmentedReality', 'Video',...              []   \n",
      "...                                                 ...             ...   \n",
      "4995                                        ['DataAge']              []   \n",
      "4996                   ['YouTube', 'Online', 'BigData']              []   \n",
      "4997                   ['YouTube', 'Online', 'BigData']              []   \n",
      "4998  ['udemycoupon', 'MachineLearning', 'BigData', ...              []   \n",
      "4999                   ['YouTube', 'Online', 'BigData']              []   \n",
      "\n",
      "      User_lat  User_lng  \n",
      "0          NaN       NaN  \n",
      "1          NaN       NaN  \n",
      "2          NaN       NaN  \n",
      "3          NaN       NaN  \n",
      "4          NaN       NaN  \n",
      "...        ...       ...  \n",
      "4995       NaN       NaN  \n",
      "4996       NaN       NaN  \n",
      "4997       NaN       NaN  \n",
      "4998       NaN       NaN  \n",
      "4999       NaN       NaN  \n",
      "\n",
      "[5000 rows x 13 columns]>\n",
      "Tweets                  object\n",
      "User                    object\n",
      "User_statuses_count      int64\n",
      "user_followers           int64\n",
      "User_location           object\n",
      "User_verified             bool\n",
      "fav_count                int64\n",
      "rt_count                 int64\n",
      "tweet_date              object\n",
      "hashtags                object\n",
      "quoted_hashtags         object\n",
      "User_lat               float64\n",
      "User_lng               float64\n",
      "dtype: object\n"
     ]
    }
   ],
   "source": [
    "#Check and inspect the data frame.\n",
    "print(df_all.shape)\n",
    "print(df_all.head)\n",
    "print(df_all.dtypes)"
   ]
  },
  {
   "cell_type": "markdown",
   "metadata": {},
   "source": [
    "**Select only the hastags columns and make a subset from the dataframe.**"
   ]
  },
  {
   "cell_type": "code",
   "execution_count": 130,
   "metadata": {},
   "outputs": [
    {
     "name": "stdout",
     "output_type": "stream",
     "text": [
      "<bound method NDFrame.head of                                                hashtags quoted_hashtags\n",
      "0     ['Free', 'Books', 'Learn', 'Statistics', 'Data...              []\n",
      "1     ['Anatomy', '3D', 'AugmentedReality', 'Video',...              []\n",
      "2     ['Anatomy', '3D', 'AugmentedReality', 'Video',...              []\n",
      "3     ['Anatomy', '3D', 'AugmentedReality', 'Video',...              []\n",
      "4     ['Anatomy', '3D', 'AugmentedReality', 'Video',...              []\n",
      "...                                                 ...             ...\n",
      "4995                                        ['DataAge']              []\n",
      "4996                   ['YouTube', 'Online', 'BigData']              []\n",
      "4997                   ['YouTube', 'Online', 'BigData']              []\n",
      "4998  ['udemycoupon', 'MachineLearning', 'BigData', ...              []\n",
      "4999                   ['YouTube', 'Online', 'BigData']              []\n",
      "\n",
      "[5000 rows x 2 columns]>\n"
     ]
    }
   ],
   "source": [
    "# select subset of columns/hashtags columns from data\n",
    "df_hashtags = df_all[['hashtags', 'quoted_hashtags']]\n",
    "print(df_hashtags.head)"
   ]
  },
  {
   "cell_type": "markdown",
   "metadata": {},
   "source": [
    "**Remove hashtags contain only [] which means no hashtags or quoted_hashtags.**"
   ]
  },
  {
   "cell_type": "code",
   "execution_count": 131,
   "metadata": {},
   "outputs": [
    {
     "name": "stdout",
     "output_type": "stream",
     "text": [
      "(39, 2)\n"
     ]
    }
   ],
   "source": [
    "# remove hashtags contain only []\n",
    "hashtags_clear = df_hashtags[~df_hashtags['hashtags'].isin(['[]',])]\n",
    "hashtags_clear = hashtags_clear[~hashtags_clear['quoted_hashtags'].isin(['[]',])]\n",
    "print(hashtags_clear.shape)"
   ]
  },
  {
   "cell_type": "markdown",
   "metadata": {},
   "source": [
    "**Seperate hashtags with comma as the seperator.**"
   ]
  },
  {
   "cell_type": "code",
   "execution_count": 132,
   "metadata": {},
   "outputs": [
    {
     "data": {
      "text/html": [
       "<div>\n",
       "<style scoped>\n",
       "    .dataframe tbody tr th:only-of-type {\n",
       "        vertical-align: middle;\n",
       "    }\n",
       "\n",
       "    .dataframe tbody tr th {\n",
       "        vertical-align: top;\n",
       "    }\n",
       "\n",
       "    .dataframe thead th {\n",
       "        text-align: right;\n",
       "    }\n",
       "</style>\n",
       "<table border=\"1\" class=\"dataframe\">\n",
       "  <thead>\n",
       "    <tr style=\"text-align: right;\">\n",
       "      <th></th>\n",
       "      <th>hashtags</th>\n",
       "      <th>quoted_hashtags</th>\n",
       "    </tr>\n",
       "  </thead>\n",
       "  <tbody>\n",
       "    <tr>\n",
       "      <th>0</th>\n",
       "      <td>['Anatomy'</td>\n",
       "      <td>['3D', 'AugmentedReality', 'Analytics', 'AI', ...</td>\n",
       "    </tr>\n",
       "    <tr>\n",
       "      <th>1</th>\n",
       "      <td>'3D'</td>\n",
       "      <td>['3D', 'AugmentedReality', 'Analytics', 'AI', ...</td>\n",
       "    </tr>\n",
       "    <tr>\n",
       "      <th>2</th>\n",
       "      <td>'AugmentedReality'</td>\n",
       "      <td>['3D', 'AugmentedReality', 'Analytics', 'AI', ...</td>\n",
       "    </tr>\n",
       "    <tr>\n",
       "      <th>3</th>\n",
       "      <td>'Video'</td>\n",
       "      <td>['3D', 'AugmentedReality', 'Analytics', 'AI', ...</td>\n",
       "    </tr>\n",
       "    <tr>\n",
       "      <th>4</th>\n",
       "      <td>'Analytics'</td>\n",
       "      <td>['3D', 'AugmentedReality', 'Analytics', 'AI', ...</td>\n",
       "    </tr>\n",
       "  </tbody>\n",
       "</table>\n",
       "</div>"
      ],
      "text/plain": [
       "              hashtags                                    quoted_hashtags\n",
       "0           ['Anatomy'  ['3D', 'AugmentedReality', 'Analytics', 'AI', ...\n",
       "1                 '3D'  ['3D', 'AugmentedReality', 'Analytics', 'AI', ...\n",
       "2   'AugmentedReality'  ['3D', 'AugmentedReality', 'Analytics', 'AI', ...\n",
       "3              'Video'  ['3D', 'AugmentedReality', 'Analytics', 'AI', ...\n",
       "4          'Analytics'  ['3D', 'AugmentedReality', 'Analytics', 'AI', ..."
      ]
     },
     "execution_count": 132,
     "metadata": {},
     "output_type": "execute_result"
    }
   ],
   "source": [
    "# use pandas DataFrame package to stack/seperate hashtags content based on comma.\n",
    "from pandas import DataFrame\n",
    "hashtags_stack = DataFrame(hashtags_clear.hashtags.str.split(',').tolist(), index=hashtags_clear.quoted_hashtags).stack()\n",
    "hashtags_stack = hashtags_stack.reset_index()[[0, 'quoted_hashtags']] # var1 variable is currently labeled 0\n",
    "hashtags_stack.columns = ['hashtags', 'quoted_hashtags'] # renaming var1\n",
    "hashtags_stack.head()"
   ]
  },
  {
   "cell_type": "markdown",
   "metadata": {},
   "source": [
    "**Seperate quoted_hashtags with comma as the seperator.**"
   ]
  },
  {
   "cell_type": "code",
   "execution_count": 133,
   "metadata": {},
   "outputs": [
    {
     "data": {
      "text/html": [
       "<div>\n",
       "<style scoped>\n",
       "    .dataframe tbody tr th:only-of-type {\n",
       "        vertical-align: middle;\n",
       "    }\n",
       "\n",
       "    .dataframe tbody tr th {\n",
       "        vertical-align: top;\n",
       "    }\n",
       "\n",
       "    .dataframe thead th {\n",
       "        text-align: right;\n",
       "    }\n",
       "</style>\n",
       "<table border=\"1\" class=\"dataframe\">\n",
       "  <thead>\n",
       "    <tr style=\"text-align: right;\">\n",
       "      <th></th>\n",
       "      <th>quoted_hashtags</th>\n",
       "      <th>hashtags</th>\n",
       "    </tr>\n",
       "  </thead>\n",
       "  <tbody>\n",
       "    <tr>\n",
       "      <th>0</th>\n",
       "      <td>['3D'</td>\n",
       "      <td>['Anatomy'</td>\n",
       "    </tr>\n",
       "    <tr>\n",
       "      <th>1</th>\n",
       "      <td>'AugmentedReality'</td>\n",
       "      <td>['Anatomy'</td>\n",
       "    </tr>\n",
       "    <tr>\n",
       "      <th>2</th>\n",
       "      <td>'Analytics'</td>\n",
       "      <td>['Anatomy'</td>\n",
       "    </tr>\n",
       "    <tr>\n",
       "      <th>3</th>\n",
       "      <td>'AI'</td>\n",
       "      <td>['Anatomy'</td>\n",
       "    </tr>\n",
       "    <tr>\n",
       "      <th>4</th>\n",
       "      <td>'Rstats'</td>\n",
       "      <td>['Anatomy'</td>\n",
       "    </tr>\n",
       "  </tbody>\n",
       "</table>\n",
       "</div>"
      ],
      "text/plain": [
       "       quoted_hashtags    hashtags\n",
       "0                ['3D'  ['Anatomy'\n",
       "1   'AugmentedReality'  ['Anatomy'\n",
       "2          'Analytics'  ['Anatomy'\n",
       "3                 'AI'  ['Anatomy'\n",
       "4             'Rstats'  ['Anatomy'"
      ]
     },
     "execution_count": 133,
     "metadata": {},
     "output_type": "execute_result"
    }
   ],
   "source": [
    "# use pandas DataFrame package to stack/seperate quoted hashtags content based on comma.\n",
    "hashtags_stack2 = DataFrame(hashtags_stack.quoted_hashtags.str.split(',').tolist(), index=hashtags_stack.hashtags).stack()\n",
    "hashtags_stack2 = hashtags_stack2.reset_index()[[0, 'hashtags']] # var1 variable is currently labeled 0\n",
    "hashtags_stack2.columns = ['quoted_hashtags','hashtags'] # renaming var1\n",
    "hashtags_stack2.head()"
   ]
  },
  {
   "cell_type": "markdown",
   "metadata": {},
   "source": [
    "**Remove [' '] from the hashtags and quoted_hashtags content.**"
   ]
  },
  {
   "cell_type": "code",
   "execution_count": 134,
   "metadata": {},
   "outputs": [
    {
     "data": {
      "text/html": [
       "<div>\n",
       "<style scoped>\n",
       "    .dataframe tbody tr th:only-of-type {\n",
       "        vertical-align: middle;\n",
       "    }\n",
       "\n",
       "    .dataframe tbody tr th {\n",
       "        vertical-align: top;\n",
       "    }\n",
       "\n",
       "    .dataframe thead th {\n",
       "        text-align: right;\n",
       "    }\n",
       "</style>\n",
       "<table border=\"1\" class=\"dataframe\">\n",
       "  <thead>\n",
       "    <tr style=\"text-align: right;\">\n",
       "      <th></th>\n",
       "      <th>quoted_hashtags</th>\n",
       "      <th>hashtags</th>\n",
       "    </tr>\n",
       "  </thead>\n",
       "  <tbody>\n",
       "    <tr>\n",
       "      <th>0</th>\n",
       "      <td>3D</td>\n",
       "      <td>Anatomy</td>\n",
       "    </tr>\n",
       "    <tr>\n",
       "      <th>1</th>\n",
       "      <td>AugmentedReality</td>\n",
       "      <td>Anatomy</td>\n",
       "    </tr>\n",
       "    <tr>\n",
       "      <th>2</th>\n",
       "      <td>Analytics</td>\n",
       "      <td>Anatomy</td>\n",
       "    </tr>\n",
       "    <tr>\n",
       "      <th>3</th>\n",
       "      <td>AI</td>\n",
       "      <td>Anatomy</td>\n",
       "    </tr>\n",
       "    <tr>\n",
       "      <th>4</th>\n",
       "      <td>Rstats</td>\n",
       "      <td>Anatomy</td>\n",
       "    </tr>\n",
       "  </tbody>\n",
       "</table>\n",
       "</div>"
      ],
      "text/plain": [
       "    quoted_hashtags hashtags\n",
       "0                3D  Anatomy\n",
       "1  AugmentedReality  Anatomy\n",
       "2         Analytics  Anatomy\n",
       "3                AI  Anatomy\n",
       "4            Rstats  Anatomy"
      ]
     },
     "execution_count": 134,
     "metadata": {},
     "output_type": "execute_result"
    }
   ],
   "source": [
    "# remove [ and ' \n",
    "hashtags_stack2['quoted_hashtags'] = hashtags_stack2['quoted_hashtags'].map(lambda x: x.strip(\" ['] \").replace(\"'\",\"\"))\n",
    "hashtags_stack2['hashtags'] = hashtags_stack2['hashtags'].map(lambda x: x.strip(\" ['] \").replace(\"'\",\"\"))\n",
    "\n",
    "hashtags_stack2.head()\n",
    "\n"
   ]
  },
  {
   "cell_type": "markdown",
   "metadata": {},
   "source": [
    "**Check the processed hashtags dataframe dimension.**"
   ]
  },
  {
   "cell_type": "code",
   "execution_count": 135,
   "metadata": {},
   "outputs": [
    {
     "data": {
      "text/plain": [
       "(939, 2)"
      ]
     },
     "execution_count": 135,
     "metadata": {},
     "output_type": "execute_result"
    }
   ],
   "source": [
    "hashtags_stack2.shape"
   ]
  },
  {
   "cell_type": "markdown",
   "metadata": {},
   "source": [
    "**Check the dimension again after removing data duplications.**"
   ]
  },
  {
   "cell_type": "code",
   "execution_count": 136,
   "metadata": {},
   "outputs": [
    {
     "data": {
      "text/plain": [
       "(939, 2)"
      ]
     },
     "execution_count": 136,
     "metadata": {},
     "output_type": "execute_result"
    }
   ],
   "source": [
    "# remove data duplications and check dimension\n",
    "hashtags_stack2.drop_duplicates()\n",
    "hashtags_stack2.shape"
   ]
  },
  {
   "cell_type": "markdown",
   "metadata": {},
   "source": [
    "**Change all the first character in the hashtags dataframe content to upper case.**"
   ]
  },
  {
   "cell_type": "code",
   "execution_count": 137,
   "metadata": {},
   "outputs": [
    {
     "data": {
      "text/html": [
       "<div>\n",
       "<style scoped>\n",
       "    .dataframe tbody tr th:only-of-type {\n",
       "        vertical-align: middle;\n",
       "    }\n",
       "\n",
       "    .dataframe tbody tr th {\n",
       "        vertical-align: top;\n",
       "    }\n",
       "\n",
       "    .dataframe thead th {\n",
       "        text-align: right;\n",
       "    }\n",
       "</style>\n",
       "<table border=\"1\" class=\"dataframe\">\n",
       "  <thead>\n",
       "    <tr style=\"text-align: right;\">\n",
       "      <th></th>\n",
       "      <th>quoted_hashtags</th>\n",
       "      <th>hashtags</th>\n",
       "    </tr>\n",
       "  </thead>\n",
       "  <tbody>\n",
       "    <tr>\n",
       "      <th>0</th>\n",
       "      <td>3D</td>\n",
       "      <td>Anatomy</td>\n",
       "    </tr>\n",
       "    <tr>\n",
       "      <th>1</th>\n",
       "      <td>Augmentedreality</td>\n",
       "      <td>Anatomy</td>\n",
       "    </tr>\n",
       "    <tr>\n",
       "      <th>2</th>\n",
       "      <td>Analytics</td>\n",
       "      <td>Anatomy</td>\n",
       "    </tr>\n",
       "    <tr>\n",
       "      <th>3</th>\n",
       "      <td>Ai</td>\n",
       "      <td>Anatomy</td>\n",
       "    </tr>\n",
       "    <tr>\n",
       "      <th>4</th>\n",
       "      <td>Rstats</td>\n",
       "      <td>Anatomy</td>\n",
       "    </tr>\n",
       "  </tbody>\n",
       "</table>\n",
       "</div>"
      ],
      "text/plain": [
       "    quoted_hashtags hashtags\n",
       "0                3D  Anatomy\n",
       "1  Augmentedreality  Anatomy\n",
       "2         Analytics  Anatomy\n",
       "3                Ai  Anatomy\n",
       "4            Rstats  Anatomy"
      ]
     },
     "execution_count": 137,
     "metadata": {},
     "output_type": "execute_result"
    }
   ],
   "source": [
    "# change first character to upper case \n",
    "hashtags_stack2['quoted_hashtags']=hashtags_stack2['quoted_hashtags'].str.title() \n",
    "hashtags_stack2['hashtags']=hashtags_stack2['hashtags'].str.title()\n",
    "hashtags_stack2.head()"
   ]
  },
  {
   "cell_type": "markdown",
   "metadata": {},
   "source": [
    "**Check the dimension again after removing data duplications.**"
   ]
  },
  {
   "cell_type": "code",
   "execution_count": 138,
   "metadata": {},
   "outputs": [
    {
     "data": {
      "text/plain": [
       "(939, 2)"
      ]
     },
     "execution_count": 138,
     "metadata": {},
     "output_type": "execute_result"
    }
   ],
   "source": [
    "# remove data duplications and check dimension again\n",
    "hashtags_stack2.drop_duplicates()\n",
    "hashtags_stack2.shape"
   ]
  },
  {
   "cell_type": "markdown",
   "metadata": {},
   "source": [
    "**Remove the data which quoted hashtags and original hashtags are the same.**"
   ]
  },
  {
   "cell_type": "code",
   "execution_count": 139,
   "metadata": {},
   "outputs": [
    {
     "data": {
      "text/plain": [
       "(939, 2)"
      ]
     },
     "execution_count": 139,
     "metadata": {},
     "output_type": "execute_result"
    }
   ],
   "source": [
    "# remove the data which quoted hashtags and original hashtags are the same\n",
    "hashtags_stack_final = hashtags_stack2[hashtags_stack2['quoted_hashtags']!=hashtags_stack2['hashtags']]\n",
    "hashtags_stack2.shape\n"
   ]
  },
  {
   "cell_type": "markdown",
   "metadata": {},
   "source": [
    "**Save the processed hashtags data to csv file.**"
   ]
  },
  {
   "cell_type": "code",
   "execution_count": 140,
   "metadata": {},
   "outputs": [],
   "source": [
    "# save processed hashtags data to csv\n",
    "hashtags_stack_final.to_csv((\"hashtags2.csv\") )"
   ]
  },
  {
   "cell_type": "markdown",
   "metadata": {},
   "source": [
    "**Filter hashtags with the selected contents. Prepare for the network graph which should focus or centre on the selected contents instead of everything.**"
   ]
  },
  {
   "cell_type": "code",
   "execution_count": 141,
   "metadata": {},
   "outputs": [
    {
     "data": {
      "text/html": [
       "<div>\n",
       "<style scoped>\n",
       "    .dataframe tbody tr th:only-of-type {\n",
       "        vertical-align: middle;\n",
       "    }\n",
       "\n",
       "    .dataframe tbody tr th {\n",
       "        vertical-align: top;\n",
       "    }\n",
       "\n",
       "    .dataframe thead th {\n",
       "        text-align: right;\n",
       "    }\n",
       "</style>\n",
       "<table border=\"1\" class=\"dataframe\">\n",
       "  <thead>\n",
       "    <tr style=\"text-align: right;\">\n",
       "      <th></th>\n",
       "      <th>quoted_hashtags</th>\n",
       "      <th>hashtags</th>\n",
       "    </tr>\n",
       "  </thead>\n",
       "  <tbody>\n",
       "    <tr>\n",
       "      <th>40</th>\n",
       "      <td>3D</td>\n",
       "      <td>Ai</td>\n",
       "    </tr>\n",
       "    <tr>\n",
       "      <th>41</th>\n",
       "      <td>Augmentedreality</td>\n",
       "      <td>Ai</td>\n",
       "    </tr>\n",
       "    <tr>\n",
       "      <th>42</th>\n",
       "      <td>Analytics</td>\n",
       "      <td>Ai</td>\n",
       "    </tr>\n",
       "    <tr>\n",
       "      <th>44</th>\n",
       "      <td>Rstats</td>\n",
       "      <td>Ai</td>\n",
       "    </tr>\n",
       "    <tr>\n",
       "      <th>45</th>\n",
       "      <td>Reactjs</td>\n",
       "      <td>Ai</td>\n",
       "    </tr>\n",
       "  </tbody>\n",
       "</table>\n",
       "</div>"
      ],
      "text/plain": [
       "     quoted_hashtags hashtags\n",
       "40                3D       Ai\n",
       "41  Augmentedreality       Ai\n",
       "42         Analytics       Ai\n",
       "44            Rstats       Ai\n",
       "45           Reactjs       Ai"
      ]
     },
     "execution_count": 141,
     "metadata": {},
     "output_type": "execute_result"
    }
   ],
   "source": [
    "# only keep data which original hashtags are below\n",
    "hashtags_test = hashtags_stack_final[(hashtags_stack2['hashtags'].str.contains('Datascience', case=False)|hashtags_stack2['hashtags'].str.contains('Bigdata', case=False)|hashtags_stack2['hashtags'].str.contains('Ai', case=False) )]\n",
    "hashtags_test.head()"
   ]
  },
  {
   "cell_type": "markdown",
   "metadata": {},
   "source": [
    "**Save the filtered dataframe to a csv file.**"
   ]
  },
  {
   "cell_type": "code",
   "execution_count": 142,
   "metadata": {},
   "outputs": [],
   "source": [
    "# save processed hashtags data to csv\n",
    "hashtags_test.to_csv((\"hashtags_test.csv\") )"
   ]
  },
  {
   "cell_type": "markdown",
   "metadata": {},
   "source": [
    "**Run the custmoised network graph python script. It will output the network graph to quoted_hashtags_networkx_graph2.html.**"
   ]
  },
  {
   "cell_type": "code",
   "execution_count": null,
   "metadata": {},
   "outputs": [],
   "source": [
    "%run network/network.py "
   ]
  },
  {
   "cell_type": "markdown",
   "metadata": {},
   "source": [
    "### Reference:\n",
    "**How to get API Keys and Tokens for Twitter<br/>\n",
    "https://www.slickremix.com/docs/how-to-get-api-keys-and-tokens-for-twitter/<br/>\n",
    "Stream Tweets in Under 15 Lines of Code + Some Interactive Data Visualization<br/>\n",
    "https://dzone.com/articles/stream-tweets-the-easy-way-in-under-15-lines-of-co<br/>\n",
    "Twitter Firehose vs. Twitter API: What’s the difference and why should you care?<br/>\n",
    "https://brightplanet.com/2013/06/25/twitter-firehose-vs-twitter-api-whats-the-difference-and-why-should-you-care/ <br/>\n",
    "Twitter Data Visualisation<br/>\n",
    "https://nbviewer.jupyter.org/github/SantaDS/DataVisualisation/blob/master/TwitterDataAnalysis/twitter_data_analysis.ipynb<br/>\n",
    "Dynamic Visualization For Twitter Data<br/>\n",
    "https://github.com/shihao1007/vggm<br/>\n",
    "Mine Twitter's Stream For Hashtags Or Words<br/>\n",
    "https://chrisalbon.com/python/other/mine_a_twitter_hashtags_and_words/<br/>\n",
    "Twitter Data Visualisation<br/>\n",
    "https://www.kaggle.com/tuncbileko/twitter-data-visualisation/<br/>\n",
    "Tweepy API Reference<br/>\n",
    "http://docs.tweepy.org/en/latest/api.html#API.search<br/>\n",
    "Tweepy Streaming<br/>\n",
    "https://github.com/tweepy/tweepy/blob/78d2883a922fa5232e8cdfab0c272c24b8ce37c4/tweepy/streaming.py<br/>\n",
    "Twitter API<br/>\n",
    "https://developer.twitter.com/en/docs/twitter-api/v1/data-dictionary/object-model/user<br/>**"
   ]
  }
 ],
 "metadata": {
  "kernelspec": {
   "display_name": "Python 3",
   "language": "python",
   "name": "python3"
  },
  "language_info": {
   "codemirror_mode": {
    "name": "ipython",
    "version": 3
   },
   "file_extension": ".py",
   "mimetype": "text/x-python",
   "name": "python",
   "nbconvert_exporter": "python",
   "pygments_lexer": "ipython3",
   "version": "3.6.9"
  }
 },
 "nbformat": 4,
 "nbformat_minor": 4
}
