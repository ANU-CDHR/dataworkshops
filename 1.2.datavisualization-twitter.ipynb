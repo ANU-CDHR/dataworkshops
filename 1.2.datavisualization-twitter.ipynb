{
 "cells": [
  {
   "cell_type": "markdown",
   "metadata": {},
   "source": [
    "1.2 Twitter data analysis and visualization\n",
    "======\n"
   ]
  },
  {
   "cell_type": "markdown",
   "metadata": {},
   "source": [
    "**In this section we use the data gathered in 1.1 to experiment different ways of visualizing Twitter data. We start by importing the data from the csv file and checking the data frame, and then use the data to plot barcharts on number of tweets and number of followers for each user. Next we create mapping visualization from user location data, and do sentiment analysis on tweets. Lastly we show how to creat word cloud from all tweet text and plot barchart on word frequency.**"
   ]
  },
  {
   "cell_type": "markdown",
   "metadata": {},
   "source": [
    "_The following Python modules need to be installed if they are not in the environment (Run all to test if any module is missing) in order to run this notebook (run without ! under command line or with ! in the notebook, for SWAN, see https://support.aarnet.edu.au/hc/en-us/articles/360000668076-How-do-I-add-code-libraries-to-my-Notebook-):_"
   ]
  },
  {
   "cell_type": "code",
   "execution_count": null,
   "metadata": {},
   "outputs": [],
   "source": [
    "# comment out to run install, and install other modules with !pip if report missing \n",
    "'''\n",
    "!pip install textblob\n",
    "!pip install wordcloud\n",
    "!pip install plotly\n",
    "!pip install chart-studio\n",
    "!pip install --user --no-deps cufflinks \n",
    "!pip install folium\n",
    "'''\n",
    "# For installation in SWAN: Add additinal path\n",
    "#import sys\n",
    "#sys.path.insert(0, \"/scratch/.local/lib/python3.7/site-packages\")"
   ]
  },
  {
   "cell_type": "markdown",
   "metadata": {},
   "source": [
    "1.2.1 Check data frame information \n",
    "------"
   ]
  },
  {
   "cell_type": "markdown",
   "metadata": {},
   "source": [
    "**Import numpy and pandas python libraries for data processing.**"
   ]
  },
  {
   "cell_type": "code",
   "execution_count": 1,
   "metadata": {},
   "outputs": [],
   "source": [
    "# import numpy and pandas python libraries\n",
    "import numpy as np\n",
    "import pandas as pd\n",
    "\n",
    "import warnings\n",
    "warnings.filterwarnings(\"ignore\")"
   ]
  },
  {
   "cell_type": "markdown",
   "metadata": {},
   "source": [
    "**read csv file from 1.1.1 to dataframe, remove first column (index)**"
   ]
  },
  {
   "cell_type": "code",
   "execution_count": 2,
   "metadata": {},
   "outputs": [],
   "source": [
    "# read csv to dataframe, remove first column (index)\n",
    "df = pd.read_csv(\"dh_tweets.csv\") \n",
    "df = df.drop(df.columns[0], axis=1)\n"
   ]
  },
  {
   "cell_type": "markdown",
   "metadata": {},
   "source": [
    "**Check and inspect dataframe.**"
   ]
  },
  {
   "cell_type": "code",
   "execution_count": 3,
   "metadata": {},
   "outputs": [
    {
     "data": {
      "text/html": [
       "<div>\n",
       "<style scoped>\n",
       "    .dataframe tbody tr th:only-of-type {\n",
       "        vertical-align: middle;\n",
       "    }\n",
       "\n",
       "    .dataframe tbody tr th {\n",
       "        vertical-align: top;\n",
       "    }\n",
       "\n",
       "    .dataframe thead th {\n",
       "        text-align: right;\n",
       "    }\n",
       "</style>\n",
       "<table border=\"1\" class=\"dataframe\">\n",
       "  <thead>\n",
       "    <tr style=\"text-align: right;\">\n",
       "      <th></th>\n",
       "      <th>text</th>\n",
       "      <th>user.name</th>\n",
       "      <th>user.statuses_count</th>\n",
       "      <th>user.screen_name</th>\n",
       "      <th>user.followers_count</th>\n",
       "      <th>user.location</th>\n",
       "      <th>user.verified</th>\n",
       "      <th>user.profile_image_url_https</th>\n",
       "      <th>favorite_count</th>\n",
       "      <th>retweet_count</th>\n",
       "      <th>created_at</th>\n",
       "      <th>hashtags</th>\n",
       "      <th>quoted_hashtags</th>\n",
       "      <th>user_lat</th>\n",
       "      <th>user_lng</th>\n",
       "    </tr>\n",
       "  </thead>\n",
       "  <tbody>\n",
       "    <tr>\n",
       "      <th>0</th>\n",
       "      <td>RT @EmilyJLB: Folks who’ve built digital editi...</td>\n",
       "      <td>blueciren</td>\n",
       "      <td>230</td>\n",
       "      <td>kiun2020</td>\n",
       "      <td>1</td>\n",
       "      <td>NaN</td>\n",
       "      <td>False</td>\n",
       "      <td>https://pbs.twimg.com/profile_images/128155124...</td>\n",
       "      <td>0</td>\n",
       "      <td>3</td>\n",
       "      <td>2020-12-13 11:42:48</td>\n",
       "      <td>[]</td>\n",
       "      <td>[]</td>\n",
       "      <td>NaN</td>\n",
       "      <td>NaN</td>\n",
       "    </tr>\n",
       "    <tr>\n",
       "      <th>1</th>\n",
       "      <td>RT @EmilyJLB: Folks who’ve built digital editi...</td>\n",
       "      <td>RedInt</td>\n",
       "      <td>6669</td>\n",
       "      <td>desemboltura</td>\n",
       "      <td>800</td>\n",
       "      <td>대한민국 서울</td>\n",
       "      <td>False</td>\n",
       "      <td>https://pbs.twimg.com/profile_images/109283546...</td>\n",
       "      <td>0</td>\n",
       "      <td>3</td>\n",
       "      <td>2020-12-13 09:11:08</td>\n",
       "      <td>[]</td>\n",
       "      <td>[]</td>\n",
       "      <td>37.566679</td>\n",
       "      <td>126.978291</td>\n",
       "    </tr>\n",
       "    <tr>\n",
       "      <th>2</th>\n",
       "      <td>RT @faberllull: #opencall \\n\\nScience, technol...</td>\n",
       "      <td>faberllull</td>\n",
       "      <td>2512</td>\n",
       "      <td>faberllull</td>\n",
       "      <td>2402</td>\n",
       "      <td>Olot &amp; Andorra</td>\n",
       "      <td>False</td>\n",
       "      <td>https://pbs.twimg.com/profile_images/127788643...</td>\n",
       "      <td>0</td>\n",
       "      <td>7</td>\n",
       "      <td>2020-12-12 20:03:27</td>\n",
       "      <td>['opencall', 'digitalhumanities']</td>\n",
       "      <td>[]</td>\n",
       "      <td>NaN</td>\n",
       "      <td>NaN</td>\n",
       "    </tr>\n",
       "    <tr>\n",
       "      <th>3</th>\n",
       "      <td>RT @faberllull: #opencall \\n\\nScience, technol...</td>\n",
       "      <td>Llull London</td>\n",
       "      <td>3701</td>\n",
       "      <td>IRLlull_London</td>\n",
       "      <td>1637</td>\n",
       "      <td>UK and Ireland</td>\n",
       "      <td>False</td>\n",
       "      <td>https://pbs.twimg.com/profile_images/106086701...</td>\n",
       "      <td>0</td>\n",
       "      <td>7</td>\n",
       "      <td>2020-12-12 20:02:21</td>\n",
       "      <td>['opencall', 'digitalhumanities']</td>\n",
       "      <td>[]</td>\n",
       "      <td>53.398923</td>\n",
       "      <td>-2.352557</td>\n",
       "    </tr>\n",
       "    <tr>\n",
       "      <th>4</th>\n",
       "      <td>RT @EEditiones: Have you been nice or naughty?...</td>\n",
       "      <td>Magdalena Turska</td>\n",
       "      <td>1144</td>\n",
       "      <td>magdaturska</td>\n",
       "      <td>351</td>\n",
       "      <td>Warsaw</td>\n",
       "      <td>False</td>\n",
       "      <td>https://pbs.twimg.com/profile_images/464165916...</td>\n",
       "      <td>0</td>\n",
       "      <td>12</td>\n",
       "      <td>2020-12-12 12:35:23</td>\n",
       "      <td>[]</td>\n",
       "      <td>[]</td>\n",
       "      <td>52.231958</td>\n",
       "      <td>21.006725</td>\n",
       "    </tr>\n",
       "  </tbody>\n",
       "</table>\n",
       "</div>"
      ],
      "text/plain": [
       "                                                text         user.name  \\\n",
       "0  RT @EmilyJLB: Folks who’ve built digital editi...         blueciren   \n",
       "1  RT @EmilyJLB: Folks who’ve built digital editi...            RedInt   \n",
       "2  RT @faberllull: #opencall \\n\\nScience, technol...        faberllull   \n",
       "3  RT @faberllull: #opencall \\n\\nScience, technol...      Llull London   \n",
       "4  RT @EEditiones: Have you been nice or naughty?...  Magdalena Turska   \n",
       "\n",
       "   user.statuses_count user.screen_name  user.followers_count   user.location  \\\n",
       "0                  230         kiun2020                     1             NaN   \n",
       "1                 6669     desemboltura                   800         대한민국 서울   \n",
       "2                 2512       faberllull                  2402  Olot & Andorra   \n",
       "3                 3701   IRLlull_London                  1637  UK and Ireland   \n",
       "4                 1144      magdaturska                   351          Warsaw   \n",
       "\n",
       "   user.verified                       user.profile_image_url_https  \\\n",
       "0          False  https://pbs.twimg.com/profile_images/128155124...   \n",
       "1          False  https://pbs.twimg.com/profile_images/109283546...   \n",
       "2          False  https://pbs.twimg.com/profile_images/127788643...   \n",
       "3          False  https://pbs.twimg.com/profile_images/106086701...   \n",
       "4          False  https://pbs.twimg.com/profile_images/464165916...   \n",
       "\n",
       "   favorite_count  retweet_count           created_at  \\\n",
       "0               0              3  2020-12-13 11:42:48   \n",
       "1               0              3  2020-12-13 09:11:08   \n",
       "2               0              7  2020-12-12 20:03:27   \n",
       "3               0              7  2020-12-12 20:02:21   \n",
       "4               0             12  2020-12-12 12:35:23   \n",
       "\n",
       "                            hashtags quoted_hashtags   user_lat    user_lng  \n",
       "0                                 []              []        NaN         NaN  \n",
       "1                                 []              []  37.566679  126.978291  \n",
       "2  ['opencall', 'digitalhumanities']              []        NaN         NaN  \n",
       "3  ['opencall', 'digitalhumanities']              []  53.398923   -2.352557  \n",
       "4                                 []              []  52.231958   21.006725  "
      ]
     },
     "execution_count": 3,
     "metadata": {},
     "output_type": "execute_result"
    }
   ],
   "source": [
    "# check dataframe\n",
    "df.head()"
   ]
  },
  {
   "cell_type": "code",
   "execution_count": 4,
   "metadata": {},
   "outputs": [
    {
     "name": "stdout",
     "output_type": "stream",
     "text": [
      "<class 'pandas.core.frame.DataFrame'>\n",
      "RangeIndex: 51 entries, 0 to 50\n",
      "Data columns (total 15 columns):\n",
      " #   Column                        Non-Null Count  Dtype  \n",
      "---  ------                        --------------  -----  \n",
      " 0   text                          51 non-null     object \n",
      " 1   user.name                     51 non-null     object \n",
      " 2   user.statuses_count           51 non-null     int64  \n",
      " 3   user.screen_name              51 non-null     object \n",
      " 4   user.followers_count          51 non-null     int64  \n",
      " 5   user.location                 34 non-null     object \n",
      " 6   user.verified                 51 non-null     bool   \n",
      " 7   user.profile_image_url_https  51 non-null     object \n",
      " 8   favorite_count                51 non-null     int64  \n",
      " 9   retweet_count                 51 non-null     int64  \n",
      " 10  created_at                    51 non-null     object \n",
      " 11  hashtags                      51 non-null     object \n",
      " 12  quoted_hashtags               51 non-null     object \n",
      " 13  user_lat                      31 non-null     float64\n",
      " 14  user_lng                      31 non-null     float64\n",
      "dtypes: bool(1), float64(2), int64(4), object(8)\n",
      "memory usage: 5.8+ KB\n"
     ]
    }
   ],
   "source": [
    "# check dataframe\n",
    "df.info()"
   ]
  },
  {
   "cell_type": "markdown",
   "metadata": {},
   "source": [
    "1.2.2 Bar chart visualization \n",
    "------"
   ]
  },
  {
   "cell_type": "markdown",
   "metadata": {},
   "source": [
    "**Import required libraries matplotlib, plotly, textblob, wordcloud, cufflinks etc for data visualisation.**"
   ]
  },
  {
   "cell_type": "code",
   "execution_count": 5,
   "metadata": {},
   "outputs": [
    {
     "data": {
      "text/html": [
       "        <script type=\"text/javascript\">\n",
       "        window.PlotlyConfig = {MathJaxConfig: 'local'};\n",
       "        if (window.MathJax) {MathJax.Hub.Config({SVG: {font: \"STIX-Web\"}});}\n",
       "        if (typeof require !== 'undefined') {\n",
       "        require.undef(\"plotly\");\n",
       "        requirejs.config({\n",
       "            paths: {\n",
       "                'plotly': ['https://cdn.plot.ly/plotly-latest.min']\n",
       "            }\n",
       "        });\n",
       "        require(['plotly'], function(Plotly) {\n",
       "            window._Plotly = Plotly;\n",
       "        });\n",
       "        }\n",
       "        </script>\n",
       "        "
      ]
     },
     "metadata": {},
     "output_type": "display_data"
    },
    {
     "data": {
      "text/html": [
       "        <script type=\"text/javascript\">\n",
       "        window.PlotlyConfig = {MathJaxConfig: 'local'};\n",
       "        if (window.MathJax) {MathJax.Hub.Config({SVG: {font: \"STIX-Web\"}});}\n",
       "        if (typeof require !== 'undefined') {\n",
       "        require.undef(\"plotly\");\n",
       "        requirejs.config({\n",
       "            paths: {\n",
       "                'plotly': ['https://cdn.plot.ly/plotly-latest.min']\n",
       "            }\n",
       "        });\n",
       "        require(['plotly'], function(Plotly) {\n",
       "            window._Plotly = Plotly;\n",
       "        });\n",
       "        }\n",
       "        </script>\n",
       "        "
      ]
     },
     "metadata": {},
     "output_type": "display_data"
    },
    {
     "data": {
      "text/html": [
       "        <script type=\"text/javascript\">\n",
       "        window.PlotlyConfig = {MathJaxConfig: 'local'};\n",
       "        if (window.MathJax) {MathJax.Hub.Config({SVG: {font: \"STIX-Web\"}});}\n",
       "        if (typeof require !== 'undefined') {\n",
       "        require.undef(\"plotly\");\n",
       "        requirejs.config({\n",
       "            paths: {\n",
       "                'plotly': ['https://cdn.plot.ly/plotly-latest.min']\n",
       "            }\n",
       "        });\n",
       "        require(['plotly'], function(Plotly) {\n",
       "            window._Plotly = Plotly;\n",
       "        });\n",
       "        }\n",
       "        </script>\n",
       "        "
      ]
     },
     "metadata": {},
     "output_type": "display_data"
    }
   ],
   "source": [
    "# import required libraries for visualisation \n",
    "from textblob import TextBlob\n",
    "from wordcloud import WordCloud, STOPWORDS\n",
    "import chart_studio.plotly as py\n",
    "import plotly.graph_objs as go\n",
    "from plotly.offline import iplot\n",
    "import cufflinks\n",
    "cufflinks.go_offline()\n",
    "cufflinks.set_config_file(world_readable=True, theme='pearl', offline=True)\n",
    "import matplotlib.pyplot as plt\n"
   ]
  },
  {
   "cell_type": "markdown",
   "metadata": {},
   "source": [
    "**Plot barchart for Number of twitter for each user and sort by number**"
   ]
  },
  {
   "cell_type": "code",
   "execution_count": 6,
   "metadata": {},
   "outputs": [
    {
     "data": {
      "application/vnd.plotly.v1+json": {
       "config": {
        "linkText": "Export to plot.ly",
        "plotlyServerURL": "https://plot.ly",
        "showLink": true
       },
       "data": [
        {
         "marker": {
          "color": "rgba(55, 128, 191, 0.6)",
          "line": {
           "color": "rgba(55, 128, 191, 1.0)",
           "width": 1
          }
         },
         "name": "user.name",
         "orientation": "v",
         "text": "",
         "type": "bar",
         "x": [
          "margy maclibrary",
          "Llull New York",
          "Pascal Wagner",
          "Nebraska Geography",
          "Neus Domenech Oller",
          "Suzana Sukovic",
          "Boris Lehečka",
          "Magdalena Turska",
          "Valeria Federici",
          "Andreas Kraenzle",
          "Patrick Sahle",
          "Urs ☭",
          "Georgetown University Department of English",
          "e-editiones.org",
          "Leif-Jöran Olsson",
          "TEI Publisher",
          "Digital Science Center (DiSC)",
          "Liz Stokes",
          "Alexis Tindall",
          "Digital Humanities Hub | Lancaster University",
          "DSS at Pitt",
          "Katrina Grant",
          "joel piqué",
          "Llull London",
          "Sara King",
          "Dennis Ried",
          "blueciren",
          "Aurelia Brandenburg",
          "VR Retweeter",
          "Dr Emily Bell",
          "Typiespectre",
          "Ingrid Mason",
          "eXist Solutions",
          "Joe Wicentowski",
          "Aluminium-Lanthan-Uran-Ruthenium-Sulfid",
          "sciBot 💻",
          "Friprogramvarusyndikatet",
          "RedInt",
          "faberllull",
          "Totally Real DH Person",
          "K. White"
         ],
         "y": [
          1,
          1,
          1,
          1,
          1,
          1,
          1,
          1,
          1,
          1,
          1,
          1,
          1,
          1,
          1,
          1,
          1,
          1,
          1,
          1,
          1,
          1,
          1,
          1,
          1,
          1,
          1,
          1,
          1,
          1,
          1,
          1,
          1,
          1,
          1,
          1,
          1,
          2,
          2,
          2,
          8
         ]
        }
       ],
       "layout": {
        "autosize": true,
        "template": {
         "data": {
          "bar": [
           {
            "error_x": {
             "color": "#2a3f5f"
            },
            "error_y": {
             "color": "#2a3f5f"
            },
            "marker": {
             "line": {
              "color": "#E5ECF6",
              "width": 0.5
             }
            },
            "type": "bar"
           }
          ],
          "barpolar": [
           {
            "marker": {
             "line": {
              "color": "#E5ECF6",
              "width": 0.5
             }
            },
            "type": "barpolar"
           }
          ],
          "carpet": [
           {
            "aaxis": {
             "endlinecolor": "#2a3f5f",
             "gridcolor": "white",
             "linecolor": "white",
             "minorgridcolor": "white",
             "startlinecolor": "#2a3f5f"
            },
            "baxis": {
             "endlinecolor": "#2a3f5f",
             "gridcolor": "white",
             "linecolor": "white",
             "minorgridcolor": "white",
             "startlinecolor": "#2a3f5f"
            },
            "type": "carpet"
           }
          ],
          "choropleth": [
           {
            "colorbar": {
             "outlinewidth": 0,
             "ticks": ""
            },
            "type": "choropleth"
           }
          ],
          "contour": [
           {
            "colorbar": {
             "outlinewidth": 0,
             "ticks": ""
            },
            "colorscale": [
             [
              0,
              "#0d0887"
             ],
             [
              0.1111111111111111,
              "#46039f"
             ],
             [
              0.2222222222222222,
              "#7201a8"
             ],
             [
              0.3333333333333333,
              "#9c179e"
             ],
             [
              0.4444444444444444,
              "#bd3786"
             ],
             [
              0.5555555555555556,
              "#d8576b"
             ],
             [
              0.6666666666666666,
              "#ed7953"
             ],
             [
              0.7777777777777778,
              "#fb9f3a"
             ],
             [
              0.8888888888888888,
              "#fdca26"
             ],
             [
              1,
              "#f0f921"
             ]
            ],
            "type": "contour"
           }
          ],
          "contourcarpet": [
           {
            "colorbar": {
             "outlinewidth": 0,
             "ticks": ""
            },
            "type": "contourcarpet"
           }
          ],
          "heatmap": [
           {
            "colorbar": {
             "outlinewidth": 0,
             "ticks": ""
            },
            "colorscale": [
             [
              0,
              "#0d0887"
             ],
             [
              0.1111111111111111,
              "#46039f"
             ],
             [
              0.2222222222222222,
              "#7201a8"
             ],
             [
              0.3333333333333333,
              "#9c179e"
             ],
             [
              0.4444444444444444,
              "#bd3786"
             ],
             [
              0.5555555555555556,
              "#d8576b"
             ],
             [
              0.6666666666666666,
              "#ed7953"
             ],
             [
              0.7777777777777778,
              "#fb9f3a"
             ],
             [
              0.8888888888888888,
              "#fdca26"
             ],
             [
              1,
              "#f0f921"
             ]
            ],
            "type": "heatmap"
           }
          ],
          "heatmapgl": [
           {
            "colorbar": {
             "outlinewidth": 0,
             "ticks": ""
            },
            "colorscale": [
             [
              0,
              "#0d0887"
             ],
             [
              0.1111111111111111,
              "#46039f"
             ],
             [
              0.2222222222222222,
              "#7201a8"
             ],
             [
              0.3333333333333333,
              "#9c179e"
             ],
             [
              0.4444444444444444,
              "#bd3786"
             ],
             [
              0.5555555555555556,
              "#d8576b"
             ],
             [
              0.6666666666666666,
              "#ed7953"
             ],
             [
              0.7777777777777778,
              "#fb9f3a"
             ],
             [
              0.8888888888888888,
              "#fdca26"
             ],
             [
              1,
              "#f0f921"
             ]
            ],
            "type": "heatmapgl"
           }
          ],
          "histogram": [
           {
            "marker": {
             "colorbar": {
              "outlinewidth": 0,
              "ticks": ""
             }
            },
            "type": "histogram"
           }
          ],
          "histogram2d": [
           {
            "colorbar": {
             "outlinewidth": 0,
             "ticks": ""
            },
            "colorscale": [
             [
              0,
              "#0d0887"
             ],
             [
              0.1111111111111111,
              "#46039f"
             ],
             [
              0.2222222222222222,
              "#7201a8"
             ],
             [
              0.3333333333333333,
              "#9c179e"
             ],
             [
              0.4444444444444444,
              "#bd3786"
             ],
             [
              0.5555555555555556,
              "#d8576b"
             ],
             [
              0.6666666666666666,
              "#ed7953"
             ],
             [
              0.7777777777777778,
              "#fb9f3a"
             ],
             [
              0.8888888888888888,
              "#fdca26"
             ],
             [
              1,
              "#f0f921"
             ]
            ],
            "type": "histogram2d"
           }
          ],
          "histogram2dcontour": [
           {
            "colorbar": {
             "outlinewidth": 0,
             "ticks": ""
            },
            "colorscale": [
             [
              0,
              "#0d0887"
             ],
             [
              0.1111111111111111,
              "#46039f"
             ],
             [
              0.2222222222222222,
              "#7201a8"
             ],
             [
              0.3333333333333333,
              "#9c179e"
             ],
             [
              0.4444444444444444,
              "#bd3786"
             ],
             [
              0.5555555555555556,
              "#d8576b"
             ],
             [
              0.6666666666666666,
              "#ed7953"
             ],
             [
              0.7777777777777778,
              "#fb9f3a"
             ],
             [
              0.8888888888888888,
              "#fdca26"
             ],
             [
              1,
              "#f0f921"
             ]
            ],
            "type": "histogram2dcontour"
           }
          ],
          "mesh3d": [
           {
            "colorbar": {
             "outlinewidth": 0,
             "ticks": ""
            },
            "type": "mesh3d"
           }
          ],
          "parcoords": [
           {
            "line": {
             "colorbar": {
              "outlinewidth": 0,
              "ticks": ""
             }
            },
            "type": "parcoords"
           }
          ],
          "pie": [
           {
            "automargin": true,
            "type": "pie"
           }
          ],
          "scatter": [
           {
            "marker": {
             "colorbar": {
              "outlinewidth": 0,
              "ticks": ""
             }
            },
            "type": "scatter"
           }
          ],
          "scatter3d": [
           {
            "line": {
             "colorbar": {
              "outlinewidth": 0,
              "ticks": ""
             }
            },
            "marker": {
             "colorbar": {
              "outlinewidth": 0,
              "ticks": ""
             }
            },
            "type": "scatter3d"
           }
          ],
          "scattercarpet": [
           {
            "marker": {
             "colorbar": {
              "outlinewidth": 0,
              "ticks": ""
             }
            },
            "type": "scattercarpet"
           }
          ],
          "scattergeo": [
           {
            "marker": {
             "colorbar": {
              "outlinewidth": 0,
              "ticks": ""
             }
            },
            "type": "scattergeo"
           }
          ],
          "scattergl": [
           {
            "marker": {
             "colorbar": {
              "outlinewidth": 0,
              "ticks": ""
             }
            },
            "type": "scattergl"
           }
          ],
          "scattermapbox": [
           {
            "marker": {
             "colorbar": {
              "outlinewidth": 0,
              "ticks": ""
             }
            },
            "type": "scattermapbox"
           }
          ],
          "scatterpolar": [
           {
            "marker": {
             "colorbar": {
              "outlinewidth": 0,
              "ticks": ""
             }
            },
            "type": "scatterpolar"
           }
          ],
          "scatterpolargl": [
           {
            "marker": {
             "colorbar": {
              "outlinewidth": 0,
              "ticks": ""
             }
            },
            "type": "scatterpolargl"
           }
          ],
          "scatterternary": [
           {
            "marker": {
             "colorbar": {
              "outlinewidth": 0,
              "ticks": ""
             }
            },
            "type": "scatterternary"
           }
          ],
          "surface": [
           {
            "colorbar": {
             "outlinewidth": 0,
             "ticks": ""
            },
            "colorscale": [
             [
              0,
              "#0d0887"
             ],
             [
              0.1111111111111111,
              "#46039f"
             ],
             [
              0.2222222222222222,
              "#7201a8"
             ],
             [
              0.3333333333333333,
              "#9c179e"
             ],
             [
              0.4444444444444444,
              "#bd3786"
             ],
             [
              0.5555555555555556,
              "#d8576b"
             ],
             [
              0.6666666666666666,
              "#ed7953"
             ],
             [
              0.7777777777777778,
              "#fb9f3a"
             ],
             [
              0.8888888888888888,
              "#fdca26"
             ],
             [
              1,
              "#f0f921"
             ]
            ],
            "type": "surface"
           }
          ],
          "table": [
           {
            "cells": {
             "fill": {
              "color": "#EBF0F8"
             },
             "line": {
              "color": "white"
             }
            },
            "header": {
             "fill": {
              "color": "#C8D4E3"
             },
             "line": {
              "color": "white"
             }
            },
            "type": "table"
           }
          ]
         },
         "layout": {
          "annotationdefaults": {
           "arrowcolor": "#2a3f5f",
           "arrowhead": 0,
           "arrowwidth": 1
          },
          "coloraxis": {
           "colorbar": {
            "outlinewidth": 0,
            "ticks": ""
           }
          },
          "colorscale": {
           "diverging": [
            [
             0,
             "#8e0152"
            ],
            [
             0.1,
             "#c51b7d"
            ],
            [
             0.2,
             "#de77ae"
            ],
            [
             0.3,
             "#f1b6da"
            ],
            [
             0.4,
             "#fde0ef"
            ],
            [
             0.5,
             "#f7f7f7"
            ],
            [
             0.6,
             "#e6f5d0"
            ],
            [
             0.7,
             "#b8e186"
            ],
            [
             0.8,
             "#7fbc41"
            ],
            [
             0.9,
             "#4d9221"
            ],
            [
             1,
             "#276419"
            ]
           ],
           "sequential": [
            [
             0,
             "#0d0887"
            ],
            [
             0.1111111111111111,
             "#46039f"
            ],
            [
             0.2222222222222222,
             "#7201a8"
            ],
            [
             0.3333333333333333,
             "#9c179e"
            ],
            [
             0.4444444444444444,
             "#bd3786"
            ],
            [
             0.5555555555555556,
             "#d8576b"
            ],
            [
             0.6666666666666666,
             "#ed7953"
            ],
            [
             0.7777777777777778,
             "#fb9f3a"
            ],
            [
             0.8888888888888888,
             "#fdca26"
            ],
            [
             1,
             "#f0f921"
            ]
           ],
           "sequentialminus": [
            [
             0,
             "#0d0887"
            ],
            [
             0.1111111111111111,
             "#46039f"
            ],
            [
             0.2222222222222222,
             "#7201a8"
            ],
            [
             0.3333333333333333,
             "#9c179e"
            ],
            [
             0.4444444444444444,
             "#bd3786"
            ],
            [
             0.5555555555555556,
             "#d8576b"
            ],
            [
             0.6666666666666666,
             "#ed7953"
            ],
            [
             0.7777777777777778,
             "#fb9f3a"
            ],
            [
             0.8888888888888888,
             "#fdca26"
            ],
            [
             1,
             "#f0f921"
            ]
           ]
          },
          "colorway": [
           "#636efa",
           "#EF553B",
           "#00cc96",
           "#ab63fa",
           "#FFA15A",
           "#19d3f3",
           "#FF6692",
           "#B6E880",
           "#FF97FF",
           "#FECB52"
          ],
          "font": {
           "color": "#2a3f5f"
          },
          "geo": {
           "bgcolor": "white",
           "lakecolor": "white",
           "landcolor": "#E5ECF6",
           "showlakes": true,
           "showland": true,
           "subunitcolor": "white"
          },
          "hoverlabel": {
           "align": "left"
          },
          "hovermode": "closest",
          "mapbox": {
           "style": "light"
          },
          "paper_bgcolor": "white",
          "plot_bgcolor": "#E5ECF6",
          "polar": {
           "angularaxis": {
            "gridcolor": "white",
            "linecolor": "white",
            "ticks": ""
           },
           "bgcolor": "#E5ECF6",
           "radialaxis": {
            "gridcolor": "white",
            "linecolor": "white",
            "ticks": ""
           }
          },
          "scene": {
           "xaxis": {
            "backgroundcolor": "#E5ECF6",
            "gridcolor": "white",
            "gridwidth": 2,
            "linecolor": "white",
            "showbackground": true,
            "ticks": "",
            "zerolinecolor": "white"
           },
           "yaxis": {
            "backgroundcolor": "#E5ECF6",
            "gridcolor": "white",
            "gridwidth": 2,
            "linecolor": "white",
            "showbackground": true,
            "ticks": "",
            "zerolinecolor": "white"
           },
           "zaxis": {
            "backgroundcolor": "#E5ECF6",
            "gridcolor": "white",
            "gridwidth": 2,
            "linecolor": "white",
            "showbackground": true,
            "ticks": "",
            "zerolinecolor": "white"
           }
          },
          "shapedefaults": {
           "line": {
            "color": "#2a3f5f"
           }
          },
          "ternary": {
           "aaxis": {
            "gridcolor": "white",
            "linecolor": "white",
            "ticks": ""
           },
           "baxis": {
            "gridcolor": "white",
            "linecolor": "white",
            "ticks": ""
           },
           "bgcolor": "#E5ECF6",
           "caxis": {
            "gridcolor": "white",
            "linecolor": "white",
            "ticks": ""
           }
          },
          "title": {
           "x": 0.05
          },
          "xaxis": {
           "automargin": true,
           "gridcolor": "white",
           "linecolor": "white",
           "ticks": "",
           "title": {
            "standoff": 15
           },
           "zerolinecolor": "white",
           "zerolinewidth": 2
          },
          "yaxis": {
           "automargin": true,
           "gridcolor": "white",
           "linecolor": "white",
           "ticks": "",
           "title": {
            "standoff": 15
           },
           "zerolinecolor": "white",
           "zerolinewidth": 2
          }
         }
        },
        "title": {
         "text": "Number of twitter for each user"
        },
        "xaxis": {
         "automargin": true,
         "autorange": true,
         "range": [
          -0.5,
          40.5
         ],
         "type": "category"
        },
        "yaxis": {
         "autorange": true,
         "range": [
          0,
          8.421052631578947
         ],
         "type": "linear"
        }
       }
      },
      "image/png": "[encoded data removed]",
      "text/html": [
       "<div>\n",
       "        \n",
       "        \n",
       "            <div id=\"b6ea13d7-ef76-495c-b1f6-6ba7f3a0e96f\" class=\"plotly-graph-div\" style=\"height:525px; width:100%;\"></div>\n",
       "            <script type=\"text/javascript\">\n",
       "                require([\"plotly\"], function(Plotly) {\n",
       "                    window.PLOTLYENV=window.PLOTLYENV || {};\n",
       "                    window.PLOTLYENV.BASE_URL='https://plot.ly';\n",
       "                    \n",
       "                if (document.getElementById(\"b6ea13d7-ef76-495c-b1f6-6ba7f3a0e96f\")) {\n",
       "                    Plotly.newPlot(\n",
       "                        'b6ea13d7-ef76-495c-b1f6-6ba7f3a0e96f',\n",
       "                        [{\"marker\": {\"color\": \"rgba(55, 128, 191, 0.6)\", \"line\": {\"color\": \"rgba(55, 128, 191, 1.0)\", \"width\": 1}}, \"name\": \"user.name\", \"orientation\": \"v\", \"text\": \"\", \"type\": \"bar\", \"x\": [\"margy maclibrary\", \"Llull New York\", \"Pascal Wagner\", \"Nebraska Geography\", \"Neus Domenech Oller\", \"Suzana Sukovic\", \"Boris Lehe\\u010dka\", \"Magdalena Turska\", \"Valeria Federici\", \"Andreas Kraenzle\", \"Patrick Sahle\", \"Urs \\u262d\", \"Georgetown University Department of English\", \"e-editiones.org\", \"Leif-J\\u00f6ran Olsson\", \"TEI Publisher\", \"Digital Science Center (DiSC)\", \"Liz Stokes\", \"Alexis Tindall\", \"Digital Humanities Hub | Lancaster University\", \"DSS at Pitt\", \"Katrina Grant\", \"joel piqu\\u00e9\", \"Llull London\", \"Sara King\", \"Dennis Ried\", \"blueciren\", \"Aurelia Brandenburg\", \"VR Retweeter\", \"Dr Emily Bell\", \"Typiespectre\", \"Ingrid Mason\", \"eXist Solutions\", \"Joe Wicentowski\", \"Aluminium-Lanthan-Uran-Ruthenium-Sulfid\", \"sciBot \\ud83d\\udcbb\", \"Friprogramvarusyndikatet\", \"RedInt\", \"faberllull\", \"Totally Real DH Person\", \"K. White\"], \"y\": [1, 1, 1, 1, 1, 1, 1, 1, 1, 1, 1, 1, 1, 1, 1, 1, 1, 1, 1, 1, 1, 1, 1, 1, 1, 1, 1, 1, 1, 1, 1, 1, 1, 1, 1, 1, 1, 2, 2, 2, 8]}],\n",
       "                        {\"autosize\": true, \"template\": {\"data\": {\"bar\": [{\"error_x\": {\"color\": \"#2a3f5f\"}, \"error_y\": {\"color\": \"#2a3f5f\"}, \"marker\": {\"line\": {\"color\": \"#E5ECF6\", \"width\": 0.5}}, \"type\": \"bar\"}], \"barpolar\": [{\"marker\": {\"line\": {\"color\": \"#E5ECF6\", \"width\": 0.5}}, \"type\": \"barpolar\"}], \"carpet\": [{\"aaxis\": {\"endlinecolor\": \"#2a3f5f\", \"gridcolor\": \"white\", \"linecolor\": \"white\", \"minorgridcolor\": \"white\", \"startlinecolor\": \"#2a3f5f\"}, \"baxis\": {\"endlinecolor\": \"#2a3f5f\", \"gridcolor\": \"white\", \"linecolor\": \"white\", \"minorgridcolor\": \"white\", \"startlinecolor\": \"#2a3f5f\"}, \"type\": \"carpet\"}], \"choropleth\": [{\"colorbar\": {\"outlinewidth\": 0, \"ticks\": \"\"}, \"type\": \"choropleth\"}], \"contour\": [{\"colorbar\": {\"outlinewidth\": 0, \"ticks\": \"\"}, \"colorscale\": [[0.0, \"#0d0887\"], [0.1111111111111111, \"#46039f\"], [0.2222222222222222, \"#7201a8\"], [0.3333333333333333, \"#9c179e\"], [0.4444444444444444, \"#bd3786\"], [0.5555555555555556, \"#d8576b\"], [0.6666666666666666, \"#ed7953\"], [0.7777777777777778, \"#fb9f3a\"], [0.8888888888888888, \"#fdca26\"], [1.0, \"#f0f921\"]], \"type\": \"contour\"}], \"contourcarpet\": [{\"colorbar\": {\"outlinewidth\": 0, \"ticks\": \"\"}, \"type\": \"contourcarpet\"}], \"heatmap\": [{\"colorbar\": {\"outlinewidth\": 0, \"ticks\": \"\"}, \"colorscale\": [[0.0, \"#0d0887\"], [0.1111111111111111, \"#46039f\"], [0.2222222222222222, \"#7201a8\"], [0.3333333333333333, \"#9c179e\"], [0.4444444444444444, \"#bd3786\"], [0.5555555555555556, \"#d8576b\"], [0.6666666666666666, \"#ed7953\"], [0.7777777777777778, \"#fb9f3a\"], [0.8888888888888888, \"#fdca26\"], [1.0, \"#f0f921\"]], \"type\": \"heatmap\"}], \"heatmapgl\": [{\"colorbar\": {\"outlinewidth\": 0, \"ticks\": \"\"}, \"colorscale\": [[0.0, \"#0d0887\"], [0.1111111111111111, \"#46039f\"], [0.2222222222222222, \"#7201a8\"], [0.3333333333333333, \"#9c179e\"], [0.4444444444444444, \"#bd3786\"], [0.5555555555555556, \"#d8576b\"], [0.6666666666666666, \"#ed7953\"], [0.7777777777777778, \"#fb9f3a\"], [0.8888888888888888, \"#fdca26\"], [1.0, \"#f0f921\"]], \"type\": \"heatmapgl\"}], \"histogram\": [{\"marker\": {\"colorbar\": {\"outlinewidth\": 0, \"ticks\": \"\"}}, \"type\": \"histogram\"}], \"histogram2d\": [{\"colorbar\": {\"outlinewidth\": 0, \"ticks\": \"\"}, \"colorscale\": [[0.0, \"#0d0887\"], [0.1111111111111111, \"#46039f\"], [0.2222222222222222, \"#7201a8\"], [0.3333333333333333, \"#9c179e\"], [0.4444444444444444, \"#bd3786\"], [0.5555555555555556, \"#d8576b\"], [0.6666666666666666, \"#ed7953\"], [0.7777777777777778, \"#fb9f3a\"], [0.8888888888888888, \"#fdca26\"], [1.0, \"#f0f921\"]], \"type\": \"histogram2d\"}], \"histogram2dcontour\": [{\"colorbar\": {\"outlinewidth\": 0, \"ticks\": \"\"}, \"colorscale\": [[0.0, \"#0d0887\"], [0.1111111111111111, \"#46039f\"], [0.2222222222222222, \"#7201a8\"], [0.3333333333333333, \"#9c179e\"], [0.4444444444444444, \"#bd3786\"], [0.5555555555555556, \"#d8576b\"], [0.6666666666666666, \"#ed7953\"], [0.7777777777777778, \"#fb9f3a\"], [0.8888888888888888, \"#fdca26\"], [1.0, \"#f0f921\"]], \"type\": \"histogram2dcontour\"}], \"mesh3d\": [{\"colorbar\": {\"outlinewidth\": 0, \"ticks\": \"\"}, \"type\": \"mesh3d\"}], \"parcoords\": [{\"line\": {\"colorbar\": {\"outlinewidth\": 0, \"ticks\": \"\"}}, \"type\": \"parcoords\"}], \"pie\": [{\"automargin\": true, \"type\": \"pie\"}], \"scatter\": [{\"marker\": {\"colorbar\": {\"outlinewidth\": 0, \"ticks\": \"\"}}, \"type\": \"scatter\"}], \"scatter3d\": [{\"line\": {\"colorbar\": {\"outlinewidth\": 0, \"ticks\": \"\"}}, \"marker\": {\"colorbar\": {\"outlinewidth\": 0, \"ticks\": \"\"}}, \"type\": \"scatter3d\"}], \"scattercarpet\": [{\"marker\": {\"colorbar\": {\"outlinewidth\": 0, \"ticks\": \"\"}}, \"type\": \"scattercarpet\"}], \"scattergeo\": [{\"marker\": {\"colorbar\": {\"outlinewidth\": 0, \"ticks\": \"\"}}, \"type\": \"scattergeo\"}], \"scattergl\": [{\"marker\": {\"colorbar\": {\"outlinewidth\": 0, \"ticks\": \"\"}}, \"type\": \"scattergl\"}], \"scattermapbox\": [{\"marker\": {\"colorbar\": {\"outlinewidth\": 0, \"ticks\": \"\"}}, \"type\": \"scattermapbox\"}], \"scatterpolar\": [{\"marker\": {\"colorbar\": {\"outlinewidth\": 0, \"ticks\": \"\"}}, \"type\": \"scatterpolar\"}], \"scatterpolargl\": [{\"marker\": {\"colorbar\": {\"outlinewidth\": 0, \"ticks\": \"\"}}, \"type\": \"scatterpolargl\"}], \"scatterternary\": [{\"marker\": {\"colorbar\": {\"outlinewidth\": 0, \"ticks\": \"\"}}, \"type\": \"scatterternary\"}], \"surface\": [{\"colorbar\": {\"outlinewidth\": 0, \"ticks\": \"\"}, \"colorscale\": [[0.0, \"#0d0887\"], [0.1111111111111111, \"#46039f\"], [0.2222222222222222, \"#7201a8\"], [0.3333333333333333, \"#9c179e\"], [0.4444444444444444, \"#bd3786\"], [0.5555555555555556, \"#d8576b\"], [0.6666666666666666, \"#ed7953\"], [0.7777777777777778, \"#fb9f3a\"], [0.8888888888888888, \"#fdca26\"], [1.0, \"#f0f921\"]], \"type\": \"surface\"}], \"table\": [{\"cells\": {\"fill\": {\"color\": \"#EBF0F8\"}, \"line\": {\"color\": \"white\"}}, \"header\": {\"fill\": {\"color\": \"#C8D4E3\"}, \"line\": {\"color\": \"white\"}}, \"type\": \"table\"}]}, \"layout\": {\"annotationdefaults\": {\"arrowcolor\": \"#2a3f5f\", \"arrowhead\": 0, \"arrowwidth\": 1}, \"coloraxis\": {\"colorbar\": {\"outlinewidth\": 0, \"ticks\": \"\"}}, \"colorscale\": {\"diverging\": [[0, \"#8e0152\"], [0.1, \"#c51b7d\"], [0.2, \"#de77ae\"], [0.3, \"#f1b6da\"], [0.4, \"#fde0ef\"], [0.5, \"#f7f7f7\"], [0.6, \"#e6f5d0\"], [0.7, \"#b8e186\"], [0.8, \"#7fbc41\"], [0.9, \"#4d9221\"], [1, \"#276419\"]], \"sequential\": [[0.0, \"#0d0887\"], [0.1111111111111111, \"#46039f\"], [0.2222222222222222, \"#7201a8\"], [0.3333333333333333, \"#9c179e\"], [0.4444444444444444, \"#bd3786\"], [0.5555555555555556, \"#d8576b\"], [0.6666666666666666, \"#ed7953\"], [0.7777777777777778, \"#fb9f3a\"], [0.8888888888888888, \"#fdca26\"], [1.0, \"#f0f921\"]], \"sequentialminus\": [[0.0, \"#0d0887\"], [0.1111111111111111, \"#46039f\"], [0.2222222222222222, \"#7201a8\"], [0.3333333333333333, \"#9c179e\"], [0.4444444444444444, \"#bd3786\"], [0.5555555555555556, \"#d8576b\"], [0.6666666666666666, \"#ed7953\"], [0.7777777777777778, \"#fb9f3a\"], [0.8888888888888888, \"#fdca26\"], [1.0, \"#f0f921\"]]}, \"colorway\": [\"#636efa\", \"#EF553B\", \"#00cc96\", \"#ab63fa\", \"#FFA15A\", \"#19d3f3\", \"#FF6692\", \"#B6E880\", \"#FF97FF\", \"#FECB52\"], \"font\": {\"color\": \"#2a3f5f\"}, \"geo\": {\"bgcolor\": \"white\", \"lakecolor\": \"white\", \"landcolor\": \"#E5ECF6\", \"showlakes\": true, \"showland\": true, \"subunitcolor\": \"white\"}, \"hoverlabel\": {\"align\": \"left\"}, \"hovermode\": \"closest\", \"mapbox\": {\"style\": \"light\"}, \"paper_bgcolor\": \"white\", \"plot_bgcolor\": \"#E5ECF6\", \"polar\": {\"angularaxis\": {\"gridcolor\": \"white\", \"linecolor\": \"white\", \"ticks\": \"\"}, \"bgcolor\": \"#E5ECF6\", \"radialaxis\": {\"gridcolor\": \"white\", \"linecolor\": \"white\", \"ticks\": \"\"}}, \"scene\": {\"xaxis\": {\"backgroundcolor\": \"#E5ECF6\", \"gridcolor\": \"white\", \"gridwidth\": 2, \"linecolor\": \"white\", \"showbackground\": true, \"ticks\": \"\", \"zerolinecolor\": \"white\"}, \"yaxis\": {\"backgroundcolor\": \"#E5ECF6\", \"gridcolor\": \"white\", \"gridwidth\": 2, \"linecolor\": \"white\", \"showbackground\": true, \"ticks\": \"\", \"zerolinecolor\": \"white\"}, \"zaxis\": {\"backgroundcolor\": \"#E5ECF6\", \"gridcolor\": \"white\", \"gridwidth\": 2, \"linecolor\": \"white\", \"showbackground\": true, \"ticks\": \"\", \"zerolinecolor\": \"white\"}}, \"shapedefaults\": {\"line\": {\"color\": \"#2a3f5f\"}}, \"ternary\": {\"aaxis\": {\"gridcolor\": \"white\", \"linecolor\": \"white\", \"ticks\": \"\"}, \"baxis\": {\"gridcolor\": \"white\", \"linecolor\": \"white\", \"ticks\": \"\"}, \"bgcolor\": \"#E5ECF6\", \"caxis\": {\"gridcolor\": \"white\", \"linecolor\": \"white\", \"ticks\": \"\"}}, \"title\": {\"x\": 0.05}, \"xaxis\": {\"automargin\": true, \"gridcolor\": \"white\", \"linecolor\": \"white\", \"ticks\": \"\", \"title\": {\"standoff\": 15}, \"zerolinecolor\": \"white\", \"zerolinewidth\": 2}, \"yaxis\": {\"automargin\": true, \"gridcolor\": \"white\", \"linecolor\": \"white\", \"ticks\": \"\", \"title\": {\"standoff\": 15}, \"zerolinecolor\": \"white\", \"zerolinewidth\": 2}}}, \"title\": {\"text\": \"Number of twitter for each user\"}, \"xaxis\": {\"automargin\": true}},\n",
       "                        {\"showLink\": true, \"linkText\": \"Export to plot.ly\", \"plotlyServerURL\": \"https://plot.ly\", \"responsive\": true}\n",
       "                    ).then(function(){\n",
       "                            \n",
       "var gd = document.getElementById('b6ea13d7-ef76-495c-b1f6-6ba7f3a0e96f');\n",
       "var x = new MutationObserver(function (mutations, observer) {{\n",
       "        var display = window.getComputedStyle(gd).display;\n",
       "        if (!display || display === 'none') {{\n",
       "            console.log([gd, 'removed!']);\n",
       "            Plotly.purge(gd);\n",
       "            observer.disconnect();\n",
       "        }}\n",
       "}});\n",
       "\n",
       "// Listen for the removal of the full notebook cells\n",
       "var notebookContainer = gd.closest('#notebook-container');\n",
       "if (notebookContainer) {{\n",
       "    x.observe(notebookContainer, {childList: true});\n",
       "}}\n",
       "\n",
       "// Listen for the clearing of the current output cell\n",
       "var outputEl = gd.closest('.output');\n",
       "if (outputEl) {{\n",
       "    x.observe(outputEl, {childList: true});\n",
       "}}\n",
       "\n",
       "                        })\n",
       "                };\n",
       "                });\n",
       "            </script>\n",
       "        </div>"
      ]
     },
     "metadata": {},
     "output_type": "display_data"
    }
   ],
   "source": [
    "\n",
    "# plot barchart for Number of twitter for each user\n",
    "layout1=dict(autosize=True, xaxis=dict(automargin=True),title=\"Number of twitter for each user\")\n",
    "df['user.name'].value_counts(ascending=True).iplot(kind='bar',title=\"Number of twitter for each user\", color=\"blue\",layout=layout1)\n",
    "\n",
    "'''\n",
    "# Alternative method to run under SWAN where cufflinks can't be installed \n",
    "# import plotly express package for interactive charts\n",
    "import plotly.express as px\n",
    "import plotly.io as pio\n",
    "pio.renderers.default = \"plotly_mimetype+notebook_connected\"\n",
    "\n",
    "# create dataframe for user.name counts\n",
    "user_counts = df['user.name'].value_counts(ascending=True).to_frame(\"Count\").reset_index()\n",
    "# show interative barchart by Number of twitter for each user\n",
    "fig = px.bar(\n",
    "    user_counts, x=\"index\", y=\"Count\", \n",
    "    labels=dict(Count=\"Counts\", index=\"User\"), \n",
    "    width=1600, height=800, title=\"Number of twitter for each user\"\n",
    ")\n",
    "fig.update_xaxes(tickangle = 45)\n",
    "\n",
    "fig.update_traces(marker_color='green')\n",
    "\n",
    "fig.show()\n",
    "\n",
    "'''\n"
   ]
  },
  {
   "cell_type": "markdown",
   "metadata": {},
   "source": [
    "**Create data frame for number of followers for each user. Show the sorted data frame for user and user_followers.**"
   ]
  },
  {
   "cell_type": "code",
   "execution_count": 7,
   "metadata": {},
   "outputs": [
    {
     "name": "stdout",
     "output_type": "stream",
     "text": [
      "                                        user.name  user.followers_count\n",
      "6                                   Dr Emily Bell                  5170\n",
      "33                               margy maclibrary                  4253\n",
      "37                                   Ingrid Mason                  3380\n",
      "2                                      faberllull                  2402\n",
      "43                            Aurelia Brandenburg                  2319\n",
      "50                                  Patrick Sahle                  1795\n",
      "3                                    Llull London                  1637\n",
      "28                                 Llull New York                  1493\n",
      "39                                  Katrina Grant                  1472\n",
      "32                                 Suzana Sukovic                  1277\n",
      "21  Digital Humanities Hub | Lancaster University                  1203\n",
      "46                                  Pascal Wagner                  1159\n",
      "36                                     Liz Stokes                  1008\n",
      "29                         Totally Real DH Person                   876\n",
      "16                                Joe Wicentowski                   868\n",
      "27                             Nebraska Geography                   811\n",
      "1                                          RedInt                   800\n",
      "34                                      Sara King                   698\n",
      "44                                          Urs ☭                   625\n",
      "5                                        K. White                   584\n",
      "49                                    DSS at Pitt                   510\n",
      "35                               Valeria Federici                   456\n",
      "41                                 Alexis Tindall                   436\n",
      "4                                Magdalena Turska                   351\n",
      "48                                   VR Retweeter                   281\n",
      "14                                eXist Solutions                   275\n",
      "7     Georgetown University Department of English                   246\n",
      "24                            Neus Domenech Oller                   230\n",
      "23                  Digital Science Center (DiSC)                   224\n",
      "18                                       sciBot 💻                   214\n",
      "20                                e-editiones.org                   213\n",
      "25                                     joel piqué                   212\n",
      "11                              Leif-Jöran Olsson                   171\n",
      "17                                  TEI Publisher                   141\n",
      "8                                     Dennis Ried                   105\n",
      "42        Aluminium-Lanthan-Uran-Ruthenium-Sulfid                    95\n",
      "19                               Andreas Kraenzle                    72\n",
      "12                                  Boris Lehečka                    52\n",
      "9                                    Typiespectre                    23\n",
      "10                       Friprogramvarusyndikatet                    23\n",
      "0                                       blueciren                     1\n"
     ]
    }
   ],
   "source": [
    "\n",
    "# print table for number of followers for each user\n",
    "followersdf = pd.DataFrame(df, columns=['user.name','user.followers_count']).drop_duplicates()\n",
    "followersdf.sort_values([\"user.followers_count\", \"user.name\"], axis=0, ascending=False, inplace=True)\n",
    "print(followersdf)\n"
   ]
  },
  {
   "cell_type": "markdown",
   "metadata": {},
   "source": [
    "\n",
    "**Plot barchart for Number of User Followers for each user and sort by number.**"
   ]
  },
  {
   "cell_type": "code",
   "execution_count": 8,
   "metadata": {},
   "outputs": [
    {
     "data": {
      "application/vnd.plotly.v1+json": {
       "config": {
        "linkText": "Export to plot.ly",
        "plotlyServerURL": "https://plot.ly",
        "showLink": true
       },
       "data": [
        {
         "marker": {
          "color": "rgba(255, 153, 51, 0.6)",
          "line": {
           "color": "rgba(255, 153, 51, 1.0)",
           "width": 1
          }
         },
         "name": "user.followers_count",
         "orientation": "v",
         "text": "",
         "type": "bar",
         "x": [
          "blueciren",
          "Friprogramvarusyndikatet",
          "Typiespectre",
          "Boris Lehečka",
          "Andreas Kraenzle",
          "Aluminium-Lanthan-Uran-Ruthenium-Sulfid",
          "Dennis Ried",
          "TEI Publisher",
          "Leif-Jöran Olsson",
          "joel piqué",
          "e-editiones.org",
          "sciBot 💻",
          "Digital Science Center (DiSC)",
          "Neus Domenech Oller",
          "Georgetown University Department of English",
          "eXist Solutions",
          "VR Retweeter",
          "Magdalena Turska",
          "Alexis Tindall",
          "Valeria Federici",
          "DSS at Pitt",
          "K. White",
          "Urs ☭",
          "Sara King",
          "RedInt",
          "Nebraska Geography",
          "Joe Wicentowski",
          "Totally Real DH Person",
          "Liz Stokes",
          "Pascal Wagner",
          "Digital Humanities Hub | Lancaster University",
          "Suzana Sukovic",
          "Katrina Grant",
          "Llull New York",
          "Llull London",
          "Patrick Sahle",
          "Aurelia Brandenburg",
          "faberllull",
          "Ingrid Mason",
          "margy maclibrary",
          "Dr Emily Bell"
         ],
         "y": [
          1,
          23,
          23,
          52,
          72,
          95,
          105,
          141,
          171,
          212,
          213,
          214,
          224,
          230,
          246,
          275,
          281,
          351,
          436,
          456,
          510,
          584,
          625,
          698,
          800,
          811,
          868,
          876,
          1008,
          1159,
          1203,
          1277,
          1472,
          1493,
          1637,
          1795,
          2319,
          2402,
          3380,
          4253,
          5170
         ]
        }
       ],
       "layout": {
        "autosize": true,
        "template": {
         "data": {
          "bar": [
           {
            "error_x": {
             "color": "#2a3f5f"
            },
            "error_y": {
             "color": "#2a3f5f"
            },
            "marker": {
             "line": {
              "color": "#E5ECF6",
              "width": 0.5
             }
            },
            "type": "bar"
           }
          ],
          "barpolar": [
           {
            "marker": {
             "line": {
              "color": "#E5ECF6",
              "width": 0.5
             }
            },
            "type": "barpolar"
           }
          ],
          "carpet": [
           {
            "aaxis": {
             "endlinecolor": "#2a3f5f",
             "gridcolor": "white",
             "linecolor": "white",
             "minorgridcolor": "white",
             "startlinecolor": "#2a3f5f"
            },
            "baxis": {
             "endlinecolor": "#2a3f5f",
             "gridcolor": "white",
             "linecolor": "white",
             "minorgridcolor": "white",
             "startlinecolor": "#2a3f5f"
            },
            "type": "carpet"
           }
          ],
          "choropleth": [
           {
            "colorbar": {
             "outlinewidth": 0,
             "ticks": ""
            },
            "type": "choropleth"
           }
          ],
          "contour": [
           {
            "colorbar": {
             "outlinewidth": 0,
             "ticks": ""
            },
            "colorscale": [
             [
              0,
              "#0d0887"
             ],
             [
              0.1111111111111111,
              "#46039f"
             ],
             [
              0.2222222222222222,
              "#7201a8"
             ],
             [
              0.3333333333333333,
              "#9c179e"
             ],
             [
              0.4444444444444444,
              "#bd3786"
             ],
             [
              0.5555555555555556,
              "#d8576b"
             ],
             [
              0.6666666666666666,
              "#ed7953"
             ],
             [
              0.7777777777777778,
              "#fb9f3a"
             ],
             [
              0.8888888888888888,
              "#fdca26"
             ],
             [
              1,
              "#f0f921"
             ]
            ],
            "type": "contour"
           }
          ],
          "contourcarpet": [
           {
            "colorbar": {
             "outlinewidth": 0,
             "ticks": ""
            },
            "type": "contourcarpet"
           }
          ],
          "heatmap": [
           {
            "colorbar": {
             "outlinewidth": 0,
             "ticks": ""
            },
            "colorscale": [
             [
              0,
              "#0d0887"
             ],
             [
              0.1111111111111111,
              "#46039f"
             ],
             [
              0.2222222222222222,
              "#7201a8"
             ],
             [
              0.3333333333333333,
              "#9c179e"
             ],
             [
              0.4444444444444444,
              "#bd3786"
             ],
             [
              0.5555555555555556,
              "#d8576b"
             ],
             [
              0.6666666666666666,
              "#ed7953"
             ],
             [
              0.7777777777777778,
              "#fb9f3a"
             ],
             [
              0.8888888888888888,
              "#fdca26"
             ],
             [
              1,
              "#f0f921"
             ]
            ],
            "type": "heatmap"
           }
          ],
          "heatmapgl": [
           {
            "colorbar": {
             "outlinewidth": 0,
             "ticks": ""
            },
            "colorscale": [
             [
              0,
              "#0d0887"
             ],
             [
              0.1111111111111111,
              "#46039f"
             ],
             [
              0.2222222222222222,
              "#7201a8"
             ],
             [
              0.3333333333333333,
              "#9c179e"
             ],
             [
              0.4444444444444444,
              "#bd3786"
             ],
             [
              0.5555555555555556,
              "#d8576b"
             ],
             [
              0.6666666666666666,
              "#ed7953"
             ],
             [
              0.7777777777777778,
              "#fb9f3a"
             ],
             [
              0.8888888888888888,
              "#fdca26"
             ],
             [
              1,
              "#f0f921"
             ]
            ],
            "type": "heatmapgl"
           }
          ],
          "histogram": [
           {
            "marker": {
             "colorbar": {
              "outlinewidth": 0,
              "ticks": ""
             }
            },
            "type": "histogram"
           }
          ],
          "histogram2d": [
           {
            "colorbar": {
             "outlinewidth": 0,
             "ticks": ""
            },
            "colorscale": [
             [
              0,
              "#0d0887"
             ],
             [
              0.1111111111111111,
              "#46039f"
             ],
             [
              0.2222222222222222,
              "#7201a8"
             ],
             [
              0.3333333333333333,
              "#9c179e"
             ],
             [
              0.4444444444444444,
              "#bd3786"
             ],
             [
              0.5555555555555556,
              "#d8576b"
             ],
             [
              0.6666666666666666,
              "#ed7953"
             ],
             [
              0.7777777777777778,
              "#fb9f3a"
             ],
             [
              0.8888888888888888,
              "#fdca26"
             ],
             [
              1,
              "#f0f921"
             ]
            ],
            "type": "histogram2d"
           }
          ],
          "histogram2dcontour": [
           {
            "colorbar": {
             "outlinewidth": 0,
             "ticks": ""
            },
            "colorscale": [
             [
              0,
              "#0d0887"
             ],
             [
              0.1111111111111111,
              "#46039f"
             ],
             [
              0.2222222222222222,
              "#7201a8"
             ],
             [
              0.3333333333333333,
              "#9c179e"
             ],
             [
              0.4444444444444444,
              "#bd3786"
             ],
             [
              0.5555555555555556,
              "#d8576b"
             ],
             [
              0.6666666666666666,
              "#ed7953"
             ],
             [
              0.7777777777777778,
              "#fb9f3a"
             ],
             [
              0.8888888888888888,
              "#fdca26"
             ],
             [
              1,
              "#f0f921"
             ]
            ],
            "type": "histogram2dcontour"
           }
          ],
          "mesh3d": [
           {
            "colorbar": {
             "outlinewidth": 0,
             "ticks": ""
            },
            "type": "mesh3d"
           }
          ],
          "parcoords": [
           {
            "line": {
             "colorbar": {
              "outlinewidth": 0,
              "ticks": ""
             }
            },
            "type": "parcoords"
           }
          ],
          "pie": [
           {
            "automargin": true,
            "type": "pie"
           }
          ],
          "scatter": [
           {
            "marker": {
             "colorbar": {
              "outlinewidth": 0,
              "ticks": ""
             }
            },
            "type": "scatter"
           }
          ],
          "scatter3d": [
           {
            "line": {
             "colorbar": {
              "outlinewidth": 0,
              "ticks": ""
             }
            },
            "marker": {
             "colorbar": {
              "outlinewidth": 0,
              "ticks": ""
             }
            },
            "type": "scatter3d"
           }
          ],
          "scattercarpet": [
           {
            "marker": {
             "colorbar": {
              "outlinewidth": 0,
              "ticks": ""
             }
            },
            "type": "scattercarpet"
           }
          ],
          "scattergeo": [
           {
            "marker": {
             "colorbar": {
              "outlinewidth": 0,
              "ticks": ""
             }
            },
            "type": "scattergeo"
           }
          ],
          "scattergl": [
           {
            "marker": {
             "colorbar": {
              "outlinewidth": 0,
              "ticks": ""
             }
            },
            "type": "scattergl"
           }
          ],
          "scattermapbox": [
           {
            "marker": {
             "colorbar": {
              "outlinewidth": 0,
              "ticks": ""
             }
            },
            "type": "scattermapbox"
           }
          ],
          "scatterpolar": [
           {
            "marker": {
             "colorbar": {
              "outlinewidth": 0,
              "ticks": ""
             }
            },
            "type": "scatterpolar"
           }
          ],
          "scatterpolargl": [
           {
            "marker": {
             "colorbar": {
              "outlinewidth": 0,
              "ticks": ""
             }
            },
            "type": "scatterpolargl"
           }
          ],
          "scatterternary": [
           {
            "marker": {
             "colorbar": {
              "outlinewidth": 0,
              "ticks": ""
             }
            },
            "type": "scatterternary"
           }
          ],
          "surface": [
           {
            "colorbar": {
             "outlinewidth": 0,
             "ticks": ""
            },
            "colorscale": [
             [
              0,
              "#0d0887"
             ],
             [
              0.1111111111111111,
              "#46039f"
             ],
             [
              0.2222222222222222,
              "#7201a8"
             ],
             [
              0.3333333333333333,
              "#9c179e"
             ],
             [
              0.4444444444444444,
              "#bd3786"
             ],
             [
              0.5555555555555556,
              "#d8576b"
             ],
             [
              0.6666666666666666,
              "#ed7953"
             ],
             [
              0.7777777777777778,
              "#fb9f3a"
             ],
             [
              0.8888888888888888,
              "#fdca26"
             ],
             [
              1,
              "#f0f921"
             ]
            ],
            "type": "surface"
           }
          ],
          "table": [
           {
            "cells": {
             "fill": {
              "color": "#EBF0F8"
             },
             "line": {
              "color": "white"
             }
            },
            "header": {
             "fill": {
              "color": "#C8D4E3"
             },
             "line": {
              "color": "white"
             }
            },
            "type": "table"
           }
          ]
         },
         "layout": {
          "annotationdefaults": {
           "arrowcolor": "#2a3f5f",
           "arrowhead": 0,
           "arrowwidth": 1
          },
          "coloraxis": {
           "colorbar": {
            "outlinewidth": 0,
            "ticks": ""
           }
          },
          "colorscale": {
           "diverging": [
            [
             0,
             "#8e0152"
            ],
            [
             0.1,
             "#c51b7d"
            ],
            [
             0.2,
             "#de77ae"
            ],
            [
             0.3,
             "#f1b6da"
            ],
            [
             0.4,
             "#fde0ef"
            ],
            [
             0.5,
             "#f7f7f7"
            ],
            [
             0.6,
             "#e6f5d0"
            ],
            [
             0.7,
             "#b8e186"
            ],
            [
             0.8,
             "#7fbc41"
            ],
            [
             0.9,
             "#4d9221"
            ],
            [
             1,
             "#276419"
            ]
           ],
           "sequential": [
            [
             0,
             "#0d0887"
            ],
            [
             0.1111111111111111,
             "#46039f"
            ],
            [
             0.2222222222222222,
             "#7201a8"
            ],
            [
             0.3333333333333333,
             "#9c179e"
            ],
            [
             0.4444444444444444,
             "#bd3786"
            ],
            [
             0.5555555555555556,
             "#d8576b"
            ],
            [
             0.6666666666666666,
             "#ed7953"
            ],
            [
             0.7777777777777778,
             "#fb9f3a"
            ],
            [
             0.8888888888888888,
             "#fdca26"
            ],
            [
             1,
             "#f0f921"
            ]
           ],
           "sequentialminus": [
            [
             0,
             "#0d0887"
            ],
            [
             0.1111111111111111,
             "#46039f"
            ],
            [
             0.2222222222222222,
             "#7201a8"
            ],
            [
             0.3333333333333333,
             "#9c179e"
            ],
            [
             0.4444444444444444,
             "#bd3786"
            ],
            [
             0.5555555555555556,
             "#d8576b"
            ],
            [
             0.6666666666666666,
             "#ed7953"
            ],
            [
             0.7777777777777778,
             "#fb9f3a"
            ],
            [
             0.8888888888888888,
             "#fdca26"
            ],
            [
             1,
             "#f0f921"
            ]
           ]
          },
          "colorway": [
           "#636efa",
           "#EF553B",
           "#00cc96",
           "#ab63fa",
           "#FFA15A",
           "#19d3f3",
           "#FF6692",
           "#B6E880",
           "#FF97FF",
           "#FECB52"
          ],
          "font": {
           "color": "#2a3f5f"
          },
          "geo": {
           "bgcolor": "white",
           "lakecolor": "white",
           "landcolor": "#E5ECF6",
           "showlakes": true,
           "showland": true,
           "subunitcolor": "white"
          },
          "hoverlabel": {
           "align": "left"
          },
          "hovermode": "closest",
          "mapbox": {
           "style": "light"
          },
          "paper_bgcolor": "white",
          "plot_bgcolor": "#E5ECF6",
          "polar": {
           "angularaxis": {
            "gridcolor": "white",
            "linecolor": "white",
            "ticks": ""
           },
           "bgcolor": "#E5ECF6",
           "radialaxis": {
            "gridcolor": "white",
            "linecolor": "white",
            "ticks": ""
           }
          },
          "scene": {
           "xaxis": {
            "backgroundcolor": "#E5ECF6",
            "gridcolor": "white",
            "gridwidth": 2,
            "linecolor": "white",
            "showbackground": true,
            "ticks": "",
            "zerolinecolor": "white"
           },
           "yaxis": {
            "backgroundcolor": "#E5ECF6",
            "gridcolor": "white",
            "gridwidth": 2,
            "linecolor": "white",
            "showbackground": true,
            "ticks": "",
            "zerolinecolor": "white"
           },
           "zaxis": {
            "backgroundcolor": "#E5ECF6",
            "gridcolor": "white",
            "gridwidth": 2,
            "linecolor": "white",
            "showbackground": true,
            "ticks": "",
            "zerolinecolor": "white"
           }
          },
          "shapedefaults": {
           "line": {
            "color": "#2a3f5f"
           }
          },
          "ternary": {
           "aaxis": {
            "gridcolor": "white",
            "linecolor": "white",
            "ticks": ""
           },
           "baxis": {
            "gridcolor": "white",
            "linecolor": "white",
            "ticks": ""
           },
           "bgcolor": "#E5ECF6",
           "caxis": {
            "gridcolor": "white",
            "linecolor": "white",
            "ticks": ""
           }
          },
          "title": {
           "x": 0.05
          },
          "xaxis": {
           "automargin": true,
           "gridcolor": "white",
           "linecolor": "white",
           "ticks": "",
           "title": {
            "standoff": 15
           },
           "zerolinecolor": "white",
           "zerolinewidth": 2
          },
          "yaxis": {
           "automargin": true,
           "gridcolor": "white",
           "linecolor": "white",
           "ticks": "",
           "title": {
            "standoff": 15
           },
           "zerolinecolor": "white",
           "zerolinewidth": 2
          }
         }
        },
        "title": {
         "text": "Number of followers for each user"
        },
        "xaxis": {
         "automargin": true,
         "autorange": true,
         "range": [
          -0.5,
          40.5
         ],
         "type": "category"
        },
        "yaxis": {
         "autorange": true,
         "range": [
          0,
          5442.105263157895
         ],
         "type": "linear"
        }
       }
      },
      "image/png": "[encoded data removed]",
      "text/html": [
       "<div>\n",
       "        \n",
       "        \n",
       "            <div id=\"55919467-a48c-48d2-8cc0-4dd242a7471a\" class=\"plotly-graph-div\" style=\"height:525px; width:100%;\"></div>\n",
       "            <script type=\"text/javascript\">\n",
       "                require([\"plotly\"], function(Plotly) {\n",
       "                    window.PLOTLYENV=window.PLOTLYENV || {};\n",
       "                    window.PLOTLYENV.BASE_URL='https://plot.ly';\n",
       "                    \n",
       "                if (document.getElementById(\"55919467-a48c-48d2-8cc0-4dd242a7471a\")) {\n",
       "                    Plotly.newPlot(\n",
       "                        '55919467-a48c-48d2-8cc0-4dd242a7471a',\n",
       "                        [{\"marker\": {\"color\": \"rgba(255, 153, 51, 0.6)\", \"line\": {\"color\": \"rgba(255, 153, 51, 1.0)\", \"width\": 1}}, \"name\": \"user.followers_count\", \"orientation\": \"v\", \"text\": \"\", \"type\": \"bar\", \"x\": [\"blueciren\", \"Friprogramvarusyndikatet\", \"Typiespectre\", \"Boris Lehe\\u010dka\", \"Andreas Kraenzle\", \"Aluminium-Lanthan-Uran-Ruthenium-Sulfid\", \"Dennis Ried\", \"TEI Publisher\", \"Leif-J\\u00f6ran Olsson\", \"joel piqu\\u00e9\", \"e-editiones.org\", \"sciBot \\ud83d\\udcbb\", \"Digital Science Center (DiSC)\", \"Neus Domenech Oller\", \"Georgetown University Department of English\", \"eXist Solutions\", \"VR Retweeter\", \"Magdalena Turska\", \"Alexis Tindall\", \"Valeria Federici\", \"DSS at Pitt\", \"K. White\", \"Urs \\u262d\", \"Sara King\", \"RedInt\", \"Nebraska Geography\", \"Joe Wicentowski\", \"Totally Real DH Person\", \"Liz Stokes\", \"Pascal Wagner\", \"Digital Humanities Hub | Lancaster University\", \"Suzana Sukovic\", \"Katrina Grant\", \"Llull New York\", \"Llull London\", \"Patrick Sahle\", \"Aurelia Brandenburg\", \"faberllull\", \"Ingrid Mason\", \"margy maclibrary\", \"Dr Emily Bell\"], \"y\": [1, 23, 23, 52, 72, 95, 105, 141, 171, 212, 213, 214, 224, 230, 246, 275, 281, 351, 436, 456, 510, 584, 625, 698, 800, 811, 868, 876, 1008, 1159, 1203, 1277, 1472, 1493, 1637, 1795, 2319, 2402, 3380, 4253, 5170]}],\n",
       "                        {\"autosize\": true, \"template\": {\"data\": {\"bar\": [{\"error_x\": {\"color\": \"#2a3f5f\"}, \"error_y\": {\"color\": \"#2a3f5f\"}, \"marker\": {\"line\": {\"color\": \"#E5ECF6\", \"width\": 0.5}}, \"type\": \"bar\"}], \"barpolar\": [{\"marker\": {\"line\": {\"color\": \"#E5ECF6\", \"width\": 0.5}}, \"type\": \"barpolar\"}], \"carpet\": [{\"aaxis\": {\"endlinecolor\": \"#2a3f5f\", \"gridcolor\": \"white\", \"linecolor\": \"white\", \"minorgridcolor\": \"white\", \"startlinecolor\": \"#2a3f5f\"}, \"baxis\": {\"endlinecolor\": \"#2a3f5f\", \"gridcolor\": \"white\", \"linecolor\": \"white\", \"minorgridcolor\": \"white\", \"startlinecolor\": \"#2a3f5f\"}, \"type\": \"carpet\"}], \"choropleth\": [{\"colorbar\": {\"outlinewidth\": 0, \"ticks\": \"\"}, \"type\": \"choropleth\"}], \"contour\": [{\"colorbar\": {\"outlinewidth\": 0, \"ticks\": \"\"}, \"colorscale\": [[0.0, \"#0d0887\"], [0.1111111111111111, \"#46039f\"], [0.2222222222222222, \"#7201a8\"], [0.3333333333333333, \"#9c179e\"], [0.4444444444444444, \"#bd3786\"], [0.5555555555555556, \"#d8576b\"], [0.6666666666666666, \"#ed7953\"], [0.7777777777777778, \"#fb9f3a\"], [0.8888888888888888, \"#fdca26\"], [1.0, \"#f0f921\"]], \"type\": \"contour\"}], \"contourcarpet\": [{\"colorbar\": {\"outlinewidth\": 0, \"ticks\": \"\"}, \"type\": \"contourcarpet\"}], \"heatmap\": [{\"colorbar\": {\"outlinewidth\": 0, \"ticks\": \"\"}, \"colorscale\": [[0.0, \"#0d0887\"], [0.1111111111111111, \"#46039f\"], [0.2222222222222222, \"#7201a8\"], [0.3333333333333333, \"#9c179e\"], [0.4444444444444444, \"#bd3786\"], [0.5555555555555556, \"#d8576b\"], [0.6666666666666666, \"#ed7953\"], [0.7777777777777778, \"#fb9f3a\"], [0.8888888888888888, \"#fdca26\"], [1.0, \"#f0f921\"]], \"type\": \"heatmap\"}], \"heatmapgl\": [{\"colorbar\": {\"outlinewidth\": 0, \"ticks\": \"\"}, \"colorscale\": [[0.0, \"#0d0887\"], [0.1111111111111111, \"#46039f\"], [0.2222222222222222, \"#7201a8\"], [0.3333333333333333, \"#9c179e\"], [0.4444444444444444, \"#bd3786\"], [0.5555555555555556, \"#d8576b\"], [0.6666666666666666, \"#ed7953\"], [0.7777777777777778, \"#fb9f3a\"], [0.8888888888888888, \"#fdca26\"], [1.0, \"#f0f921\"]], \"type\": \"heatmapgl\"}], \"histogram\": [{\"marker\": {\"colorbar\": {\"outlinewidth\": 0, \"ticks\": \"\"}}, \"type\": \"histogram\"}], \"histogram2d\": [{\"colorbar\": {\"outlinewidth\": 0, \"ticks\": \"\"}, \"colorscale\": [[0.0, \"#0d0887\"], [0.1111111111111111, \"#46039f\"], [0.2222222222222222, \"#7201a8\"], [0.3333333333333333, \"#9c179e\"], [0.4444444444444444, \"#bd3786\"], [0.5555555555555556, \"#d8576b\"], [0.6666666666666666, \"#ed7953\"], [0.7777777777777778, \"#fb9f3a\"], [0.8888888888888888, \"#fdca26\"], [1.0, \"#f0f921\"]], \"type\": \"histogram2d\"}], \"histogram2dcontour\": [{\"colorbar\": {\"outlinewidth\": 0, \"ticks\": \"\"}, \"colorscale\": [[0.0, \"#0d0887\"], [0.1111111111111111, \"#46039f\"], [0.2222222222222222, \"#7201a8\"], [0.3333333333333333, \"#9c179e\"], [0.4444444444444444, \"#bd3786\"], [0.5555555555555556, \"#d8576b\"], [0.6666666666666666, \"#ed7953\"], [0.7777777777777778, \"#fb9f3a\"], [0.8888888888888888, \"#fdca26\"], [1.0, \"#f0f921\"]], \"type\": \"histogram2dcontour\"}], \"mesh3d\": [{\"colorbar\": {\"outlinewidth\": 0, \"ticks\": \"\"}, \"type\": \"mesh3d\"}], \"parcoords\": [{\"line\": {\"colorbar\": {\"outlinewidth\": 0, \"ticks\": \"\"}}, \"type\": \"parcoords\"}], \"pie\": [{\"automargin\": true, \"type\": \"pie\"}], \"scatter\": [{\"marker\": {\"colorbar\": {\"outlinewidth\": 0, \"ticks\": \"\"}}, \"type\": \"scatter\"}], \"scatter3d\": [{\"line\": {\"colorbar\": {\"outlinewidth\": 0, \"ticks\": \"\"}}, \"marker\": {\"colorbar\": {\"outlinewidth\": 0, \"ticks\": \"\"}}, \"type\": \"scatter3d\"}], \"scattercarpet\": [{\"marker\": {\"colorbar\": {\"outlinewidth\": 0, \"ticks\": \"\"}}, \"type\": \"scattercarpet\"}], \"scattergeo\": [{\"marker\": {\"colorbar\": {\"outlinewidth\": 0, \"ticks\": \"\"}}, \"type\": \"scattergeo\"}], \"scattergl\": [{\"marker\": {\"colorbar\": {\"outlinewidth\": 0, \"ticks\": \"\"}}, \"type\": \"scattergl\"}], \"scattermapbox\": [{\"marker\": {\"colorbar\": {\"outlinewidth\": 0, \"ticks\": \"\"}}, \"type\": \"scattermapbox\"}], \"scatterpolar\": [{\"marker\": {\"colorbar\": {\"outlinewidth\": 0, \"ticks\": \"\"}}, \"type\": \"scatterpolar\"}], \"scatterpolargl\": [{\"marker\": {\"colorbar\": {\"outlinewidth\": 0, \"ticks\": \"\"}}, \"type\": \"scatterpolargl\"}], \"scatterternary\": [{\"marker\": {\"colorbar\": {\"outlinewidth\": 0, \"ticks\": \"\"}}, \"type\": \"scatterternary\"}], \"surface\": [{\"colorbar\": {\"outlinewidth\": 0, \"ticks\": \"\"}, \"colorscale\": [[0.0, \"#0d0887\"], [0.1111111111111111, \"#46039f\"], [0.2222222222222222, \"#7201a8\"], [0.3333333333333333, \"#9c179e\"], [0.4444444444444444, \"#bd3786\"], [0.5555555555555556, \"#d8576b\"], [0.6666666666666666, \"#ed7953\"], [0.7777777777777778, \"#fb9f3a\"], [0.8888888888888888, \"#fdca26\"], [1.0, \"#f0f921\"]], \"type\": \"surface\"}], \"table\": [{\"cells\": {\"fill\": {\"color\": \"#EBF0F8\"}, \"line\": {\"color\": \"white\"}}, \"header\": {\"fill\": {\"color\": \"#C8D4E3\"}, \"line\": {\"color\": \"white\"}}, \"type\": \"table\"}]}, \"layout\": {\"annotationdefaults\": {\"arrowcolor\": \"#2a3f5f\", \"arrowhead\": 0, \"arrowwidth\": 1}, \"coloraxis\": {\"colorbar\": {\"outlinewidth\": 0, \"ticks\": \"\"}}, \"colorscale\": {\"diverging\": [[0, \"#8e0152\"], [0.1, \"#c51b7d\"], [0.2, \"#de77ae\"], [0.3, \"#f1b6da\"], [0.4, \"#fde0ef\"], [0.5, \"#f7f7f7\"], [0.6, \"#e6f5d0\"], [0.7, \"#b8e186\"], [0.8, \"#7fbc41\"], [0.9, \"#4d9221\"], [1, \"#276419\"]], \"sequential\": [[0.0, \"#0d0887\"], [0.1111111111111111, \"#46039f\"], [0.2222222222222222, \"#7201a8\"], [0.3333333333333333, \"#9c179e\"], [0.4444444444444444, \"#bd3786\"], [0.5555555555555556, \"#d8576b\"], [0.6666666666666666, \"#ed7953\"], [0.7777777777777778, \"#fb9f3a\"], [0.8888888888888888, \"#fdca26\"], [1.0, \"#f0f921\"]], \"sequentialminus\": [[0.0, \"#0d0887\"], [0.1111111111111111, \"#46039f\"], [0.2222222222222222, \"#7201a8\"], [0.3333333333333333, \"#9c179e\"], [0.4444444444444444, \"#bd3786\"], [0.5555555555555556, \"#d8576b\"], [0.6666666666666666, \"#ed7953\"], [0.7777777777777778, \"#fb9f3a\"], [0.8888888888888888, \"#fdca26\"], [1.0, \"#f0f921\"]]}, \"colorway\": [\"#636efa\", \"#EF553B\", \"#00cc96\", \"#ab63fa\", \"#FFA15A\", \"#19d3f3\", \"#FF6692\", \"#B6E880\", \"#FF97FF\", \"#FECB52\"], \"font\": {\"color\": \"#2a3f5f\"}, \"geo\": {\"bgcolor\": \"white\", \"lakecolor\": \"white\", \"landcolor\": \"#E5ECF6\", \"showlakes\": true, \"showland\": true, \"subunitcolor\": \"white\"}, \"hoverlabel\": {\"align\": \"left\"}, \"hovermode\": \"closest\", \"mapbox\": {\"style\": \"light\"}, \"paper_bgcolor\": \"white\", \"plot_bgcolor\": \"#E5ECF6\", \"polar\": {\"angularaxis\": {\"gridcolor\": \"white\", \"linecolor\": \"white\", \"ticks\": \"\"}, \"bgcolor\": \"#E5ECF6\", \"radialaxis\": {\"gridcolor\": \"white\", \"linecolor\": \"white\", \"ticks\": \"\"}}, \"scene\": {\"xaxis\": {\"backgroundcolor\": \"#E5ECF6\", \"gridcolor\": \"white\", \"gridwidth\": 2, \"linecolor\": \"white\", \"showbackground\": true, \"ticks\": \"\", \"zerolinecolor\": \"white\"}, \"yaxis\": {\"backgroundcolor\": \"#E5ECF6\", \"gridcolor\": \"white\", \"gridwidth\": 2, \"linecolor\": \"white\", \"showbackground\": true, \"ticks\": \"\", \"zerolinecolor\": \"white\"}, \"zaxis\": {\"backgroundcolor\": \"#E5ECF6\", \"gridcolor\": \"white\", \"gridwidth\": 2, \"linecolor\": \"white\", \"showbackground\": true, \"ticks\": \"\", \"zerolinecolor\": \"white\"}}, \"shapedefaults\": {\"line\": {\"color\": \"#2a3f5f\"}}, \"ternary\": {\"aaxis\": {\"gridcolor\": \"white\", \"linecolor\": \"white\", \"ticks\": \"\"}, \"baxis\": {\"gridcolor\": \"white\", \"linecolor\": \"white\", \"ticks\": \"\"}, \"bgcolor\": \"#E5ECF6\", \"caxis\": {\"gridcolor\": \"white\", \"linecolor\": \"white\", \"ticks\": \"\"}}, \"title\": {\"x\": 0.05}, \"xaxis\": {\"automargin\": true, \"gridcolor\": \"white\", \"linecolor\": \"white\", \"ticks\": \"\", \"title\": {\"standoff\": 15}, \"zerolinecolor\": \"white\", \"zerolinewidth\": 2}, \"yaxis\": {\"automargin\": true, \"gridcolor\": \"white\", \"linecolor\": \"white\", \"ticks\": \"\", \"title\": {\"standoff\": 15}, \"zerolinecolor\": \"white\", \"zerolinewidth\": 2}}}, \"title\": {\"text\": \"Number of followers for each user\"}, \"xaxis\": {\"automargin\": true}},\n",
       "                        {\"showLink\": true, \"linkText\": \"Export to plot.ly\", \"plotlyServerURL\": \"https://plot.ly\", \"responsive\": true}\n",
       "                    ).then(function(){\n",
       "                            \n",
       "var gd = document.getElementById('55919467-a48c-48d2-8cc0-4dd242a7471a');\n",
       "var x = new MutationObserver(function (mutations, observer) {{\n",
       "        var display = window.getComputedStyle(gd).display;\n",
       "        if (!display || display === 'none') {{\n",
       "            console.log([gd, 'removed!']);\n",
       "            Plotly.purge(gd);\n",
       "            observer.disconnect();\n",
       "        }}\n",
       "}});\n",
       "\n",
       "// Listen for the removal of the full notebook cells\n",
       "var notebookContainer = gd.closest('#notebook-container');\n",
       "if (notebookContainer) {{\n",
       "    x.observe(notebookContainer, {childList: true});\n",
       "}}\n",
       "\n",
       "// Listen for the clearing of the current output cell\n",
       "var outputEl = gd.closest('.output');\n",
       "if (outputEl) {{\n",
       "    x.observe(outputEl, {childList: true});\n",
       "}}\n",
       "\n",
       "                        })\n",
       "                };\n",
       "                });\n",
       "            </script>\n",
       "        </div>"
      ]
     },
     "metadata": {},
     "output_type": "display_data"
    }
   ],
   "source": [
    "\n",
    "# plot barchart for Number of User Followers for each user, use default color\n",
    "layout1=dict(autosize=True, xaxis=dict(automargin=True),title=\"Number of followers for each user\")\n",
    "followersdf.sort_values(\"user.followers_count\", ascending=True).iplot(kind=\"bar\",x=\"user.name\", y=\"user.followers_count\", title=\"Number of Followers\", layout=layout1);\n",
    "\n",
    "'''\n",
    "# Alternative method to run under SWAN where cufflinks can't be installed \n",
    "\n",
    "# create dataframe for user.name counts\n",
    "follower_counts = followersdf.sort_values(\"user.followers_count\", ascending=True)\n",
    "# show interative barchart by Number of followers for each user\n",
    "fig = px.bar(\n",
    "    follower_counts, x=\"user.name\", y=\"user.followers_count\", \n",
    "    labels={\"user.followers_count\":\"Follower Counts\", \"user.name\":\"User\"}, \n",
    "    width=1600, height=800, title=\"Number of Followers\"\n",
    ")\n",
    "fig.update_xaxes(tickangle = 45)\n",
    "\n",
    "fig.show()\n",
    "'''"
   ]
  },
  {
   "cell_type": "markdown",
   "metadata": {},
   "source": [
    "1.2.3 Mapping visualization \n",
    "------"
   ]
  },
  {
   "cell_type": "markdown",
   "metadata": {},
   "source": [
    "**Show mapping visualization from User_lat and User_lng data.**"
   ]
  },
  {
   "cell_type": "code",
   "execution_count": 9,
   "metadata": {},
   "outputs": [
    {
     "data": {
      "text/html": [
       "<div style=\"width:100%;\"><div style=\"position:relative;width:100%;height:0;padding-bottom:60%;\"><span style=\"color:#565656\">Make this Notebook Trusted to load map: File -> Trust Notebook</span><iframe src=\"about:blank\" style=\"position:absolute;width:100%;height:100%;left:0;top:0;border:none !important;\" data-html=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 onload=\"this.contentDocument.open();this.contentDocument.write(atob(this.getAttribute('data-html')));this.contentDocument.close();\" allowfullscreen webkitallowfullscreen mozallowfullscreen></iframe></div></div>"
      ],
      "text/plain": [
       "<folium.folium.Map at 0x7f1d4ab310f0>"
      ]
     },
     "execution_count": 9,
     "metadata": {},
     "output_type": "execute_result"
    }
   ],
   "source": [
    "import folium\n",
    "# remove rows which  latitude data is NA\n",
    "loc_df = df[df['user_lat'].notna()]\n",
    "# map initialization, set map centre and zoom level\n",
    "folium_map = folium.Map(location=[26.43, 12.59], zoom_start=3, tiles=\"cartodbpositron\")\n",
    "\n",
    "# show the twtter markers on the map from loc_df dataframe\n",
    "for index, row in loc_df.iterrows():\n",
    "    # popup text header\n",
    "    popup_text = \"\"\"\n",
    "                <img src={} style=\"width:100px;height:100px;\"><br>\n",
    "                Twitter handle: {}<br> \n",
    "                User followers: {}<br>\n",
    "                User screen name: {}<br>\n",
    "                Tweet date: {}<br>\n",
    "                Retweet count: {}<br>\n",
    "                Favorite count: {}\"\"\"\n",
    "    # popup text content\n",
    "    popup_text = popup_text.format(row[\"user.profile_image_url_https\"],\n",
    "                               row[\"user.name\"],\n",
    "                               row[\"user.followers_count\"],\n",
    "                               row[\"user.screen_name\"],\n",
    "                               row[\"created_at\"],\n",
    "                               row[\"retweet_count\"],\n",
    "                               row[\"favorite_count\"])\n",
    "    # tooltip content\n",
    "    tooltip = row[\"user.name\"]\n",
    "    # draw marker on map\n",
    "    folium.Marker(location=(float(row[\"user_lat\"])+np.random.uniform(0.001, 10**(-20))-0.005,float(row[\"user_lng\"])+np.random.uniform(0.001, 10**(-20))-0.005),\n",
    "                  icon=folium.Icon(icon='twitter',prefix='fa', color='blue'),\n",
    "                  popup=popup_text,\n",
    "                  tooltip=tooltip).add_to(folium_map)\n",
    "    \n",
    "\n",
    "# show map\n",
    "folium_map\n"
   ]
  },
  {
   "cell_type": "markdown",
   "metadata": {},
   "source": [
    "1.2.4 Sentiment analysis and visualization \n",
    "------"
   ]
  },
  {
   "cell_type": "markdown",
   "metadata": {},
   "source": [
    "**Clean data text before performing sentiment analysis. Create function to analyze sentiment from cleaned text. Show barchart for the sentiment from data.**"
   ]
  },
  {
   "cell_type": "code",
   "execution_count": 10,
   "metadata": {},
   "outputs": [],
   "source": [
    "# function to clean tweet data\n",
    "def clean_tweet(tweet):\n",
    "    return ' '.join(re.sub('(@[A-Za-z0-9]+)|([^0-9A-Za-z \\t])|(\\w+:\\/\\/\\S+)', ' ', tweet).split())\n"
   ]
  },
  {
   "cell_type": "code",
   "execution_count": 11,
   "metadata": {},
   "outputs": [],
   "source": [
    "# function to return sentiment\n",
    "def get_sentiment(tweet):\n",
    "    analysis = TextBlob(tweet)\n",
    "    if analysis.sentiment.polarity > 0:\n",
    "        return 'Positive'\n",
    "    elif analysis.sentiment.polarity ==0:\n",
    "        return 'Neutral'\n",
    "    else:\n",
    "        return 'Negative'"
   ]
  },
  {
   "cell_type": "code",
   "execution_count": 12,
   "metadata": {},
   "outputs": [],
   "source": [
    "# import Regular Expression python library\n",
    "import re\n",
    "# apply clean_tweet and analyze_sentiment to twitter data\n",
    "df['clean_tweet'] = df['text'].apply(lambda x: clean_tweet(x))\n",
    "df['Sentiment'] = df['clean_tweet'].apply(lambda x: get_sentiment(x))\n"
   ]
  },
  {
   "cell_type": "code",
   "execution_count": 13,
   "metadata": {},
   "outputs": [
    {
     "name": "stdout",
     "output_type": "stream",
     "text": [
      "Original tweet:\n",
      "RT @EmilyJLB: Folks who’ve built digital editions in Wordpress: do you know of any plugins to enhance the search functionality? Or really j…\n",
      "\n",
      "Clean tweet:\n",
      "RT Folks who ve built digital editions in Wordpress do you know of any plugins to enhance the search functionality Or really j\n",
      "\n",
      "Sentiment:\n",
      "Positive\n"
     ]
    }
   ],
   "source": [
    "# check 1st tweet sentiment \n",
    "\n",
    "n=1\n",
    "print('Original tweet:\\n'+ df['text'][n])\n",
    "print()\n",
    "print('Clean tweet:\\n'+df['clean_tweet'][n])\n",
    "print()\n",
    "print('Sentiment:\\n'+df['Sentiment'][n])"
   ]
  },
  {
   "cell_type": "code",
   "execution_count": 14,
   "metadata": {},
   "outputs": [
    {
     "data": {
      "application/vnd.plotly.v1+json": {
       "config": {
        "linkText": "Export to plot.ly",
        "plotlyServerURL": "https://plot.ly",
        "showLink": true
       },
       "data": [
        {
         "marker": {
          "color": "rgba(55, 128, 191, 0.6)",
          "line": {
           "color": "rgba(55, 128, 191, 1.0)",
           "width": 1
          }
         },
         "name": "Sentiment",
         "orientation": "v",
         "text": "",
         "type": "bar",
         "x": [
          "Positive",
          "Neutral"
         ],
         "y": [
          34,
          17
         ]
        }
       ],
       "layout": {
        "autosize": true,
        "template": {
         "data": {
          "bar": [
           {
            "error_x": {
             "color": "#2a3f5f"
            },
            "error_y": {
             "color": "#2a3f5f"
            },
            "marker": {
             "line": {
              "color": "#E5ECF6",
              "width": 0.5
             }
            },
            "type": "bar"
           }
          ],
          "barpolar": [
           {
            "marker": {
             "line": {
              "color": "#E5ECF6",
              "width": 0.5
             }
            },
            "type": "barpolar"
           }
          ],
          "carpet": [
           {
            "aaxis": {
             "endlinecolor": "#2a3f5f",
             "gridcolor": "white",
             "linecolor": "white",
             "minorgridcolor": "white",
             "startlinecolor": "#2a3f5f"
            },
            "baxis": {
             "endlinecolor": "#2a3f5f",
             "gridcolor": "white",
             "linecolor": "white",
             "minorgridcolor": "white",
             "startlinecolor": "#2a3f5f"
            },
            "type": "carpet"
           }
          ],
          "choropleth": [
           {
            "colorbar": {
             "outlinewidth": 0,
             "ticks": ""
            },
            "type": "choropleth"
           }
          ],
          "contour": [
           {
            "colorbar": {
             "outlinewidth": 0,
             "ticks": ""
            },
            "colorscale": [
             [
              0,
              "#0d0887"
             ],
             [
              0.1111111111111111,
              "#46039f"
             ],
             [
              0.2222222222222222,
              "#7201a8"
             ],
             [
              0.3333333333333333,
              "#9c179e"
             ],
             [
              0.4444444444444444,
              "#bd3786"
             ],
             [
              0.5555555555555556,
              "#d8576b"
             ],
             [
              0.6666666666666666,
              "#ed7953"
             ],
             [
              0.7777777777777778,
              "#fb9f3a"
             ],
             [
              0.8888888888888888,
              "#fdca26"
             ],
             [
              1,
              "#f0f921"
             ]
            ],
            "type": "contour"
           }
          ],
          "contourcarpet": [
           {
            "colorbar": {
             "outlinewidth": 0,
             "ticks": ""
            },
            "type": "contourcarpet"
           }
          ],
          "heatmap": [
           {
            "colorbar": {
             "outlinewidth": 0,
             "ticks": ""
            },
            "colorscale": [
             [
              0,
              "#0d0887"
             ],
             [
              0.1111111111111111,
              "#46039f"
             ],
             [
              0.2222222222222222,
              "#7201a8"
             ],
             [
              0.3333333333333333,
              "#9c179e"
             ],
             [
              0.4444444444444444,
              "#bd3786"
             ],
             [
              0.5555555555555556,
              "#d8576b"
             ],
             [
              0.6666666666666666,
              "#ed7953"
             ],
             [
              0.7777777777777778,
              "#fb9f3a"
             ],
             [
              0.8888888888888888,
              "#fdca26"
             ],
             [
              1,
              "#f0f921"
             ]
            ],
            "type": "heatmap"
           }
          ],
          "heatmapgl": [
           {
            "colorbar": {
             "outlinewidth": 0,
             "ticks": ""
            },
            "colorscale": [
             [
              0,
              "#0d0887"
             ],
             [
              0.1111111111111111,
              "#46039f"
             ],
             [
              0.2222222222222222,
              "#7201a8"
             ],
             [
              0.3333333333333333,
              "#9c179e"
             ],
             [
              0.4444444444444444,
              "#bd3786"
             ],
             [
              0.5555555555555556,
              "#d8576b"
             ],
             [
              0.6666666666666666,
              "#ed7953"
             ],
             [
              0.7777777777777778,
              "#fb9f3a"
             ],
             [
              0.8888888888888888,
              "#fdca26"
             ],
             [
              1,
              "#f0f921"
             ]
            ],
            "type": "heatmapgl"
           }
          ],
          "histogram": [
           {
            "marker": {
             "colorbar": {
              "outlinewidth": 0,
              "ticks": ""
             }
            },
            "type": "histogram"
           }
          ],
          "histogram2d": [
           {
            "colorbar": {
             "outlinewidth": 0,
             "ticks": ""
            },
            "colorscale": [
             [
              0,
              "#0d0887"
             ],
             [
              0.1111111111111111,
              "#46039f"
             ],
             [
              0.2222222222222222,
              "#7201a8"
             ],
             [
              0.3333333333333333,
              "#9c179e"
             ],
             [
              0.4444444444444444,
              "#bd3786"
             ],
             [
              0.5555555555555556,
              "#d8576b"
             ],
             [
              0.6666666666666666,
              "#ed7953"
             ],
             [
              0.7777777777777778,
              "#fb9f3a"
             ],
             [
              0.8888888888888888,
              "#fdca26"
             ],
             [
              1,
              "#f0f921"
             ]
            ],
            "type": "histogram2d"
           }
          ],
          "histogram2dcontour": [
           {
            "colorbar": {
             "outlinewidth": 0,
             "ticks": ""
            },
            "colorscale": [
             [
              0,
              "#0d0887"
             ],
             [
              0.1111111111111111,
              "#46039f"
             ],
             [
              0.2222222222222222,
              "#7201a8"
             ],
             [
              0.3333333333333333,
              "#9c179e"
             ],
             [
              0.4444444444444444,
              "#bd3786"
             ],
             [
              0.5555555555555556,
              "#d8576b"
             ],
             [
              0.6666666666666666,
              "#ed7953"
             ],
             [
              0.7777777777777778,
              "#fb9f3a"
             ],
             [
              0.8888888888888888,
              "#fdca26"
             ],
             [
              1,
              "#f0f921"
             ]
            ],
            "type": "histogram2dcontour"
           }
          ],
          "mesh3d": [
           {
            "colorbar": {
             "outlinewidth": 0,
             "ticks": ""
            },
            "type": "mesh3d"
           }
          ],
          "parcoords": [
           {
            "line": {
             "colorbar": {
              "outlinewidth": 0,
              "ticks": ""
             }
            },
            "type": "parcoords"
           }
          ],
          "pie": [
           {
            "automargin": true,
            "type": "pie"
           }
          ],
          "scatter": [
           {
            "marker": {
             "colorbar": {
              "outlinewidth": 0,
              "ticks": ""
             }
            },
            "type": "scatter"
           }
          ],
          "scatter3d": [
           {
            "line": {
             "colorbar": {
              "outlinewidth": 0,
              "ticks": ""
             }
            },
            "marker": {
             "colorbar": {
              "outlinewidth": 0,
              "ticks": ""
             }
            },
            "type": "scatter3d"
           }
          ],
          "scattercarpet": [
           {
            "marker": {
             "colorbar": {
              "outlinewidth": 0,
              "ticks": ""
             }
            },
            "type": "scattercarpet"
           }
          ],
          "scattergeo": [
           {
            "marker": {
             "colorbar": {
              "outlinewidth": 0,
              "ticks": ""
             }
            },
            "type": "scattergeo"
           }
          ],
          "scattergl": [
           {
            "marker": {
             "colorbar": {
              "outlinewidth": 0,
              "ticks": ""
             }
            },
            "type": "scattergl"
           }
          ],
          "scattermapbox": [
           {
            "marker": {
             "colorbar": {
              "outlinewidth": 0,
              "ticks": ""
             }
            },
            "type": "scattermapbox"
           }
          ],
          "scatterpolar": [
           {
            "marker": {
             "colorbar": {
              "outlinewidth": 0,
              "ticks": ""
             }
            },
            "type": "scatterpolar"
           }
          ],
          "scatterpolargl": [
           {
            "marker": {
             "colorbar": {
              "outlinewidth": 0,
              "ticks": ""
             }
            },
            "type": "scatterpolargl"
           }
          ],
          "scatterternary": [
           {
            "marker": {
             "colorbar": {
              "outlinewidth": 0,
              "ticks": ""
             }
            },
            "type": "scatterternary"
           }
          ],
          "surface": [
           {
            "colorbar": {
             "outlinewidth": 0,
             "ticks": ""
            },
            "colorscale": [
             [
              0,
              "#0d0887"
             ],
             [
              0.1111111111111111,
              "#46039f"
             ],
             [
              0.2222222222222222,
              "#7201a8"
             ],
             [
              0.3333333333333333,
              "#9c179e"
             ],
             [
              0.4444444444444444,
              "#bd3786"
             ],
             [
              0.5555555555555556,
              "#d8576b"
             ],
             [
              0.6666666666666666,
              "#ed7953"
             ],
             [
              0.7777777777777778,
              "#fb9f3a"
             ],
             [
              0.8888888888888888,
              "#fdca26"
             ],
             [
              1,
              "#f0f921"
             ]
            ],
            "type": "surface"
           }
          ],
          "table": [
           {
            "cells": {
             "fill": {
              "color": "#EBF0F8"
             },
             "line": {
              "color": "white"
             }
            },
            "header": {
             "fill": {
              "color": "#C8D4E3"
             },
             "line": {
              "color": "white"
             }
            },
            "type": "table"
           }
          ]
         },
         "layout": {
          "annotationdefaults": {
           "arrowcolor": "#2a3f5f",
           "arrowhead": 0,
           "arrowwidth": 1
          },
          "coloraxis": {
           "colorbar": {
            "outlinewidth": 0,
            "ticks": ""
           }
          },
          "colorscale": {
           "diverging": [
            [
             0,
             "#8e0152"
            ],
            [
             0.1,
             "#c51b7d"
            ],
            [
             0.2,
             "#de77ae"
            ],
            [
             0.3,
             "#f1b6da"
            ],
            [
             0.4,
             "#fde0ef"
            ],
            [
             0.5,
             "#f7f7f7"
            ],
            [
             0.6,
             "#e6f5d0"
            ],
            [
             0.7,
             "#b8e186"
            ],
            [
             0.8,
             "#7fbc41"
            ],
            [
             0.9,
             "#4d9221"
            ],
            [
             1,
             "#276419"
            ]
           ],
           "sequential": [
            [
             0,
             "#0d0887"
            ],
            [
             0.1111111111111111,
             "#46039f"
            ],
            [
             0.2222222222222222,
             "#7201a8"
            ],
            [
             0.3333333333333333,
             "#9c179e"
            ],
            [
             0.4444444444444444,
             "#bd3786"
            ],
            [
             0.5555555555555556,
             "#d8576b"
            ],
            [
             0.6666666666666666,
             "#ed7953"
            ],
            [
             0.7777777777777778,
             "#fb9f3a"
            ],
            [
             0.8888888888888888,
             "#fdca26"
            ],
            [
             1,
             "#f0f921"
            ]
           ],
           "sequentialminus": [
            [
             0,
             "#0d0887"
            ],
            [
             0.1111111111111111,
             "#46039f"
            ],
            [
             0.2222222222222222,
             "#7201a8"
            ],
            [
             0.3333333333333333,
             "#9c179e"
            ],
            [
             0.4444444444444444,
             "#bd3786"
            ],
            [
             0.5555555555555556,
             "#d8576b"
            ],
            [
             0.6666666666666666,
             "#ed7953"
            ],
            [
             0.7777777777777778,
             "#fb9f3a"
            ],
            [
             0.8888888888888888,
             "#fdca26"
            ],
            [
             1,
             "#f0f921"
            ]
           ]
          },
          "colorway": [
           "#636efa",
           "#EF553B",
           "#00cc96",
           "#ab63fa",
           "#FFA15A",
           "#19d3f3",
           "#FF6692",
           "#B6E880",
           "#FF97FF",
           "#FECB52"
          ],
          "font": {
           "color": "#2a3f5f"
          },
          "geo": {
           "bgcolor": "white",
           "lakecolor": "white",
           "landcolor": "#E5ECF6",
           "showlakes": true,
           "showland": true,
           "subunitcolor": "white"
          },
          "hoverlabel": {
           "align": "left"
          },
          "hovermode": "closest",
          "mapbox": {
           "style": "light"
          },
          "paper_bgcolor": "white",
          "plot_bgcolor": "#E5ECF6",
          "polar": {
           "angularaxis": {
            "gridcolor": "white",
            "linecolor": "white",
            "ticks": ""
           },
           "bgcolor": "#E5ECF6",
           "radialaxis": {
            "gridcolor": "white",
            "linecolor": "white",
            "ticks": ""
           }
          },
          "scene": {
           "xaxis": {
            "backgroundcolor": "#E5ECF6",
            "gridcolor": "white",
            "gridwidth": 2,
            "linecolor": "white",
            "showbackground": true,
            "ticks": "",
            "zerolinecolor": "white"
           },
           "yaxis": {
            "backgroundcolor": "#E5ECF6",
            "gridcolor": "white",
            "gridwidth": 2,
            "linecolor": "white",
            "showbackground": true,
            "ticks": "",
            "zerolinecolor": "white"
           },
           "zaxis": {
            "backgroundcolor": "#E5ECF6",
            "gridcolor": "white",
            "gridwidth": 2,
            "linecolor": "white",
            "showbackground": true,
            "ticks": "",
            "zerolinecolor": "white"
           }
          },
          "shapedefaults": {
           "line": {
            "color": "#2a3f5f"
           }
          },
          "ternary": {
           "aaxis": {
            "gridcolor": "white",
            "linecolor": "white",
            "ticks": ""
           },
           "baxis": {
            "gridcolor": "white",
            "linecolor": "white",
            "ticks": ""
           },
           "bgcolor": "#E5ECF6",
           "caxis": {
            "gridcolor": "white",
            "linecolor": "white",
            "ticks": ""
           }
          },
          "title": {
           "x": 0.05
          },
          "xaxis": {
           "automargin": true,
           "gridcolor": "white",
           "linecolor": "white",
           "ticks": "",
           "title": {
            "standoff": 15
           },
           "zerolinecolor": "white",
           "zerolinewidth": 2
          },
          "yaxis": {
           "automargin": true,
           "gridcolor": "white",
           "linecolor": "white",
           "ticks": "",
           "title": {
            "standoff": 15
           },
           "zerolinecolor": "white",
           "zerolinewidth": 2
          }
         }
        },
        "title": {
         "text": "Overall Sentiment Distribution"
        },
        "xaxis": {
         "automargin": true,
         "autorange": true,
         "range": [
          -0.5,
          1.5
         ],
         "title": {
          "text": "Sentiment"
         },
         "type": "category"
        },
        "yaxis": {
         "automargin": true,
         "autorange": true,
         "range": [
          0,
          35.78947368421053
         ],
         "title": {
          "text": "Count"
         },
         "type": "linear"
        }
       }
      },
      "image/png": "[encoded data removed]",
      "text/html": [
       "<div>\n",
       "        \n",
       "        \n",
       "            <div id=\"a559a276-6d6c-4b89-a73d-3d3ff2364e59\" class=\"plotly-graph-div\" style=\"height:525px; width:100%;\"></div>\n",
       "            <script type=\"text/javascript\">\n",
       "                require([\"plotly\"], function(Plotly) {\n",
       "                    window.PLOTLYENV=window.PLOTLYENV || {};\n",
       "                    window.PLOTLYENV.BASE_URL='https://plot.ly';\n",
       "                    \n",
       "                if (document.getElementById(\"a559a276-6d6c-4b89-a73d-3d3ff2364e59\")) {\n",
       "                    Plotly.newPlot(\n",
       "                        'a559a276-6d6c-4b89-a73d-3d3ff2364e59',\n",
       "                        [{\"marker\": {\"color\": \"rgba(55, 128, 191, 0.6)\", \"line\": {\"color\": \"rgba(55, 128, 191, 1.0)\", \"width\": 1}}, \"name\": \"Sentiment\", \"orientation\": \"v\", \"text\": \"\", \"type\": \"bar\", \"x\": [\"Positive\", \"Neutral\"], \"y\": [34, 17]}],\n",
       "                        {\"autosize\": true, \"template\": {\"data\": {\"bar\": [{\"error_x\": {\"color\": \"#2a3f5f\"}, \"error_y\": {\"color\": \"#2a3f5f\"}, \"marker\": {\"line\": {\"color\": \"#E5ECF6\", \"width\": 0.5}}, \"type\": \"bar\"}], \"barpolar\": [{\"marker\": {\"line\": {\"color\": \"#E5ECF6\", \"width\": 0.5}}, \"type\": \"barpolar\"}], \"carpet\": [{\"aaxis\": {\"endlinecolor\": \"#2a3f5f\", \"gridcolor\": \"white\", \"linecolor\": \"white\", \"minorgridcolor\": \"white\", \"startlinecolor\": \"#2a3f5f\"}, \"baxis\": {\"endlinecolor\": \"#2a3f5f\", \"gridcolor\": \"white\", \"linecolor\": \"white\", \"minorgridcolor\": \"white\", \"startlinecolor\": \"#2a3f5f\"}, \"type\": \"carpet\"}], \"choropleth\": [{\"colorbar\": {\"outlinewidth\": 0, \"ticks\": \"\"}, \"type\": \"choropleth\"}], \"contour\": [{\"colorbar\": {\"outlinewidth\": 0, \"ticks\": \"\"}, \"colorscale\": [[0.0, \"#0d0887\"], [0.1111111111111111, \"#46039f\"], [0.2222222222222222, \"#7201a8\"], [0.3333333333333333, \"#9c179e\"], [0.4444444444444444, \"#bd3786\"], [0.5555555555555556, \"#d8576b\"], [0.6666666666666666, \"#ed7953\"], [0.7777777777777778, \"#fb9f3a\"], [0.8888888888888888, \"#fdca26\"], [1.0, \"#f0f921\"]], \"type\": \"contour\"}], \"contourcarpet\": [{\"colorbar\": {\"outlinewidth\": 0, \"ticks\": \"\"}, \"type\": \"contourcarpet\"}], \"heatmap\": [{\"colorbar\": {\"outlinewidth\": 0, \"ticks\": \"\"}, \"colorscale\": [[0.0, \"#0d0887\"], [0.1111111111111111, \"#46039f\"], [0.2222222222222222, \"#7201a8\"], [0.3333333333333333, \"#9c179e\"], [0.4444444444444444, \"#bd3786\"], [0.5555555555555556, \"#d8576b\"], [0.6666666666666666, \"#ed7953\"], [0.7777777777777778, \"#fb9f3a\"], [0.8888888888888888, \"#fdca26\"], [1.0, \"#f0f921\"]], \"type\": \"heatmap\"}], \"heatmapgl\": [{\"colorbar\": {\"outlinewidth\": 0, \"ticks\": \"\"}, \"colorscale\": [[0.0, \"#0d0887\"], [0.1111111111111111, \"#46039f\"], [0.2222222222222222, \"#7201a8\"], [0.3333333333333333, \"#9c179e\"], [0.4444444444444444, \"#bd3786\"], [0.5555555555555556, \"#d8576b\"], [0.6666666666666666, \"#ed7953\"], [0.7777777777777778, \"#fb9f3a\"], [0.8888888888888888, \"#fdca26\"], [1.0, \"#f0f921\"]], \"type\": \"heatmapgl\"}], \"histogram\": [{\"marker\": {\"colorbar\": {\"outlinewidth\": 0, \"ticks\": \"\"}}, \"type\": \"histogram\"}], \"histogram2d\": [{\"colorbar\": {\"outlinewidth\": 0, \"ticks\": \"\"}, \"colorscale\": [[0.0, \"#0d0887\"], [0.1111111111111111, \"#46039f\"], [0.2222222222222222, \"#7201a8\"], [0.3333333333333333, \"#9c179e\"], [0.4444444444444444, \"#bd3786\"], [0.5555555555555556, \"#d8576b\"], [0.6666666666666666, \"#ed7953\"], [0.7777777777777778, \"#fb9f3a\"], [0.8888888888888888, \"#fdca26\"], [1.0, \"#f0f921\"]], \"type\": \"histogram2d\"}], \"histogram2dcontour\": [{\"colorbar\": {\"outlinewidth\": 0, \"ticks\": \"\"}, \"colorscale\": [[0.0, \"#0d0887\"], [0.1111111111111111, \"#46039f\"], [0.2222222222222222, \"#7201a8\"], [0.3333333333333333, \"#9c179e\"], [0.4444444444444444, \"#bd3786\"], [0.5555555555555556, \"#d8576b\"], [0.6666666666666666, \"#ed7953\"], [0.7777777777777778, \"#fb9f3a\"], [0.8888888888888888, \"#fdca26\"], [1.0, \"#f0f921\"]], \"type\": \"histogram2dcontour\"}], \"mesh3d\": [{\"colorbar\": {\"outlinewidth\": 0, \"ticks\": \"\"}, \"type\": \"mesh3d\"}], \"parcoords\": [{\"line\": {\"colorbar\": {\"outlinewidth\": 0, \"ticks\": \"\"}}, \"type\": \"parcoords\"}], \"pie\": [{\"automargin\": true, \"type\": \"pie\"}], \"scatter\": [{\"marker\": {\"colorbar\": {\"outlinewidth\": 0, \"ticks\": \"\"}}, \"type\": \"scatter\"}], \"scatter3d\": [{\"line\": {\"colorbar\": {\"outlinewidth\": 0, \"ticks\": \"\"}}, \"marker\": {\"colorbar\": {\"outlinewidth\": 0, \"ticks\": \"\"}}, \"type\": \"scatter3d\"}], \"scattercarpet\": [{\"marker\": {\"colorbar\": {\"outlinewidth\": 0, \"ticks\": \"\"}}, \"type\": \"scattercarpet\"}], \"scattergeo\": [{\"marker\": {\"colorbar\": {\"outlinewidth\": 0, \"ticks\": \"\"}}, \"type\": \"scattergeo\"}], \"scattergl\": [{\"marker\": {\"colorbar\": {\"outlinewidth\": 0, \"ticks\": \"\"}}, \"type\": \"scattergl\"}], \"scattermapbox\": [{\"marker\": {\"colorbar\": {\"outlinewidth\": 0, \"ticks\": \"\"}}, \"type\": \"scattermapbox\"}], \"scatterpolar\": [{\"marker\": {\"colorbar\": {\"outlinewidth\": 0, \"ticks\": \"\"}}, \"type\": \"scatterpolar\"}], \"scatterpolargl\": [{\"marker\": {\"colorbar\": {\"outlinewidth\": 0, \"ticks\": \"\"}}, \"type\": \"scatterpolargl\"}], \"scatterternary\": [{\"marker\": {\"colorbar\": {\"outlinewidth\": 0, \"ticks\": \"\"}}, \"type\": \"scatterternary\"}], \"surface\": [{\"colorbar\": {\"outlinewidth\": 0, \"ticks\": \"\"}, \"colorscale\": [[0.0, \"#0d0887\"], [0.1111111111111111, \"#46039f\"], [0.2222222222222222, \"#7201a8\"], [0.3333333333333333, \"#9c179e\"], [0.4444444444444444, \"#bd3786\"], [0.5555555555555556, \"#d8576b\"], [0.6666666666666666, \"#ed7953\"], [0.7777777777777778, \"#fb9f3a\"], [0.8888888888888888, \"#fdca26\"], [1.0, \"#f0f921\"]], \"type\": \"surface\"}], \"table\": [{\"cells\": {\"fill\": {\"color\": \"#EBF0F8\"}, \"line\": {\"color\": \"white\"}}, \"header\": {\"fill\": {\"color\": \"#C8D4E3\"}, \"line\": {\"color\": \"white\"}}, \"type\": \"table\"}]}, \"layout\": {\"annotationdefaults\": {\"arrowcolor\": \"#2a3f5f\", \"arrowhead\": 0, \"arrowwidth\": 1}, \"coloraxis\": {\"colorbar\": {\"outlinewidth\": 0, \"ticks\": \"\"}}, \"colorscale\": {\"diverging\": [[0, \"#8e0152\"], [0.1, \"#c51b7d\"], [0.2, \"#de77ae\"], [0.3, \"#f1b6da\"], [0.4, \"#fde0ef\"], [0.5, \"#f7f7f7\"], [0.6, \"#e6f5d0\"], [0.7, \"#b8e186\"], [0.8, \"#7fbc41\"], [0.9, \"#4d9221\"], [1, \"#276419\"]], \"sequential\": [[0.0, \"#0d0887\"], [0.1111111111111111, \"#46039f\"], [0.2222222222222222, \"#7201a8\"], [0.3333333333333333, \"#9c179e\"], [0.4444444444444444, \"#bd3786\"], [0.5555555555555556, \"#d8576b\"], [0.6666666666666666, \"#ed7953\"], [0.7777777777777778, \"#fb9f3a\"], [0.8888888888888888, \"#fdca26\"], [1.0, \"#f0f921\"]], \"sequentialminus\": [[0.0, \"#0d0887\"], [0.1111111111111111, \"#46039f\"], [0.2222222222222222, \"#7201a8\"], [0.3333333333333333, \"#9c179e\"], [0.4444444444444444, \"#bd3786\"], [0.5555555555555556, \"#d8576b\"], [0.6666666666666666, \"#ed7953\"], [0.7777777777777778, \"#fb9f3a\"], [0.8888888888888888, \"#fdca26\"], [1.0, \"#f0f921\"]]}, \"colorway\": [\"#636efa\", \"#EF553B\", \"#00cc96\", \"#ab63fa\", \"#FFA15A\", \"#19d3f3\", \"#FF6692\", \"#B6E880\", \"#FF97FF\", \"#FECB52\"], \"font\": {\"color\": \"#2a3f5f\"}, \"geo\": {\"bgcolor\": \"white\", \"lakecolor\": \"white\", \"landcolor\": \"#E5ECF6\", \"showlakes\": true, \"showland\": true, \"subunitcolor\": \"white\"}, \"hoverlabel\": {\"align\": \"left\"}, \"hovermode\": \"closest\", \"mapbox\": {\"style\": \"light\"}, \"paper_bgcolor\": \"white\", \"plot_bgcolor\": \"#E5ECF6\", \"polar\": {\"angularaxis\": {\"gridcolor\": \"white\", \"linecolor\": \"white\", \"ticks\": \"\"}, \"bgcolor\": \"#E5ECF6\", \"radialaxis\": {\"gridcolor\": \"white\", \"linecolor\": \"white\", \"ticks\": \"\"}}, \"scene\": {\"xaxis\": {\"backgroundcolor\": \"#E5ECF6\", \"gridcolor\": \"white\", \"gridwidth\": 2, \"linecolor\": \"white\", \"showbackground\": true, \"ticks\": \"\", \"zerolinecolor\": \"white\"}, \"yaxis\": {\"backgroundcolor\": \"#E5ECF6\", \"gridcolor\": \"white\", \"gridwidth\": 2, \"linecolor\": \"white\", \"showbackground\": true, \"ticks\": \"\", \"zerolinecolor\": \"white\"}, \"zaxis\": {\"backgroundcolor\": \"#E5ECF6\", \"gridcolor\": \"white\", \"gridwidth\": 2, \"linecolor\": \"white\", \"showbackground\": true, \"ticks\": \"\", \"zerolinecolor\": \"white\"}}, \"shapedefaults\": {\"line\": {\"color\": \"#2a3f5f\"}}, \"ternary\": {\"aaxis\": {\"gridcolor\": \"white\", \"linecolor\": \"white\", \"ticks\": \"\"}, \"baxis\": {\"gridcolor\": \"white\", \"linecolor\": \"white\", \"ticks\": \"\"}, \"bgcolor\": \"#E5ECF6\", \"caxis\": {\"gridcolor\": \"white\", \"linecolor\": \"white\", \"ticks\": \"\"}}, \"title\": {\"x\": 0.05}, \"xaxis\": {\"automargin\": true, \"gridcolor\": \"white\", \"linecolor\": \"white\", \"ticks\": \"\", \"title\": {\"standoff\": 15}, \"zerolinecolor\": \"white\", \"zerolinewidth\": 2}, \"yaxis\": {\"automargin\": true, \"gridcolor\": \"white\", \"linecolor\": \"white\", \"ticks\": \"\", \"title\": {\"standoff\": 15}, \"zerolinecolor\": \"white\", \"zerolinewidth\": 2}}}, \"title\": {\"text\": \"Overall Sentiment Distribution\"}, \"xaxis\": {\"automargin\": true, \"title\": {\"text\": \"Sentiment\"}}, \"yaxis\": {\"automargin\": true, \"title\": {\"text\": \"Count\"}}},\n",
       "                        {\"showLink\": true, \"linkText\": \"Export to plot.ly\", \"plotlyServerURL\": \"https://plot.ly\", \"responsive\": true}\n",
       "                    ).then(function(){\n",
       "                            \n",
       "var gd = document.getElementById('a559a276-6d6c-4b89-a73d-3d3ff2364e59');\n",
       "var x = new MutationObserver(function (mutations, observer) {{\n",
       "        var display = window.getComputedStyle(gd).display;\n",
       "        if (!display || display === 'none') {{\n",
       "            console.log([gd, 'removed!']);\n",
       "            Plotly.purge(gd);\n",
       "            observer.disconnect();\n",
       "        }}\n",
       "}});\n",
       "\n",
       "// Listen for the removal of the full notebook cells\n",
       "var notebookContainer = gd.closest('#notebook-container');\n",
       "if (notebookContainer) {{\n",
       "    x.observe(notebookContainer, {childList: true});\n",
       "}}\n",
       "\n",
       "// Listen for the clearing of the current output cell\n",
       "var outputEl = gd.closest('.output');\n",
       "if (outputEl) {{\n",
       "    x.observe(outputEl, {childList: true});\n",
       "}}\n",
       "\n",
       "                        })\n",
       "                };\n",
       "                });\n",
       "            </script>\n",
       "        </div>"
      ]
     },
     "metadata": {},
     "output_type": "display_data"
    }
   ],
   "source": [
    "# show barchart of overall tweet sentiment\n",
    "layout1=dict(autosize=True, yaxis=dict(automargin=True, title=\"Count\"), xaxis=dict(automargin=True, title=\"Sentiment\"),title=\"Overall Sentiment Distribution\")\n",
    "df['Sentiment'].value_counts().iplot(kind='bar', title='Overall Sentiment Distribution', color=\"blue\", layout=layout1)\n",
    "\n",
    "'''\n",
    "# Alternative method to run under SWAN where cufflinks can't be installed \n",
    "# create dataframe for Sentiment counts\n",
    "sentiment_counts = df['Sentiment'].value_counts(ascending=True).to_frame(\"Count\").reset_index()\n",
    "# show interative barchart of overall tweet sentiment\n",
    "fig = px.bar(\n",
    "    sentiment_counts, x=\"index\", y=\"Count\", \n",
    "    labels=dict(Count=\"Counts\", index=\"Sentiment\"), \n",
    "    width=1600, height=800, title=\"Overall Sentiment Distribution\"\n",
    ")\n",
    "fig.update_xaxes(tickangle = 45)\n",
    "\n",
    "#fig.update_traces(marker_color='green')\n",
    "\n",
    "fig.show()\n",
    "'''\n"
   ]
  },
  {
   "cell_type": "code",
   "execution_count": 15,
   "metadata": {},
   "outputs": [
    {
     "data": {
      "application/vnd.plotly.v1+json": {
       "config": {
        "linkText": "Export to plot.ly",
        "plotlyServerURL": "https://plot.ly",
        "showLink": true
       },
       "data": [
        {
         "marker": {
          "color": "rgba(255, 153, 51, 0.6)",
          "line": {
           "color": "rgba(255, 153, 51, 1.0)",
           "width": 1
          }
         },
         "name": "Sentiment",
         "orientation": "v",
         "text": "",
         "type": "bar",
         "x": [
          "Positive",
          "Neutral"
         ],
         "y": [
          23,
          8
         ]
        }
       ],
       "layout": {
        "autosize": true,
        "template": {
         "data": {
          "bar": [
           {
            "error_x": {
             "color": "#2a3f5f"
            },
            "error_y": {
             "color": "#2a3f5f"
            },
            "marker": {
             "line": {
              "color": "#E5ECF6",
              "width": 0.5
             }
            },
            "type": "bar"
           }
          ],
          "barpolar": [
           {
            "marker": {
             "line": {
              "color": "#E5ECF6",
              "width": 0.5
             }
            },
            "type": "barpolar"
           }
          ],
          "carpet": [
           {
            "aaxis": {
             "endlinecolor": "#2a3f5f",
             "gridcolor": "white",
             "linecolor": "white",
             "minorgridcolor": "white",
             "startlinecolor": "#2a3f5f"
            },
            "baxis": {
             "endlinecolor": "#2a3f5f",
             "gridcolor": "white",
             "linecolor": "white",
             "minorgridcolor": "white",
             "startlinecolor": "#2a3f5f"
            },
            "type": "carpet"
           }
          ],
          "choropleth": [
           {
            "colorbar": {
             "outlinewidth": 0,
             "ticks": ""
            },
            "type": "choropleth"
           }
          ],
          "contour": [
           {
            "colorbar": {
             "outlinewidth": 0,
             "ticks": ""
            },
            "colorscale": [
             [
              0,
              "#0d0887"
             ],
             [
              0.1111111111111111,
              "#46039f"
             ],
             [
              0.2222222222222222,
              "#7201a8"
             ],
             [
              0.3333333333333333,
              "#9c179e"
             ],
             [
              0.4444444444444444,
              "#bd3786"
             ],
             [
              0.5555555555555556,
              "#d8576b"
             ],
             [
              0.6666666666666666,
              "#ed7953"
             ],
             [
              0.7777777777777778,
              "#fb9f3a"
             ],
             [
              0.8888888888888888,
              "#fdca26"
             ],
             [
              1,
              "#f0f921"
             ]
            ],
            "type": "contour"
           }
          ],
          "contourcarpet": [
           {
            "colorbar": {
             "outlinewidth": 0,
             "ticks": ""
            },
            "type": "contourcarpet"
           }
          ],
          "heatmap": [
           {
            "colorbar": {
             "outlinewidth": 0,
             "ticks": ""
            },
            "colorscale": [
             [
              0,
              "#0d0887"
             ],
             [
              0.1111111111111111,
              "#46039f"
             ],
             [
              0.2222222222222222,
              "#7201a8"
             ],
             [
              0.3333333333333333,
              "#9c179e"
             ],
             [
              0.4444444444444444,
              "#bd3786"
             ],
             [
              0.5555555555555556,
              "#d8576b"
             ],
             [
              0.6666666666666666,
              "#ed7953"
             ],
             [
              0.7777777777777778,
              "#fb9f3a"
             ],
             [
              0.8888888888888888,
              "#fdca26"
             ],
             [
              1,
              "#f0f921"
             ]
            ],
            "type": "heatmap"
           }
          ],
          "heatmapgl": [
           {
            "colorbar": {
             "outlinewidth": 0,
             "ticks": ""
            },
            "colorscale": [
             [
              0,
              "#0d0887"
             ],
             [
              0.1111111111111111,
              "#46039f"
             ],
             [
              0.2222222222222222,
              "#7201a8"
             ],
             [
              0.3333333333333333,
              "#9c179e"
             ],
             [
              0.4444444444444444,
              "#bd3786"
             ],
             [
              0.5555555555555556,
              "#d8576b"
             ],
             [
              0.6666666666666666,
              "#ed7953"
             ],
             [
              0.7777777777777778,
              "#fb9f3a"
             ],
             [
              0.8888888888888888,
              "#fdca26"
             ],
             [
              1,
              "#f0f921"
             ]
            ],
            "type": "heatmapgl"
           }
          ],
          "histogram": [
           {
            "marker": {
             "colorbar": {
              "outlinewidth": 0,
              "ticks": ""
             }
            },
            "type": "histogram"
           }
          ],
          "histogram2d": [
           {
            "colorbar": {
             "outlinewidth": 0,
             "ticks": ""
            },
            "colorscale": [
             [
              0,
              "#0d0887"
             ],
             [
              0.1111111111111111,
              "#46039f"
             ],
             [
              0.2222222222222222,
              "#7201a8"
             ],
             [
              0.3333333333333333,
              "#9c179e"
             ],
             [
              0.4444444444444444,
              "#bd3786"
             ],
             [
              0.5555555555555556,
              "#d8576b"
             ],
             [
              0.6666666666666666,
              "#ed7953"
             ],
             [
              0.7777777777777778,
              "#fb9f3a"
             ],
             [
              0.8888888888888888,
              "#fdca26"
             ],
             [
              1,
              "#f0f921"
             ]
            ],
            "type": "histogram2d"
           }
          ],
          "histogram2dcontour": [
           {
            "colorbar": {
             "outlinewidth": 0,
             "ticks": ""
            },
            "colorscale": [
             [
              0,
              "#0d0887"
             ],
             [
              0.1111111111111111,
              "#46039f"
             ],
             [
              0.2222222222222222,
              "#7201a8"
             ],
             [
              0.3333333333333333,
              "#9c179e"
             ],
             [
              0.4444444444444444,
              "#bd3786"
             ],
             [
              0.5555555555555556,
              "#d8576b"
             ],
             [
              0.6666666666666666,
              "#ed7953"
             ],
             [
              0.7777777777777778,
              "#fb9f3a"
             ],
             [
              0.8888888888888888,
              "#fdca26"
             ],
             [
              1,
              "#f0f921"
             ]
            ],
            "type": "histogram2dcontour"
           }
          ],
          "mesh3d": [
           {
            "colorbar": {
             "outlinewidth": 0,
             "ticks": ""
            },
            "type": "mesh3d"
           }
          ],
          "parcoords": [
           {
            "line": {
             "colorbar": {
              "outlinewidth": 0,
              "ticks": ""
             }
            },
            "type": "parcoords"
           }
          ],
          "pie": [
           {
            "automargin": true,
            "type": "pie"
           }
          ],
          "scatter": [
           {
            "marker": {
             "colorbar": {
              "outlinewidth": 0,
              "ticks": ""
             }
            },
            "type": "scatter"
           }
          ],
          "scatter3d": [
           {
            "line": {
             "colorbar": {
              "outlinewidth": 0,
              "ticks": ""
             }
            },
            "marker": {
             "colorbar": {
              "outlinewidth": 0,
              "ticks": ""
             }
            },
            "type": "scatter3d"
           }
          ],
          "scattercarpet": [
           {
            "marker": {
             "colorbar": {
              "outlinewidth": 0,
              "ticks": ""
             }
            },
            "type": "scattercarpet"
           }
          ],
          "scattergeo": [
           {
            "marker": {
             "colorbar": {
              "outlinewidth": 0,
              "ticks": ""
             }
            },
            "type": "scattergeo"
           }
          ],
          "scattergl": [
           {
            "marker": {
             "colorbar": {
              "outlinewidth": 0,
              "ticks": ""
             }
            },
            "type": "scattergl"
           }
          ],
          "scattermapbox": [
           {
            "marker": {
             "colorbar": {
              "outlinewidth": 0,
              "ticks": ""
             }
            },
            "type": "scattermapbox"
           }
          ],
          "scatterpolar": [
           {
            "marker": {
             "colorbar": {
              "outlinewidth": 0,
              "ticks": ""
             }
            },
            "type": "scatterpolar"
           }
          ],
          "scatterpolargl": [
           {
            "marker": {
             "colorbar": {
              "outlinewidth": 0,
              "ticks": ""
             }
            },
            "type": "scatterpolargl"
           }
          ],
          "scatterternary": [
           {
            "marker": {
             "colorbar": {
              "outlinewidth": 0,
              "ticks": ""
             }
            },
            "type": "scatterternary"
           }
          ],
          "surface": [
           {
            "colorbar": {
             "outlinewidth": 0,
             "ticks": ""
            },
            "colorscale": [
             [
              0,
              "#0d0887"
             ],
             [
              0.1111111111111111,
              "#46039f"
             ],
             [
              0.2222222222222222,
              "#7201a8"
             ],
             [
              0.3333333333333333,
              "#9c179e"
             ],
             [
              0.4444444444444444,
              "#bd3786"
             ],
             [
              0.5555555555555556,
              "#d8576b"
             ],
             [
              0.6666666666666666,
              "#ed7953"
             ],
             [
              0.7777777777777778,
              "#fb9f3a"
             ],
             [
              0.8888888888888888,
              "#fdca26"
             ],
             [
              1,
              "#f0f921"
             ]
            ],
            "type": "surface"
           }
          ],
          "table": [
           {
            "cells": {
             "fill": {
              "color": "#EBF0F8"
             },
             "line": {
              "color": "white"
             }
            },
            "header": {
             "fill": {
              "color": "#C8D4E3"
             },
             "line": {
              "color": "white"
             }
            },
            "type": "table"
           }
          ]
         },
         "layout": {
          "annotationdefaults": {
           "arrowcolor": "#2a3f5f",
           "arrowhead": 0,
           "arrowwidth": 1
          },
          "coloraxis": {
           "colorbar": {
            "outlinewidth": 0,
            "ticks": ""
           }
          },
          "colorscale": {
           "diverging": [
            [
             0,
             "#8e0152"
            ],
            [
             0.1,
             "#c51b7d"
            ],
            [
             0.2,
             "#de77ae"
            ],
            [
             0.3,
             "#f1b6da"
            ],
            [
             0.4,
             "#fde0ef"
            ],
            [
             0.5,
             "#f7f7f7"
            ],
            [
             0.6,
             "#e6f5d0"
            ],
            [
             0.7,
             "#b8e186"
            ],
            [
             0.8,
             "#7fbc41"
            ],
            [
             0.9,
             "#4d9221"
            ],
            [
             1,
             "#276419"
            ]
           ],
           "sequential": [
            [
             0,
             "#0d0887"
            ],
            [
             0.1111111111111111,
             "#46039f"
            ],
            [
             0.2222222222222222,
             "#7201a8"
            ],
            [
             0.3333333333333333,
             "#9c179e"
            ],
            [
             0.4444444444444444,
             "#bd3786"
            ],
            [
             0.5555555555555556,
             "#d8576b"
            ],
            [
             0.6666666666666666,
             "#ed7953"
            ],
            [
             0.7777777777777778,
             "#fb9f3a"
            ],
            [
             0.8888888888888888,
             "#fdca26"
            ],
            [
             1,
             "#f0f921"
            ]
           ],
           "sequentialminus": [
            [
             0,
             "#0d0887"
            ],
            [
             0.1111111111111111,
             "#46039f"
            ],
            [
             0.2222222222222222,
             "#7201a8"
            ],
            [
             0.3333333333333333,
             "#9c179e"
            ],
            [
             0.4444444444444444,
             "#bd3786"
            ],
            [
             0.5555555555555556,
             "#d8576b"
            ],
            [
             0.6666666666666666,
             "#ed7953"
            ],
            [
             0.7777777777777778,
             "#fb9f3a"
            ],
            [
             0.8888888888888888,
             "#fdca26"
            ],
            [
             1,
             "#f0f921"
            ]
           ]
          },
          "colorway": [
           "#636efa",
           "#EF553B",
           "#00cc96",
           "#ab63fa",
           "#FFA15A",
           "#19d3f3",
           "#FF6692",
           "#B6E880",
           "#FF97FF",
           "#FECB52"
          ],
          "font": {
           "color": "#2a3f5f"
          },
          "geo": {
           "bgcolor": "white",
           "lakecolor": "white",
           "landcolor": "#E5ECF6",
           "showlakes": true,
           "showland": true,
           "subunitcolor": "white"
          },
          "hoverlabel": {
           "align": "left"
          },
          "hovermode": "closest",
          "mapbox": {
           "style": "light"
          },
          "paper_bgcolor": "white",
          "plot_bgcolor": "#E5ECF6",
          "polar": {
           "angularaxis": {
            "gridcolor": "white",
            "linecolor": "white",
            "ticks": ""
           },
           "bgcolor": "#E5ECF6",
           "radialaxis": {
            "gridcolor": "white",
            "linecolor": "white",
            "ticks": ""
           }
          },
          "scene": {
           "xaxis": {
            "backgroundcolor": "#E5ECF6",
            "gridcolor": "white",
            "gridwidth": 2,
            "linecolor": "white",
            "showbackground": true,
            "ticks": "",
            "zerolinecolor": "white"
           },
           "yaxis": {
            "backgroundcolor": "#E5ECF6",
            "gridcolor": "white",
            "gridwidth": 2,
            "linecolor": "white",
            "showbackground": true,
            "ticks": "",
            "zerolinecolor": "white"
           },
           "zaxis": {
            "backgroundcolor": "#E5ECF6",
            "gridcolor": "white",
            "gridwidth": 2,
            "linecolor": "white",
            "showbackground": true,
            "ticks": "",
            "zerolinecolor": "white"
           }
          },
          "shapedefaults": {
           "line": {
            "color": "#2a3f5f"
           }
          },
          "ternary": {
           "aaxis": {
            "gridcolor": "white",
            "linecolor": "white",
            "ticks": ""
           },
           "baxis": {
            "gridcolor": "white",
            "linecolor": "white",
            "ticks": ""
           },
           "bgcolor": "#E5ECF6",
           "caxis": {
            "gridcolor": "white",
            "linecolor": "white",
            "ticks": ""
           }
          },
          "title": {
           "x": 0.05
          },
          "xaxis": {
           "automargin": true,
           "gridcolor": "white",
           "linecolor": "white",
           "ticks": "",
           "title": {
            "standoff": 15
           },
           "zerolinecolor": "white",
           "zerolinewidth": 2
          },
          "yaxis": {
           "automargin": true,
           "gridcolor": "white",
           "linecolor": "white",
           "ticks": "",
           "title": {
            "standoff": 15
           },
           "zerolinecolor": "white",
           "zerolinewidth": 2
          }
         }
        },
        "title": {
         "text": "Overall Sentiment Distribution"
        },
        "xaxis": {
         "automargin": true,
         "autorange": true,
         "range": [
          -0.5,
          1.5
         ],
         "title": {
          "text": "Sentiment"
         },
         "type": "category"
        },
        "yaxis": {
         "automargin": true,
         "autorange": true,
         "range": [
          0,
          24.210526315789473
         ],
         "title": {
          "text": "Count"
         },
         "type": "linear"
        }
       }
      },
      "image/png": "[encoded data removed]",
      "text/html": [
       "<div>\n",
       "        \n",
       "        \n",
       "            <div id=\"ce2c5aca-5371-4508-9a3d-0f8fe864cf6c\" class=\"plotly-graph-div\" style=\"height:525px; width:100%;\"></div>\n",
       "            <script type=\"text/javascript\">\n",
       "                require([\"plotly\"], function(Plotly) {\n",
       "                    window.PLOTLYENV=window.PLOTLYENV || {};\n",
       "                    window.PLOTLYENV.BASE_URL='https://plot.ly';\n",
       "                    \n",
       "                if (document.getElementById(\"ce2c5aca-5371-4508-9a3d-0f8fe864cf6c\")) {\n",
       "                    Plotly.newPlot(\n",
       "                        'ce2c5aca-5371-4508-9a3d-0f8fe864cf6c',\n",
       "                        [{\"marker\": {\"color\": \"rgba(255, 153, 51, 0.6)\", \"line\": {\"color\": \"rgba(255, 153, 51, 1.0)\", \"width\": 1}}, \"name\": \"Sentiment\", \"orientation\": \"v\", \"text\": \"\", \"type\": \"bar\", \"x\": [\"Positive\", \"Neutral\"], \"y\": [23, 8]}],\n",
       "                        {\"autosize\": true, \"template\": {\"data\": {\"bar\": [{\"error_x\": {\"color\": \"#2a3f5f\"}, \"error_y\": {\"color\": \"#2a3f5f\"}, \"marker\": {\"line\": {\"color\": \"#E5ECF6\", \"width\": 0.5}}, \"type\": \"bar\"}], \"barpolar\": [{\"marker\": {\"line\": {\"color\": \"#E5ECF6\", \"width\": 0.5}}, \"type\": \"barpolar\"}], \"carpet\": [{\"aaxis\": {\"endlinecolor\": \"#2a3f5f\", \"gridcolor\": \"white\", \"linecolor\": \"white\", \"minorgridcolor\": \"white\", \"startlinecolor\": \"#2a3f5f\"}, \"baxis\": {\"endlinecolor\": \"#2a3f5f\", \"gridcolor\": \"white\", \"linecolor\": \"white\", \"minorgridcolor\": \"white\", \"startlinecolor\": \"#2a3f5f\"}, \"type\": \"carpet\"}], \"choropleth\": [{\"colorbar\": {\"outlinewidth\": 0, \"ticks\": \"\"}, \"type\": \"choropleth\"}], \"contour\": [{\"colorbar\": {\"outlinewidth\": 0, \"ticks\": \"\"}, \"colorscale\": [[0.0, \"#0d0887\"], [0.1111111111111111, \"#46039f\"], [0.2222222222222222, \"#7201a8\"], [0.3333333333333333, \"#9c179e\"], [0.4444444444444444, \"#bd3786\"], [0.5555555555555556, \"#d8576b\"], [0.6666666666666666, \"#ed7953\"], [0.7777777777777778, \"#fb9f3a\"], [0.8888888888888888, \"#fdca26\"], [1.0, \"#f0f921\"]], \"type\": \"contour\"}], \"contourcarpet\": [{\"colorbar\": {\"outlinewidth\": 0, \"ticks\": \"\"}, \"type\": \"contourcarpet\"}], \"heatmap\": [{\"colorbar\": {\"outlinewidth\": 0, \"ticks\": \"\"}, \"colorscale\": [[0.0, \"#0d0887\"], [0.1111111111111111, \"#46039f\"], [0.2222222222222222, \"#7201a8\"], [0.3333333333333333, \"#9c179e\"], [0.4444444444444444, \"#bd3786\"], [0.5555555555555556, \"#d8576b\"], [0.6666666666666666, \"#ed7953\"], [0.7777777777777778, \"#fb9f3a\"], [0.8888888888888888, \"#fdca26\"], [1.0, \"#f0f921\"]], \"type\": \"heatmap\"}], \"heatmapgl\": [{\"colorbar\": {\"outlinewidth\": 0, \"ticks\": \"\"}, \"colorscale\": [[0.0, \"#0d0887\"], [0.1111111111111111, \"#46039f\"], [0.2222222222222222, \"#7201a8\"], [0.3333333333333333, \"#9c179e\"], [0.4444444444444444, \"#bd3786\"], [0.5555555555555556, \"#d8576b\"], [0.6666666666666666, \"#ed7953\"], [0.7777777777777778, \"#fb9f3a\"], [0.8888888888888888, \"#fdca26\"], [1.0, \"#f0f921\"]], \"type\": \"heatmapgl\"}], \"histogram\": [{\"marker\": {\"colorbar\": {\"outlinewidth\": 0, \"ticks\": \"\"}}, \"type\": \"histogram\"}], \"histogram2d\": [{\"colorbar\": {\"outlinewidth\": 0, \"ticks\": \"\"}, \"colorscale\": [[0.0, \"#0d0887\"], [0.1111111111111111, \"#46039f\"], [0.2222222222222222, \"#7201a8\"], [0.3333333333333333, \"#9c179e\"], [0.4444444444444444, \"#bd3786\"], [0.5555555555555556, \"#d8576b\"], [0.6666666666666666, \"#ed7953\"], [0.7777777777777778, \"#fb9f3a\"], [0.8888888888888888, \"#fdca26\"], [1.0, \"#f0f921\"]], \"type\": \"histogram2d\"}], \"histogram2dcontour\": [{\"colorbar\": {\"outlinewidth\": 0, \"ticks\": \"\"}, \"colorscale\": [[0.0, \"#0d0887\"], [0.1111111111111111, \"#46039f\"], [0.2222222222222222, \"#7201a8\"], [0.3333333333333333, \"#9c179e\"], [0.4444444444444444, \"#bd3786\"], [0.5555555555555556, \"#d8576b\"], [0.6666666666666666, \"#ed7953\"], [0.7777777777777778, \"#fb9f3a\"], [0.8888888888888888, \"#fdca26\"], [1.0, \"#f0f921\"]], \"type\": \"histogram2dcontour\"}], \"mesh3d\": [{\"colorbar\": {\"outlinewidth\": 0, \"ticks\": \"\"}, \"type\": \"mesh3d\"}], \"parcoords\": [{\"line\": {\"colorbar\": {\"outlinewidth\": 0, \"ticks\": \"\"}}, \"type\": \"parcoords\"}], \"pie\": [{\"automargin\": true, \"type\": \"pie\"}], \"scatter\": [{\"marker\": {\"colorbar\": {\"outlinewidth\": 0, \"ticks\": \"\"}}, \"type\": \"scatter\"}], \"scatter3d\": [{\"line\": {\"colorbar\": {\"outlinewidth\": 0, \"ticks\": \"\"}}, \"marker\": {\"colorbar\": {\"outlinewidth\": 0, \"ticks\": \"\"}}, \"type\": \"scatter3d\"}], \"scattercarpet\": [{\"marker\": {\"colorbar\": {\"outlinewidth\": 0, \"ticks\": \"\"}}, \"type\": \"scattercarpet\"}], \"scattergeo\": [{\"marker\": {\"colorbar\": {\"outlinewidth\": 0, \"ticks\": \"\"}}, \"type\": \"scattergeo\"}], \"scattergl\": [{\"marker\": {\"colorbar\": {\"outlinewidth\": 0, \"ticks\": \"\"}}, \"type\": \"scattergl\"}], \"scattermapbox\": [{\"marker\": {\"colorbar\": {\"outlinewidth\": 0, \"ticks\": \"\"}}, \"type\": \"scattermapbox\"}], \"scatterpolar\": [{\"marker\": {\"colorbar\": {\"outlinewidth\": 0, \"ticks\": \"\"}}, \"type\": \"scatterpolar\"}], \"scatterpolargl\": [{\"marker\": {\"colorbar\": {\"outlinewidth\": 0, \"ticks\": \"\"}}, \"type\": \"scatterpolargl\"}], \"scatterternary\": [{\"marker\": {\"colorbar\": {\"outlinewidth\": 0, \"ticks\": \"\"}}, \"type\": \"scatterternary\"}], \"surface\": [{\"colorbar\": {\"outlinewidth\": 0, \"ticks\": \"\"}, \"colorscale\": [[0.0, \"#0d0887\"], [0.1111111111111111, \"#46039f\"], [0.2222222222222222, \"#7201a8\"], [0.3333333333333333, \"#9c179e\"], [0.4444444444444444, \"#bd3786\"], [0.5555555555555556, \"#d8576b\"], [0.6666666666666666, \"#ed7953\"], [0.7777777777777778, \"#fb9f3a\"], [0.8888888888888888, \"#fdca26\"], [1.0, \"#f0f921\"]], \"type\": \"surface\"}], \"table\": [{\"cells\": {\"fill\": {\"color\": \"#EBF0F8\"}, \"line\": {\"color\": \"white\"}}, \"header\": {\"fill\": {\"color\": \"#C8D4E3\"}, \"line\": {\"color\": \"white\"}}, \"type\": \"table\"}]}, \"layout\": {\"annotationdefaults\": {\"arrowcolor\": \"#2a3f5f\", \"arrowhead\": 0, \"arrowwidth\": 1}, \"coloraxis\": {\"colorbar\": {\"outlinewidth\": 0, \"ticks\": \"\"}}, \"colorscale\": {\"diverging\": [[0, \"#8e0152\"], [0.1, \"#c51b7d\"], [0.2, \"#de77ae\"], [0.3, \"#f1b6da\"], [0.4, \"#fde0ef\"], [0.5, \"#f7f7f7\"], [0.6, \"#e6f5d0\"], [0.7, \"#b8e186\"], [0.8, \"#7fbc41\"], [0.9, \"#4d9221\"], [1, \"#276419\"]], \"sequential\": [[0.0, \"#0d0887\"], [0.1111111111111111, \"#46039f\"], [0.2222222222222222, \"#7201a8\"], [0.3333333333333333, \"#9c179e\"], [0.4444444444444444, \"#bd3786\"], [0.5555555555555556, \"#d8576b\"], [0.6666666666666666, \"#ed7953\"], [0.7777777777777778, \"#fb9f3a\"], [0.8888888888888888, \"#fdca26\"], [1.0, \"#f0f921\"]], \"sequentialminus\": [[0.0, \"#0d0887\"], [0.1111111111111111, \"#46039f\"], [0.2222222222222222, \"#7201a8\"], [0.3333333333333333, \"#9c179e\"], [0.4444444444444444, \"#bd3786\"], [0.5555555555555556, \"#d8576b\"], [0.6666666666666666, \"#ed7953\"], [0.7777777777777778, \"#fb9f3a\"], [0.8888888888888888, \"#fdca26\"], [1.0, \"#f0f921\"]]}, \"colorway\": [\"#636efa\", \"#EF553B\", \"#00cc96\", \"#ab63fa\", \"#FFA15A\", \"#19d3f3\", \"#FF6692\", \"#B6E880\", \"#FF97FF\", \"#FECB52\"], \"font\": {\"color\": \"#2a3f5f\"}, \"geo\": {\"bgcolor\": \"white\", \"lakecolor\": \"white\", \"landcolor\": \"#E5ECF6\", \"showlakes\": true, \"showland\": true, \"subunitcolor\": \"white\"}, \"hoverlabel\": {\"align\": \"left\"}, \"hovermode\": \"closest\", \"mapbox\": {\"style\": \"light\"}, \"paper_bgcolor\": \"white\", \"plot_bgcolor\": \"#E5ECF6\", \"polar\": {\"angularaxis\": {\"gridcolor\": \"white\", \"linecolor\": \"white\", \"ticks\": \"\"}, \"bgcolor\": \"#E5ECF6\", \"radialaxis\": {\"gridcolor\": \"white\", \"linecolor\": \"white\", \"ticks\": \"\"}}, \"scene\": {\"xaxis\": {\"backgroundcolor\": \"#E5ECF6\", \"gridcolor\": \"white\", \"gridwidth\": 2, \"linecolor\": \"white\", \"showbackground\": true, \"ticks\": \"\", \"zerolinecolor\": \"white\"}, \"yaxis\": {\"backgroundcolor\": \"#E5ECF6\", \"gridcolor\": \"white\", \"gridwidth\": 2, \"linecolor\": \"white\", \"showbackground\": true, \"ticks\": \"\", \"zerolinecolor\": \"white\"}, \"zaxis\": {\"backgroundcolor\": \"#E5ECF6\", \"gridcolor\": \"white\", \"gridwidth\": 2, \"linecolor\": \"white\", \"showbackground\": true, \"ticks\": \"\", \"zerolinecolor\": \"white\"}}, \"shapedefaults\": {\"line\": {\"color\": \"#2a3f5f\"}}, \"ternary\": {\"aaxis\": {\"gridcolor\": \"white\", \"linecolor\": \"white\", \"ticks\": \"\"}, \"baxis\": {\"gridcolor\": \"white\", \"linecolor\": \"white\", \"ticks\": \"\"}, \"bgcolor\": \"#E5ECF6\", \"caxis\": {\"gridcolor\": \"white\", \"linecolor\": \"white\", \"ticks\": \"\"}}, \"title\": {\"x\": 0.05}, \"xaxis\": {\"automargin\": true, \"gridcolor\": \"white\", \"linecolor\": \"white\", \"ticks\": \"\", \"title\": {\"standoff\": 15}, \"zerolinecolor\": \"white\", \"zerolinewidth\": 2}, \"yaxis\": {\"automargin\": true, \"gridcolor\": \"white\", \"linecolor\": \"white\", \"ticks\": \"\", \"title\": {\"standoff\": 15}, \"zerolinecolor\": \"white\", \"zerolinewidth\": 2}}}, \"title\": {\"text\": \"Overall Sentiment Distribution\"}, \"xaxis\": {\"automargin\": true, \"title\": {\"text\": \"Sentiment\"}}, \"yaxis\": {\"automargin\": true, \"title\": {\"text\": \"Count\"}}},\n",
       "                        {\"showLink\": true, \"linkText\": \"Export to plot.ly\", \"plotlyServerURL\": \"https://plot.ly\", \"responsive\": true}\n",
       "                    ).then(function(){\n",
       "                            \n",
       "var gd = document.getElementById('ce2c5aca-5371-4508-9a3d-0f8fe864cf6c');\n",
       "var x = new MutationObserver(function (mutations, observer) {{\n",
       "        var display = window.getComputedStyle(gd).display;\n",
       "        if (!display || display === 'none') {{\n",
       "            console.log([gd, 'removed!']);\n",
       "            Plotly.purge(gd);\n",
       "            observer.disconnect();\n",
       "        }}\n",
       "}});\n",
       "\n",
       "// Listen for the removal of the full notebook cells\n",
       "var notebookContainer = gd.closest('#notebook-container');\n",
       "if (notebookContainer) {{\n",
       "    x.observe(notebookContainer, {childList: true});\n",
       "}}\n",
       "\n",
       "// Listen for the clearing of the current output cell\n",
       "var outputEl = gd.closest('.output');\n",
       "if (outputEl) {{\n",
       "    x.observe(outputEl, {childList: true});\n",
       "}}\n",
       "\n",
       "                        })\n",
       "                };\n",
       "                });\n",
       "            </script>\n",
       "        </div>"
      ]
     },
     "metadata": {},
     "output_type": "display_data"
    }
   ],
   "source": [
    "# show barchart of retweet>=5 tweet sentiment\n",
    "df_over5 = df[df['retweet_count'] >= 5]\n",
    "layout1=dict(autosize=True, yaxis=dict(automargin=True, title=\"Count\"), xaxis=dict(automargin=True, title=\"Sentiment\"),title=\"Overall Sentiment Distribution\")\n",
    "df_over5['Sentiment'].value_counts().iplot(kind='bar', title = 'Sentiment Distribution for <br> tweets (Above 5)', layout=layout1)\n",
    "\n",
    "'''\n",
    "# Alternative method to run under SWAN where cufflinks can't be installed \n",
    "# create dataframe for Sentiment counts\n",
    "sentiment5_counts = df_over5['Sentiment'].value_counts(ascending=True).to_frame(\"Count\").reset_index()\n",
    "# show interative barchart of retweet>=5 tweet sentiment\n",
    "fig = px.bar(\n",
    "    sentiment_counts, x=\"index\", y=\"Count\", \n",
    "    labels=dict(Count=\"Counts\", index=\"Sentiment\"), \n",
    "    width=1600, height=800, title=\"Sentiment Distribution for <br> tweets (Above 5)\"\n",
    ")\n",
    "fig.update_xaxes(tickangle = 45)\n",
    "\n",
    "#fig.update_traces(marker_color='green')\n",
    "\n",
    "fig.show()\n",
    "'''\n"
   ]
  },
  {
   "cell_type": "markdown",
   "metadata": {},
   "source": [
    "1.2.5 Wordcloud visualization \n",
    "------"
   ]
  },
  {
   "cell_type": "markdown",
   "metadata": {},
   "source": [
    "**Use text from cleaned tweets to perform wordcloud visualization.**"
   ]
  },
  {
   "cell_type": "code",
   "execution_count": 16,
   "metadata": {},
   "outputs": [],
   "source": [
    "# join clean_tweets to create text for wordcloud\n",
    "wordcloud_tweets = ' '.join(tweet for tweet in df['clean_tweet'])\n",
    "# remove stopwords and generate wordcloud content\n",
    "wordcloud = WordCloud(width = 3000, height = 2000, random_state=1, background_color='salmon', colormap='Pastel1', collocations=False, stopwords=STOPWORDS).generate(wordcloud_tweets)\n"
   ]
  },
  {
   "cell_type": "markdown",
   "metadata": {},
   "source": [
    "**Show the Wordcloud.**"
   ]
  },
  {
   "cell_type": "code",
   "execution_count": 17,
   "metadata": {},
   "outputs": [
    {
     "data": {
      "image/png": "[encoded data removed]",
      "text/plain": [
       "<Figure size 720x720 with 1 Axes>"
      ]
     },
     "metadata": {
      "needs_background": "light"
     },
     "output_type": "display_data"
    }
   ],
   "source": [
    "# import python plot graph library\n",
    "import matplotlib.pyplot as plt\n",
    "# show wordcloud\n",
    "plt.figure(figsize = (10,10))\n",
    "plt.imshow(wordcloud, interpolation='bilinear')\n",
    "plt.axis(\"off\")\n",
    "plt.show()"
   ]
  },
  {
   "cell_type": "markdown",
   "metadata": {},
   "source": [
    "**Show barchart from word frequency and order by frequency.**"
   ]
  },
  {
   "cell_type": "code",
   "execution_count": 18,
   "metadata": {},
   "outputs": [
    {
     "data": {
      "application/vnd.plotly.v1+json": {
       "config": {
        "linkText": "Export to plot.ly",
        "plotlyServerURL": "https://plot.ly",
        "showLink": true
       },
       "data": [
        {
         "marker": {
          "color": "rgba(55, 128, 191, 0.6)",
          "line": {
           "color": "rgba(55, 128, 191, 1.0)",
           "width": 1
          }
         },
         "name": "0",
         "orientation": "v",
         "text": "",
         "type": "bar",
         "x": [
          "RT",
          "science",
          "amp",
          "humanities",
          "look",
          "video",
          "digital",
          "digitalhumanities",
          "nice",
          "naughty",
          "still",
          "something",
          "forward",
          "Watch",
          "space",
          "December",
          "Open",
          "search",
          "hope",
          "Investment"
         ],
         "y": [
          1,
          0.6410256410256411,
          0.46153846153846156,
          0.4358974358974359,
          0.41025641025641024,
          0.38461538461538464,
          0.3333333333333333,
          0.3333333333333333,
          0.3076923076923077,
          0.3076923076923077,
          0.3076923076923077,
          0.3076923076923077,
          0.3076923076923077,
          0.3076923076923077,
          0.3076923076923077,
          0.3076923076923077,
          0.3076923076923077,
          0.23076923076923078,
          0.23076923076923078,
          0.23076923076923078
         ]
        }
       ],
       "layout": {
        "autosize": true,
        "template": {
         "data": {
          "bar": [
           {
            "error_x": {
             "color": "#2a3f5f"
            },
            "error_y": {
             "color": "#2a3f5f"
            },
            "marker": {
             "line": {
              "color": "#E5ECF6",
              "width": 0.5
             }
            },
            "type": "bar"
           }
          ],
          "barpolar": [
           {
            "marker": {
             "line": {
              "color": "#E5ECF6",
              "width": 0.5
             }
            },
            "type": "barpolar"
           }
          ],
          "carpet": [
           {
            "aaxis": {
             "endlinecolor": "#2a3f5f",
             "gridcolor": "white",
             "linecolor": "white",
             "minorgridcolor": "white",
             "startlinecolor": "#2a3f5f"
            },
            "baxis": {
             "endlinecolor": "#2a3f5f",
             "gridcolor": "white",
             "linecolor": "white",
             "minorgridcolor": "white",
             "startlinecolor": "#2a3f5f"
            },
            "type": "carpet"
           }
          ],
          "choropleth": [
           {
            "colorbar": {
             "outlinewidth": 0,
             "ticks": ""
            },
            "type": "choropleth"
           }
          ],
          "contour": [
           {
            "colorbar": {
             "outlinewidth": 0,
             "ticks": ""
            },
            "colorscale": [
             [
              0,
              "#0d0887"
             ],
             [
              0.1111111111111111,
              "#46039f"
             ],
             [
              0.2222222222222222,
              "#7201a8"
             ],
             [
              0.3333333333333333,
              "#9c179e"
             ],
             [
              0.4444444444444444,
              "#bd3786"
             ],
             [
              0.5555555555555556,
              "#d8576b"
             ],
             [
              0.6666666666666666,
              "#ed7953"
             ],
             [
              0.7777777777777778,
              "#fb9f3a"
             ],
             [
              0.8888888888888888,
              "#fdca26"
             ],
             [
              1,
              "#f0f921"
             ]
            ],
            "type": "contour"
           }
          ],
          "contourcarpet": [
           {
            "colorbar": {
             "outlinewidth": 0,
             "ticks": ""
            },
            "type": "contourcarpet"
           }
          ],
          "heatmap": [
           {
            "colorbar": {
             "outlinewidth": 0,
             "ticks": ""
            },
            "colorscale": [
             [
              0,
              "#0d0887"
             ],
             [
              0.1111111111111111,
              "#46039f"
             ],
             [
              0.2222222222222222,
              "#7201a8"
             ],
             [
              0.3333333333333333,
              "#9c179e"
             ],
             [
              0.4444444444444444,
              "#bd3786"
             ],
             [
              0.5555555555555556,
              "#d8576b"
             ],
             [
              0.6666666666666666,
              "#ed7953"
             ],
             [
              0.7777777777777778,
              "#fb9f3a"
             ],
             [
              0.8888888888888888,
              "#fdca26"
             ],
             [
              1,
              "#f0f921"
             ]
            ],
            "type": "heatmap"
           }
          ],
          "heatmapgl": [
           {
            "colorbar": {
             "outlinewidth": 0,
             "ticks": ""
            },
            "colorscale": [
             [
              0,
              "#0d0887"
             ],
             [
              0.1111111111111111,
              "#46039f"
             ],
             [
              0.2222222222222222,
              "#7201a8"
             ],
             [
              0.3333333333333333,
              "#9c179e"
             ],
             [
              0.4444444444444444,
              "#bd3786"
             ],
             [
              0.5555555555555556,
              "#d8576b"
             ],
             [
              0.6666666666666666,
              "#ed7953"
             ],
             [
              0.7777777777777778,
              "#fb9f3a"
             ],
             [
              0.8888888888888888,
              "#fdca26"
             ],
             [
              1,
              "#f0f921"
             ]
            ],
            "type": "heatmapgl"
           }
          ],
          "histogram": [
           {
            "marker": {
             "colorbar": {
              "outlinewidth": 0,
              "ticks": ""
             }
            },
            "type": "histogram"
           }
          ],
          "histogram2d": [
           {
            "colorbar": {
             "outlinewidth": 0,
             "ticks": ""
            },
            "colorscale": [
             [
              0,
              "#0d0887"
             ],
             [
              0.1111111111111111,
              "#46039f"
             ],
             [
              0.2222222222222222,
              "#7201a8"
             ],
             [
              0.3333333333333333,
              "#9c179e"
             ],
             [
              0.4444444444444444,
              "#bd3786"
             ],
             [
              0.5555555555555556,
              "#d8576b"
             ],
             [
              0.6666666666666666,
              "#ed7953"
             ],
             [
              0.7777777777777778,
              "#fb9f3a"
             ],
             [
              0.8888888888888888,
              "#fdca26"
             ],
             [
              1,
              "#f0f921"
             ]
            ],
            "type": "histogram2d"
           }
          ],
          "histogram2dcontour": [
           {
            "colorbar": {
             "outlinewidth": 0,
             "ticks": ""
            },
            "colorscale": [
             [
              0,
              "#0d0887"
             ],
             [
              0.1111111111111111,
              "#46039f"
             ],
             [
              0.2222222222222222,
              "#7201a8"
             ],
             [
              0.3333333333333333,
              "#9c179e"
             ],
             [
              0.4444444444444444,
              "#bd3786"
             ],
             [
              0.5555555555555556,
              "#d8576b"
             ],
             [
              0.6666666666666666,
              "#ed7953"
             ],
             [
              0.7777777777777778,
              "#fb9f3a"
             ],
             [
              0.8888888888888888,
              "#fdca26"
             ],
             [
              1,
              "#f0f921"
             ]
            ],
            "type": "histogram2dcontour"
           }
          ],
          "mesh3d": [
           {
            "colorbar": {
             "outlinewidth": 0,
             "ticks": ""
            },
            "type": "mesh3d"
           }
          ],
          "parcoords": [
           {
            "line": {
             "colorbar": {
              "outlinewidth": 0,
              "ticks": ""
             }
            },
            "type": "parcoords"
           }
          ],
          "pie": [
           {
            "automargin": true,
            "type": "pie"
           }
          ],
          "scatter": [
           {
            "marker": {
             "colorbar": {
              "outlinewidth": 0,
              "ticks": ""
             }
            },
            "type": "scatter"
           }
          ],
          "scatter3d": [
           {
            "line": {
             "colorbar": {
              "outlinewidth": 0,
              "ticks": ""
             }
            },
            "marker": {
             "colorbar": {
              "outlinewidth": 0,
              "ticks": ""
             }
            },
            "type": "scatter3d"
           }
          ],
          "scattercarpet": [
           {
            "marker": {
             "colorbar": {
              "outlinewidth": 0,
              "ticks": ""
             }
            },
            "type": "scattercarpet"
           }
          ],
          "scattergeo": [
           {
            "marker": {
             "colorbar": {
              "outlinewidth": 0,
              "ticks": ""
             }
            },
            "type": "scattergeo"
           }
          ],
          "scattergl": [
           {
            "marker": {
             "colorbar": {
              "outlinewidth": 0,
              "ticks": ""
             }
            },
            "type": "scattergl"
           }
          ],
          "scattermapbox": [
           {
            "marker": {
             "colorbar": {
              "outlinewidth": 0,
              "ticks": ""
             }
            },
            "type": "scattermapbox"
           }
          ],
          "scatterpolar": [
           {
            "marker": {
             "colorbar": {
              "outlinewidth": 0,
              "ticks": ""
             }
            },
            "type": "scatterpolar"
           }
          ],
          "scatterpolargl": [
           {
            "marker": {
             "colorbar": {
              "outlinewidth": 0,
              "ticks": ""
             }
            },
            "type": "scatterpolargl"
           }
          ],
          "scatterternary": [
           {
            "marker": {
             "colorbar": {
              "outlinewidth": 0,
              "ticks": ""
             }
            },
            "type": "scatterternary"
           }
          ],
          "surface": [
           {
            "colorbar": {
             "outlinewidth": 0,
             "ticks": ""
            },
            "colorscale": [
             [
              0,
              "#0d0887"
             ],
             [
              0.1111111111111111,
              "#46039f"
             ],
             [
              0.2222222222222222,
              "#7201a8"
             ],
             [
              0.3333333333333333,
              "#9c179e"
             ],
             [
              0.4444444444444444,
              "#bd3786"
             ],
             [
              0.5555555555555556,
              "#d8576b"
             ],
             [
              0.6666666666666666,
              "#ed7953"
             ],
             [
              0.7777777777777778,
              "#fb9f3a"
             ],
             [
              0.8888888888888888,
              "#fdca26"
             ],
             [
              1,
              "#f0f921"
             ]
            ],
            "type": "surface"
           }
          ],
          "table": [
           {
            "cells": {
             "fill": {
              "color": "#EBF0F8"
             },
             "line": {
              "color": "white"
             }
            },
            "header": {
             "fill": {
              "color": "#C8D4E3"
             },
             "line": {
              "color": "white"
             }
            },
            "type": "table"
           }
          ]
         },
         "layout": {
          "annotationdefaults": {
           "arrowcolor": "#2a3f5f",
           "arrowhead": 0,
           "arrowwidth": 1
          },
          "coloraxis": {
           "colorbar": {
            "outlinewidth": 0,
            "ticks": ""
           }
          },
          "colorscale": {
           "diverging": [
            [
             0,
             "#8e0152"
            ],
            [
             0.1,
             "#c51b7d"
            ],
            [
             0.2,
             "#de77ae"
            ],
            [
             0.3,
             "#f1b6da"
            ],
            [
             0.4,
             "#fde0ef"
            ],
            [
             0.5,
             "#f7f7f7"
            ],
            [
             0.6,
             "#e6f5d0"
            ],
            [
             0.7,
             "#b8e186"
            ],
            [
             0.8,
             "#7fbc41"
            ],
            [
             0.9,
             "#4d9221"
            ],
            [
             1,
             "#276419"
            ]
           ],
           "sequential": [
            [
             0,
             "#0d0887"
            ],
            [
             0.1111111111111111,
             "#46039f"
            ],
            [
             0.2222222222222222,
             "#7201a8"
            ],
            [
             0.3333333333333333,
             "#9c179e"
            ],
            [
             0.4444444444444444,
             "#bd3786"
            ],
            [
             0.5555555555555556,
             "#d8576b"
            ],
            [
             0.6666666666666666,
             "#ed7953"
            ],
            [
             0.7777777777777778,
             "#fb9f3a"
            ],
            [
             0.8888888888888888,
             "#fdca26"
            ],
            [
             1,
             "#f0f921"
            ]
           ],
           "sequentialminus": [
            [
             0,
             "#0d0887"
            ],
            [
             0.1111111111111111,
             "#46039f"
            ],
            [
             0.2222222222222222,
             "#7201a8"
            ],
            [
             0.3333333333333333,
             "#9c179e"
            ],
            [
             0.4444444444444444,
             "#bd3786"
            ],
            [
             0.5555555555555556,
             "#d8576b"
            ],
            [
             0.6666666666666666,
             "#ed7953"
            ],
            [
             0.7777777777777778,
             "#fb9f3a"
            ],
            [
             0.8888888888888888,
             "#fdca26"
            ],
            [
             1,
             "#f0f921"
            ]
           ]
          },
          "colorway": [
           "#636efa",
           "#EF553B",
           "#00cc96",
           "#ab63fa",
           "#FFA15A",
           "#19d3f3",
           "#FF6692",
           "#B6E880",
           "#FF97FF",
           "#FECB52"
          ],
          "font": {
           "color": "#2a3f5f"
          },
          "geo": {
           "bgcolor": "white",
           "lakecolor": "white",
           "landcolor": "#E5ECF6",
           "showlakes": true,
           "showland": true,
           "subunitcolor": "white"
          },
          "hoverlabel": {
           "align": "left"
          },
          "hovermode": "closest",
          "mapbox": {
           "style": "light"
          },
          "paper_bgcolor": "white",
          "plot_bgcolor": "#E5ECF6",
          "polar": {
           "angularaxis": {
            "gridcolor": "white",
            "linecolor": "white",
            "ticks": ""
           },
           "bgcolor": "#E5ECF6",
           "radialaxis": {
            "gridcolor": "white",
            "linecolor": "white",
            "ticks": ""
           }
          },
          "scene": {
           "xaxis": {
            "backgroundcolor": "#E5ECF6",
            "gridcolor": "white",
            "gridwidth": 2,
            "linecolor": "white",
            "showbackground": true,
            "ticks": "",
            "zerolinecolor": "white"
           },
           "yaxis": {
            "backgroundcolor": "#E5ECF6",
            "gridcolor": "white",
            "gridwidth": 2,
            "linecolor": "white",
            "showbackground": true,
            "ticks": "",
            "zerolinecolor": "white"
           },
           "zaxis": {
            "backgroundcolor": "#E5ECF6",
            "gridcolor": "white",
            "gridwidth": 2,
            "linecolor": "white",
            "showbackground": true,
            "ticks": "",
            "zerolinecolor": "white"
           }
          },
          "shapedefaults": {
           "line": {
            "color": "#2a3f5f"
           }
          },
          "ternary": {
           "aaxis": {
            "gridcolor": "white",
            "linecolor": "white",
            "ticks": ""
           },
           "baxis": {
            "gridcolor": "white",
            "linecolor": "white",
            "ticks": ""
           },
           "bgcolor": "#E5ECF6",
           "caxis": {
            "gridcolor": "white",
            "linecolor": "white",
            "ticks": ""
           }
          },
          "title": {
           "x": 0.05
          },
          "xaxis": {
           "automargin": true,
           "gridcolor": "white",
           "linecolor": "white",
           "ticks": "",
           "title": {
            "standoff": 15
           },
           "zerolinecolor": "white",
           "zerolinewidth": 2
          },
          "yaxis": {
           "automargin": true,
           "gridcolor": "white",
           "linecolor": "white",
           "ticks": "",
           "title": {
            "standoff": 15
           },
           "zerolinecolor": "white",
           "zerolinewidth": 2
          }
         }
        },
        "title": {
         "text": "Top 20 Word count"
        },
        "xaxis": {
         "automargin": true,
         "autorange": true,
         "range": [
          -0.5,
          19.5
         ],
         "title": {
          "text": "Word"
         },
         "type": "category"
        },
        "yaxis": {
         "automargin": true,
         "autorange": true,
         "range": [
          0,
          1.0526315789473684
         ],
         "title": {
          "text": "Frequency"
         },
         "type": "linear"
        }
       }
      },
      "image/png": "[encoded data removed]",
      "text/html": [
       "<div>\n",
       "        \n",
       "        \n",
       "            <div id=\"0b41f1a6-a691-4f52-be26-41708236bd86\" class=\"plotly-graph-div\" style=\"height:525px; width:100%;\"></div>\n",
       "            <script type=\"text/javascript\">\n",
       "                require([\"plotly\"], function(Plotly) {\n",
       "                    window.PLOTLYENV=window.PLOTLYENV || {};\n",
       "                    window.PLOTLYENV.BASE_URL='https://plot.ly';\n",
       "                    \n",
       "                if (document.getElementById(\"0b41f1a6-a691-4f52-be26-41708236bd86\")) {\n",
       "                    Plotly.newPlot(\n",
       "                        '0b41f1a6-a691-4f52-be26-41708236bd86',\n",
       "                        [{\"marker\": {\"color\": \"rgba(55, 128, 191, 0.6)\", \"line\": {\"color\": \"rgba(55, 128, 191, 1.0)\", \"width\": 1}}, \"name\": \"0\", \"orientation\": \"v\", \"text\": \"\", \"type\": \"bar\", \"x\": [\"RT\", \"science\", \"amp\", \"humanities\", \"look\", \"video\", \"digital\", \"digitalhumanities\", \"nice\", \"naughty\", \"still\", \"something\", \"forward\", \"Watch\", \"space\", \"December\", \"Open\", \"search\", \"hope\", \"Investment\"], \"y\": [1.0, 0.6410256410256411, 0.46153846153846156, 0.4358974358974359, 0.41025641025641024, 0.38461538461538464, 0.3333333333333333, 0.3333333333333333, 0.3076923076923077, 0.3076923076923077, 0.3076923076923077, 0.3076923076923077, 0.3076923076923077, 0.3076923076923077, 0.3076923076923077, 0.3076923076923077, 0.3076923076923077, 0.23076923076923078, 0.23076923076923078, 0.23076923076923078]}],\n",
       "                        {\"autosize\": true, \"template\": {\"data\": {\"bar\": [{\"error_x\": {\"color\": \"#2a3f5f\"}, \"error_y\": {\"color\": \"#2a3f5f\"}, \"marker\": {\"line\": {\"color\": \"#E5ECF6\", \"width\": 0.5}}, \"type\": \"bar\"}], \"barpolar\": [{\"marker\": {\"line\": {\"color\": \"#E5ECF6\", \"width\": 0.5}}, \"type\": \"barpolar\"}], \"carpet\": [{\"aaxis\": {\"endlinecolor\": \"#2a3f5f\", \"gridcolor\": \"white\", \"linecolor\": \"white\", \"minorgridcolor\": \"white\", \"startlinecolor\": \"#2a3f5f\"}, \"baxis\": {\"endlinecolor\": \"#2a3f5f\", \"gridcolor\": \"white\", \"linecolor\": \"white\", \"minorgridcolor\": \"white\", \"startlinecolor\": \"#2a3f5f\"}, \"type\": \"carpet\"}], \"choropleth\": [{\"colorbar\": {\"outlinewidth\": 0, \"ticks\": \"\"}, \"type\": \"choropleth\"}], \"contour\": [{\"colorbar\": {\"outlinewidth\": 0, \"ticks\": \"\"}, \"colorscale\": [[0.0, \"#0d0887\"], [0.1111111111111111, \"#46039f\"], [0.2222222222222222, \"#7201a8\"], [0.3333333333333333, \"#9c179e\"], [0.4444444444444444, \"#bd3786\"], [0.5555555555555556, \"#d8576b\"], [0.6666666666666666, \"#ed7953\"], [0.7777777777777778, \"#fb9f3a\"], [0.8888888888888888, \"#fdca26\"], [1.0, \"#f0f921\"]], \"type\": \"contour\"}], \"contourcarpet\": [{\"colorbar\": {\"outlinewidth\": 0, \"ticks\": \"\"}, \"type\": \"contourcarpet\"}], \"heatmap\": [{\"colorbar\": {\"outlinewidth\": 0, \"ticks\": \"\"}, \"colorscale\": [[0.0, \"#0d0887\"], [0.1111111111111111, \"#46039f\"], [0.2222222222222222, \"#7201a8\"], [0.3333333333333333, \"#9c179e\"], [0.4444444444444444, \"#bd3786\"], [0.5555555555555556, \"#d8576b\"], [0.6666666666666666, \"#ed7953\"], [0.7777777777777778, \"#fb9f3a\"], [0.8888888888888888, \"#fdca26\"], [1.0, \"#f0f921\"]], \"type\": \"heatmap\"}], \"heatmapgl\": [{\"colorbar\": {\"outlinewidth\": 0, \"ticks\": \"\"}, \"colorscale\": [[0.0, \"#0d0887\"], [0.1111111111111111, \"#46039f\"], [0.2222222222222222, \"#7201a8\"], [0.3333333333333333, \"#9c179e\"], [0.4444444444444444, \"#bd3786\"], [0.5555555555555556, \"#d8576b\"], [0.6666666666666666, \"#ed7953\"], [0.7777777777777778, \"#fb9f3a\"], [0.8888888888888888, \"#fdca26\"], [1.0, \"#f0f921\"]], \"type\": \"heatmapgl\"}], \"histogram\": [{\"marker\": {\"colorbar\": {\"outlinewidth\": 0, \"ticks\": \"\"}}, \"type\": \"histogram\"}], \"histogram2d\": [{\"colorbar\": {\"outlinewidth\": 0, \"ticks\": \"\"}, \"colorscale\": [[0.0, \"#0d0887\"], [0.1111111111111111, \"#46039f\"], [0.2222222222222222, \"#7201a8\"], [0.3333333333333333, \"#9c179e\"], [0.4444444444444444, \"#bd3786\"], [0.5555555555555556, \"#d8576b\"], [0.6666666666666666, \"#ed7953\"], [0.7777777777777778, \"#fb9f3a\"], [0.8888888888888888, \"#fdca26\"], [1.0, \"#f0f921\"]], \"type\": \"histogram2d\"}], \"histogram2dcontour\": [{\"colorbar\": {\"outlinewidth\": 0, \"ticks\": \"\"}, \"colorscale\": [[0.0, \"#0d0887\"], [0.1111111111111111, \"#46039f\"], [0.2222222222222222, \"#7201a8\"], [0.3333333333333333, \"#9c179e\"], [0.4444444444444444, \"#bd3786\"], [0.5555555555555556, \"#d8576b\"], [0.6666666666666666, \"#ed7953\"], [0.7777777777777778, \"#fb9f3a\"], [0.8888888888888888, \"#fdca26\"], [1.0, \"#f0f921\"]], \"type\": \"histogram2dcontour\"}], \"mesh3d\": [{\"colorbar\": {\"outlinewidth\": 0, \"ticks\": \"\"}, \"type\": \"mesh3d\"}], \"parcoords\": [{\"line\": {\"colorbar\": {\"outlinewidth\": 0, \"ticks\": \"\"}}, \"type\": \"parcoords\"}], \"pie\": [{\"automargin\": true, \"type\": \"pie\"}], \"scatter\": [{\"marker\": {\"colorbar\": {\"outlinewidth\": 0, \"ticks\": \"\"}}, \"type\": \"scatter\"}], \"scatter3d\": [{\"line\": {\"colorbar\": {\"outlinewidth\": 0, \"ticks\": \"\"}}, \"marker\": {\"colorbar\": {\"outlinewidth\": 0, \"ticks\": \"\"}}, \"type\": \"scatter3d\"}], \"scattercarpet\": [{\"marker\": {\"colorbar\": {\"outlinewidth\": 0, \"ticks\": \"\"}}, \"type\": \"scattercarpet\"}], \"scattergeo\": [{\"marker\": {\"colorbar\": {\"outlinewidth\": 0, \"ticks\": \"\"}}, \"type\": \"scattergeo\"}], \"scattergl\": [{\"marker\": {\"colorbar\": {\"outlinewidth\": 0, \"ticks\": \"\"}}, \"type\": \"scattergl\"}], \"scattermapbox\": [{\"marker\": {\"colorbar\": {\"outlinewidth\": 0, \"ticks\": \"\"}}, \"type\": \"scattermapbox\"}], \"scatterpolar\": [{\"marker\": {\"colorbar\": {\"outlinewidth\": 0, \"ticks\": \"\"}}, \"type\": \"scatterpolar\"}], \"scatterpolargl\": [{\"marker\": {\"colorbar\": {\"outlinewidth\": 0, \"ticks\": \"\"}}, \"type\": \"scatterpolargl\"}], \"scatterternary\": [{\"marker\": {\"colorbar\": {\"outlinewidth\": 0, \"ticks\": \"\"}}, \"type\": \"scatterternary\"}], \"surface\": [{\"colorbar\": {\"outlinewidth\": 0, \"ticks\": \"\"}, \"colorscale\": [[0.0, \"#0d0887\"], [0.1111111111111111, \"#46039f\"], [0.2222222222222222, \"#7201a8\"], [0.3333333333333333, \"#9c179e\"], [0.4444444444444444, \"#bd3786\"], [0.5555555555555556, \"#d8576b\"], [0.6666666666666666, \"#ed7953\"], [0.7777777777777778, \"#fb9f3a\"], [0.8888888888888888, \"#fdca26\"], [1.0, \"#f0f921\"]], \"type\": \"surface\"}], \"table\": [{\"cells\": {\"fill\": {\"color\": \"#EBF0F8\"}, \"line\": {\"color\": \"white\"}}, \"header\": {\"fill\": {\"color\": \"#C8D4E3\"}, \"line\": {\"color\": \"white\"}}, \"type\": \"table\"}]}, \"layout\": {\"annotationdefaults\": {\"arrowcolor\": \"#2a3f5f\", \"arrowhead\": 0, \"arrowwidth\": 1}, \"coloraxis\": {\"colorbar\": {\"outlinewidth\": 0, \"ticks\": \"\"}}, \"colorscale\": {\"diverging\": [[0, \"#8e0152\"], [0.1, \"#c51b7d\"], [0.2, \"#de77ae\"], [0.3, \"#f1b6da\"], [0.4, \"#fde0ef\"], [0.5, \"#f7f7f7\"], [0.6, \"#e6f5d0\"], [0.7, \"#b8e186\"], [0.8, \"#7fbc41\"], [0.9, \"#4d9221\"], [1, \"#276419\"]], \"sequential\": [[0.0, \"#0d0887\"], [0.1111111111111111, \"#46039f\"], [0.2222222222222222, \"#7201a8\"], [0.3333333333333333, \"#9c179e\"], [0.4444444444444444, \"#bd3786\"], [0.5555555555555556, \"#d8576b\"], [0.6666666666666666, \"#ed7953\"], [0.7777777777777778, \"#fb9f3a\"], [0.8888888888888888, \"#fdca26\"], [1.0, \"#f0f921\"]], \"sequentialminus\": [[0.0, \"#0d0887\"], [0.1111111111111111, \"#46039f\"], [0.2222222222222222, \"#7201a8\"], [0.3333333333333333, \"#9c179e\"], [0.4444444444444444, \"#bd3786\"], [0.5555555555555556, \"#d8576b\"], [0.6666666666666666, \"#ed7953\"], [0.7777777777777778, \"#fb9f3a\"], [0.8888888888888888, \"#fdca26\"], [1.0, \"#f0f921\"]]}, \"colorway\": [\"#636efa\", \"#EF553B\", \"#00cc96\", \"#ab63fa\", \"#FFA15A\", \"#19d3f3\", \"#FF6692\", \"#B6E880\", \"#FF97FF\", \"#FECB52\"], \"font\": {\"color\": \"#2a3f5f\"}, \"geo\": {\"bgcolor\": \"white\", \"lakecolor\": \"white\", \"landcolor\": \"#E5ECF6\", \"showlakes\": true, \"showland\": true, \"subunitcolor\": \"white\"}, \"hoverlabel\": {\"align\": \"left\"}, \"hovermode\": \"closest\", \"mapbox\": {\"style\": \"light\"}, \"paper_bgcolor\": \"white\", \"plot_bgcolor\": \"#E5ECF6\", \"polar\": {\"angularaxis\": {\"gridcolor\": \"white\", \"linecolor\": \"white\", \"ticks\": \"\"}, \"bgcolor\": \"#E5ECF6\", \"radialaxis\": {\"gridcolor\": \"white\", \"linecolor\": \"white\", \"ticks\": \"\"}}, \"scene\": {\"xaxis\": {\"backgroundcolor\": \"#E5ECF6\", \"gridcolor\": \"white\", \"gridwidth\": 2, \"linecolor\": \"white\", \"showbackground\": true, \"ticks\": \"\", \"zerolinecolor\": \"white\"}, \"yaxis\": {\"backgroundcolor\": \"#E5ECF6\", \"gridcolor\": \"white\", \"gridwidth\": 2, \"linecolor\": \"white\", \"showbackground\": true, \"ticks\": \"\", \"zerolinecolor\": \"white\"}, \"zaxis\": {\"backgroundcolor\": \"#E5ECF6\", \"gridcolor\": \"white\", \"gridwidth\": 2, \"linecolor\": \"white\", \"showbackground\": true, \"ticks\": \"\", \"zerolinecolor\": \"white\"}}, \"shapedefaults\": {\"line\": {\"color\": \"#2a3f5f\"}}, \"ternary\": {\"aaxis\": {\"gridcolor\": \"white\", \"linecolor\": \"white\", \"ticks\": \"\"}, \"baxis\": {\"gridcolor\": \"white\", \"linecolor\": \"white\", \"ticks\": \"\"}, \"bgcolor\": \"#E5ECF6\", \"caxis\": {\"gridcolor\": \"white\", \"linecolor\": \"white\", \"ticks\": \"\"}}, \"title\": {\"x\": 0.05}, \"xaxis\": {\"automargin\": true, \"gridcolor\": \"white\", \"linecolor\": \"white\", \"ticks\": \"\", \"title\": {\"standoff\": 15}, \"zerolinecolor\": \"white\", \"zerolinewidth\": 2}, \"yaxis\": {\"automargin\": true, \"gridcolor\": \"white\", \"linecolor\": \"white\", \"ticks\": \"\", \"title\": {\"standoff\": 15}, \"zerolinecolor\": \"white\", \"zerolinewidth\": 2}}}, \"title\": {\"text\": \"Top 20 Word count\"}, \"xaxis\": {\"automargin\": true, \"title\": {\"text\": \"Word\"}}, \"yaxis\": {\"automargin\": true, \"title\": {\"text\": \"Frequency\"}}},\n",
       "                        {\"showLink\": true, \"linkText\": \"Export to plot.ly\", \"plotlyServerURL\": \"https://plot.ly\", \"responsive\": true}\n",
       "                    ).then(function(){\n",
       "                            \n",
       "var gd = document.getElementById('0b41f1a6-a691-4f52-be26-41708236bd86');\n",
       "var x = new MutationObserver(function (mutations, observer) {{\n",
       "        var display = window.getComputedStyle(gd).display;\n",
       "        if (!display || display === 'none') {{\n",
       "            console.log([gd, 'removed!']);\n",
       "            Plotly.purge(gd);\n",
       "            observer.disconnect();\n",
       "        }}\n",
       "}});\n",
       "\n",
       "// Listen for the removal of the full notebook cells\n",
       "var notebookContainer = gd.closest('#notebook-container');\n",
       "if (notebookContainer) {{\n",
       "    x.observe(notebookContainer, {childList: true});\n",
       "}}\n",
       "\n",
       "// Listen for the clearing of the current output cell\n",
       "var outputEl = gd.closest('.output');\n",
       "if (outputEl) {{\n",
       "    x.observe(outputEl, {childList: true});\n",
       "}}\n",
       "\n",
       "                        })\n",
       "                };\n",
       "                });\n",
       "            </script>\n",
       "        </div>"
      ]
     },
     "metadata": {},
     "output_type": "display_data"
    }
   ],
   "source": [
    "# show barchart form word frequency\n",
    "df_freq = pd.DataFrame.from_dict(data = wordcloud.words_, orient='index')\n",
    "df_freq = df_freq.head(20)\n",
    "layout1=dict(autosize=True, yaxis=dict(automargin=True, title=\"Frequency\"), xaxis=dict(automargin=True, title=\"Word\"),title=\"Top 20 Word count\")\n",
    "df_freq.iplot(kind='bar', title = 'Top 20 Word frequency', color=\"blue\", layout=layout1)\n",
    "\n",
    "'''\n",
    "# Alternative method to run under SWAN where cufflinks can't be installed \n",
    "# create dataframe for word frequency\n",
    "freq_counts = df_freq.rename_axis('word').reset_index()\n",
    "freq_counts.columns = ['word','freq']\n",
    "\n",
    "# show interative barchart for word frequency\n",
    "fig = px.bar(\n",
    "    freq_counts, x=\"word\", y=\"freq\", \n",
    "    labels=dict(word=\"Word\", freq=\"Frequency\"), \n",
    "    width=1600, height=800, title=\"Top 20 Word frequency\"\n",
    ")\n",
    "fig.update_xaxes(tickangle = 45)\n",
    "\n",
    "#fig.update_traces(marker_color='green')\n",
    "\n",
    "fig.show()\n",
    "'''\n"
   ]
  },
  {
   "cell_type": "markdown",
   "metadata": {},
   "source": [
    "### Reference:\n",
    "**How to get API Keys and Tokens for Twitter<br/>\n",
    "https://www.slickremix.com/docs/how-to-get-api-keys-and-tokens-for-twitter/<br/>\n",
    "Stream Tweets in Under 15 Lines of Code + Some Interactive Data Visualization<br/>\n",
    "https://dzone.com/articles/stream-tweets-the-easy-way-in-under-15-lines-of-co<br/>\n",
    "Twitter Firehose vs. Twitter API: What’s the difference and why should you care?<br/>\n",
    "https://brightplanet.com/2013/06/25/twitter-firehose-vs-twitter-api-whats-the-difference-and-why-should-you-care/ <br/>\n",
    "Twitter Data Visualisation<br/>\n",
    "https://nbviewer.jupyter.org/github/SantaDS/DataVisualisation/blob/master/TwitterDataAnalysis/twitter_data_analysis.ipynb<br/>\n",
    "Dynamic Visualization For Twitter Data<br/>\n",
    "https://github.com/shihao1007/vggm<br/>\n",
    "Mine Twitter's Stream For Hashtags Or Words<br/>\n",
    "https://chrisalbon.com/python/other/mine_a_twitter_hashtags_and_words/<br/>\n",
    "Twitter Data Visualisation<br/>\n",
    "https://www.kaggle.com/tuncbileko/twitter-data-visualisation/<br/>\n",
    "Tweepy API Reference<br/>\n",
    "http://docs.tweepy.org/en/latest/api.html#API.search<br/>\n",
    "Tweepy Streaming<br/>\n",
    "https://github.com/tweepy/tweepy/blob/78d2883a922fa5232e8cdfab0c272c24b8ce37c4/tweepy/streaming.py<br/>\n",
    "Twitter API<br/>\n",
    "https://developer.twitter.com/en/docs/twitter-api/v1/data-dictionary/object-model/user<br/>**"
   ]
  }
 ],
 "metadata": {
  "kernelspec": {
   "display_name": "Python 3",
   "language": "python",
   "name": "python3"
  },
  "language_info": {
   "codemirror_mode": {
    "name": "ipython",
    "version": 3
   },
   "file_extension": ".py",
   "mimetype": "text/x-python",
   "name": "python",
   "nbconvert_exporter": "python",
   "pygments_lexer": "ipython3",
   "version": "3.6.9"
  }
 },
 "nbformat": 4,
 "nbformat_minor": 4
}
