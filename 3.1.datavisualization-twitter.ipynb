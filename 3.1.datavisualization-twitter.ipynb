{
 "cells": [
  {
   "cell_type": "markdown",
   "metadata": {},
   "source": [
    "3 Data analysis and visualization\n",
    "======\n",
    "***"
   ]
  },
  {
   "cell_type": "markdown",
   "metadata": {},
   "source": [
    "3.1 Twitter data analysis and visualization\n",
    "------"
   ]
  },
  {
   "cell_type": "markdown",
   "metadata": {},
   "source": [
    "**In this section we use the data gathered in 1.1.1 to experiment different ways of visualizing Twitter data.**"
   ]
  },
  {
   "cell_type": "markdown",
   "metadata": {},
   "source": [
    "### 3.1.1 Check data frame information "
   ]
  },
  {
   "cell_type": "markdown",
   "metadata": {},
   "source": [
    "**Import numpy and pandas python libraries for data processing.**"
   ]
  },
  {
   "cell_type": "code",
   "execution_count": 71,
   "metadata": {},
   "outputs": [],
   "source": [
    "# import numpy and pandas python libraries\n",
    "import numpy as np\n",
    "import pandas as pd\n",
    "\n",
    "import warnings\n",
    "warnings.filterwarnings(\"ignore\")"
   ]
  },
  {
   "cell_type": "markdown",
   "metadata": {},
   "source": [
    "**read csv file from 1.1.1 to dataframe, remove first column (index)**"
   ]
  },
  {
   "cell_type": "code",
   "execution_count": 72,
   "metadata": {},
   "outputs": [],
   "source": [
    "# read csv to dataframe, remove first column (index)\n",
    "df = pd.read_csv(\"dh_tweets.csv\") \n",
    "df = df.drop(df.columns[0], axis=1)\n"
   ]
  },
  {
   "cell_type": "markdown",
   "metadata": {},
   "source": [
    "**Check and inspect dataframe.**"
   ]
  },
  {
   "cell_type": "code",
   "execution_count": 73,
   "metadata": {},
   "outputs": [
    {
     "data": {
      "text/html": [
       "<div>\n",
       "<style scoped>\n",
       "    .dataframe tbody tr th:only-of-type {\n",
       "        vertical-align: middle;\n",
       "    }\n",
       "\n",
       "    .dataframe tbody tr th {\n",
       "        vertical-align: top;\n",
       "    }\n",
       "\n",
       "    .dataframe thead th {\n",
       "        text-align: right;\n",
       "    }\n",
       "</style>\n",
       "<table border=\"1\" class=\"dataframe\">\n",
       "  <thead>\n",
       "    <tr style=\"text-align: right;\">\n",
       "      <th></th>\n",
       "      <th>text</th>\n",
       "      <th>user.name</th>\n",
       "      <th>user.statuses_count</th>\n",
       "      <th>user.screen_name</th>\n",
       "      <th>user.followers_count</th>\n",
       "      <th>user.location</th>\n",
       "      <th>user.verified</th>\n",
       "      <th>user.profile_image_url_https</th>\n",
       "      <th>favorite_count</th>\n",
       "      <th>retweet_count</th>\n",
       "      <th>created_at</th>\n",
       "      <th>hashtags</th>\n",
       "      <th>quoted_hashtags</th>\n",
       "      <th>user_lat</th>\n",
       "      <th>user_lng</th>\n",
       "    </tr>\n",
       "  </thead>\n",
       "  <tbody>\n",
       "    <tr>\n",
       "      <th>0</th>\n",
       "      <td>RT @EmilyJLB: Folks who’ve built digital editi...</td>\n",
       "      <td>blueciren</td>\n",
       "      <td>230</td>\n",
       "      <td>kiun2020</td>\n",
       "      <td>1</td>\n",
       "      <td>NaN</td>\n",
       "      <td>False</td>\n",
       "      <td>https://pbs.twimg.com/profile_images/128155124...</td>\n",
       "      <td>0</td>\n",
       "      <td>3</td>\n",
       "      <td>2020-12-13 11:42:48</td>\n",
       "      <td>[]</td>\n",
       "      <td>[]</td>\n",
       "      <td>NaN</td>\n",
       "      <td>NaN</td>\n",
       "    </tr>\n",
       "    <tr>\n",
       "      <th>1</th>\n",
       "      <td>RT @EmilyJLB: Folks who’ve built digital editi...</td>\n",
       "      <td>RedInt</td>\n",
       "      <td>6669</td>\n",
       "      <td>desemboltura</td>\n",
       "      <td>800</td>\n",
       "      <td>대한민국 서울</td>\n",
       "      <td>False</td>\n",
       "      <td>https://pbs.twimg.com/profile_images/109283546...</td>\n",
       "      <td>0</td>\n",
       "      <td>3</td>\n",
       "      <td>2020-12-13 09:11:08</td>\n",
       "      <td>[]</td>\n",
       "      <td>[]</td>\n",
       "      <td>37.566679</td>\n",
       "      <td>126.978291</td>\n",
       "    </tr>\n",
       "    <tr>\n",
       "      <th>2</th>\n",
       "      <td>RT @faberllull: #opencall \\n\\nScience, technol...</td>\n",
       "      <td>faberllull</td>\n",
       "      <td>2512</td>\n",
       "      <td>faberllull</td>\n",
       "      <td>2402</td>\n",
       "      <td>Olot &amp; Andorra</td>\n",
       "      <td>False</td>\n",
       "      <td>https://pbs.twimg.com/profile_images/127788643...</td>\n",
       "      <td>0</td>\n",
       "      <td>7</td>\n",
       "      <td>2020-12-12 20:03:27</td>\n",
       "      <td>['opencall', 'digitalhumanities']</td>\n",
       "      <td>[]</td>\n",
       "      <td>NaN</td>\n",
       "      <td>NaN</td>\n",
       "    </tr>\n",
       "    <tr>\n",
       "      <th>3</th>\n",
       "      <td>RT @faberllull: #opencall \\n\\nScience, technol...</td>\n",
       "      <td>Llull London</td>\n",
       "      <td>3701</td>\n",
       "      <td>IRLlull_London</td>\n",
       "      <td>1637</td>\n",
       "      <td>UK and Ireland</td>\n",
       "      <td>False</td>\n",
       "      <td>https://pbs.twimg.com/profile_images/106086701...</td>\n",
       "      <td>0</td>\n",
       "      <td>7</td>\n",
       "      <td>2020-12-12 20:02:21</td>\n",
       "      <td>['opencall', 'digitalhumanities']</td>\n",
       "      <td>[]</td>\n",
       "      <td>53.398923</td>\n",
       "      <td>-2.352557</td>\n",
       "    </tr>\n",
       "    <tr>\n",
       "      <th>4</th>\n",
       "      <td>RT @EEditiones: Have you been nice or naughty?...</td>\n",
       "      <td>Magdalena Turska</td>\n",
       "      <td>1144</td>\n",
       "      <td>magdaturska</td>\n",
       "      <td>351</td>\n",
       "      <td>Warsaw</td>\n",
       "      <td>False</td>\n",
       "      <td>https://pbs.twimg.com/profile_images/464165916...</td>\n",
       "      <td>0</td>\n",
       "      <td>12</td>\n",
       "      <td>2020-12-12 12:35:23</td>\n",
       "      <td>[]</td>\n",
       "      <td>[]</td>\n",
       "      <td>52.231958</td>\n",
       "      <td>21.006725</td>\n",
       "    </tr>\n",
       "  </tbody>\n",
       "</table>\n",
       "</div>"
      ],
      "text/plain": [
       "                                                text         user.name  \\\n",
       "0  RT @EmilyJLB: Folks who’ve built digital editi...         blueciren   \n",
       "1  RT @EmilyJLB: Folks who’ve built digital editi...            RedInt   \n",
       "2  RT @faberllull: #opencall \\n\\nScience, technol...        faberllull   \n",
       "3  RT @faberllull: #opencall \\n\\nScience, technol...      Llull London   \n",
       "4  RT @EEditiones: Have you been nice or naughty?...  Magdalena Turska   \n",
       "\n",
       "   user.statuses_count user.screen_name  user.followers_count   user.location  \\\n",
       "0                  230         kiun2020                     1             NaN   \n",
       "1                 6669     desemboltura                   800         대한민국 서울   \n",
       "2                 2512       faberllull                  2402  Olot & Andorra   \n",
       "3                 3701   IRLlull_London                  1637  UK and Ireland   \n",
       "4                 1144      magdaturska                   351          Warsaw   \n",
       "\n",
       "   user.verified                       user.profile_image_url_https  \\\n",
       "0          False  https://pbs.twimg.com/profile_images/128155124...   \n",
       "1          False  https://pbs.twimg.com/profile_images/109283546...   \n",
       "2          False  https://pbs.twimg.com/profile_images/127788643...   \n",
       "3          False  https://pbs.twimg.com/profile_images/106086701...   \n",
       "4          False  https://pbs.twimg.com/profile_images/464165916...   \n",
       "\n",
       "   favorite_count  retweet_count           created_at  \\\n",
       "0               0              3  2020-12-13 11:42:48   \n",
       "1               0              3  2020-12-13 09:11:08   \n",
       "2               0              7  2020-12-12 20:03:27   \n",
       "3               0              7  2020-12-12 20:02:21   \n",
       "4               0             12  2020-12-12 12:35:23   \n",
       "\n",
       "                            hashtags quoted_hashtags   user_lat    user_lng  \n",
       "0                                 []              []        NaN         NaN  \n",
       "1                                 []              []  37.566679  126.978291  \n",
       "2  ['opencall', 'digitalhumanities']              []        NaN         NaN  \n",
       "3  ['opencall', 'digitalhumanities']              []  53.398923   -2.352557  \n",
       "4                                 []              []  52.231958   21.006725  "
      ]
     },
     "execution_count": 73,
     "metadata": {},
     "output_type": "execute_result"
    }
   ],
   "source": [
    "# check dataframe\n",
    "df.head()"
   ]
  },
  {
   "cell_type": "code",
   "execution_count": 74,
   "metadata": {},
   "outputs": [
    {
     "name": "stdout",
     "output_type": "stream",
     "text": [
      "<class 'pandas.core.frame.DataFrame'>\n",
      "RangeIndex: 51 entries, 0 to 50\n",
      "Data columns (total 15 columns):\n",
      " #   Column                        Non-Null Count  Dtype  \n",
      "---  ------                        --------------  -----  \n",
      " 0   text                          51 non-null     object \n",
      " 1   user.name                     51 non-null     object \n",
      " 2   user.statuses_count           51 non-null     int64  \n",
      " 3   user.screen_name              51 non-null     object \n",
      " 4   user.followers_count          51 non-null     int64  \n",
      " 5   user.location                 34 non-null     object \n",
      " 6   user.verified                 51 non-null     bool   \n",
      " 7   user.profile_image_url_https  51 non-null     object \n",
      " 8   favorite_count                51 non-null     int64  \n",
      " 9   retweet_count                 51 non-null     int64  \n",
      " 10  created_at                    51 non-null     object \n",
      " 11  hashtags                      51 non-null     object \n",
      " 12  quoted_hashtags               51 non-null     object \n",
      " 13  user_lat                      31 non-null     float64\n",
      " 14  user_lng                      31 non-null     float64\n",
      "dtypes: bool(1), float64(2), int64(4), object(8)\n",
      "memory usage: 5.8+ KB\n"
     ]
    }
   ],
   "source": [
    "# check dataframe\n",
    "df.info()"
   ]
  },
  {
   "cell_type": "markdown",
   "metadata": {},
   "source": [
    "### 3.1.2 Bar chart visualization "
   ]
  },
  {
   "cell_type": "markdown",
   "metadata": {},
   "source": [
    "**Import required libraries matplotlib, plotly, textblob, wordcloud, cufflinks etc for data visualisation.**"
   ]
  },
  {
   "cell_type": "code",
   "execution_count": 75,
   "metadata": {},
   "outputs": [
    {
     "data": {
      "text/html": [
       "        <script type=\"text/javascript\">\n",
       "        window.PlotlyConfig = {MathJaxConfig: 'local'};\n",
       "        if (window.MathJax) {MathJax.Hub.Config({SVG: {font: \"STIX-Web\"}});}\n",
       "        if (typeof require !== 'undefined') {\n",
       "        require.undef(\"plotly\");\n",
       "        requirejs.config({\n",
       "            paths: {\n",
       "                'plotly': ['https://cdn.plot.ly/plotly-latest.min']\n",
       "            }\n",
       "        });\n",
       "        require(['plotly'], function(Plotly) {\n",
       "            window._Plotly = Plotly;\n",
       "        });\n",
       "        }\n",
       "        </script>\n",
       "        "
      ]
     },
     "metadata": {},
     "output_type": "display_data"
    },
    {
     "data": {
      "text/html": [
       "        <script type=\"text/javascript\">\n",
       "        window.PlotlyConfig = {MathJaxConfig: 'local'};\n",
       "        if (window.MathJax) {MathJax.Hub.Config({SVG: {font: \"STIX-Web\"}});}\n",
       "        if (typeof require !== 'undefined') {\n",
       "        require.undef(\"plotly\");\n",
       "        requirejs.config({\n",
       "            paths: {\n",
       "                'plotly': ['https://cdn.plot.ly/plotly-latest.min']\n",
       "            }\n",
       "        });\n",
       "        require(['plotly'], function(Plotly) {\n",
       "            window._Plotly = Plotly;\n",
       "        });\n",
       "        }\n",
       "        </script>\n",
       "        "
      ]
     },
     "metadata": {},
     "output_type": "display_data"
    }
   ],
   "source": [
    "# import required libraries for visualisation \n",
    "from textblob import TextBlob\n",
    "from wordcloud import WordCloud, STOPWORDS\n",
    "import chart_studio.plotly as py\n",
    "import plotly.graph_objs as go\n",
    "from plotly.offline import iplot\n",
    "import cufflinks\n",
    "cufflinks.go_offline()\n",
    "cufflinks.set_config_file(world_readable=True, theme='pearl', offline=True)\n",
    "import matplotlib.pyplot as plt\n"
   ]
  },
  {
   "cell_type": "markdown",
   "metadata": {},
   "source": [
    "**Plot barchart for Number of twitter for each user and sort by number**"
   ]
  },
  {
   "cell_type": "code",
   "execution_count": 76,
   "metadata": {},
   "outputs": [
    {
     "data": {
      "application/vnd.plotly.v1+json": {
       "config": {
        "linkText": "Export to plot.ly",
        "plotlyServerURL": "https://plot.ly",
        "showLink": true
       },
       "data": [
        {
         "marker": {
          "color": "rgba(55, 128, 191, 0.6)",
          "line": {
           "color": "rgba(55, 128, 191, 1.0)",
           "width": 1
          }
         },
         "name": "user.name",
         "orientation": "v",
         "text": "",
         "type": "bar",
         "x": [
          "Aluminium-Lanthan-Uran-Ruthenium-Sulfid",
          "Liz Stokes",
          "Urs ☭",
          "Dr Emily Bell",
          "Aurelia Brandenburg",
          "Alexis Tindall",
          "Ingrid Mason",
          "e-editiones.org",
          "Llull London",
          "DSS at Pitt",
          "Boris Lehečka",
          "Valeria Federici",
          "VR Retweeter",
          "sciBot 💻",
          "Sara King",
          "Typiespectre",
          "Andreas Kraenzle",
          "blueciren",
          "Joe Wicentowski",
          "Suzana Sukovic",
          "joel piqué",
          "Leif-Jöran Olsson",
          "eXist Solutions",
          "Neus Domenech Oller",
          "Llull New York",
          "Georgetown University Department of English",
          "margy maclibrary",
          "Katrina Grant",
          "Patrick Sahle",
          "Nebraska Geography",
          "Digital Humanities Hub | Lancaster University",
          "Magdalena Turska",
          "Friprogramvarusyndikatet",
          "Pascal Wagner",
          "Dennis Ried",
          "Digital Science Center (DiSC)",
          "TEI Publisher",
          "faberllull",
          "Totally Real DH Person",
          "RedInt",
          "K. White"
         ],
         "y": [
          1,
          1,
          1,
          1,
          1,
          1,
          1,
          1,
          1,
          1,
          1,
          1,
          1,
          1,
          1,
          1,
          1,
          1,
          1,
          1,
          1,
          1,
          1,
          1,
          1,
          1,
          1,
          1,
          1,
          1,
          1,
          1,
          1,
          1,
          1,
          1,
          1,
          2,
          2,
          2,
          8
         ]
        }
       ],
       "layout": {
        "autosize": true,
        "template": {
         "data": {
          "bar": [
           {
            "error_x": {
             "color": "#2a3f5f"
            },
            "error_y": {
             "color": "#2a3f5f"
            },
            "marker": {
             "line": {
              "color": "#E5ECF6",
              "width": 0.5
             }
            },
            "type": "bar"
           }
          ],
          "barpolar": [
           {
            "marker": {
             "line": {
              "color": "#E5ECF6",
              "width": 0.5
             }
            },
            "type": "barpolar"
           }
          ],
          "carpet": [
           {
            "aaxis": {
             "endlinecolor": "#2a3f5f",
             "gridcolor": "white",
             "linecolor": "white",
             "minorgridcolor": "white",
             "startlinecolor": "#2a3f5f"
            },
            "baxis": {
             "endlinecolor": "#2a3f5f",
             "gridcolor": "white",
             "linecolor": "white",
             "minorgridcolor": "white",
             "startlinecolor": "#2a3f5f"
            },
            "type": "carpet"
           }
          ],
          "choropleth": [
           {
            "colorbar": {
             "outlinewidth": 0,
             "ticks": ""
            },
            "type": "choropleth"
           }
          ],
          "contour": [
           {
            "colorbar": {
             "outlinewidth": 0,
             "ticks": ""
            },
            "colorscale": [
             [
              0,
              "#0d0887"
             ],
             [
              0.1111111111111111,
              "#46039f"
             ],
             [
              0.2222222222222222,
              "#7201a8"
             ],
             [
              0.3333333333333333,
              "#9c179e"
             ],
             [
              0.4444444444444444,
              "#bd3786"
             ],
             [
              0.5555555555555556,
              "#d8576b"
             ],
             [
              0.6666666666666666,
              "#ed7953"
             ],
             [
              0.7777777777777778,
              "#fb9f3a"
             ],
             [
              0.8888888888888888,
              "#fdca26"
             ],
             [
              1,
              "#f0f921"
             ]
            ],
            "type": "contour"
           }
          ],
          "contourcarpet": [
           {
            "colorbar": {
             "outlinewidth": 0,
             "ticks": ""
            },
            "type": "contourcarpet"
           }
          ],
          "heatmap": [
           {
            "colorbar": {
             "outlinewidth": 0,
             "ticks": ""
            },
            "colorscale": [
             [
              0,
              "#0d0887"
             ],
             [
              0.1111111111111111,
              "#46039f"
             ],
             [
              0.2222222222222222,
              "#7201a8"
             ],
             [
              0.3333333333333333,
              "#9c179e"
             ],
             [
              0.4444444444444444,
              "#bd3786"
             ],
             [
              0.5555555555555556,
              "#d8576b"
             ],
             [
              0.6666666666666666,
              "#ed7953"
             ],
             [
              0.7777777777777778,
              "#fb9f3a"
             ],
             [
              0.8888888888888888,
              "#fdca26"
             ],
             [
              1,
              "#f0f921"
             ]
            ],
            "type": "heatmap"
           }
          ],
          "heatmapgl": [
           {
            "colorbar": {
             "outlinewidth": 0,
             "ticks": ""
            },
            "colorscale": [
             [
              0,
              "#0d0887"
             ],
             [
              0.1111111111111111,
              "#46039f"
             ],
             [
              0.2222222222222222,
              "#7201a8"
             ],
             [
              0.3333333333333333,
              "#9c179e"
             ],
             [
              0.4444444444444444,
              "#bd3786"
             ],
             [
              0.5555555555555556,
              "#d8576b"
             ],
             [
              0.6666666666666666,
              "#ed7953"
             ],
             [
              0.7777777777777778,
              "#fb9f3a"
             ],
             [
              0.8888888888888888,
              "#fdca26"
             ],
             [
              1,
              "#f0f921"
             ]
            ],
            "type": "heatmapgl"
           }
          ],
          "histogram": [
           {
            "marker": {
             "colorbar": {
              "outlinewidth": 0,
              "ticks": ""
             }
            },
            "type": "histogram"
           }
          ],
          "histogram2d": [
           {
            "colorbar": {
             "outlinewidth": 0,
             "ticks": ""
            },
            "colorscale": [
             [
              0,
              "#0d0887"
             ],
             [
              0.1111111111111111,
              "#46039f"
             ],
             [
              0.2222222222222222,
              "#7201a8"
             ],
             [
              0.3333333333333333,
              "#9c179e"
             ],
             [
              0.4444444444444444,
              "#bd3786"
             ],
             [
              0.5555555555555556,
              "#d8576b"
             ],
             [
              0.6666666666666666,
              "#ed7953"
             ],
             [
              0.7777777777777778,
              "#fb9f3a"
             ],
             [
              0.8888888888888888,
              "#fdca26"
             ],
             [
              1,
              "#f0f921"
             ]
            ],
            "type": "histogram2d"
           }
          ],
          "histogram2dcontour": [
           {
            "colorbar": {
             "outlinewidth": 0,
             "ticks": ""
            },
            "colorscale": [
             [
              0,
              "#0d0887"
             ],
             [
              0.1111111111111111,
              "#46039f"
             ],
             [
              0.2222222222222222,
              "#7201a8"
             ],
             [
              0.3333333333333333,
              "#9c179e"
             ],
             [
              0.4444444444444444,
              "#bd3786"
             ],
             [
              0.5555555555555556,
              "#d8576b"
             ],
             [
              0.6666666666666666,
              "#ed7953"
             ],
             [
              0.7777777777777778,
              "#fb9f3a"
             ],
             [
              0.8888888888888888,
              "#fdca26"
             ],
             [
              1,
              "#f0f921"
             ]
            ],
            "type": "histogram2dcontour"
           }
          ],
          "mesh3d": [
           {
            "colorbar": {
             "outlinewidth": 0,
             "ticks": ""
            },
            "type": "mesh3d"
           }
          ],
          "parcoords": [
           {
            "line": {
             "colorbar": {
              "outlinewidth": 0,
              "ticks": ""
             }
            },
            "type": "parcoords"
           }
          ],
          "pie": [
           {
            "automargin": true,
            "type": "pie"
           }
          ],
          "scatter": [
           {
            "marker": {
             "colorbar": {
              "outlinewidth": 0,
              "ticks": ""
             }
            },
            "type": "scatter"
           }
          ],
          "scatter3d": [
           {
            "line": {
             "colorbar": {
              "outlinewidth": 0,
              "ticks": ""
             }
            },
            "marker": {
             "colorbar": {
              "outlinewidth": 0,
              "ticks": ""
             }
            },
            "type": "scatter3d"
           }
          ],
          "scattercarpet": [
           {
            "marker": {
             "colorbar": {
              "outlinewidth": 0,
              "ticks": ""
             }
            },
            "type": "scattercarpet"
           }
          ],
          "scattergeo": [
           {
            "marker": {
             "colorbar": {
              "outlinewidth": 0,
              "ticks": ""
             }
            },
            "type": "scattergeo"
           }
          ],
          "scattergl": [
           {
            "marker": {
             "colorbar": {
              "outlinewidth": 0,
              "ticks": ""
             }
            },
            "type": "scattergl"
           }
          ],
          "scattermapbox": [
           {
            "marker": {
             "colorbar": {
              "outlinewidth": 0,
              "ticks": ""
             }
            },
            "type": "scattermapbox"
           }
          ],
          "scatterpolar": [
           {
            "marker": {
             "colorbar": {
              "outlinewidth": 0,
              "ticks": ""
             }
            },
            "type": "scatterpolar"
           }
          ],
          "scatterpolargl": [
           {
            "marker": {
             "colorbar": {
              "outlinewidth": 0,
              "ticks": ""
             }
            },
            "type": "scatterpolargl"
           }
          ],
          "scatterternary": [
           {
            "marker": {
             "colorbar": {
              "outlinewidth": 0,
              "ticks": ""
             }
            },
            "type": "scatterternary"
           }
          ],
          "surface": [
           {
            "colorbar": {
             "outlinewidth": 0,
             "ticks": ""
            },
            "colorscale": [
             [
              0,
              "#0d0887"
             ],
             [
              0.1111111111111111,
              "#46039f"
             ],
             [
              0.2222222222222222,
              "#7201a8"
             ],
             [
              0.3333333333333333,
              "#9c179e"
             ],
             [
              0.4444444444444444,
              "#bd3786"
             ],
             [
              0.5555555555555556,
              "#d8576b"
             ],
             [
              0.6666666666666666,
              "#ed7953"
             ],
             [
              0.7777777777777778,
              "#fb9f3a"
             ],
             [
              0.8888888888888888,
              "#fdca26"
             ],
             [
              1,
              "#f0f921"
             ]
            ],
            "type": "surface"
           }
          ],
          "table": [
           {
            "cells": {
             "fill": {
              "color": "#EBF0F8"
             },
             "line": {
              "color": "white"
             }
            },
            "header": {
             "fill": {
              "color": "#C8D4E3"
             },
             "line": {
              "color": "white"
             }
            },
            "type": "table"
           }
          ]
         },
         "layout": {
          "annotationdefaults": {
           "arrowcolor": "#2a3f5f",
           "arrowhead": 0,
           "arrowwidth": 1
          },
          "coloraxis": {
           "colorbar": {
            "outlinewidth": 0,
            "ticks": ""
           }
          },
          "colorscale": {
           "diverging": [
            [
             0,
             "#8e0152"
            ],
            [
             0.1,
             "#c51b7d"
            ],
            [
             0.2,
             "#de77ae"
            ],
            [
             0.3,
             "#f1b6da"
            ],
            [
             0.4,
             "#fde0ef"
            ],
            [
             0.5,
             "#f7f7f7"
            ],
            [
             0.6,
             "#e6f5d0"
            ],
            [
             0.7,
             "#b8e186"
            ],
            [
             0.8,
             "#7fbc41"
            ],
            [
             0.9,
             "#4d9221"
            ],
            [
             1,
             "#276419"
            ]
           ],
           "sequential": [
            [
             0,
             "#0d0887"
            ],
            [
             0.1111111111111111,
             "#46039f"
            ],
            [
             0.2222222222222222,
             "#7201a8"
            ],
            [
             0.3333333333333333,
             "#9c179e"
            ],
            [
             0.4444444444444444,
             "#bd3786"
            ],
            [
             0.5555555555555556,
             "#d8576b"
            ],
            [
             0.6666666666666666,
             "#ed7953"
            ],
            [
             0.7777777777777778,
             "#fb9f3a"
            ],
            [
             0.8888888888888888,
             "#fdca26"
            ],
            [
             1,
             "#f0f921"
            ]
           ],
           "sequentialminus": [
            [
             0,
             "#0d0887"
            ],
            [
             0.1111111111111111,
             "#46039f"
            ],
            [
             0.2222222222222222,
             "#7201a8"
            ],
            [
             0.3333333333333333,
             "#9c179e"
            ],
            [
             0.4444444444444444,
             "#bd3786"
            ],
            [
             0.5555555555555556,
             "#d8576b"
            ],
            [
             0.6666666666666666,
             "#ed7953"
            ],
            [
             0.7777777777777778,
             "#fb9f3a"
            ],
            [
             0.8888888888888888,
             "#fdca26"
            ],
            [
             1,
             "#f0f921"
            ]
           ]
          },
          "colorway": [
           "#636efa",
           "#EF553B",
           "#00cc96",
           "#ab63fa",
           "#FFA15A",
           "#19d3f3",
           "#FF6692",
           "#B6E880",
           "#FF97FF",
           "#FECB52"
          ],
          "font": {
           "color": "#2a3f5f"
          },
          "geo": {
           "bgcolor": "white",
           "lakecolor": "white",
           "landcolor": "#E5ECF6",
           "showlakes": true,
           "showland": true,
           "subunitcolor": "white"
          },
          "hoverlabel": {
           "align": "left"
          },
          "hovermode": "closest",
          "mapbox": {
           "style": "light"
          },
          "paper_bgcolor": "white",
          "plot_bgcolor": "#E5ECF6",
          "polar": {
           "angularaxis": {
            "gridcolor": "white",
            "linecolor": "white",
            "ticks": ""
           },
           "bgcolor": "#E5ECF6",
           "radialaxis": {
            "gridcolor": "white",
            "linecolor": "white",
            "ticks": ""
           }
          },
          "scene": {
           "xaxis": {
            "backgroundcolor": "#E5ECF6",
            "gridcolor": "white",
            "gridwidth": 2,
            "linecolor": "white",
            "showbackground": true,
            "ticks": "",
            "zerolinecolor": "white"
           },
           "yaxis": {
            "backgroundcolor": "#E5ECF6",
            "gridcolor": "white",
            "gridwidth": 2,
            "linecolor": "white",
            "showbackground": true,
            "ticks": "",
            "zerolinecolor": "white"
           },
           "zaxis": {
            "backgroundcolor": "#E5ECF6",
            "gridcolor": "white",
            "gridwidth": 2,
            "linecolor": "white",
            "showbackground": true,
            "ticks": "",
            "zerolinecolor": "white"
           }
          },
          "shapedefaults": {
           "line": {
            "color": "#2a3f5f"
           }
          },
          "ternary": {
           "aaxis": {
            "gridcolor": "white",
            "linecolor": "white",
            "ticks": ""
           },
           "baxis": {
            "gridcolor": "white",
            "linecolor": "white",
            "ticks": ""
           },
           "bgcolor": "#E5ECF6",
           "caxis": {
            "gridcolor": "white",
            "linecolor": "white",
            "ticks": ""
           }
          },
          "title": {
           "x": 0.05
          },
          "xaxis": {
           "automargin": true,
           "gridcolor": "white",
           "linecolor": "white",
           "ticks": "",
           "title": {
            "standoff": 15
           },
           "zerolinecolor": "white",
           "zerolinewidth": 2
          },
          "yaxis": {
           "automargin": true,
           "gridcolor": "white",
           "linecolor": "white",
           "ticks": "",
           "title": {
            "standoff": 15
           },
           "zerolinecolor": "white",
           "zerolinewidth": 2
          }
         }
        },
        "title": {
         "text": "Number of twitter for each user"
        },
        "xaxis": {
         "automargin": true,
         "autorange": true,
         "range": [
          -0.5,
          40.5
         ],
         "type": "category"
        },
        "yaxis": {
         "autorange": true,
         "range": [
          0,
          8.421052631578947
         ],
         "type": "linear"
        }
       }
      },
      "image/png": "[encoded data removed]",
      "text/html": [
       "<div>\n",
       "        \n",
       "        \n",
       "            <div id=\"5f356f90-be16-4621-80e8-781af3c9c375\" class=\"plotly-graph-div\" style=\"height:525px; width:100%;\"></div>\n",
       "            <script type=\"text/javascript\">\n",
       "                require([\"plotly\"], function(Plotly) {\n",
       "                    window.PLOTLYENV=window.PLOTLYENV || {};\n",
       "                    window.PLOTLYENV.BASE_URL='https://plot.ly';\n",
       "                    \n",
       "                if (document.getElementById(\"5f356f90-be16-4621-80e8-781af3c9c375\")) {\n",
       "                    Plotly.newPlot(\n",
       "                        '5f356f90-be16-4621-80e8-781af3c9c375',\n",
       "                        [{\"marker\": {\"color\": \"rgba(55, 128, 191, 0.6)\", \"line\": {\"color\": \"rgba(55, 128, 191, 1.0)\", \"width\": 1}}, \"name\": \"user.name\", \"orientation\": \"v\", \"text\": \"\", \"type\": \"bar\", \"x\": [\"Aluminium-Lanthan-Uran-Ruthenium-Sulfid\", \"Liz Stokes\", \"Urs \\u262d\", \"Dr Emily Bell\", \"Aurelia Brandenburg\", \"Alexis Tindall\", \"Ingrid Mason\", \"e-editiones.org\", \"Llull London\", \"DSS at Pitt\", \"Boris Lehe\\u010dka\", \"Valeria Federici\", \"VR Retweeter\", \"sciBot \\ud83d\\udcbb\", \"Sara King\", \"Typiespectre\", \"Andreas Kraenzle\", \"blueciren\", \"Joe Wicentowski\", \"Suzana Sukovic\", \"joel piqu\\u00e9\", \"Leif-J\\u00f6ran Olsson\", \"eXist Solutions\", \"Neus Domenech Oller\", \"Llull New York\", \"Georgetown University Department of English\", \"margy maclibrary\", \"Katrina Grant\", \"Patrick Sahle\", \"Nebraska Geography\", \"Digital Humanities Hub | Lancaster University\", \"Magdalena Turska\", \"Friprogramvarusyndikatet\", \"Pascal Wagner\", \"Dennis Ried\", \"Digital Science Center (DiSC)\", \"TEI Publisher\", \"faberllull\", \"Totally Real DH Person\", \"RedInt\", \"K. White\"], \"y\": [1, 1, 1, 1, 1, 1, 1, 1, 1, 1, 1, 1, 1, 1, 1, 1, 1, 1, 1, 1, 1, 1, 1, 1, 1, 1, 1, 1, 1, 1, 1, 1, 1, 1, 1, 1, 1, 2, 2, 2, 8]}],\n",
       "                        {\"autosize\": true, \"template\": {\"data\": {\"bar\": [{\"error_x\": {\"color\": \"#2a3f5f\"}, \"error_y\": {\"color\": \"#2a3f5f\"}, \"marker\": {\"line\": {\"color\": \"#E5ECF6\", \"width\": 0.5}}, \"type\": \"bar\"}], \"barpolar\": [{\"marker\": {\"line\": {\"color\": \"#E5ECF6\", \"width\": 0.5}}, \"type\": \"barpolar\"}], \"carpet\": [{\"aaxis\": {\"endlinecolor\": \"#2a3f5f\", \"gridcolor\": \"white\", \"linecolor\": \"white\", \"minorgridcolor\": \"white\", \"startlinecolor\": \"#2a3f5f\"}, \"baxis\": {\"endlinecolor\": \"#2a3f5f\", \"gridcolor\": \"white\", \"linecolor\": \"white\", \"minorgridcolor\": \"white\", \"startlinecolor\": \"#2a3f5f\"}, \"type\": \"carpet\"}], \"choropleth\": [{\"colorbar\": {\"outlinewidth\": 0, \"ticks\": \"\"}, \"type\": \"choropleth\"}], \"contour\": [{\"colorbar\": {\"outlinewidth\": 0, \"ticks\": \"\"}, \"colorscale\": [[0.0, \"#0d0887\"], [0.1111111111111111, \"#46039f\"], [0.2222222222222222, \"#7201a8\"], [0.3333333333333333, \"#9c179e\"], [0.4444444444444444, \"#bd3786\"], [0.5555555555555556, \"#d8576b\"], [0.6666666666666666, \"#ed7953\"], [0.7777777777777778, \"#fb9f3a\"], [0.8888888888888888, \"#fdca26\"], [1.0, \"#f0f921\"]], \"type\": \"contour\"}], \"contourcarpet\": [{\"colorbar\": {\"outlinewidth\": 0, \"ticks\": \"\"}, \"type\": \"contourcarpet\"}], \"heatmap\": [{\"colorbar\": {\"outlinewidth\": 0, \"ticks\": \"\"}, \"colorscale\": [[0.0, \"#0d0887\"], [0.1111111111111111, \"#46039f\"], [0.2222222222222222, \"#7201a8\"], [0.3333333333333333, \"#9c179e\"], [0.4444444444444444, \"#bd3786\"], [0.5555555555555556, \"#d8576b\"], [0.6666666666666666, \"#ed7953\"], [0.7777777777777778, \"#fb9f3a\"], [0.8888888888888888, \"#fdca26\"], [1.0, \"#f0f921\"]], \"type\": \"heatmap\"}], \"heatmapgl\": [{\"colorbar\": {\"outlinewidth\": 0, \"ticks\": \"\"}, \"colorscale\": [[0.0, \"#0d0887\"], [0.1111111111111111, \"#46039f\"], [0.2222222222222222, \"#7201a8\"], [0.3333333333333333, \"#9c179e\"], [0.4444444444444444, \"#bd3786\"], [0.5555555555555556, \"#d8576b\"], [0.6666666666666666, \"#ed7953\"], [0.7777777777777778, \"#fb9f3a\"], [0.8888888888888888, \"#fdca26\"], [1.0, \"#f0f921\"]], \"type\": \"heatmapgl\"}], \"histogram\": [{\"marker\": {\"colorbar\": {\"outlinewidth\": 0, \"ticks\": \"\"}}, \"type\": \"histogram\"}], \"histogram2d\": [{\"colorbar\": {\"outlinewidth\": 0, \"ticks\": \"\"}, \"colorscale\": [[0.0, \"#0d0887\"], [0.1111111111111111, \"#46039f\"], [0.2222222222222222, \"#7201a8\"], [0.3333333333333333, \"#9c179e\"], [0.4444444444444444, \"#bd3786\"], [0.5555555555555556, \"#d8576b\"], [0.6666666666666666, \"#ed7953\"], [0.7777777777777778, \"#fb9f3a\"], [0.8888888888888888, \"#fdca26\"], [1.0, \"#f0f921\"]], \"type\": \"histogram2d\"}], \"histogram2dcontour\": [{\"colorbar\": {\"outlinewidth\": 0, \"ticks\": \"\"}, \"colorscale\": [[0.0, \"#0d0887\"], [0.1111111111111111, \"#46039f\"], [0.2222222222222222, \"#7201a8\"], [0.3333333333333333, \"#9c179e\"], [0.4444444444444444, \"#bd3786\"], [0.5555555555555556, \"#d8576b\"], [0.6666666666666666, \"#ed7953\"], [0.7777777777777778, \"#fb9f3a\"], [0.8888888888888888, \"#fdca26\"], [1.0, \"#f0f921\"]], \"type\": \"histogram2dcontour\"}], \"mesh3d\": [{\"colorbar\": {\"outlinewidth\": 0, \"ticks\": \"\"}, \"type\": \"mesh3d\"}], \"parcoords\": [{\"line\": {\"colorbar\": {\"outlinewidth\": 0, \"ticks\": \"\"}}, \"type\": \"parcoords\"}], \"pie\": [{\"automargin\": true, \"type\": \"pie\"}], \"scatter\": [{\"marker\": {\"colorbar\": {\"outlinewidth\": 0, \"ticks\": \"\"}}, \"type\": \"scatter\"}], \"scatter3d\": [{\"line\": {\"colorbar\": {\"outlinewidth\": 0, \"ticks\": \"\"}}, \"marker\": {\"colorbar\": {\"outlinewidth\": 0, \"ticks\": \"\"}}, \"type\": \"scatter3d\"}], \"scattercarpet\": [{\"marker\": {\"colorbar\": {\"outlinewidth\": 0, \"ticks\": \"\"}}, \"type\": \"scattercarpet\"}], \"scattergeo\": [{\"marker\": {\"colorbar\": {\"outlinewidth\": 0, \"ticks\": \"\"}}, \"type\": \"scattergeo\"}], \"scattergl\": [{\"marker\": {\"colorbar\": {\"outlinewidth\": 0, \"ticks\": \"\"}}, \"type\": \"scattergl\"}], \"scattermapbox\": [{\"marker\": {\"colorbar\": {\"outlinewidth\": 0, \"ticks\": \"\"}}, \"type\": \"scattermapbox\"}], \"scatterpolar\": [{\"marker\": {\"colorbar\": {\"outlinewidth\": 0, \"ticks\": \"\"}}, \"type\": \"scatterpolar\"}], \"scatterpolargl\": [{\"marker\": {\"colorbar\": {\"outlinewidth\": 0, \"ticks\": \"\"}}, \"type\": \"scatterpolargl\"}], \"scatterternary\": [{\"marker\": {\"colorbar\": {\"outlinewidth\": 0, \"ticks\": \"\"}}, \"type\": \"scatterternary\"}], \"surface\": [{\"colorbar\": {\"outlinewidth\": 0, \"ticks\": \"\"}, \"colorscale\": [[0.0, \"#0d0887\"], [0.1111111111111111, \"#46039f\"], [0.2222222222222222, \"#7201a8\"], [0.3333333333333333, \"#9c179e\"], [0.4444444444444444, \"#bd3786\"], [0.5555555555555556, \"#d8576b\"], [0.6666666666666666, \"#ed7953\"], [0.7777777777777778, \"#fb9f3a\"], [0.8888888888888888, \"#fdca26\"], [1.0, \"#f0f921\"]], \"type\": \"surface\"}], \"table\": [{\"cells\": {\"fill\": {\"color\": \"#EBF0F8\"}, \"line\": {\"color\": \"white\"}}, \"header\": {\"fill\": {\"color\": \"#C8D4E3\"}, \"line\": {\"color\": \"white\"}}, \"type\": \"table\"}]}, \"layout\": {\"annotationdefaults\": {\"arrowcolor\": \"#2a3f5f\", \"arrowhead\": 0, \"arrowwidth\": 1}, \"coloraxis\": {\"colorbar\": {\"outlinewidth\": 0, \"ticks\": \"\"}}, \"colorscale\": {\"diverging\": [[0, \"#8e0152\"], [0.1, \"#c51b7d\"], [0.2, \"#de77ae\"], [0.3, \"#f1b6da\"], [0.4, \"#fde0ef\"], [0.5, \"#f7f7f7\"], [0.6, \"#e6f5d0\"], [0.7, \"#b8e186\"], [0.8, \"#7fbc41\"], [0.9, \"#4d9221\"], [1, \"#276419\"]], \"sequential\": [[0.0, \"#0d0887\"], [0.1111111111111111, \"#46039f\"], [0.2222222222222222, \"#7201a8\"], [0.3333333333333333, \"#9c179e\"], [0.4444444444444444, \"#bd3786\"], [0.5555555555555556, \"#d8576b\"], [0.6666666666666666, \"#ed7953\"], [0.7777777777777778, \"#fb9f3a\"], [0.8888888888888888, \"#fdca26\"], [1.0, \"#f0f921\"]], \"sequentialminus\": [[0.0, \"#0d0887\"], [0.1111111111111111, \"#46039f\"], [0.2222222222222222, \"#7201a8\"], [0.3333333333333333, \"#9c179e\"], [0.4444444444444444, \"#bd3786\"], [0.5555555555555556, \"#d8576b\"], [0.6666666666666666, \"#ed7953\"], [0.7777777777777778, \"#fb9f3a\"], [0.8888888888888888, \"#fdca26\"], [1.0, \"#f0f921\"]]}, \"colorway\": [\"#636efa\", \"#EF553B\", \"#00cc96\", \"#ab63fa\", \"#FFA15A\", \"#19d3f3\", \"#FF6692\", \"#B6E880\", \"#FF97FF\", \"#FECB52\"], \"font\": {\"color\": \"#2a3f5f\"}, \"geo\": {\"bgcolor\": \"white\", \"lakecolor\": \"white\", \"landcolor\": \"#E5ECF6\", \"showlakes\": true, \"showland\": true, \"subunitcolor\": \"white\"}, \"hoverlabel\": {\"align\": \"left\"}, \"hovermode\": \"closest\", \"mapbox\": {\"style\": \"light\"}, \"paper_bgcolor\": \"white\", \"plot_bgcolor\": \"#E5ECF6\", \"polar\": {\"angularaxis\": {\"gridcolor\": \"white\", \"linecolor\": \"white\", \"ticks\": \"\"}, \"bgcolor\": \"#E5ECF6\", \"radialaxis\": {\"gridcolor\": \"white\", \"linecolor\": \"white\", \"ticks\": \"\"}}, \"scene\": {\"xaxis\": {\"backgroundcolor\": \"#E5ECF6\", \"gridcolor\": \"white\", \"gridwidth\": 2, \"linecolor\": \"white\", \"showbackground\": true, \"ticks\": \"\", \"zerolinecolor\": \"white\"}, \"yaxis\": {\"backgroundcolor\": \"#E5ECF6\", \"gridcolor\": \"white\", \"gridwidth\": 2, \"linecolor\": \"white\", \"showbackground\": true, \"ticks\": \"\", \"zerolinecolor\": \"white\"}, \"zaxis\": {\"backgroundcolor\": \"#E5ECF6\", \"gridcolor\": \"white\", \"gridwidth\": 2, \"linecolor\": \"white\", \"showbackground\": true, \"ticks\": \"\", \"zerolinecolor\": \"white\"}}, \"shapedefaults\": {\"line\": {\"color\": \"#2a3f5f\"}}, \"ternary\": {\"aaxis\": {\"gridcolor\": \"white\", \"linecolor\": \"white\", \"ticks\": \"\"}, \"baxis\": {\"gridcolor\": \"white\", \"linecolor\": \"white\", \"ticks\": \"\"}, \"bgcolor\": \"#E5ECF6\", \"caxis\": {\"gridcolor\": \"white\", \"linecolor\": \"white\", \"ticks\": \"\"}}, \"title\": {\"x\": 0.05}, \"xaxis\": {\"automargin\": true, \"gridcolor\": \"white\", \"linecolor\": \"white\", \"ticks\": \"\", \"title\": {\"standoff\": 15}, \"zerolinecolor\": \"white\", \"zerolinewidth\": 2}, \"yaxis\": {\"automargin\": true, \"gridcolor\": \"white\", \"linecolor\": \"white\", \"ticks\": \"\", \"title\": {\"standoff\": 15}, \"zerolinecolor\": \"white\", \"zerolinewidth\": 2}}}, \"title\": {\"text\": \"Number of twitter for each user\"}, \"xaxis\": {\"automargin\": true}},\n",
       "                        {\"showLink\": true, \"linkText\": \"Export to plot.ly\", \"plotlyServerURL\": \"https://plot.ly\", \"responsive\": true}\n",
       "                    ).then(function(){\n",
       "                            \n",
       "var gd = document.getElementById('5f356f90-be16-4621-80e8-781af3c9c375');\n",
       "var x = new MutationObserver(function (mutations, observer) {{\n",
       "        var display = window.getComputedStyle(gd).display;\n",
       "        if (!display || display === 'none') {{\n",
       "            console.log([gd, 'removed!']);\n",
       "            Plotly.purge(gd);\n",
       "            observer.disconnect();\n",
       "        }}\n",
       "}});\n",
       "\n",
       "// Listen for the removal of the full notebook cells\n",
       "var notebookContainer = gd.closest('#notebook-container');\n",
       "if (notebookContainer) {{\n",
       "    x.observe(notebookContainer, {childList: true});\n",
       "}}\n",
       "\n",
       "// Listen for the clearing of the current output cell\n",
       "var outputEl = gd.closest('.output');\n",
       "if (outputEl) {{\n",
       "    x.observe(outputEl, {childList: true});\n",
       "}}\n",
       "\n",
       "                        })\n",
       "                };\n",
       "                });\n",
       "            </script>\n",
       "        </div>"
      ]
     },
     "metadata": {},
     "output_type": "display_data"
    }
   ],
   "source": [
    "\n",
    "# plot barchart for Number of twitter for each user\n",
    "layout1=dict(autosize=True, xaxis=dict(automargin=True),title=\"Number of twitter for each user\")\n",
    "df['user.name'].value_counts(ascending=True).iplot(kind='bar',title=\"Number of twitter for each user\", color=\"blue\",layout=layout1)\n"
   ]
  },
  {
   "cell_type": "markdown",
   "metadata": {},
   "source": [
    "**Create data frame for number of followers for each user. Show the sorted data frame for user and user_followers.**"
   ]
  },
  {
   "cell_type": "code",
   "execution_count": 77,
   "metadata": {},
   "outputs": [
    {
     "name": "stdout",
     "output_type": "stream",
     "text": [
      "                                        user.name  user.followers_count\n",
      "6                                   Dr Emily Bell                  5170\n",
      "33                               margy maclibrary                  4253\n",
      "37                                   Ingrid Mason                  3380\n",
      "2                                      faberllull                  2402\n",
      "43                            Aurelia Brandenburg                  2319\n",
      "50                                  Patrick Sahle                  1795\n",
      "3                                    Llull London                  1637\n",
      "28                                 Llull New York                  1493\n",
      "39                                  Katrina Grant                  1472\n",
      "32                                 Suzana Sukovic                  1277\n",
      "21  Digital Humanities Hub | Lancaster University                  1203\n",
      "46                                  Pascal Wagner                  1159\n",
      "36                                     Liz Stokes                  1008\n",
      "29                         Totally Real DH Person                   876\n",
      "16                                Joe Wicentowski                   868\n",
      "27                             Nebraska Geography                   811\n",
      "1                                          RedInt                   800\n",
      "34                                      Sara King                   698\n",
      "44                                          Urs ☭                   625\n",
      "5                                        K. White                   584\n",
      "49                                    DSS at Pitt                   510\n",
      "35                               Valeria Federici                   456\n",
      "41                                 Alexis Tindall                   436\n",
      "4                                Magdalena Turska                   351\n",
      "48                                   VR Retweeter                   281\n",
      "14                                eXist Solutions                   275\n",
      "7     Georgetown University Department of English                   246\n",
      "24                            Neus Domenech Oller                   230\n",
      "23                  Digital Science Center (DiSC)                   224\n",
      "18                                       sciBot 💻                   214\n",
      "20                                e-editiones.org                   213\n",
      "25                                     joel piqué                   212\n",
      "11                              Leif-Jöran Olsson                   171\n",
      "17                                  TEI Publisher                   141\n",
      "8                                     Dennis Ried                   105\n",
      "42        Aluminium-Lanthan-Uran-Ruthenium-Sulfid                    95\n",
      "19                               Andreas Kraenzle                    72\n",
      "12                                  Boris Lehečka                    52\n",
      "9                                    Typiespectre                    23\n",
      "10                       Friprogramvarusyndikatet                    23\n",
      "0                                       blueciren                     1\n"
     ]
    }
   ],
   "source": [
    "\n",
    "# print table for number of followers for each user\n",
    "followersdf = pd.DataFrame(df, columns=['user.name','user.followers_count']).drop_duplicates()\n",
    "followersdf.sort_values([\"user.followers_count\", \"user.name\"], axis=0, ascending=False, inplace=True)\n",
    "print(followersdf)\n"
   ]
  },
  {
   "cell_type": "markdown",
   "metadata": {},
   "source": [
    "\n",
    "**Plot barchart for Number of User Followers for each user and sort by number.**"
   ]
  },
  {
   "cell_type": "code",
   "execution_count": 78,
   "metadata": {},
   "outputs": [
    {
     "data": {
      "application/vnd.plotly.v1+json": {
       "config": {
        "linkText": "Export to plot.ly",
        "plotlyServerURL": "https://plot.ly",
        "showLink": true
       },
       "data": [
        {
         "marker": {
          "color": "rgba(255, 153, 51, 0.6)",
          "line": {
           "color": "rgba(255, 153, 51, 1.0)",
           "width": 1
          }
         },
         "name": "user.followers_count",
         "orientation": "v",
         "text": "",
         "type": "bar",
         "x": [
          "blueciren",
          "Friprogramvarusyndikatet",
          "Typiespectre",
          "Boris Lehečka",
          "Andreas Kraenzle",
          "Aluminium-Lanthan-Uran-Ruthenium-Sulfid",
          "Dennis Ried",
          "TEI Publisher",
          "Leif-Jöran Olsson",
          "joel piqué",
          "e-editiones.org",
          "sciBot 💻",
          "Digital Science Center (DiSC)",
          "Neus Domenech Oller",
          "Georgetown University Department of English",
          "eXist Solutions",
          "VR Retweeter",
          "Magdalena Turska",
          "Alexis Tindall",
          "Valeria Federici",
          "DSS at Pitt",
          "K. White",
          "Urs ☭",
          "Sara King",
          "RedInt",
          "Nebraska Geography",
          "Joe Wicentowski",
          "Totally Real DH Person",
          "Liz Stokes",
          "Pascal Wagner",
          "Digital Humanities Hub | Lancaster University",
          "Suzana Sukovic",
          "Katrina Grant",
          "Llull New York",
          "Llull London",
          "Patrick Sahle",
          "Aurelia Brandenburg",
          "faberllull",
          "Ingrid Mason",
          "margy maclibrary",
          "Dr Emily Bell"
         ],
         "y": [
          1,
          23,
          23,
          52,
          72,
          95,
          105,
          141,
          171,
          212,
          213,
          214,
          224,
          230,
          246,
          275,
          281,
          351,
          436,
          456,
          510,
          584,
          625,
          698,
          800,
          811,
          868,
          876,
          1008,
          1159,
          1203,
          1277,
          1472,
          1493,
          1637,
          1795,
          2319,
          2402,
          3380,
          4253,
          5170
         ]
        }
       ],
       "layout": {
        "autosize": true,
        "template": {
         "data": {
          "bar": [
           {
            "error_x": {
             "color": "#2a3f5f"
            },
            "error_y": {
             "color": "#2a3f5f"
            },
            "marker": {
             "line": {
              "color": "#E5ECF6",
              "width": 0.5
             }
            },
            "type": "bar"
           }
          ],
          "barpolar": [
           {
            "marker": {
             "line": {
              "color": "#E5ECF6",
              "width": 0.5
             }
            },
            "type": "barpolar"
           }
          ],
          "carpet": [
           {
            "aaxis": {
             "endlinecolor": "#2a3f5f",
             "gridcolor": "white",
             "linecolor": "white",
             "minorgridcolor": "white",
             "startlinecolor": "#2a3f5f"
            },
            "baxis": {
             "endlinecolor": "#2a3f5f",
             "gridcolor": "white",
             "linecolor": "white",
             "minorgridcolor": "white",
             "startlinecolor": "#2a3f5f"
            },
            "type": "carpet"
           }
          ],
          "choropleth": [
           {
            "colorbar": {
             "outlinewidth": 0,
             "ticks": ""
            },
            "type": "choropleth"
           }
          ],
          "contour": [
           {
            "colorbar": {
             "outlinewidth": 0,
             "ticks": ""
            },
            "colorscale": [
             [
              0,
              "#0d0887"
             ],
             [
              0.1111111111111111,
              "#46039f"
             ],
             [
              0.2222222222222222,
              "#7201a8"
             ],
             [
              0.3333333333333333,
              "#9c179e"
             ],
             [
              0.4444444444444444,
              "#bd3786"
             ],
             [
              0.5555555555555556,
              "#d8576b"
             ],
             [
              0.6666666666666666,
              "#ed7953"
             ],
             [
              0.7777777777777778,
              "#fb9f3a"
             ],
             [
              0.8888888888888888,
              "#fdca26"
             ],
             [
              1,
              "#f0f921"
             ]
            ],
            "type": "contour"
           }
          ],
          "contourcarpet": [
           {
            "colorbar": {
             "outlinewidth": 0,
             "ticks": ""
            },
            "type": "contourcarpet"
           }
          ],
          "heatmap": [
           {
            "colorbar": {
             "outlinewidth": 0,
             "ticks": ""
            },
            "colorscale": [
             [
              0,
              "#0d0887"
             ],
             [
              0.1111111111111111,
              "#46039f"
             ],
             [
              0.2222222222222222,
              "#7201a8"
             ],
             [
              0.3333333333333333,
              "#9c179e"
             ],
             [
              0.4444444444444444,
              "#bd3786"
             ],
             [
              0.5555555555555556,
              "#d8576b"
             ],
             [
              0.6666666666666666,
              "#ed7953"
             ],
             [
              0.7777777777777778,
              "#fb9f3a"
             ],
             [
              0.8888888888888888,
              "#fdca26"
             ],
             [
              1,
              "#f0f921"
             ]
            ],
            "type": "heatmap"
           }
          ],
          "heatmapgl": [
           {
            "colorbar": {
             "outlinewidth": 0,
             "ticks": ""
            },
            "colorscale": [
             [
              0,
              "#0d0887"
             ],
             [
              0.1111111111111111,
              "#46039f"
             ],
             [
              0.2222222222222222,
              "#7201a8"
             ],
             [
              0.3333333333333333,
              "#9c179e"
             ],
             [
              0.4444444444444444,
              "#bd3786"
             ],
             [
              0.5555555555555556,
              "#d8576b"
             ],
             [
              0.6666666666666666,
              "#ed7953"
             ],
             [
              0.7777777777777778,
              "#fb9f3a"
             ],
             [
              0.8888888888888888,
              "#fdca26"
             ],
             [
              1,
              "#f0f921"
             ]
            ],
            "type": "heatmapgl"
           }
          ],
          "histogram": [
           {
            "marker": {
             "colorbar": {
              "outlinewidth": 0,
              "ticks": ""
             }
            },
            "type": "histogram"
           }
          ],
          "histogram2d": [
           {
            "colorbar": {
             "outlinewidth": 0,
             "ticks": ""
            },
            "colorscale": [
             [
              0,
              "#0d0887"
             ],
             [
              0.1111111111111111,
              "#46039f"
             ],
             [
              0.2222222222222222,
              "#7201a8"
             ],
             [
              0.3333333333333333,
              "#9c179e"
             ],
             [
              0.4444444444444444,
              "#bd3786"
             ],
             [
              0.5555555555555556,
              "#d8576b"
             ],
             [
              0.6666666666666666,
              "#ed7953"
             ],
             [
              0.7777777777777778,
              "#fb9f3a"
             ],
             [
              0.8888888888888888,
              "#fdca26"
             ],
             [
              1,
              "#f0f921"
             ]
            ],
            "type": "histogram2d"
           }
          ],
          "histogram2dcontour": [
           {
            "colorbar": {
             "outlinewidth": 0,
             "ticks": ""
            },
            "colorscale": [
             [
              0,
              "#0d0887"
             ],
             [
              0.1111111111111111,
              "#46039f"
             ],
             [
              0.2222222222222222,
              "#7201a8"
             ],
             [
              0.3333333333333333,
              "#9c179e"
             ],
             [
              0.4444444444444444,
              "#bd3786"
             ],
             [
              0.5555555555555556,
              "#d8576b"
             ],
             [
              0.6666666666666666,
              "#ed7953"
             ],
             [
              0.7777777777777778,
              "#fb9f3a"
             ],
             [
              0.8888888888888888,
              "#fdca26"
             ],
             [
              1,
              "#f0f921"
             ]
            ],
            "type": "histogram2dcontour"
           }
          ],
          "mesh3d": [
           {
            "colorbar": {
             "outlinewidth": 0,
             "ticks": ""
            },
            "type": "mesh3d"
           }
          ],
          "parcoords": [
           {
            "line": {
             "colorbar": {
              "outlinewidth": 0,
              "ticks": ""
             }
            },
            "type": "parcoords"
           }
          ],
          "pie": [
           {
            "automargin": true,
            "type": "pie"
           }
          ],
          "scatter": [
           {
            "marker": {
             "colorbar": {
              "outlinewidth": 0,
              "ticks": ""
             }
            },
            "type": "scatter"
           }
          ],
          "scatter3d": [
           {
            "line": {
             "colorbar": {
              "outlinewidth": 0,
              "ticks": ""
             }
            },
            "marker": {
             "colorbar": {
              "outlinewidth": 0,
              "ticks": ""
             }
            },
            "type": "scatter3d"
           }
          ],
          "scattercarpet": [
           {
            "marker": {
             "colorbar": {
              "outlinewidth": 0,
              "ticks": ""
             }
            },
            "type": "scattercarpet"
           }
          ],
          "scattergeo": [
           {
            "marker": {
             "colorbar": {
              "outlinewidth": 0,
              "ticks": ""
             }
            },
            "type": "scattergeo"
           }
          ],
          "scattergl": [
           {
            "marker": {
             "colorbar": {
              "outlinewidth": 0,
              "ticks": ""
             }
            },
            "type": "scattergl"
           }
          ],
          "scattermapbox": [
           {
            "marker": {
             "colorbar": {
              "outlinewidth": 0,
              "ticks": ""
             }
            },
            "type": "scattermapbox"
           }
          ],
          "scatterpolar": [
           {
            "marker": {
             "colorbar": {
              "outlinewidth": 0,
              "ticks": ""
             }
            },
            "type": "scatterpolar"
           }
          ],
          "scatterpolargl": [
           {
            "marker": {
             "colorbar": {
              "outlinewidth": 0,
              "ticks": ""
             }
            },
            "type": "scatterpolargl"
           }
          ],
          "scatterternary": [
           {
            "marker": {
             "colorbar": {
              "outlinewidth": 0,
              "ticks": ""
             }
            },
            "type": "scatterternary"
           }
          ],
          "surface": [
           {
            "colorbar": {
             "outlinewidth": 0,
             "ticks": ""
            },
            "colorscale": [
             [
              0,
              "#0d0887"
             ],
             [
              0.1111111111111111,
              "#46039f"
             ],
             [
              0.2222222222222222,
              "#7201a8"
             ],
             [
              0.3333333333333333,
              "#9c179e"
             ],
             [
              0.4444444444444444,
              "#bd3786"
             ],
             [
              0.5555555555555556,
              "#d8576b"
             ],
             [
              0.6666666666666666,
              "#ed7953"
             ],
             [
              0.7777777777777778,
              "#fb9f3a"
             ],
             [
              0.8888888888888888,
              "#fdca26"
             ],
             [
              1,
              "#f0f921"
             ]
            ],
            "type": "surface"
           }
          ],
          "table": [
           {
            "cells": {
             "fill": {
              "color": "#EBF0F8"
             },
             "line": {
              "color": "white"
             }
            },
            "header": {
             "fill": {
              "color": "#C8D4E3"
             },
             "line": {
              "color": "white"
             }
            },
            "type": "table"
           }
          ]
         },
         "layout": {
          "annotationdefaults": {
           "arrowcolor": "#2a3f5f",
           "arrowhead": 0,
           "arrowwidth": 1
          },
          "coloraxis": {
           "colorbar": {
            "outlinewidth": 0,
            "ticks": ""
           }
          },
          "colorscale": {
           "diverging": [
            [
             0,
             "#8e0152"
            ],
            [
             0.1,
             "#c51b7d"
            ],
            [
             0.2,
             "#de77ae"
            ],
            [
             0.3,
             "#f1b6da"
            ],
            [
             0.4,
             "#fde0ef"
            ],
            [
             0.5,
             "#f7f7f7"
            ],
            [
             0.6,
             "#e6f5d0"
            ],
            [
             0.7,
             "#b8e186"
            ],
            [
             0.8,
             "#7fbc41"
            ],
            [
             0.9,
             "#4d9221"
            ],
            [
             1,
             "#276419"
            ]
           ],
           "sequential": [
            [
             0,
             "#0d0887"
            ],
            [
             0.1111111111111111,
             "#46039f"
            ],
            [
             0.2222222222222222,
             "#7201a8"
            ],
            [
             0.3333333333333333,
             "#9c179e"
            ],
            [
             0.4444444444444444,
             "#bd3786"
            ],
            [
             0.5555555555555556,
             "#d8576b"
            ],
            [
             0.6666666666666666,
             "#ed7953"
            ],
            [
             0.7777777777777778,
             "#fb9f3a"
            ],
            [
             0.8888888888888888,
             "#fdca26"
            ],
            [
             1,
             "#f0f921"
            ]
           ],
           "sequentialminus": [
            [
             0,
             "#0d0887"
            ],
            [
             0.1111111111111111,
             "#46039f"
            ],
            [
             0.2222222222222222,
             "#7201a8"
            ],
            [
             0.3333333333333333,
             "#9c179e"
            ],
            [
             0.4444444444444444,
             "#bd3786"
            ],
            [
             0.5555555555555556,
             "#d8576b"
            ],
            [
             0.6666666666666666,
             "#ed7953"
            ],
            [
             0.7777777777777778,
             "#fb9f3a"
            ],
            [
             0.8888888888888888,
             "#fdca26"
            ],
            [
             1,
             "#f0f921"
            ]
           ]
          },
          "colorway": [
           "#636efa",
           "#EF553B",
           "#00cc96",
           "#ab63fa",
           "#FFA15A",
           "#19d3f3",
           "#FF6692",
           "#B6E880",
           "#FF97FF",
           "#FECB52"
          ],
          "font": {
           "color": "#2a3f5f"
          },
          "geo": {
           "bgcolor": "white",
           "lakecolor": "white",
           "landcolor": "#E5ECF6",
           "showlakes": true,
           "showland": true,
           "subunitcolor": "white"
          },
          "hoverlabel": {
           "align": "left"
          },
          "hovermode": "closest",
          "mapbox": {
           "style": "light"
          },
          "paper_bgcolor": "white",
          "plot_bgcolor": "#E5ECF6",
          "polar": {
           "angularaxis": {
            "gridcolor": "white",
            "linecolor": "white",
            "ticks": ""
           },
           "bgcolor": "#E5ECF6",
           "radialaxis": {
            "gridcolor": "white",
            "linecolor": "white",
            "ticks": ""
           }
          },
          "scene": {
           "xaxis": {
            "backgroundcolor": "#E5ECF6",
            "gridcolor": "white",
            "gridwidth": 2,
            "linecolor": "white",
            "showbackground": true,
            "ticks": "",
            "zerolinecolor": "white"
           },
           "yaxis": {
            "backgroundcolor": "#E5ECF6",
            "gridcolor": "white",
            "gridwidth": 2,
            "linecolor": "white",
            "showbackground": true,
            "ticks": "",
            "zerolinecolor": "white"
           },
           "zaxis": {
            "backgroundcolor": "#E5ECF6",
            "gridcolor": "white",
            "gridwidth": 2,
            "linecolor": "white",
            "showbackground": true,
            "ticks": "",
            "zerolinecolor": "white"
           }
          },
          "shapedefaults": {
           "line": {
            "color": "#2a3f5f"
           }
          },
          "ternary": {
           "aaxis": {
            "gridcolor": "white",
            "linecolor": "white",
            "ticks": ""
           },
           "baxis": {
            "gridcolor": "white",
            "linecolor": "white",
            "ticks": ""
           },
           "bgcolor": "#E5ECF6",
           "caxis": {
            "gridcolor": "white",
            "linecolor": "white",
            "ticks": ""
           }
          },
          "title": {
           "x": 0.05
          },
          "xaxis": {
           "automargin": true,
           "gridcolor": "white",
           "linecolor": "white",
           "ticks": "",
           "title": {
            "standoff": 15
           },
           "zerolinecolor": "white",
           "zerolinewidth": 2
          },
          "yaxis": {
           "automargin": true,
           "gridcolor": "white",
           "linecolor": "white",
           "ticks": "",
           "title": {
            "standoff": 15
           },
           "zerolinecolor": "white",
           "zerolinewidth": 2
          }
         }
        },
        "title": {
         "text": "Number of followers for each user"
        },
        "xaxis": {
         "automargin": true,
         "autorange": true,
         "range": [
          -0.5,
          40.5
         ],
         "type": "category"
        },
        "yaxis": {
         "autorange": true,
         "range": [
          0,
          5442.105263157895
         ],
         "type": "linear"
        }
       }
      },
      "image/png": "[encoded data removed]",
      "text/html": [
       "<div>\n",
       "        \n",
       "        \n",
       "            <div id=\"91bc5635-a0d1-4b10-af60-81bb38b969db\" class=\"plotly-graph-div\" style=\"height:525px; width:100%;\"></div>\n",
       "            <script type=\"text/javascript\">\n",
       "                require([\"plotly\"], function(Plotly) {\n",
       "                    window.PLOTLYENV=window.PLOTLYENV || {};\n",
       "                    window.PLOTLYENV.BASE_URL='https://plot.ly';\n",
       "                    \n",
       "                if (document.getElementById(\"91bc5635-a0d1-4b10-af60-81bb38b969db\")) {\n",
       "                    Plotly.newPlot(\n",
       "                        '91bc5635-a0d1-4b10-af60-81bb38b969db',\n",
       "                        [{\"marker\": {\"color\": \"rgba(255, 153, 51, 0.6)\", \"line\": {\"color\": \"rgba(255, 153, 51, 1.0)\", \"width\": 1}}, \"name\": \"user.followers_count\", \"orientation\": \"v\", \"text\": \"\", \"type\": \"bar\", \"x\": [\"blueciren\", \"Friprogramvarusyndikatet\", \"Typiespectre\", \"Boris Lehe\\u010dka\", \"Andreas Kraenzle\", \"Aluminium-Lanthan-Uran-Ruthenium-Sulfid\", \"Dennis Ried\", \"TEI Publisher\", \"Leif-J\\u00f6ran Olsson\", \"joel piqu\\u00e9\", \"e-editiones.org\", \"sciBot \\ud83d\\udcbb\", \"Digital Science Center (DiSC)\", \"Neus Domenech Oller\", \"Georgetown University Department of English\", \"eXist Solutions\", \"VR Retweeter\", \"Magdalena Turska\", \"Alexis Tindall\", \"Valeria Federici\", \"DSS at Pitt\", \"K. White\", \"Urs \\u262d\", \"Sara King\", \"RedInt\", \"Nebraska Geography\", \"Joe Wicentowski\", \"Totally Real DH Person\", \"Liz Stokes\", \"Pascal Wagner\", \"Digital Humanities Hub | Lancaster University\", \"Suzana Sukovic\", \"Katrina Grant\", \"Llull New York\", \"Llull London\", \"Patrick Sahle\", \"Aurelia Brandenburg\", \"faberllull\", \"Ingrid Mason\", \"margy maclibrary\", \"Dr Emily Bell\"], \"y\": [1, 23, 23, 52, 72, 95, 105, 141, 171, 212, 213, 214, 224, 230, 246, 275, 281, 351, 436, 456, 510, 584, 625, 698, 800, 811, 868, 876, 1008, 1159, 1203, 1277, 1472, 1493, 1637, 1795, 2319, 2402, 3380, 4253, 5170]}],\n",
       "                        {\"autosize\": true, \"template\": {\"data\": {\"bar\": [{\"error_x\": {\"color\": \"#2a3f5f\"}, \"error_y\": {\"color\": \"#2a3f5f\"}, \"marker\": {\"line\": {\"color\": \"#E5ECF6\", \"width\": 0.5}}, \"type\": \"bar\"}], \"barpolar\": [{\"marker\": {\"line\": {\"color\": \"#E5ECF6\", \"width\": 0.5}}, \"type\": \"barpolar\"}], \"carpet\": [{\"aaxis\": {\"endlinecolor\": \"#2a3f5f\", \"gridcolor\": \"white\", \"linecolor\": \"white\", \"minorgridcolor\": \"white\", \"startlinecolor\": \"#2a3f5f\"}, \"baxis\": {\"endlinecolor\": \"#2a3f5f\", \"gridcolor\": \"white\", \"linecolor\": \"white\", \"minorgridcolor\": \"white\", \"startlinecolor\": \"#2a3f5f\"}, \"type\": \"carpet\"}], \"choropleth\": [{\"colorbar\": {\"outlinewidth\": 0, \"ticks\": \"\"}, \"type\": \"choropleth\"}], \"contour\": [{\"colorbar\": {\"outlinewidth\": 0, \"ticks\": \"\"}, \"colorscale\": [[0.0, \"#0d0887\"], [0.1111111111111111, \"#46039f\"], [0.2222222222222222, \"#7201a8\"], [0.3333333333333333, \"#9c179e\"], [0.4444444444444444, \"#bd3786\"], [0.5555555555555556, \"#d8576b\"], [0.6666666666666666, \"#ed7953\"], [0.7777777777777778, \"#fb9f3a\"], [0.8888888888888888, \"#fdca26\"], [1.0, \"#f0f921\"]], \"type\": \"contour\"}], \"contourcarpet\": [{\"colorbar\": {\"outlinewidth\": 0, \"ticks\": \"\"}, \"type\": \"contourcarpet\"}], \"heatmap\": [{\"colorbar\": {\"outlinewidth\": 0, \"ticks\": \"\"}, \"colorscale\": [[0.0, \"#0d0887\"], [0.1111111111111111, \"#46039f\"], [0.2222222222222222, \"#7201a8\"], [0.3333333333333333, \"#9c179e\"], [0.4444444444444444, \"#bd3786\"], [0.5555555555555556, \"#d8576b\"], [0.6666666666666666, \"#ed7953\"], [0.7777777777777778, \"#fb9f3a\"], [0.8888888888888888, \"#fdca26\"], [1.0, \"#f0f921\"]], \"type\": \"heatmap\"}], \"heatmapgl\": [{\"colorbar\": {\"outlinewidth\": 0, \"ticks\": \"\"}, \"colorscale\": [[0.0, \"#0d0887\"], [0.1111111111111111, \"#46039f\"], [0.2222222222222222, \"#7201a8\"], [0.3333333333333333, \"#9c179e\"], [0.4444444444444444, \"#bd3786\"], [0.5555555555555556, \"#d8576b\"], [0.6666666666666666, \"#ed7953\"], [0.7777777777777778, \"#fb9f3a\"], [0.8888888888888888, \"#fdca26\"], [1.0, \"#f0f921\"]], \"type\": \"heatmapgl\"}], \"histogram\": [{\"marker\": {\"colorbar\": {\"outlinewidth\": 0, \"ticks\": \"\"}}, \"type\": \"histogram\"}], \"histogram2d\": [{\"colorbar\": {\"outlinewidth\": 0, \"ticks\": \"\"}, \"colorscale\": [[0.0, \"#0d0887\"], [0.1111111111111111, \"#46039f\"], [0.2222222222222222, \"#7201a8\"], [0.3333333333333333, \"#9c179e\"], [0.4444444444444444, \"#bd3786\"], [0.5555555555555556, \"#d8576b\"], [0.6666666666666666, \"#ed7953\"], [0.7777777777777778, \"#fb9f3a\"], [0.8888888888888888, \"#fdca26\"], [1.0, \"#f0f921\"]], \"type\": \"histogram2d\"}], \"histogram2dcontour\": [{\"colorbar\": {\"outlinewidth\": 0, \"ticks\": \"\"}, \"colorscale\": [[0.0, \"#0d0887\"], [0.1111111111111111, \"#46039f\"], [0.2222222222222222, \"#7201a8\"], [0.3333333333333333, \"#9c179e\"], [0.4444444444444444, \"#bd3786\"], [0.5555555555555556, \"#d8576b\"], [0.6666666666666666, \"#ed7953\"], [0.7777777777777778, \"#fb9f3a\"], [0.8888888888888888, \"#fdca26\"], [1.0, \"#f0f921\"]], \"type\": \"histogram2dcontour\"}], \"mesh3d\": [{\"colorbar\": {\"outlinewidth\": 0, \"ticks\": \"\"}, \"type\": \"mesh3d\"}], \"parcoords\": [{\"line\": {\"colorbar\": {\"outlinewidth\": 0, \"ticks\": \"\"}}, \"type\": \"parcoords\"}], \"pie\": [{\"automargin\": true, \"type\": \"pie\"}], \"scatter\": [{\"marker\": {\"colorbar\": {\"outlinewidth\": 0, \"ticks\": \"\"}}, \"type\": \"scatter\"}], \"scatter3d\": [{\"line\": {\"colorbar\": {\"outlinewidth\": 0, \"ticks\": \"\"}}, \"marker\": {\"colorbar\": {\"outlinewidth\": 0, \"ticks\": \"\"}}, \"type\": \"scatter3d\"}], \"scattercarpet\": [{\"marker\": {\"colorbar\": {\"outlinewidth\": 0, \"ticks\": \"\"}}, \"type\": \"scattercarpet\"}], \"scattergeo\": [{\"marker\": {\"colorbar\": {\"outlinewidth\": 0, \"ticks\": \"\"}}, \"type\": \"scattergeo\"}], \"scattergl\": [{\"marker\": {\"colorbar\": {\"outlinewidth\": 0, \"ticks\": \"\"}}, \"type\": \"scattergl\"}], \"scattermapbox\": [{\"marker\": {\"colorbar\": {\"outlinewidth\": 0, \"ticks\": \"\"}}, \"type\": \"scattermapbox\"}], \"scatterpolar\": [{\"marker\": {\"colorbar\": {\"outlinewidth\": 0, \"ticks\": \"\"}}, \"type\": \"scatterpolar\"}], \"scatterpolargl\": [{\"marker\": {\"colorbar\": {\"outlinewidth\": 0, \"ticks\": \"\"}}, \"type\": \"scatterpolargl\"}], \"scatterternary\": [{\"marker\": {\"colorbar\": {\"outlinewidth\": 0, \"ticks\": \"\"}}, \"type\": \"scatterternary\"}], \"surface\": [{\"colorbar\": {\"outlinewidth\": 0, \"ticks\": \"\"}, \"colorscale\": [[0.0, \"#0d0887\"], [0.1111111111111111, \"#46039f\"], [0.2222222222222222, \"#7201a8\"], [0.3333333333333333, \"#9c179e\"], [0.4444444444444444, \"#bd3786\"], [0.5555555555555556, \"#d8576b\"], [0.6666666666666666, \"#ed7953\"], [0.7777777777777778, \"#fb9f3a\"], [0.8888888888888888, \"#fdca26\"], [1.0, \"#f0f921\"]], \"type\": \"surface\"}], \"table\": [{\"cells\": {\"fill\": {\"color\": \"#EBF0F8\"}, \"line\": {\"color\": \"white\"}}, \"header\": {\"fill\": {\"color\": \"#C8D4E3\"}, \"line\": {\"color\": \"white\"}}, \"type\": \"table\"}]}, \"layout\": {\"annotationdefaults\": {\"arrowcolor\": \"#2a3f5f\", \"arrowhead\": 0, \"arrowwidth\": 1}, \"coloraxis\": {\"colorbar\": {\"outlinewidth\": 0, \"ticks\": \"\"}}, \"colorscale\": {\"diverging\": [[0, \"#8e0152\"], [0.1, \"#c51b7d\"], [0.2, \"#de77ae\"], [0.3, \"#f1b6da\"], [0.4, \"#fde0ef\"], [0.5, \"#f7f7f7\"], [0.6, \"#e6f5d0\"], [0.7, \"#b8e186\"], [0.8, \"#7fbc41\"], [0.9, \"#4d9221\"], [1, \"#276419\"]], \"sequential\": [[0.0, \"#0d0887\"], [0.1111111111111111, \"#46039f\"], [0.2222222222222222, \"#7201a8\"], [0.3333333333333333, \"#9c179e\"], [0.4444444444444444, \"#bd3786\"], [0.5555555555555556, \"#d8576b\"], [0.6666666666666666, \"#ed7953\"], [0.7777777777777778, \"#fb9f3a\"], [0.8888888888888888, \"#fdca26\"], [1.0, \"#f0f921\"]], \"sequentialminus\": [[0.0, \"#0d0887\"], [0.1111111111111111, \"#46039f\"], [0.2222222222222222, \"#7201a8\"], [0.3333333333333333, \"#9c179e\"], [0.4444444444444444, \"#bd3786\"], [0.5555555555555556, \"#d8576b\"], [0.6666666666666666, \"#ed7953\"], [0.7777777777777778, \"#fb9f3a\"], [0.8888888888888888, \"#fdca26\"], [1.0, \"#f0f921\"]]}, \"colorway\": [\"#636efa\", \"#EF553B\", \"#00cc96\", \"#ab63fa\", \"#FFA15A\", \"#19d3f3\", \"#FF6692\", \"#B6E880\", \"#FF97FF\", \"#FECB52\"], \"font\": {\"color\": \"#2a3f5f\"}, \"geo\": {\"bgcolor\": \"white\", \"lakecolor\": \"white\", \"landcolor\": \"#E5ECF6\", \"showlakes\": true, \"showland\": true, \"subunitcolor\": \"white\"}, \"hoverlabel\": {\"align\": \"left\"}, \"hovermode\": \"closest\", \"mapbox\": {\"style\": \"light\"}, \"paper_bgcolor\": \"white\", \"plot_bgcolor\": \"#E5ECF6\", \"polar\": {\"angularaxis\": {\"gridcolor\": \"white\", \"linecolor\": \"white\", \"ticks\": \"\"}, \"bgcolor\": \"#E5ECF6\", \"radialaxis\": {\"gridcolor\": \"white\", \"linecolor\": \"white\", \"ticks\": \"\"}}, \"scene\": {\"xaxis\": {\"backgroundcolor\": \"#E5ECF6\", \"gridcolor\": \"white\", \"gridwidth\": 2, \"linecolor\": \"white\", \"showbackground\": true, \"ticks\": \"\", \"zerolinecolor\": \"white\"}, \"yaxis\": {\"backgroundcolor\": \"#E5ECF6\", \"gridcolor\": \"white\", \"gridwidth\": 2, \"linecolor\": \"white\", \"showbackground\": true, \"ticks\": \"\", \"zerolinecolor\": \"white\"}, \"zaxis\": {\"backgroundcolor\": \"#E5ECF6\", \"gridcolor\": \"white\", \"gridwidth\": 2, \"linecolor\": \"white\", \"showbackground\": true, \"ticks\": \"\", \"zerolinecolor\": \"white\"}}, \"shapedefaults\": {\"line\": {\"color\": \"#2a3f5f\"}}, \"ternary\": {\"aaxis\": {\"gridcolor\": \"white\", \"linecolor\": \"white\", \"ticks\": \"\"}, \"baxis\": {\"gridcolor\": \"white\", \"linecolor\": \"white\", \"ticks\": \"\"}, \"bgcolor\": \"#E5ECF6\", \"caxis\": {\"gridcolor\": \"white\", \"linecolor\": \"white\", \"ticks\": \"\"}}, \"title\": {\"x\": 0.05}, \"xaxis\": {\"automargin\": true, \"gridcolor\": \"white\", \"linecolor\": \"white\", \"ticks\": \"\", \"title\": {\"standoff\": 15}, \"zerolinecolor\": \"white\", \"zerolinewidth\": 2}, \"yaxis\": {\"automargin\": true, \"gridcolor\": \"white\", \"linecolor\": \"white\", \"ticks\": \"\", \"title\": {\"standoff\": 15}, \"zerolinecolor\": \"white\", \"zerolinewidth\": 2}}}, \"title\": {\"text\": \"Number of followers for each user\"}, \"xaxis\": {\"automargin\": true}},\n",
       "                        {\"showLink\": true, \"linkText\": \"Export to plot.ly\", \"plotlyServerURL\": \"https://plot.ly\", \"responsive\": true}\n",
       "                    ).then(function(){\n",
       "                            \n",
       "var gd = document.getElementById('91bc5635-a0d1-4b10-af60-81bb38b969db');\n",
       "var x = new MutationObserver(function (mutations, observer) {{\n",
       "        var display = window.getComputedStyle(gd).display;\n",
       "        if (!display || display === 'none') {{\n",
       "            console.log([gd, 'removed!']);\n",
       "            Plotly.purge(gd);\n",
       "            observer.disconnect();\n",
       "        }}\n",
       "}});\n",
       "\n",
       "// Listen for the removal of the full notebook cells\n",
       "var notebookContainer = gd.closest('#notebook-container');\n",
       "if (notebookContainer) {{\n",
       "    x.observe(notebookContainer, {childList: true});\n",
       "}}\n",
       "\n",
       "// Listen for the clearing of the current output cell\n",
       "var outputEl = gd.closest('.output');\n",
       "if (outputEl) {{\n",
       "    x.observe(outputEl, {childList: true});\n",
       "}}\n",
       "\n",
       "                        })\n",
       "                };\n",
       "                });\n",
       "            </script>\n",
       "        </div>"
      ]
     },
     "metadata": {},
     "output_type": "display_data"
    }
   ],
   "source": [
    "\n",
    "# plot barchart for Number of User Followers for each user, use default color\n",
    "layout1=dict(autosize=True, xaxis=dict(automargin=True),title=\"Number of followers for each user\")\n",
    "followersdf.sort_values(\"user.followers_count\", ascending=True).iplot(kind=\"bar\",x=\"user.name\", y=\"user.followers_count\", title=\"Number of Followers\", layout=layout1);\n"
   ]
  },
  {
   "cell_type": "markdown",
   "metadata": {},
   "source": [
    "### 3.1.3 Mapping visualization "
   ]
  },
  {
   "cell_type": "markdown",
   "metadata": {},
   "source": [
    "**Show mapping visualization from User_lat and User_lng data.**"
   ]
  },
  {
   "cell_type": "code",
   "execution_count": 79,
   "metadata": {},
   "outputs": [
    {
     "data": {
      "text/html": [
       "<div style=\"width:100%;\"><div style=\"position:relative;width:100%;height:0;padding-bottom:60%;\"><span style=\"color:#565656\">Make this Notebook Trusted to load map: File -> Trust Notebook</span><iframe src=\"about:blank\" style=\"position:absolute;width:100%;height:100%;left:0;top:0;border:none !important;\" data-html=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 onload=\"this.contentDocument.open();this.contentDocument.write(atob(this.getAttribute('data-html')));this.contentDocument.close();\" allowfullscreen webkitallowfullscreen mozallowfullscreen></iframe></div></div>"
      ],
      "text/plain": [
       "<folium.folium.Map at 0x7f89d1fed128>"
      ]
     },
     "execution_count": 79,
     "metadata": {},
     "output_type": "execute_result"
    }
   ],
   "source": [
    "import folium\n",
    "# remove rows which  latitude data is NA\n",
    "loc_df = df[df['user_lat'].notna()]\n",
    "# map initialization, set map centre and zoom level\n",
    "folium_map = folium.Map(location=[26.43, 12.59], zoom_start=3, tiles=\"cartodbpositron\")\n",
    "\n",
    "# show the twtter markers on the map from loc_df dataframe\n",
    "for index, row in loc_df.iterrows():\n",
    "    # popup text header\n",
    "    popup_text = \"\"\"\n",
    "                <img src={} style=\"width:100px;height:100px;\"><br>\n",
    "                Twitter handle: {}<br> \n",
    "                User followers: {}<br>\n",
    "                User screen name: {}<br>\n",
    "                Tweet date: {}<br>\n",
    "                Retweet count: {}<br>\n",
    "                Favorite count: {}\"\"\"\n",
    "    # popup text content\n",
    "    popup_text = popup_text.format(row[\"user.profile_image_url_https\"],\n",
    "                               row[\"user.name\"],\n",
    "                               row[\"user.followers_count\"],\n",
    "                               row[\"user.screen_name\"],\n",
    "                               row[\"created_at\"],\n",
    "                               row[\"retweet_count\"],\n",
    "                               row[\"favorite_count\"])\n",
    "    # tooltip content\n",
    "    tooltip = row[\"user.name\"]\n",
    "    # draw marker on map\n",
    "    folium.Marker(location=(float(row[\"user_lat\"])+np.random.uniform(0.001, 10**(-20))-0.005,float(row[\"user_lng\"])+np.random.uniform(0.001, 10**(-20))-0.005),\n",
    "                  icon=folium.Icon(icon='twitter',prefix='fa', color='blue'),\n",
    "                  popup=popup_text,\n",
    "                  tooltip=tooltip).add_to(folium_map)\n",
    "    \n",
    "\n",
    "# show map\n",
    "folium_map\n"
   ]
  },
  {
   "cell_type": "markdown",
   "metadata": {},
   "source": [
    "### 3.1.4 Sentiment analysis and visualization "
   ]
  },
  {
   "cell_type": "markdown",
   "metadata": {},
   "source": [
    "**Clean data text before performing sentiment analysis. Create function to analyze sentiment from cleaned text. Show barchart for the sentiment from data.**"
   ]
  },
  {
   "cell_type": "code",
   "execution_count": 80,
   "metadata": {},
   "outputs": [],
   "source": [
    "# function to clean tweet data\n",
    "def clean_tweet(tweet):\n",
    "    return ' '.join(re.sub('(@[A-Za-z0-9]+)|([^0-9A-Za-z \\t])|(\\w+:\\/\\/\\S+)', ' ', tweet).split())\n"
   ]
  },
  {
   "cell_type": "code",
   "execution_count": 89,
   "metadata": {},
   "outputs": [],
   "source": [
    "# function to return sentiment\n",
    "def get_sentiment(tweet):\n",
    "    analysis = TextBlob(tweet)\n",
    "    if analysis.sentiment.polarity > 0:\n",
    "        return 'Positive'\n",
    "    elif analysis.sentiment.polarity ==0:\n",
    "        return 'Neutral'\n",
    "    else:\n",
    "        return 'Negative'"
   ]
  },
  {
   "cell_type": "code",
   "execution_count": 82,
   "metadata": {},
   "outputs": [],
   "source": [
    "# import Regular Expression python library\n",
    "import re\n",
    "# apply clean_tweet and analyze_sentiment to twitter data\n",
    "df['clean_tweet'] = df['text'].apply(lambda x: clean_tweet(x))\n",
    "df['Sentiment'] = df['clean_tweet'].apply(lambda x: get_sentiment(x))\n"
   ]
  },
  {
   "cell_type": "code",
   "execution_count": 83,
   "metadata": {},
   "outputs": [
    {
     "name": "stdout",
     "output_type": "stream",
     "text": [
      "Original tweet:\n",
      "RT @EmilyJLB: Folks who’ve built digital editions in Wordpress: do you know of any plugins to enhance the search functionality? Or really j…\n",
      "\n",
      "Clean tweet:\n",
      "RT Folks who ve built digital editions in Wordpress do you know of any plugins to enhance the search functionality Or really j\n",
      "\n",
      "Sentiment:\n",
      "Positive\n"
     ]
    }
   ],
   "source": [
    "# check 1st tweet sentiment \n",
    "\n",
    "n=1\n",
    "print('Original tweet:\\n'+ df['text'][n])\n",
    "print()\n",
    "print('Clean tweet:\\n'+df['clean_tweet'][n])\n",
    "print()\n",
    "print('Sentiment:\\n'+df['Sentiment'][n])"
   ]
  },
  {
   "cell_type": "code",
   "execution_count": 84,
   "metadata": {},
   "outputs": [
    {
     "data": {
      "application/vnd.plotly.v1+json": {
       "config": {
        "linkText": "Export to plot.ly",
        "plotlyServerURL": "https://plot.ly",
        "showLink": true
       },
       "data": [
        {
         "marker": {
          "color": "rgba(55, 128, 191, 0.6)",
          "line": {
           "color": "rgba(55, 128, 191, 1.0)",
           "width": 1
          }
         },
         "name": "Sentiment",
         "orientation": "v",
         "text": "",
         "type": "bar",
         "x": [
          "Positive",
          "Neutral"
         ],
         "y": [
          34,
          17
         ]
        }
       ],
       "layout": {
        "autosize": true,
        "template": {
         "data": {
          "bar": [
           {
            "error_x": {
             "color": "#2a3f5f"
            },
            "error_y": {
             "color": "#2a3f5f"
            },
            "marker": {
             "line": {
              "color": "#E5ECF6",
              "width": 0.5
             }
            },
            "type": "bar"
           }
          ],
          "barpolar": [
           {
            "marker": {
             "line": {
              "color": "#E5ECF6",
              "width": 0.5
             }
            },
            "type": "barpolar"
           }
          ],
          "carpet": [
           {
            "aaxis": {
             "endlinecolor": "#2a3f5f",
             "gridcolor": "white",
             "linecolor": "white",
             "minorgridcolor": "white",
             "startlinecolor": "#2a3f5f"
            },
            "baxis": {
             "endlinecolor": "#2a3f5f",
             "gridcolor": "white",
             "linecolor": "white",
             "minorgridcolor": "white",
             "startlinecolor": "#2a3f5f"
            },
            "type": "carpet"
           }
          ],
          "choropleth": [
           {
            "colorbar": {
             "outlinewidth": 0,
             "ticks": ""
            },
            "type": "choropleth"
           }
          ],
          "contour": [
           {
            "colorbar": {
             "outlinewidth": 0,
             "ticks": ""
            },
            "colorscale": [
             [
              0,
              "#0d0887"
             ],
             [
              0.1111111111111111,
              "#46039f"
             ],
             [
              0.2222222222222222,
              "#7201a8"
             ],
             [
              0.3333333333333333,
              "#9c179e"
             ],
             [
              0.4444444444444444,
              "#bd3786"
             ],
             [
              0.5555555555555556,
              "#d8576b"
             ],
             [
              0.6666666666666666,
              "#ed7953"
             ],
             [
              0.7777777777777778,
              "#fb9f3a"
             ],
             [
              0.8888888888888888,
              "#fdca26"
             ],
             [
              1,
              "#f0f921"
             ]
            ],
            "type": "contour"
           }
          ],
          "contourcarpet": [
           {
            "colorbar": {
             "outlinewidth": 0,
             "ticks": ""
            },
            "type": "contourcarpet"
           }
          ],
          "heatmap": [
           {
            "colorbar": {
             "outlinewidth": 0,
             "ticks": ""
            },
            "colorscale": [
             [
              0,
              "#0d0887"
             ],
             [
              0.1111111111111111,
              "#46039f"
             ],
             [
              0.2222222222222222,
              "#7201a8"
             ],
             [
              0.3333333333333333,
              "#9c179e"
             ],
             [
              0.4444444444444444,
              "#bd3786"
             ],
             [
              0.5555555555555556,
              "#d8576b"
             ],
             [
              0.6666666666666666,
              "#ed7953"
             ],
             [
              0.7777777777777778,
              "#fb9f3a"
             ],
             [
              0.8888888888888888,
              "#fdca26"
             ],
             [
              1,
              "#f0f921"
             ]
            ],
            "type": "heatmap"
           }
          ],
          "heatmapgl": [
           {
            "colorbar": {
             "outlinewidth": 0,
             "ticks": ""
            },
            "colorscale": [
             [
              0,
              "#0d0887"
             ],
             [
              0.1111111111111111,
              "#46039f"
             ],
             [
              0.2222222222222222,
              "#7201a8"
             ],
             [
              0.3333333333333333,
              "#9c179e"
             ],
             [
              0.4444444444444444,
              "#bd3786"
             ],
             [
              0.5555555555555556,
              "#d8576b"
             ],
             [
              0.6666666666666666,
              "#ed7953"
             ],
             [
              0.7777777777777778,
              "#fb9f3a"
             ],
             [
              0.8888888888888888,
              "#fdca26"
             ],
             [
              1,
              "#f0f921"
             ]
            ],
            "type": "heatmapgl"
           }
          ],
          "histogram": [
           {
            "marker": {
             "colorbar": {
              "outlinewidth": 0,
              "ticks": ""
             }
            },
            "type": "histogram"
           }
          ],
          "histogram2d": [
           {
            "colorbar": {
             "outlinewidth": 0,
             "ticks": ""
            },
            "colorscale": [
             [
              0,
              "#0d0887"
             ],
             [
              0.1111111111111111,
              "#46039f"
             ],
             [
              0.2222222222222222,
              "#7201a8"
             ],
             [
              0.3333333333333333,
              "#9c179e"
             ],
             [
              0.4444444444444444,
              "#bd3786"
             ],
             [
              0.5555555555555556,
              "#d8576b"
             ],
             [
              0.6666666666666666,
              "#ed7953"
             ],
             [
              0.7777777777777778,
              "#fb9f3a"
             ],
             [
              0.8888888888888888,
              "#fdca26"
             ],
             [
              1,
              "#f0f921"
             ]
            ],
            "type": "histogram2d"
           }
          ],
          "histogram2dcontour": [
           {
            "colorbar": {
             "outlinewidth": 0,
             "ticks": ""
            },
            "colorscale": [
             [
              0,
              "#0d0887"
             ],
             [
              0.1111111111111111,
              "#46039f"
             ],
             [
              0.2222222222222222,
              "#7201a8"
             ],
             [
              0.3333333333333333,
              "#9c179e"
             ],
             [
              0.4444444444444444,
              "#bd3786"
             ],
             [
              0.5555555555555556,
              "#d8576b"
             ],
             [
              0.6666666666666666,
              "#ed7953"
             ],
             [
              0.7777777777777778,
              "#fb9f3a"
             ],
             [
              0.8888888888888888,
              "#fdca26"
             ],
             [
              1,
              "#f0f921"
             ]
            ],
            "type": "histogram2dcontour"
           }
          ],
          "mesh3d": [
           {
            "colorbar": {
             "outlinewidth": 0,
             "ticks": ""
            },
            "type": "mesh3d"
           }
          ],
          "parcoords": [
           {
            "line": {
             "colorbar": {
              "outlinewidth": 0,
              "ticks": ""
             }
            },
            "type": "parcoords"
           }
          ],
          "pie": [
           {
            "automargin": true,
            "type": "pie"
           }
          ],
          "scatter": [
           {
            "marker": {
             "colorbar": {
              "outlinewidth": 0,
              "ticks": ""
             }
            },
            "type": "scatter"
           }
          ],
          "scatter3d": [
           {
            "line": {
             "colorbar": {
              "outlinewidth": 0,
              "ticks": ""
             }
            },
            "marker": {
             "colorbar": {
              "outlinewidth": 0,
              "ticks": ""
             }
            },
            "type": "scatter3d"
           }
          ],
          "scattercarpet": [
           {
            "marker": {
             "colorbar": {
              "outlinewidth": 0,
              "ticks": ""
             }
            },
            "type": "scattercarpet"
           }
          ],
          "scattergeo": [
           {
            "marker": {
             "colorbar": {
              "outlinewidth": 0,
              "ticks": ""
             }
            },
            "type": "scattergeo"
           }
          ],
          "scattergl": [
           {
            "marker": {
             "colorbar": {
              "outlinewidth": 0,
              "ticks": ""
             }
            },
            "type": "scattergl"
           }
          ],
          "scattermapbox": [
           {
            "marker": {
             "colorbar": {
              "outlinewidth": 0,
              "ticks": ""
             }
            },
            "type": "scattermapbox"
           }
          ],
          "scatterpolar": [
           {
            "marker": {
             "colorbar": {
              "outlinewidth": 0,
              "ticks": ""
             }
            },
            "type": "scatterpolar"
           }
          ],
          "scatterpolargl": [
           {
            "marker": {
             "colorbar": {
              "outlinewidth": 0,
              "ticks": ""
             }
            },
            "type": "scatterpolargl"
           }
          ],
          "scatterternary": [
           {
            "marker": {
             "colorbar": {
              "outlinewidth": 0,
              "ticks": ""
             }
            },
            "type": "scatterternary"
           }
          ],
          "surface": [
           {
            "colorbar": {
             "outlinewidth": 0,
             "ticks": ""
            },
            "colorscale": [
             [
              0,
              "#0d0887"
             ],
             [
              0.1111111111111111,
              "#46039f"
             ],
             [
              0.2222222222222222,
              "#7201a8"
             ],
             [
              0.3333333333333333,
              "#9c179e"
             ],
             [
              0.4444444444444444,
              "#bd3786"
             ],
             [
              0.5555555555555556,
              "#d8576b"
             ],
             [
              0.6666666666666666,
              "#ed7953"
             ],
             [
              0.7777777777777778,
              "#fb9f3a"
             ],
             [
              0.8888888888888888,
              "#fdca26"
             ],
             [
              1,
              "#f0f921"
             ]
            ],
            "type": "surface"
           }
          ],
          "table": [
           {
            "cells": {
             "fill": {
              "color": "#EBF0F8"
             },
             "line": {
              "color": "white"
             }
            },
            "header": {
             "fill": {
              "color": "#C8D4E3"
             },
             "line": {
              "color": "white"
             }
            },
            "type": "table"
           }
          ]
         },
         "layout": {
          "annotationdefaults": {
           "arrowcolor": "#2a3f5f",
           "arrowhead": 0,
           "arrowwidth": 1
          },
          "coloraxis": {
           "colorbar": {
            "outlinewidth": 0,
            "ticks": ""
           }
          },
          "colorscale": {
           "diverging": [
            [
             0,
             "#8e0152"
            ],
            [
             0.1,
             "#c51b7d"
            ],
            [
             0.2,
             "#de77ae"
            ],
            [
             0.3,
             "#f1b6da"
            ],
            [
             0.4,
             "#fde0ef"
            ],
            [
             0.5,
             "#f7f7f7"
            ],
            [
             0.6,
             "#e6f5d0"
            ],
            [
             0.7,
             "#b8e186"
            ],
            [
             0.8,
             "#7fbc41"
            ],
            [
             0.9,
             "#4d9221"
            ],
            [
             1,
             "#276419"
            ]
           ],
           "sequential": [
            [
             0,
             "#0d0887"
            ],
            [
             0.1111111111111111,
             "#46039f"
            ],
            [
             0.2222222222222222,
             "#7201a8"
            ],
            [
             0.3333333333333333,
             "#9c179e"
            ],
            [
             0.4444444444444444,
             "#bd3786"
            ],
            [
             0.5555555555555556,
             "#d8576b"
            ],
            [
             0.6666666666666666,
             "#ed7953"
            ],
            [
             0.7777777777777778,
             "#fb9f3a"
            ],
            [
             0.8888888888888888,
             "#fdca26"
            ],
            [
             1,
             "#f0f921"
            ]
           ],
           "sequentialminus": [
            [
             0,
             "#0d0887"
            ],
            [
             0.1111111111111111,
             "#46039f"
            ],
            [
             0.2222222222222222,
             "#7201a8"
            ],
            [
             0.3333333333333333,
             "#9c179e"
            ],
            [
             0.4444444444444444,
             "#bd3786"
            ],
            [
             0.5555555555555556,
             "#d8576b"
            ],
            [
             0.6666666666666666,
             "#ed7953"
            ],
            [
             0.7777777777777778,
             "#fb9f3a"
            ],
            [
             0.8888888888888888,
             "#fdca26"
            ],
            [
             1,
             "#f0f921"
            ]
           ]
          },
          "colorway": [
           "#636efa",
           "#EF553B",
           "#00cc96",
           "#ab63fa",
           "#FFA15A",
           "#19d3f3",
           "#FF6692",
           "#B6E880",
           "#FF97FF",
           "#FECB52"
          ],
          "font": {
           "color": "#2a3f5f"
          },
          "geo": {
           "bgcolor": "white",
           "lakecolor": "white",
           "landcolor": "#E5ECF6",
           "showlakes": true,
           "showland": true,
           "subunitcolor": "white"
          },
          "hoverlabel": {
           "align": "left"
          },
          "hovermode": "closest",
          "mapbox": {
           "style": "light"
          },
          "paper_bgcolor": "white",
          "plot_bgcolor": "#E5ECF6",
          "polar": {
           "angularaxis": {
            "gridcolor": "white",
            "linecolor": "white",
            "ticks": ""
           },
           "bgcolor": "#E5ECF6",
           "radialaxis": {
            "gridcolor": "white",
            "linecolor": "white",
            "ticks": ""
           }
          },
          "scene": {
           "xaxis": {
            "backgroundcolor": "#E5ECF6",
            "gridcolor": "white",
            "gridwidth": 2,
            "linecolor": "white",
            "showbackground": true,
            "ticks": "",
            "zerolinecolor": "white"
           },
           "yaxis": {
            "backgroundcolor": "#E5ECF6",
            "gridcolor": "white",
            "gridwidth": 2,
            "linecolor": "white",
            "showbackground": true,
            "ticks": "",
            "zerolinecolor": "white"
           },
           "zaxis": {
            "backgroundcolor": "#E5ECF6",
            "gridcolor": "white",
            "gridwidth": 2,
            "linecolor": "white",
            "showbackground": true,
            "ticks": "",
            "zerolinecolor": "white"
           }
          },
          "shapedefaults": {
           "line": {
            "color": "#2a3f5f"
           }
          },
          "ternary": {
           "aaxis": {
            "gridcolor": "white",
            "linecolor": "white",
            "ticks": ""
           },
           "baxis": {
            "gridcolor": "white",
            "linecolor": "white",
            "ticks": ""
           },
           "bgcolor": "#E5ECF6",
           "caxis": {
            "gridcolor": "white",
            "linecolor": "white",
            "ticks": ""
           }
          },
          "title": {
           "x": 0.05
          },
          "xaxis": {
           "automargin": true,
           "gridcolor": "white",
           "linecolor": "white",
           "ticks": "",
           "title": {
            "standoff": 15
           },
           "zerolinecolor": "white",
           "zerolinewidth": 2
          },
          "yaxis": {
           "automargin": true,
           "gridcolor": "white",
           "linecolor": "white",
           "ticks": "",
           "title": {
            "standoff": 15
           },
           "zerolinecolor": "white",
           "zerolinewidth": 2
          }
         }
        },
        "title": {
         "text": "Overall Sentiment Distribution"
        },
        "xaxis": {
         "automargin": true,
         "autorange": true,
         "range": [
          -0.5,
          1.5
         ],
         "title": {
          "text": "Sentiment"
         },
         "type": "category"
        },
        "yaxis": {
         "automargin": true,
         "autorange": true,
         "range": [
          0,
          35.78947368421053
         ],
         "title": {
          "text": "Count"
         },
         "type": "linear"
        }
       }
      },
      "image/png": "[encoded data removed]",
      "text/html": [
       "<div>\n",
       "        \n",
       "        \n",
       "            <div id=\"d2680784-e0a9-41e4-aeb9-87a142ca3602\" class=\"plotly-graph-div\" style=\"height:525px; width:100%;\"></div>\n",
       "            <script type=\"text/javascript\">\n",
       "                require([\"plotly\"], function(Plotly) {\n",
       "                    window.PLOTLYENV=window.PLOTLYENV || {};\n",
       "                    window.PLOTLYENV.BASE_URL='https://plot.ly';\n",
       "                    \n",
       "                if (document.getElementById(\"d2680784-e0a9-41e4-aeb9-87a142ca3602\")) {\n",
       "                    Plotly.newPlot(\n",
       "                        'd2680784-e0a9-41e4-aeb9-87a142ca3602',\n",
       "                        [{\"marker\": {\"color\": \"rgba(55, 128, 191, 0.6)\", \"line\": {\"color\": \"rgba(55, 128, 191, 1.0)\", \"width\": 1}}, \"name\": \"Sentiment\", \"orientation\": \"v\", \"text\": \"\", \"type\": \"bar\", \"x\": [\"Positive\", \"Neutral\"], \"y\": [34, 17]}],\n",
       "                        {\"autosize\": true, \"template\": {\"data\": {\"bar\": [{\"error_x\": {\"color\": \"#2a3f5f\"}, \"error_y\": {\"color\": \"#2a3f5f\"}, \"marker\": {\"line\": {\"color\": \"#E5ECF6\", \"width\": 0.5}}, \"type\": \"bar\"}], \"barpolar\": [{\"marker\": {\"line\": {\"color\": \"#E5ECF6\", \"width\": 0.5}}, \"type\": \"barpolar\"}], \"carpet\": [{\"aaxis\": {\"endlinecolor\": \"#2a3f5f\", \"gridcolor\": \"white\", \"linecolor\": \"white\", \"minorgridcolor\": \"white\", \"startlinecolor\": \"#2a3f5f\"}, \"baxis\": {\"endlinecolor\": \"#2a3f5f\", \"gridcolor\": \"white\", \"linecolor\": \"white\", \"minorgridcolor\": \"white\", \"startlinecolor\": \"#2a3f5f\"}, \"type\": \"carpet\"}], \"choropleth\": [{\"colorbar\": {\"outlinewidth\": 0, \"ticks\": \"\"}, \"type\": \"choropleth\"}], \"contour\": [{\"colorbar\": {\"outlinewidth\": 0, \"ticks\": \"\"}, \"colorscale\": [[0.0, \"#0d0887\"], [0.1111111111111111, \"#46039f\"], [0.2222222222222222, \"#7201a8\"], [0.3333333333333333, \"#9c179e\"], [0.4444444444444444, \"#bd3786\"], [0.5555555555555556, \"#d8576b\"], [0.6666666666666666, \"#ed7953\"], [0.7777777777777778, \"#fb9f3a\"], [0.8888888888888888, \"#fdca26\"], [1.0, \"#f0f921\"]], \"type\": \"contour\"}], \"contourcarpet\": [{\"colorbar\": {\"outlinewidth\": 0, \"ticks\": \"\"}, \"type\": \"contourcarpet\"}], \"heatmap\": [{\"colorbar\": {\"outlinewidth\": 0, \"ticks\": \"\"}, \"colorscale\": [[0.0, \"#0d0887\"], [0.1111111111111111, \"#46039f\"], [0.2222222222222222, \"#7201a8\"], [0.3333333333333333, \"#9c179e\"], [0.4444444444444444, \"#bd3786\"], [0.5555555555555556, \"#d8576b\"], [0.6666666666666666, \"#ed7953\"], [0.7777777777777778, \"#fb9f3a\"], [0.8888888888888888, \"#fdca26\"], [1.0, \"#f0f921\"]], \"type\": \"heatmap\"}], \"heatmapgl\": [{\"colorbar\": {\"outlinewidth\": 0, \"ticks\": \"\"}, \"colorscale\": [[0.0, \"#0d0887\"], [0.1111111111111111, \"#46039f\"], [0.2222222222222222, \"#7201a8\"], [0.3333333333333333, \"#9c179e\"], [0.4444444444444444, \"#bd3786\"], [0.5555555555555556, \"#d8576b\"], [0.6666666666666666, \"#ed7953\"], [0.7777777777777778, \"#fb9f3a\"], [0.8888888888888888, \"#fdca26\"], [1.0, \"#f0f921\"]], \"type\": \"heatmapgl\"}], \"histogram\": [{\"marker\": {\"colorbar\": {\"outlinewidth\": 0, \"ticks\": \"\"}}, \"type\": \"histogram\"}], \"histogram2d\": [{\"colorbar\": {\"outlinewidth\": 0, \"ticks\": \"\"}, \"colorscale\": [[0.0, \"#0d0887\"], [0.1111111111111111, \"#46039f\"], [0.2222222222222222, \"#7201a8\"], [0.3333333333333333, \"#9c179e\"], [0.4444444444444444, \"#bd3786\"], [0.5555555555555556, \"#d8576b\"], [0.6666666666666666, \"#ed7953\"], [0.7777777777777778, \"#fb9f3a\"], [0.8888888888888888, \"#fdca26\"], [1.0, \"#f0f921\"]], \"type\": \"histogram2d\"}], \"histogram2dcontour\": [{\"colorbar\": {\"outlinewidth\": 0, \"ticks\": \"\"}, \"colorscale\": [[0.0, \"#0d0887\"], [0.1111111111111111, \"#46039f\"], [0.2222222222222222, \"#7201a8\"], [0.3333333333333333, \"#9c179e\"], [0.4444444444444444, \"#bd3786\"], [0.5555555555555556, \"#d8576b\"], [0.6666666666666666, \"#ed7953\"], [0.7777777777777778, \"#fb9f3a\"], [0.8888888888888888, \"#fdca26\"], [1.0, \"#f0f921\"]], \"type\": \"histogram2dcontour\"}], \"mesh3d\": [{\"colorbar\": {\"outlinewidth\": 0, \"ticks\": \"\"}, \"type\": \"mesh3d\"}], \"parcoords\": [{\"line\": {\"colorbar\": {\"outlinewidth\": 0, \"ticks\": \"\"}}, \"type\": \"parcoords\"}], \"pie\": [{\"automargin\": true, \"type\": \"pie\"}], \"scatter\": [{\"marker\": {\"colorbar\": {\"outlinewidth\": 0, \"ticks\": \"\"}}, \"type\": \"scatter\"}], \"scatter3d\": [{\"line\": {\"colorbar\": {\"outlinewidth\": 0, \"ticks\": \"\"}}, \"marker\": {\"colorbar\": {\"outlinewidth\": 0, \"ticks\": \"\"}}, \"type\": \"scatter3d\"}], \"scattercarpet\": [{\"marker\": {\"colorbar\": {\"outlinewidth\": 0, \"ticks\": \"\"}}, \"type\": \"scattercarpet\"}], \"scattergeo\": [{\"marker\": {\"colorbar\": {\"outlinewidth\": 0, \"ticks\": \"\"}}, \"type\": \"scattergeo\"}], \"scattergl\": [{\"marker\": {\"colorbar\": {\"outlinewidth\": 0, \"ticks\": \"\"}}, \"type\": \"scattergl\"}], \"scattermapbox\": [{\"marker\": {\"colorbar\": {\"outlinewidth\": 0, \"ticks\": \"\"}}, \"type\": \"scattermapbox\"}], \"scatterpolar\": [{\"marker\": {\"colorbar\": {\"outlinewidth\": 0, \"ticks\": \"\"}}, \"type\": \"scatterpolar\"}], \"scatterpolargl\": [{\"marker\": {\"colorbar\": {\"outlinewidth\": 0, \"ticks\": \"\"}}, \"type\": \"scatterpolargl\"}], \"scatterternary\": [{\"marker\": {\"colorbar\": {\"outlinewidth\": 0, \"ticks\": \"\"}}, \"type\": \"scatterternary\"}], \"surface\": [{\"colorbar\": {\"outlinewidth\": 0, \"ticks\": \"\"}, \"colorscale\": [[0.0, \"#0d0887\"], [0.1111111111111111, \"#46039f\"], [0.2222222222222222, \"#7201a8\"], [0.3333333333333333, \"#9c179e\"], [0.4444444444444444, \"#bd3786\"], [0.5555555555555556, \"#d8576b\"], [0.6666666666666666, \"#ed7953\"], [0.7777777777777778, \"#fb9f3a\"], [0.8888888888888888, \"#fdca26\"], [1.0, \"#f0f921\"]], \"type\": \"surface\"}], \"table\": [{\"cells\": {\"fill\": {\"color\": \"#EBF0F8\"}, \"line\": {\"color\": \"white\"}}, \"header\": {\"fill\": {\"color\": \"#C8D4E3\"}, \"line\": {\"color\": \"white\"}}, \"type\": \"table\"}]}, \"layout\": {\"annotationdefaults\": {\"arrowcolor\": \"#2a3f5f\", \"arrowhead\": 0, \"arrowwidth\": 1}, \"coloraxis\": {\"colorbar\": {\"outlinewidth\": 0, \"ticks\": \"\"}}, \"colorscale\": {\"diverging\": [[0, \"#8e0152\"], [0.1, \"#c51b7d\"], [0.2, \"#de77ae\"], [0.3, \"#f1b6da\"], [0.4, \"#fde0ef\"], [0.5, \"#f7f7f7\"], [0.6, \"#e6f5d0\"], [0.7, \"#b8e186\"], [0.8, \"#7fbc41\"], [0.9, \"#4d9221\"], [1, \"#276419\"]], \"sequential\": [[0.0, \"#0d0887\"], [0.1111111111111111, \"#46039f\"], [0.2222222222222222, \"#7201a8\"], [0.3333333333333333, \"#9c179e\"], [0.4444444444444444, \"#bd3786\"], [0.5555555555555556, \"#d8576b\"], [0.6666666666666666, \"#ed7953\"], [0.7777777777777778, \"#fb9f3a\"], [0.8888888888888888, \"#fdca26\"], [1.0, \"#f0f921\"]], \"sequentialminus\": [[0.0, \"#0d0887\"], [0.1111111111111111, \"#46039f\"], [0.2222222222222222, \"#7201a8\"], [0.3333333333333333, \"#9c179e\"], [0.4444444444444444, \"#bd3786\"], [0.5555555555555556, \"#d8576b\"], [0.6666666666666666, \"#ed7953\"], [0.7777777777777778, \"#fb9f3a\"], [0.8888888888888888, \"#fdca26\"], [1.0, \"#f0f921\"]]}, \"colorway\": [\"#636efa\", \"#EF553B\", \"#00cc96\", \"#ab63fa\", \"#FFA15A\", \"#19d3f3\", \"#FF6692\", \"#B6E880\", \"#FF97FF\", \"#FECB52\"], \"font\": {\"color\": \"#2a3f5f\"}, \"geo\": {\"bgcolor\": \"white\", \"lakecolor\": \"white\", \"landcolor\": \"#E5ECF6\", \"showlakes\": true, \"showland\": true, \"subunitcolor\": \"white\"}, \"hoverlabel\": {\"align\": \"left\"}, \"hovermode\": \"closest\", \"mapbox\": {\"style\": \"light\"}, \"paper_bgcolor\": \"white\", \"plot_bgcolor\": \"#E5ECF6\", \"polar\": {\"angularaxis\": {\"gridcolor\": \"white\", \"linecolor\": \"white\", \"ticks\": \"\"}, \"bgcolor\": \"#E5ECF6\", \"radialaxis\": {\"gridcolor\": \"white\", \"linecolor\": \"white\", \"ticks\": \"\"}}, \"scene\": {\"xaxis\": {\"backgroundcolor\": \"#E5ECF6\", \"gridcolor\": \"white\", \"gridwidth\": 2, \"linecolor\": \"white\", \"showbackground\": true, \"ticks\": \"\", \"zerolinecolor\": \"white\"}, \"yaxis\": {\"backgroundcolor\": \"#E5ECF6\", \"gridcolor\": \"white\", \"gridwidth\": 2, \"linecolor\": \"white\", \"showbackground\": true, \"ticks\": \"\", \"zerolinecolor\": \"white\"}, \"zaxis\": {\"backgroundcolor\": \"#E5ECF6\", \"gridcolor\": \"white\", \"gridwidth\": 2, \"linecolor\": \"white\", \"showbackground\": true, \"ticks\": \"\", \"zerolinecolor\": \"white\"}}, \"shapedefaults\": {\"line\": {\"color\": \"#2a3f5f\"}}, \"ternary\": {\"aaxis\": {\"gridcolor\": \"white\", \"linecolor\": \"white\", \"ticks\": \"\"}, \"baxis\": {\"gridcolor\": \"white\", \"linecolor\": \"white\", \"ticks\": \"\"}, \"bgcolor\": \"#E5ECF6\", \"caxis\": {\"gridcolor\": \"white\", \"linecolor\": \"white\", \"ticks\": \"\"}}, \"title\": {\"x\": 0.05}, \"xaxis\": {\"automargin\": true, \"gridcolor\": \"white\", \"linecolor\": \"white\", \"ticks\": \"\", \"title\": {\"standoff\": 15}, \"zerolinecolor\": \"white\", \"zerolinewidth\": 2}, \"yaxis\": {\"automargin\": true, \"gridcolor\": \"white\", \"linecolor\": \"white\", \"ticks\": \"\", \"title\": {\"standoff\": 15}, \"zerolinecolor\": \"white\", \"zerolinewidth\": 2}}}, \"title\": {\"text\": \"Overall Sentiment Distribution\"}, \"xaxis\": {\"automargin\": true, \"title\": {\"text\": \"Sentiment\"}}, \"yaxis\": {\"automargin\": true, \"title\": {\"text\": \"Count\"}}},\n",
       "                        {\"showLink\": true, \"linkText\": \"Export to plot.ly\", \"plotlyServerURL\": \"https://plot.ly\", \"responsive\": true}\n",
       "                    ).then(function(){\n",
       "                            \n",
       "var gd = document.getElementById('d2680784-e0a9-41e4-aeb9-87a142ca3602');\n",
       "var x = new MutationObserver(function (mutations, observer) {{\n",
       "        var display = window.getComputedStyle(gd).display;\n",
       "        if (!display || display === 'none') {{\n",
       "            console.log([gd, 'removed!']);\n",
       "            Plotly.purge(gd);\n",
       "            observer.disconnect();\n",
       "        }}\n",
       "}});\n",
       "\n",
       "// Listen for the removal of the full notebook cells\n",
       "var notebookContainer = gd.closest('#notebook-container');\n",
       "if (notebookContainer) {{\n",
       "    x.observe(notebookContainer, {childList: true});\n",
       "}}\n",
       "\n",
       "// Listen for the clearing of the current output cell\n",
       "var outputEl = gd.closest('.output');\n",
       "if (outputEl) {{\n",
       "    x.observe(outputEl, {childList: true});\n",
       "}}\n",
       "\n",
       "                        })\n",
       "                };\n",
       "                });\n",
       "            </script>\n",
       "        </div>"
      ]
     },
     "metadata": {},
     "output_type": "display_data"
    }
   ],
   "source": [
    "# show barchart of overall tweet sentiment\n",
    "layout1=dict(autosize=True, yaxis=dict(automargin=True, title=\"Count\"), xaxis=dict(automargin=True, title=\"Sentiment\"),title=\"Overall Sentiment Distribution\")\n",
    "df['Sentiment'].value_counts().iplot(kind='bar', title='Overall Sentiment Distribution', color=\"blue\", layout=layout1)\n"
   ]
  },
  {
   "cell_type": "code",
   "execution_count": 90,
   "metadata": {},
   "outputs": [
    {
     "data": {
      "application/vnd.plotly.v1+json": {
       "config": {
        "linkText": "Export to plot.ly",
        "plotlyServerURL": "https://plot.ly",
        "showLink": true
       },
       "data": [
        {
         "marker": {
          "color": "rgba(255, 153, 51, 0.6)",
          "line": {
           "color": "rgba(255, 153, 51, 1.0)",
           "width": 1
          }
         },
         "name": "Sentiment",
         "orientation": "v",
         "text": "",
         "type": "bar",
         "x": [
          "Positive",
          "Neutral"
         ],
         "y": [
          23,
          8
         ]
        }
       ],
       "layout": {
        "autosize": true,
        "template": {
         "data": {
          "bar": [
           {
            "error_x": {
             "color": "#2a3f5f"
            },
            "error_y": {
             "color": "#2a3f5f"
            },
            "marker": {
             "line": {
              "color": "#E5ECF6",
              "width": 0.5
             }
            },
            "type": "bar"
           }
          ],
          "barpolar": [
           {
            "marker": {
             "line": {
              "color": "#E5ECF6",
              "width": 0.5
             }
            },
            "type": "barpolar"
           }
          ],
          "carpet": [
           {
            "aaxis": {
             "endlinecolor": "#2a3f5f",
             "gridcolor": "white",
             "linecolor": "white",
             "minorgridcolor": "white",
             "startlinecolor": "#2a3f5f"
            },
            "baxis": {
             "endlinecolor": "#2a3f5f",
             "gridcolor": "white",
             "linecolor": "white",
             "minorgridcolor": "white",
             "startlinecolor": "#2a3f5f"
            },
            "type": "carpet"
           }
          ],
          "choropleth": [
           {
            "colorbar": {
             "outlinewidth": 0,
             "ticks": ""
            },
            "type": "choropleth"
           }
          ],
          "contour": [
           {
            "colorbar": {
             "outlinewidth": 0,
             "ticks": ""
            },
            "colorscale": [
             [
              0,
              "#0d0887"
             ],
             [
              0.1111111111111111,
              "#46039f"
             ],
             [
              0.2222222222222222,
              "#7201a8"
             ],
             [
              0.3333333333333333,
              "#9c179e"
             ],
             [
              0.4444444444444444,
              "#bd3786"
             ],
             [
              0.5555555555555556,
              "#d8576b"
             ],
             [
              0.6666666666666666,
              "#ed7953"
             ],
             [
              0.7777777777777778,
              "#fb9f3a"
             ],
             [
              0.8888888888888888,
              "#fdca26"
             ],
             [
              1,
              "#f0f921"
             ]
            ],
            "type": "contour"
           }
          ],
          "contourcarpet": [
           {
            "colorbar": {
             "outlinewidth": 0,
             "ticks": ""
            },
            "type": "contourcarpet"
           }
          ],
          "heatmap": [
           {
            "colorbar": {
             "outlinewidth": 0,
             "ticks": ""
            },
            "colorscale": [
             [
              0,
              "#0d0887"
             ],
             [
              0.1111111111111111,
              "#46039f"
             ],
             [
              0.2222222222222222,
              "#7201a8"
             ],
             [
              0.3333333333333333,
              "#9c179e"
             ],
             [
              0.4444444444444444,
              "#bd3786"
             ],
             [
              0.5555555555555556,
              "#d8576b"
             ],
             [
              0.6666666666666666,
              "#ed7953"
             ],
             [
              0.7777777777777778,
              "#fb9f3a"
             ],
             [
              0.8888888888888888,
              "#fdca26"
             ],
             [
              1,
              "#f0f921"
             ]
            ],
            "type": "heatmap"
           }
          ],
          "heatmapgl": [
           {
            "colorbar": {
             "outlinewidth": 0,
             "ticks": ""
            },
            "colorscale": [
             [
              0,
              "#0d0887"
             ],
             [
              0.1111111111111111,
              "#46039f"
             ],
             [
              0.2222222222222222,
              "#7201a8"
             ],
             [
              0.3333333333333333,
              "#9c179e"
             ],
             [
              0.4444444444444444,
              "#bd3786"
             ],
             [
              0.5555555555555556,
              "#d8576b"
             ],
             [
              0.6666666666666666,
              "#ed7953"
             ],
             [
              0.7777777777777778,
              "#fb9f3a"
             ],
             [
              0.8888888888888888,
              "#fdca26"
             ],
             [
              1,
              "#f0f921"
             ]
            ],
            "type": "heatmapgl"
           }
          ],
          "histogram": [
           {
            "marker": {
             "colorbar": {
              "outlinewidth": 0,
              "ticks": ""
             }
            },
            "type": "histogram"
           }
          ],
          "histogram2d": [
           {
            "colorbar": {
             "outlinewidth": 0,
             "ticks": ""
            },
            "colorscale": [
             [
              0,
              "#0d0887"
             ],
             [
              0.1111111111111111,
              "#46039f"
             ],
             [
              0.2222222222222222,
              "#7201a8"
             ],
             [
              0.3333333333333333,
              "#9c179e"
             ],
             [
              0.4444444444444444,
              "#bd3786"
             ],
             [
              0.5555555555555556,
              "#d8576b"
             ],
             [
              0.6666666666666666,
              "#ed7953"
             ],
             [
              0.7777777777777778,
              "#fb9f3a"
             ],
             [
              0.8888888888888888,
              "#fdca26"
             ],
             [
              1,
              "#f0f921"
             ]
            ],
            "type": "histogram2d"
           }
          ],
          "histogram2dcontour": [
           {
            "colorbar": {
             "outlinewidth": 0,
             "ticks": ""
            },
            "colorscale": [
             [
              0,
              "#0d0887"
             ],
             [
              0.1111111111111111,
              "#46039f"
             ],
             [
              0.2222222222222222,
              "#7201a8"
             ],
             [
              0.3333333333333333,
              "#9c179e"
             ],
             [
              0.4444444444444444,
              "#bd3786"
             ],
             [
              0.5555555555555556,
              "#d8576b"
             ],
             [
              0.6666666666666666,
              "#ed7953"
             ],
             [
              0.7777777777777778,
              "#fb9f3a"
             ],
             [
              0.8888888888888888,
              "#fdca26"
             ],
             [
              1,
              "#f0f921"
             ]
            ],
            "type": "histogram2dcontour"
           }
          ],
          "mesh3d": [
           {
            "colorbar": {
             "outlinewidth": 0,
             "ticks": ""
            },
            "type": "mesh3d"
           }
          ],
          "parcoords": [
           {
            "line": {
             "colorbar": {
              "outlinewidth": 0,
              "ticks": ""
             }
            },
            "type": "parcoords"
           }
          ],
          "pie": [
           {
            "automargin": true,
            "type": "pie"
           }
          ],
          "scatter": [
           {
            "marker": {
             "colorbar": {
              "outlinewidth": 0,
              "ticks": ""
             }
            },
            "type": "scatter"
           }
          ],
          "scatter3d": [
           {
            "line": {
             "colorbar": {
              "outlinewidth": 0,
              "ticks": ""
             }
            },
            "marker": {
             "colorbar": {
              "outlinewidth": 0,
              "ticks": ""
             }
            },
            "type": "scatter3d"
           }
          ],
          "scattercarpet": [
           {
            "marker": {
             "colorbar": {
              "outlinewidth": 0,
              "ticks": ""
             }
            },
            "type": "scattercarpet"
           }
          ],
          "scattergeo": [
           {
            "marker": {
             "colorbar": {
              "outlinewidth": 0,
              "ticks": ""
             }
            },
            "type": "scattergeo"
           }
          ],
          "scattergl": [
           {
            "marker": {
             "colorbar": {
              "outlinewidth": 0,
              "ticks": ""
             }
            },
            "type": "scattergl"
           }
          ],
          "scattermapbox": [
           {
            "marker": {
             "colorbar": {
              "outlinewidth": 0,
              "ticks": ""
             }
            },
            "type": "scattermapbox"
           }
          ],
          "scatterpolar": [
           {
            "marker": {
             "colorbar": {
              "outlinewidth": 0,
              "ticks": ""
             }
            },
            "type": "scatterpolar"
           }
          ],
          "scatterpolargl": [
           {
            "marker": {
             "colorbar": {
              "outlinewidth": 0,
              "ticks": ""
             }
            },
            "type": "scatterpolargl"
           }
          ],
          "scatterternary": [
           {
            "marker": {
             "colorbar": {
              "outlinewidth": 0,
              "ticks": ""
             }
            },
            "type": "scatterternary"
           }
          ],
          "surface": [
           {
            "colorbar": {
             "outlinewidth": 0,
             "ticks": ""
            },
            "colorscale": [
             [
              0,
              "#0d0887"
             ],
             [
              0.1111111111111111,
              "#46039f"
             ],
             [
              0.2222222222222222,
              "#7201a8"
             ],
             [
              0.3333333333333333,
              "#9c179e"
             ],
             [
              0.4444444444444444,
              "#bd3786"
             ],
             [
              0.5555555555555556,
              "#d8576b"
             ],
             [
              0.6666666666666666,
              "#ed7953"
             ],
             [
              0.7777777777777778,
              "#fb9f3a"
             ],
             [
              0.8888888888888888,
              "#fdca26"
             ],
             [
              1,
              "#f0f921"
             ]
            ],
            "type": "surface"
           }
          ],
          "table": [
           {
            "cells": {
             "fill": {
              "color": "#EBF0F8"
             },
             "line": {
              "color": "white"
             }
            },
            "header": {
             "fill": {
              "color": "#C8D4E3"
             },
             "line": {
              "color": "white"
             }
            },
            "type": "table"
           }
          ]
         },
         "layout": {
          "annotationdefaults": {
           "arrowcolor": "#2a3f5f",
           "arrowhead": 0,
           "arrowwidth": 1
          },
          "coloraxis": {
           "colorbar": {
            "outlinewidth": 0,
            "ticks": ""
           }
          },
          "colorscale": {
           "diverging": [
            [
             0,
             "#8e0152"
            ],
            [
             0.1,
             "#c51b7d"
            ],
            [
             0.2,
             "#de77ae"
            ],
            [
             0.3,
             "#f1b6da"
            ],
            [
             0.4,
             "#fde0ef"
            ],
            [
             0.5,
             "#f7f7f7"
            ],
            [
             0.6,
             "#e6f5d0"
            ],
            [
             0.7,
             "#b8e186"
            ],
            [
             0.8,
             "#7fbc41"
            ],
            [
             0.9,
             "#4d9221"
            ],
            [
             1,
             "#276419"
            ]
           ],
           "sequential": [
            [
             0,
             "#0d0887"
            ],
            [
             0.1111111111111111,
             "#46039f"
            ],
            [
             0.2222222222222222,
             "#7201a8"
            ],
            [
             0.3333333333333333,
             "#9c179e"
            ],
            [
             0.4444444444444444,
             "#bd3786"
            ],
            [
             0.5555555555555556,
             "#d8576b"
            ],
            [
             0.6666666666666666,
             "#ed7953"
            ],
            [
             0.7777777777777778,
             "#fb9f3a"
            ],
            [
             0.8888888888888888,
             "#fdca26"
            ],
            [
             1,
             "#f0f921"
            ]
           ],
           "sequentialminus": [
            [
             0,
             "#0d0887"
            ],
            [
             0.1111111111111111,
             "#46039f"
            ],
            [
             0.2222222222222222,
             "#7201a8"
            ],
            [
             0.3333333333333333,
             "#9c179e"
            ],
            [
             0.4444444444444444,
             "#bd3786"
            ],
            [
             0.5555555555555556,
             "#d8576b"
            ],
            [
             0.6666666666666666,
             "#ed7953"
            ],
            [
             0.7777777777777778,
             "#fb9f3a"
            ],
            [
             0.8888888888888888,
             "#fdca26"
            ],
            [
             1,
             "#f0f921"
            ]
           ]
          },
          "colorway": [
           "#636efa",
           "#EF553B",
           "#00cc96",
           "#ab63fa",
           "#FFA15A",
           "#19d3f3",
           "#FF6692",
           "#B6E880",
           "#FF97FF",
           "#FECB52"
          ],
          "font": {
           "color": "#2a3f5f"
          },
          "geo": {
           "bgcolor": "white",
           "lakecolor": "white",
           "landcolor": "#E5ECF6",
           "showlakes": true,
           "showland": true,
           "subunitcolor": "white"
          },
          "hoverlabel": {
           "align": "left"
          },
          "hovermode": "closest",
          "mapbox": {
           "style": "light"
          },
          "paper_bgcolor": "white",
          "plot_bgcolor": "#E5ECF6",
          "polar": {
           "angularaxis": {
            "gridcolor": "white",
            "linecolor": "white",
            "ticks": ""
           },
           "bgcolor": "#E5ECF6",
           "radialaxis": {
            "gridcolor": "white",
            "linecolor": "white",
            "ticks": ""
           }
          },
          "scene": {
           "xaxis": {
            "backgroundcolor": "#E5ECF6",
            "gridcolor": "white",
            "gridwidth": 2,
            "linecolor": "white",
            "showbackground": true,
            "ticks": "",
            "zerolinecolor": "white"
           },
           "yaxis": {
            "backgroundcolor": "#E5ECF6",
            "gridcolor": "white",
            "gridwidth": 2,
            "linecolor": "white",
            "showbackground": true,
            "ticks": "",
            "zerolinecolor": "white"
           },
           "zaxis": {
            "backgroundcolor": "#E5ECF6",
            "gridcolor": "white",
            "gridwidth": 2,
            "linecolor": "white",
            "showbackground": true,
            "ticks": "",
            "zerolinecolor": "white"
           }
          },
          "shapedefaults": {
           "line": {
            "color": "#2a3f5f"
           }
          },
          "ternary": {
           "aaxis": {
            "gridcolor": "white",
            "linecolor": "white",
            "ticks": ""
           },
           "baxis": {
            "gridcolor": "white",
            "linecolor": "white",
            "ticks": ""
           },
           "bgcolor": "#E5ECF6",
           "caxis": {
            "gridcolor": "white",
            "linecolor": "white",
            "ticks": ""
           }
          },
          "title": {
           "x": 0.05
          },
          "xaxis": {
           "automargin": true,
           "gridcolor": "white",
           "linecolor": "white",
           "ticks": "",
           "title": {
            "standoff": 15
           },
           "zerolinecolor": "white",
           "zerolinewidth": 2
          },
          "yaxis": {
           "automargin": true,
           "gridcolor": "white",
           "linecolor": "white",
           "ticks": "",
           "title": {
            "standoff": 15
           },
           "zerolinecolor": "white",
           "zerolinewidth": 2
          }
         }
        },
        "title": {
         "text": "Overall Sentiment Distribution"
        },
        "xaxis": {
         "automargin": true,
         "autorange": true,
         "range": [
          -0.5,
          1.5
         ],
         "title": {
          "text": "Sentiment"
         },
         "type": "category"
        },
        "yaxis": {
         "automargin": true,
         "autorange": true,
         "range": [
          0,
          24.210526315789473
         ],
         "title": {
          "text": "Count"
         },
         "type": "linear"
        }
       }
      },
      "image/png": "[encoded data removed]",
      "text/html": [
       "<div>\n",
       "        \n",
       "        \n",
       "            <div id=\"b43a99cb-6834-4f5c-bcb0-6766e0d1148e\" class=\"plotly-graph-div\" style=\"height:525px; width:100%;\"></div>\n",
       "            <script type=\"text/javascript\">\n",
       "                require([\"plotly\"], function(Plotly) {\n",
       "                    window.PLOTLYENV=window.PLOTLYENV || {};\n",
       "                    window.PLOTLYENV.BASE_URL='https://plot.ly';\n",
       "                    \n",
       "                if (document.getElementById(\"b43a99cb-6834-4f5c-bcb0-6766e0d1148e\")) {\n",
       "                    Plotly.newPlot(\n",
       "                        'b43a99cb-6834-4f5c-bcb0-6766e0d1148e',\n",
       "                        [{\"marker\": {\"color\": \"rgba(255, 153, 51, 0.6)\", \"line\": {\"color\": \"rgba(255, 153, 51, 1.0)\", \"width\": 1}}, \"name\": \"Sentiment\", \"orientation\": \"v\", \"text\": \"\", \"type\": \"bar\", \"x\": [\"Positive\", \"Neutral\"], \"y\": [23, 8]}],\n",
       "                        {\"autosize\": true, \"template\": {\"data\": {\"bar\": [{\"error_x\": {\"color\": \"#2a3f5f\"}, \"error_y\": {\"color\": \"#2a3f5f\"}, \"marker\": {\"line\": {\"color\": \"#E5ECF6\", \"width\": 0.5}}, \"type\": \"bar\"}], \"barpolar\": [{\"marker\": {\"line\": {\"color\": \"#E5ECF6\", \"width\": 0.5}}, \"type\": \"barpolar\"}], \"carpet\": [{\"aaxis\": {\"endlinecolor\": \"#2a3f5f\", \"gridcolor\": \"white\", \"linecolor\": \"white\", \"minorgridcolor\": \"white\", \"startlinecolor\": \"#2a3f5f\"}, \"baxis\": {\"endlinecolor\": \"#2a3f5f\", \"gridcolor\": \"white\", \"linecolor\": \"white\", \"minorgridcolor\": \"white\", \"startlinecolor\": \"#2a3f5f\"}, \"type\": \"carpet\"}], \"choropleth\": [{\"colorbar\": {\"outlinewidth\": 0, \"ticks\": \"\"}, \"type\": \"choropleth\"}], \"contour\": [{\"colorbar\": {\"outlinewidth\": 0, \"ticks\": \"\"}, \"colorscale\": [[0.0, \"#0d0887\"], [0.1111111111111111, \"#46039f\"], [0.2222222222222222, \"#7201a8\"], [0.3333333333333333, \"#9c179e\"], [0.4444444444444444, \"#bd3786\"], [0.5555555555555556, \"#d8576b\"], [0.6666666666666666, \"#ed7953\"], [0.7777777777777778, \"#fb9f3a\"], [0.8888888888888888, \"#fdca26\"], [1.0, \"#f0f921\"]], \"type\": \"contour\"}], \"contourcarpet\": [{\"colorbar\": {\"outlinewidth\": 0, \"ticks\": \"\"}, \"type\": \"contourcarpet\"}], \"heatmap\": [{\"colorbar\": {\"outlinewidth\": 0, \"ticks\": \"\"}, \"colorscale\": [[0.0, \"#0d0887\"], [0.1111111111111111, \"#46039f\"], [0.2222222222222222, \"#7201a8\"], [0.3333333333333333, \"#9c179e\"], [0.4444444444444444, \"#bd3786\"], [0.5555555555555556, \"#d8576b\"], [0.6666666666666666, \"#ed7953\"], [0.7777777777777778, \"#fb9f3a\"], [0.8888888888888888, \"#fdca26\"], [1.0, \"#f0f921\"]], \"type\": \"heatmap\"}], \"heatmapgl\": [{\"colorbar\": {\"outlinewidth\": 0, \"ticks\": \"\"}, \"colorscale\": [[0.0, \"#0d0887\"], [0.1111111111111111, \"#46039f\"], [0.2222222222222222, \"#7201a8\"], [0.3333333333333333, \"#9c179e\"], [0.4444444444444444, \"#bd3786\"], [0.5555555555555556, \"#d8576b\"], [0.6666666666666666, \"#ed7953\"], [0.7777777777777778, \"#fb9f3a\"], [0.8888888888888888, \"#fdca26\"], [1.0, \"#f0f921\"]], \"type\": \"heatmapgl\"}], \"histogram\": [{\"marker\": {\"colorbar\": {\"outlinewidth\": 0, \"ticks\": \"\"}}, \"type\": \"histogram\"}], \"histogram2d\": [{\"colorbar\": {\"outlinewidth\": 0, \"ticks\": \"\"}, \"colorscale\": [[0.0, \"#0d0887\"], [0.1111111111111111, \"#46039f\"], [0.2222222222222222, \"#7201a8\"], [0.3333333333333333, \"#9c179e\"], [0.4444444444444444, \"#bd3786\"], [0.5555555555555556, \"#d8576b\"], [0.6666666666666666, \"#ed7953\"], [0.7777777777777778, \"#fb9f3a\"], [0.8888888888888888, \"#fdca26\"], [1.0, \"#f0f921\"]], \"type\": \"histogram2d\"}], \"histogram2dcontour\": [{\"colorbar\": {\"outlinewidth\": 0, \"ticks\": \"\"}, \"colorscale\": [[0.0, \"#0d0887\"], [0.1111111111111111, \"#46039f\"], [0.2222222222222222, \"#7201a8\"], [0.3333333333333333, \"#9c179e\"], [0.4444444444444444, \"#bd3786\"], [0.5555555555555556, \"#d8576b\"], [0.6666666666666666, \"#ed7953\"], [0.7777777777777778, \"#fb9f3a\"], [0.8888888888888888, \"#fdca26\"], [1.0, \"#f0f921\"]], \"type\": \"histogram2dcontour\"}], \"mesh3d\": [{\"colorbar\": {\"outlinewidth\": 0, \"ticks\": \"\"}, \"type\": \"mesh3d\"}], \"parcoords\": [{\"line\": {\"colorbar\": {\"outlinewidth\": 0, \"ticks\": \"\"}}, \"type\": \"parcoords\"}], \"pie\": [{\"automargin\": true, \"type\": \"pie\"}], \"scatter\": [{\"marker\": {\"colorbar\": {\"outlinewidth\": 0, \"ticks\": \"\"}}, \"type\": \"scatter\"}], \"scatter3d\": [{\"line\": {\"colorbar\": {\"outlinewidth\": 0, \"ticks\": \"\"}}, \"marker\": {\"colorbar\": {\"outlinewidth\": 0, \"ticks\": \"\"}}, \"type\": \"scatter3d\"}], \"scattercarpet\": [{\"marker\": {\"colorbar\": {\"outlinewidth\": 0, \"ticks\": \"\"}}, \"type\": \"scattercarpet\"}], \"scattergeo\": [{\"marker\": {\"colorbar\": {\"outlinewidth\": 0, \"ticks\": \"\"}}, \"type\": \"scattergeo\"}], \"scattergl\": [{\"marker\": {\"colorbar\": {\"outlinewidth\": 0, \"ticks\": \"\"}}, \"type\": \"scattergl\"}], \"scattermapbox\": [{\"marker\": {\"colorbar\": {\"outlinewidth\": 0, \"ticks\": \"\"}}, \"type\": \"scattermapbox\"}], \"scatterpolar\": [{\"marker\": {\"colorbar\": {\"outlinewidth\": 0, \"ticks\": \"\"}}, \"type\": \"scatterpolar\"}], \"scatterpolargl\": [{\"marker\": {\"colorbar\": {\"outlinewidth\": 0, \"ticks\": \"\"}}, \"type\": \"scatterpolargl\"}], \"scatterternary\": [{\"marker\": {\"colorbar\": {\"outlinewidth\": 0, \"ticks\": \"\"}}, \"type\": \"scatterternary\"}], \"surface\": [{\"colorbar\": {\"outlinewidth\": 0, \"ticks\": \"\"}, \"colorscale\": [[0.0, \"#0d0887\"], [0.1111111111111111, \"#46039f\"], [0.2222222222222222, \"#7201a8\"], [0.3333333333333333, \"#9c179e\"], [0.4444444444444444, \"#bd3786\"], [0.5555555555555556, \"#d8576b\"], [0.6666666666666666, \"#ed7953\"], [0.7777777777777778, \"#fb9f3a\"], [0.8888888888888888, \"#fdca26\"], [1.0, \"#f0f921\"]], \"type\": \"surface\"}], \"table\": [{\"cells\": {\"fill\": {\"color\": \"#EBF0F8\"}, \"line\": {\"color\": \"white\"}}, \"header\": {\"fill\": {\"color\": \"#C8D4E3\"}, \"line\": {\"color\": \"white\"}}, \"type\": \"table\"}]}, \"layout\": {\"annotationdefaults\": {\"arrowcolor\": \"#2a3f5f\", \"arrowhead\": 0, \"arrowwidth\": 1}, \"coloraxis\": {\"colorbar\": {\"outlinewidth\": 0, \"ticks\": \"\"}}, \"colorscale\": {\"diverging\": [[0, \"#8e0152\"], [0.1, \"#c51b7d\"], [0.2, \"#de77ae\"], [0.3, \"#f1b6da\"], [0.4, \"#fde0ef\"], [0.5, \"#f7f7f7\"], [0.6, \"#e6f5d0\"], [0.7, \"#b8e186\"], [0.8, \"#7fbc41\"], [0.9, \"#4d9221\"], [1, \"#276419\"]], \"sequential\": [[0.0, \"#0d0887\"], [0.1111111111111111, \"#46039f\"], [0.2222222222222222, \"#7201a8\"], [0.3333333333333333, \"#9c179e\"], [0.4444444444444444, \"#bd3786\"], [0.5555555555555556, \"#d8576b\"], [0.6666666666666666, \"#ed7953\"], [0.7777777777777778, \"#fb9f3a\"], [0.8888888888888888, \"#fdca26\"], [1.0, \"#f0f921\"]], \"sequentialminus\": [[0.0, \"#0d0887\"], [0.1111111111111111, \"#46039f\"], [0.2222222222222222, \"#7201a8\"], [0.3333333333333333, \"#9c179e\"], [0.4444444444444444, \"#bd3786\"], [0.5555555555555556, \"#d8576b\"], [0.6666666666666666, \"#ed7953\"], [0.7777777777777778, \"#fb9f3a\"], [0.8888888888888888, \"#fdca26\"], [1.0, \"#f0f921\"]]}, \"colorway\": [\"#636efa\", \"#EF553B\", \"#00cc96\", \"#ab63fa\", \"#FFA15A\", \"#19d3f3\", \"#FF6692\", \"#B6E880\", \"#FF97FF\", \"#FECB52\"], \"font\": {\"color\": \"#2a3f5f\"}, \"geo\": {\"bgcolor\": \"white\", \"lakecolor\": \"white\", \"landcolor\": \"#E5ECF6\", \"showlakes\": true, \"showland\": true, \"subunitcolor\": \"white\"}, \"hoverlabel\": {\"align\": \"left\"}, \"hovermode\": \"closest\", \"mapbox\": {\"style\": \"light\"}, \"paper_bgcolor\": \"white\", \"plot_bgcolor\": \"#E5ECF6\", \"polar\": {\"angularaxis\": {\"gridcolor\": \"white\", \"linecolor\": \"white\", \"ticks\": \"\"}, \"bgcolor\": \"#E5ECF6\", \"radialaxis\": {\"gridcolor\": \"white\", \"linecolor\": \"white\", \"ticks\": \"\"}}, \"scene\": {\"xaxis\": {\"backgroundcolor\": \"#E5ECF6\", \"gridcolor\": \"white\", \"gridwidth\": 2, \"linecolor\": \"white\", \"showbackground\": true, \"ticks\": \"\", \"zerolinecolor\": \"white\"}, \"yaxis\": {\"backgroundcolor\": \"#E5ECF6\", \"gridcolor\": \"white\", \"gridwidth\": 2, \"linecolor\": \"white\", \"showbackground\": true, \"ticks\": \"\", \"zerolinecolor\": \"white\"}, \"zaxis\": {\"backgroundcolor\": \"#E5ECF6\", \"gridcolor\": \"white\", \"gridwidth\": 2, \"linecolor\": \"white\", \"showbackground\": true, \"ticks\": \"\", \"zerolinecolor\": \"white\"}}, \"shapedefaults\": {\"line\": {\"color\": \"#2a3f5f\"}}, \"ternary\": {\"aaxis\": {\"gridcolor\": \"white\", \"linecolor\": \"white\", \"ticks\": \"\"}, \"baxis\": {\"gridcolor\": \"white\", \"linecolor\": \"white\", \"ticks\": \"\"}, \"bgcolor\": \"#E5ECF6\", \"caxis\": {\"gridcolor\": \"white\", \"linecolor\": \"white\", \"ticks\": \"\"}}, \"title\": {\"x\": 0.05}, \"xaxis\": {\"automargin\": true, \"gridcolor\": \"white\", \"linecolor\": \"white\", \"ticks\": \"\", \"title\": {\"standoff\": 15}, \"zerolinecolor\": \"white\", \"zerolinewidth\": 2}, \"yaxis\": {\"automargin\": true, \"gridcolor\": \"white\", \"linecolor\": \"white\", \"ticks\": \"\", \"title\": {\"standoff\": 15}, \"zerolinecolor\": \"white\", \"zerolinewidth\": 2}}}, \"title\": {\"text\": \"Overall Sentiment Distribution\"}, \"xaxis\": {\"automargin\": true, \"title\": {\"text\": \"Sentiment\"}}, \"yaxis\": {\"automargin\": true, \"title\": {\"text\": \"Count\"}}},\n",
       "                        {\"showLink\": true, \"linkText\": \"Export to plot.ly\", \"plotlyServerURL\": \"https://plot.ly\", \"responsive\": true}\n",
       "                    ).then(function(){\n",
       "                            \n",
       "var gd = document.getElementById('b43a99cb-6834-4f5c-bcb0-6766e0d1148e');\n",
       "var x = new MutationObserver(function (mutations, observer) {{\n",
       "        var display = window.getComputedStyle(gd).display;\n",
       "        if (!display || display === 'none') {{\n",
       "            console.log([gd, 'removed!']);\n",
       "            Plotly.purge(gd);\n",
       "            observer.disconnect();\n",
       "        }}\n",
       "}});\n",
       "\n",
       "// Listen for the removal of the full notebook cells\n",
       "var notebookContainer = gd.closest('#notebook-container');\n",
       "if (notebookContainer) {{\n",
       "    x.observe(notebookContainer, {childList: true});\n",
       "}}\n",
       "\n",
       "// Listen for the clearing of the current output cell\n",
       "var outputEl = gd.closest('.output');\n",
       "if (outputEl) {{\n",
       "    x.observe(outputEl, {childList: true});\n",
       "}}\n",
       "\n",
       "                        })\n",
       "                };\n",
       "                });\n",
       "            </script>\n",
       "        </div>"
      ]
     },
     "metadata": {},
     "output_type": "display_data"
    }
   ],
   "source": [
    "# show barchart of retweet>=5 tweet sentiment\n",
    "df_over5 = df[df['retweet_count'] >= 5]\n",
    "layout1=dict(autosize=True, yaxis=dict(automargin=True, title=\"Count\"), xaxis=dict(automargin=True, title=\"Sentiment\"),title=\"Overall Sentiment Distribution\")\n",
    "df_over5['Sentiment'].value_counts().iplot(kind='bar', title = 'Sentiment Distribution for <br> tweets (Above 5)', layout=layout1)\n"
   ]
  },
  {
   "cell_type": "markdown",
   "metadata": {},
   "source": [
    "### 3.1.5 Wordcloud visualization "
   ]
  },
  {
   "cell_type": "markdown",
   "metadata": {},
   "source": [
    "**Use text from cleaned tweets to perform wordcloud visualization.**"
   ]
  },
  {
   "cell_type": "code",
   "execution_count": 86,
   "metadata": {},
   "outputs": [],
   "source": [
    "# join clean_tweets to create text for wordcloud\n",
    "wordcloud_tweets = ' '.join(tweet for tweet in df['clean_tweet'])\n",
    "# remove stopwords and generate wordcloud content\n",
    "wordcloud = WordCloud(width = 3000, height = 2000, random_state=1, background_color='salmon', colormap='Pastel1', collocations=False, stopwords=STOPWORDS).generate(wordcloud_tweets)\n"
   ]
  },
  {
   "cell_type": "markdown",
   "metadata": {},
   "source": [
    "**Show the Wordcloud.**"
   ]
  },
  {
   "cell_type": "code",
   "execution_count": 87,
   "metadata": {},
   "outputs": [
    {
     "data": {
      "image/png": "[encoded data removed]",
      "text/plain": [
       "<Figure size 720x720 with 1 Axes>"
      ]
     },
     "metadata": {
      "needs_background": "light"
     },
     "output_type": "display_data"
    }
   ],
   "source": [
    "# import python plot graph library\n",
    "import matplotlib.pyplot as plt\n",
    "# show wordcloud\n",
    "plt.figure(figsize = (10,10))\n",
    "plt.imshow(wordcloud, interpolation='bilinear')\n",
    "plt.axis(\"off\")\n",
    "plt.show()"
   ]
  },
  {
   "cell_type": "markdown",
   "metadata": {},
   "source": [
    "**Show barchart from word frequency and order by frequency.**"
   ]
  },
  {
   "cell_type": "code",
   "execution_count": 88,
   "metadata": {},
   "outputs": [
    {
     "data": {
      "application/vnd.plotly.v1+json": {
       "config": {
        "linkText": "Export to plot.ly",
        "plotlyServerURL": "https://plot.ly",
        "showLink": true
       },
       "data": [
        {
         "marker": {
          "color": "rgba(55, 128, 191, 0.6)",
          "line": {
           "color": "rgba(55, 128, 191, 1.0)",
           "width": 1
          }
         },
         "name": "0",
         "orientation": "v",
         "text": "",
         "type": "bar",
         "x": [
          "RT",
          "science",
          "amp",
          "humanities",
          "look",
          "video",
          "digital",
          "digitalhumanities",
          "nice",
          "naughty",
          "still",
          "something",
          "forward",
          "Watch",
          "space",
          "December",
          "Open",
          "search",
          "hope",
          "Investment"
         ],
         "y": [
          1,
          0.6410256410256411,
          0.46153846153846156,
          0.4358974358974359,
          0.41025641025641024,
          0.38461538461538464,
          0.3333333333333333,
          0.3333333333333333,
          0.3076923076923077,
          0.3076923076923077,
          0.3076923076923077,
          0.3076923076923077,
          0.3076923076923077,
          0.3076923076923077,
          0.3076923076923077,
          0.3076923076923077,
          0.3076923076923077,
          0.23076923076923078,
          0.23076923076923078,
          0.23076923076923078
         ]
        }
       ],
       "layout": {
        "autosize": true,
        "template": {
         "data": {
          "bar": [
           {
            "error_x": {
             "color": "#2a3f5f"
            },
            "error_y": {
             "color": "#2a3f5f"
            },
            "marker": {
             "line": {
              "color": "#E5ECF6",
              "width": 0.5
             }
            },
            "type": "bar"
           }
          ],
          "barpolar": [
           {
            "marker": {
             "line": {
              "color": "#E5ECF6",
              "width": 0.5
             }
            },
            "type": "barpolar"
           }
          ],
          "carpet": [
           {
            "aaxis": {
             "endlinecolor": "#2a3f5f",
             "gridcolor": "white",
             "linecolor": "white",
             "minorgridcolor": "white",
             "startlinecolor": "#2a3f5f"
            },
            "baxis": {
             "endlinecolor": "#2a3f5f",
             "gridcolor": "white",
             "linecolor": "white",
             "minorgridcolor": "white",
             "startlinecolor": "#2a3f5f"
            },
            "type": "carpet"
           }
          ],
          "choropleth": [
           {
            "colorbar": {
             "outlinewidth": 0,
             "ticks": ""
            },
            "type": "choropleth"
           }
          ],
          "contour": [
           {
            "colorbar": {
             "outlinewidth": 0,
             "ticks": ""
            },
            "colorscale": [
             [
              0,
              "#0d0887"
             ],
             [
              0.1111111111111111,
              "#46039f"
             ],
             [
              0.2222222222222222,
              "#7201a8"
             ],
             [
              0.3333333333333333,
              "#9c179e"
             ],
             [
              0.4444444444444444,
              "#bd3786"
             ],
             [
              0.5555555555555556,
              "#d8576b"
             ],
             [
              0.6666666666666666,
              "#ed7953"
             ],
             [
              0.7777777777777778,
              "#fb9f3a"
             ],
             [
              0.8888888888888888,
              "#fdca26"
             ],
             [
              1,
              "#f0f921"
             ]
            ],
            "type": "contour"
           }
          ],
          "contourcarpet": [
           {
            "colorbar": {
             "outlinewidth": 0,
             "ticks": ""
            },
            "type": "contourcarpet"
           }
          ],
          "heatmap": [
           {
            "colorbar": {
             "outlinewidth": 0,
             "ticks": ""
            },
            "colorscale": [
             [
              0,
              "#0d0887"
             ],
             [
              0.1111111111111111,
              "#46039f"
             ],
             [
              0.2222222222222222,
              "#7201a8"
             ],
             [
              0.3333333333333333,
              "#9c179e"
             ],
             [
              0.4444444444444444,
              "#bd3786"
             ],
             [
              0.5555555555555556,
              "#d8576b"
             ],
             [
              0.6666666666666666,
              "#ed7953"
             ],
             [
              0.7777777777777778,
              "#fb9f3a"
             ],
             [
              0.8888888888888888,
              "#fdca26"
             ],
             [
              1,
              "#f0f921"
             ]
            ],
            "type": "heatmap"
           }
          ],
          "heatmapgl": [
           {
            "colorbar": {
             "outlinewidth": 0,
             "ticks": ""
            },
            "colorscale": [
             [
              0,
              "#0d0887"
             ],
             [
              0.1111111111111111,
              "#46039f"
             ],
             [
              0.2222222222222222,
              "#7201a8"
             ],
             [
              0.3333333333333333,
              "#9c179e"
             ],
             [
              0.4444444444444444,
              "#bd3786"
             ],
             [
              0.5555555555555556,
              "#d8576b"
             ],
             [
              0.6666666666666666,
              "#ed7953"
             ],
             [
              0.7777777777777778,
              "#fb9f3a"
             ],
             [
              0.8888888888888888,
              "#fdca26"
             ],
             [
              1,
              "#f0f921"
             ]
            ],
            "type": "heatmapgl"
           }
          ],
          "histogram": [
           {
            "marker": {
             "colorbar": {
              "outlinewidth": 0,
              "ticks": ""
             }
            },
            "type": "histogram"
           }
          ],
          "histogram2d": [
           {
            "colorbar": {
             "outlinewidth": 0,
             "ticks": ""
            },
            "colorscale": [
             [
              0,
              "#0d0887"
             ],
             [
              0.1111111111111111,
              "#46039f"
             ],
             [
              0.2222222222222222,
              "#7201a8"
             ],
             [
              0.3333333333333333,
              "#9c179e"
             ],
             [
              0.4444444444444444,
              "#bd3786"
             ],
             [
              0.5555555555555556,
              "#d8576b"
             ],
             [
              0.6666666666666666,
              "#ed7953"
             ],
             [
              0.7777777777777778,
              "#fb9f3a"
             ],
             [
              0.8888888888888888,
              "#fdca26"
             ],
             [
              1,
              "#f0f921"
             ]
            ],
            "type": "histogram2d"
           }
          ],
          "histogram2dcontour": [
           {
            "colorbar": {
             "outlinewidth": 0,
             "ticks": ""
            },
            "colorscale": [
             [
              0,
              "#0d0887"
             ],
             [
              0.1111111111111111,
              "#46039f"
             ],
             [
              0.2222222222222222,
              "#7201a8"
             ],
             [
              0.3333333333333333,
              "#9c179e"
             ],
             [
              0.4444444444444444,
              "#bd3786"
             ],
             [
              0.5555555555555556,
              "#d8576b"
             ],
             [
              0.6666666666666666,
              "#ed7953"
             ],
             [
              0.7777777777777778,
              "#fb9f3a"
             ],
             [
              0.8888888888888888,
              "#fdca26"
             ],
             [
              1,
              "#f0f921"
             ]
            ],
            "type": "histogram2dcontour"
           }
          ],
          "mesh3d": [
           {
            "colorbar": {
             "outlinewidth": 0,
             "ticks": ""
            },
            "type": "mesh3d"
           }
          ],
          "parcoords": [
           {
            "line": {
             "colorbar": {
              "outlinewidth": 0,
              "ticks": ""
             }
            },
            "type": "parcoords"
           }
          ],
          "pie": [
           {
            "automargin": true,
            "type": "pie"
           }
          ],
          "scatter": [
           {
            "marker": {
             "colorbar": {
              "outlinewidth": 0,
              "ticks": ""
             }
            },
            "type": "scatter"
           }
          ],
          "scatter3d": [
           {
            "line": {
             "colorbar": {
              "outlinewidth": 0,
              "ticks": ""
             }
            },
            "marker": {
             "colorbar": {
              "outlinewidth": 0,
              "ticks": ""
             }
            },
            "type": "scatter3d"
           }
          ],
          "scattercarpet": [
           {
            "marker": {
             "colorbar": {
              "outlinewidth": 0,
              "ticks": ""
             }
            },
            "type": "scattercarpet"
           }
          ],
          "scattergeo": [
           {
            "marker": {
             "colorbar": {
              "outlinewidth": 0,
              "ticks": ""
             }
            },
            "type": "scattergeo"
           }
          ],
          "scattergl": [
           {
            "marker": {
             "colorbar": {
              "outlinewidth": 0,
              "ticks": ""
             }
            },
            "type": "scattergl"
           }
          ],
          "scattermapbox": [
           {
            "marker": {
             "colorbar": {
              "outlinewidth": 0,
              "ticks": ""
             }
            },
            "type": "scattermapbox"
           }
          ],
          "scatterpolar": [
           {
            "marker": {
             "colorbar": {
              "outlinewidth": 0,
              "ticks": ""
             }
            },
            "type": "scatterpolar"
           }
          ],
          "scatterpolargl": [
           {
            "marker": {
             "colorbar": {
              "outlinewidth": 0,
              "ticks": ""
             }
            },
            "type": "scatterpolargl"
           }
          ],
          "scatterternary": [
           {
            "marker": {
             "colorbar": {
              "outlinewidth": 0,
              "ticks": ""
             }
            },
            "type": "scatterternary"
           }
          ],
          "surface": [
           {
            "colorbar": {
             "outlinewidth": 0,
             "ticks": ""
            },
            "colorscale": [
             [
              0,
              "#0d0887"
             ],
             [
              0.1111111111111111,
              "#46039f"
             ],
             [
              0.2222222222222222,
              "#7201a8"
             ],
             [
              0.3333333333333333,
              "#9c179e"
             ],
             [
              0.4444444444444444,
              "#bd3786"
             ],
             [
              0.5555555555555556,
              "#d8576b"
             ],
             [
              0.6666666666666666,
              "#ed7953"
             ],
             [
              0.7777777777777778,
              "#fb9f3a"
             ],
             [
              0.8888888888888888,
              "#fdca26"
             ],
             [
              1,
              "#f0f921"
             ]
            ],
            "type": "surface"
           }
          ],
          "table": [
           {
            "cells": {
             "fill": {
              "color": "#EBF0F8"
             },
             "line": {
              "color": "white"
             }
            },
            "header": {
             "fill": {
              "color": "#C8D4E3"
             },
             "line": {
              "color": "white"
             }
            },
            "type": "table"
           }
          ]
         },
         "layout": {
          "annotationdefaults": {
           "arrowcolor": "#2a3f5f",
           "arrowhead": 0,
           "arrowwidth": 1
          },
          "coloraxis": {
           "colorbar": {
            "outlinewidth": 0,
            "ticks": ""
           }
          },
          "colorscale": {
           "diverging": [
            [
             0,
             "#8e0152"
            ],
            [
             0.1,
             "#c51b7d"
            ],
            [
             0.2,
             "#de77ae"
            ],
            [
             0.3,
             "#f1b6da"
            ],
            [
             0.4,
             "#fde0ef"
            ],
            [
             0.5,
             "#f7f7f7"
            ],
            [
             0.6,
             "#e6f5d0"
            ],
            [
             0.7,
             "#b8e186"
            ],
            [
             0.8,
             "#7fbc41"
            ],
            [
             0.9,
             "#4d9221"
            ],
            [
             1,
             "#276419"
            ]
           ],
           "sequential": [
            [
             0,
             "#0d0887"
            ],
            [
             0.1111111111111111,
             "#46039f"
            ],
            [
             0.2222222222222222,
             "#7201a8"
            ],
            [
             0.3333333333333333,
             "#9c179e"
            ],
            [
             0.4444444444444444,
             "#bd3786"
            ],
            [
             0.5555555555555556,
             "#d8576b"
            ],
            [
             0.6666666666666666,
             "#ed7953"
            ],
            [
             0.7777777777777778,
             "#fb9f3a"
            ],
            [
             0.8888888888888888,
             "#fdca26"
            ],
            [
             1,
             "#f0f921"
            ]
           ],
           "sequentialminus": [
            [
             0,
             "#0d0887"
            ],
            [
             0.1111111111111111,
             "#46039f"
            ],
            [
             0.2222222222222222,
             "#7201a8"
            ],
            [
             0.3333333333333333,
             "#9c179e"
            ],
            [
             0.4444444444444444,
             "#bd3786"
            ],
            [
             0.5555555555555556,
             "#d8576b"
            ],
            [
             0.6666666666666666,
             "#ed7953"
            ],
            [
             0.7777777777777778,
             "#fb9f3a"
            ],
            [
             0.8888888888888888,
             "#fdca26"
            ],
            [
             1,
             "#f0f921"
            ]
           ]
          },
          "colorway": [
           "#636efa",
           "#EF553B",
           "#00cc96",
           "#ab63fa",
           "#FFA15A",
           "#19d3f3",
           "#FF6692",
           "#B6E880",
           "#FF97FF",
           "#FECB52"
          ],
          "font": {
           "color": "#2a3f5f"
          },
          "geo": {
           "bgcolor": "white",
           "lakecolor": "white",
           "landcolor": "#E5ECF6",
           "showlakes": true,
           "showland": true,
           "subunitcolor": "white"
          },
          "hoverlabel": {
           "align": "left"
          },
          "hovermode": "closest",
          "mapbox": {
           "style": "light"
          },
          "paper_bgcolor": "white",
          "plot_bgcolor": "#E5ECF6",
          "polar": {
           "angularaxis": {
            "gridcolor": "white",
            "linecolor": "white",
            "ticks": ""
           },
           "bgcolor": "#E5ECF6",
           "radialaxis": {
            "gridcolor": "white",
            "linecolor": "white",
            "ticks": ""
           }
          },
          "scene": {
           "xaxis": {
            "backgroundcolor": "#E5ECF6",
            "gridcolor": "white",
            "gridwidth": 2,
            "linecolor": "white",
            "showbackground": true,
            "ticks": "",
            "zerolinecolor": "white"
           },
           "yaxis": {
            "backgroundcolor": "#E5ECF6",
            "gridcolor": "white",
            "gridwidth": 2,
            "linecolor": "white",
            "showbackground": true,
            "ticks": "",
            "zerolinecolor": "white"
           },
           "zaxis": {
            "backgroundcolor": "#E5ECF6",
            "gridcolor": "white",
            "gridwidth": 2,
            "linecolor": "white",
            "showbackground": true,
            "ticks": "",
            "zerolinecolor": "white"
           }
          },
          "shapedefaults": {
           "line": {
            "color": "#2a3f5f"
           }
          },
          "ternary": {
           "aaxis": {
            "gridcolor": "white",
            "linecolor": "white",
            "ticks": ""
           },
           "baxis": {
            "gridcolor": "white",
            "linecolor": "white",
            "ticks": ""
           },
           "bgcolor": "#E5ECF6",
           "caxis": {
            "gridcolor": "white",
            "linecolor": "white",
            "ticks": ""
           }
          },
          "title": {
           "x": 0.05
          },
          "xaxis": {
           "automargin": true,
           "gridcolor": "white",
           "linecolor": "white",
           "ticks": "",
           "title": {
            "standoff": 15
           },
           "zerolinecolor": "white",
           "zerolinewidth": 2
          },
          "yaxis": {
           "automargin": true,
           "gridcolor": "white",
           "linecolor": "white",
           "ticks": "",
           "title": {
            "standoff": 15
           },
           "zerolinecolor": "white",
           "zerolinewidth": 2
          }
         }
        },
        "title": {
         "text": "Top 20 Word count"
        },
        "xaxis": {
         "automargin": true,
         "autorange": true,
         "range": [
          -0.5,
          19.5
         ],
         "title": {
          "text": "Word"
         },
         "type": "category"
        },
        "yaxis": {
         "automargin": true,
         "autorange": true,
         "range": [
          0,
          1.0526315789473684
         ],
         "title": {
          "text": "Frequency"
         },
         "type": "linear"
        }
       }
      },
      "image/png": "[encoded data removed]",
      "text/html": [
       "<div>\n",
       "        \n",
       "        \n",
       "            <div id=\"e4a40619-9c0c-49a7-8fae-54c45f77b679\" class=\"plotly-graph-div\" style=\"height:525px; width:100%;\"></div>\n",
       "            <script type=\"text/javascript\">\n",
       "                require([\"plotly\"], function(Plotly) {\n",
       "                    window.PLOTLYENV=window.PLOTLYENV || {};\n",
       "                    window.PLOTLYENV.BASE_URL='https://plot.ly';\n",
       "                    \n",
       "                if (document.getElementById(\"e4a40619-9c0c-49a7-8fae-54c45f77b679\")) {\n",
       "                    Plotly.newPlot(\n",
       "                        'e4a40619-9c0c-49a7-8fae-54c45f77b679',\n",
       "                        [{\"marker\": {\"color\": \"rgba(55, 128, 191, 0.6)\", \"line\": {\"color\": \"rgba(55, 128, 191, 1.0)\", \"width\": 1}}, \"name\": \"0\", \"orientation\": \"v\", \"text\": \"\", \"type\": \"bar\", \"x\": [\"RT\", \"science\", \"amp\", \"humanities\", \"look\", \"video\", \"digital\", \"digitalhumanities\", \"nice\", \"naughty\", \"still\", \"something\", \"forward\", \"Watch\", \"space\", \"December\", \"Open\", \"search\", \"hope\", \"Investment\"], \"y\": [1.0, 0.6410256410256411, 0.46153846153846156, 0.4358974358974359, 0.41025641025641024, 0.38461538461538464, 0.3333333333333333, 0.3333333333333333, 0.3076923076923077, 0.3076923076923077, 0.3076923076923077, 0.3076923076923077, 0.3076923076923077, 0.3076923076923077, 0.3076923076923077, 0.3076923076923077, 0.3076923076923077, 0.23076923076923078, 0.23076923076923078, 0.23076923076923078]}],\n",
       "                        {\"autosize\": true, \"template\": {\"data\": {\"bar\": [{\"error_x\": {\"color\": \"#2a3f5f\"}, \"error_y\": {\"color\": \"#2a3f5f\"}, \"marker\": {\"line\": {\"color\": \"#E5ECF6\", \"width\": 0.5}}, \"type\": \"bar\"}], \"barpolar\": [{\"marker\": {\"line\": {\"color\": \"#E5ECF6\", \"width\": 0.5}}, \"type\": \"barpolar\"}], \"carpet\": [{\"aaxis\": {\"endlinecolor\": \"#2a3f5f\", \"gridcolor\": \"white\", \"linecolor\": \"white\", \"minorgridcolor\": \"white\", \"startlinecolor\": \"#2a3f5f\"}, \"baxis\": {\"endlinecolor\": \"#2a3f5f\", \"gridcolor\": \"white\", \"linecolor\": \"white\", \"minorgridcolor\": \"white\", \"startlinecolor\": \"#2a3f5f\"}, \"type\": \"carpet\"}], \"choropleth\": [{\"colorbar\": {\"outlinewidth\": 0, \"ticks\": \"\"}, \"type\": \"choropleth\"}], \"contour\": [{\"colorbar\": {\"outlinewidth\": 0, \"ticks\": \"\"}, \"colorscale\": [[0.0, \"#0d0887\"], [0.1111111111111111, \"#46039f\"], [0.2222222222222222, \"#7201a8\"], [0.3333333333333333, \"#9c179e\"], [0.4444444444444444, \"#bd3786\"], [0.5555555555555556, \"#d8576b\"], [0.6666666666666666, \"#ed7953\"], [0.7777777777777778, \"#fb9f3a\"], [0.8888888888888888, \"#fdca26\"], [1.0, \"#f0f921\"]], \"type\": \"contour\"}], \"contourcarpet\": [{\"colorbar\": {\"outlinewidth\": 0, \"ticks\": \"\"}, \"type\": \"contourcarpet\"}], \"heatmap\": [{\"colorbar\": {\"outlinewidth\": 0, \"ticks\": \"\"}, \"colorscale\": [[0.0, \"#0d0887\"], [0.1111111111111111, \"#46039f\"], [0.2222222222222222, \"#7201a8\"], [0.3333333333333333, \"#9c179e\"], [0.4444444444444444, \"#bd3786\"], [0.5555555555555556, \"#d8576b\"], [0.6666666666666666, \"#ed7953\"], [0.7777777777777778, \"#fb9f3a\"], [0.8888888888888888, \"#fdca26\"], [1.0, \"#f0f921\"]], \"type\": \"heatmap\"}], \"heatmapgl\": [{\"colorbar\": {\"outlinewidth\": 0, \"ticks\": \"\"}, \"colorscale\": [[0.0, \"#0d0887\"], [0.1111111111111111, \"#46039f\"], [0.2222222222222222, \"#7201a8\"], [0.3333333333333333, \"#9c179e\"], [0.4444444444444444, \"#bd3786\"], [0.5555555555555556, \"#d8576b\"], [0.6666666666666666, \"#ed7953\"], [0.7777777777777778, \"#fb9f3a\"], [0.8888888888888888, \"#fdca26\"], [1.0, \"#f0f921\"]], \"type\": \"heatmapgl\"}], \"histogram\": [{\"marker\": {\"colorbar\": {\"outlinewidth\": 0, \"ticks\": \"\"}}, \"type\": \"histogram\"}], \"histogram2d\": [{\"colorbar\": {\"outlinewidth\": 0, \"ticks\": \"\"}, \"colorscale\": [[0.0, \"#0d0887\"], [0.1111111111111111, \"#46039f\"], [0.2222222222222222, \"#7201a8\"], [0.3333333333333333, \"#9c179e\"], [0.4444444444444444, \"#bd3786\"], [0.5555555555555556, \"#d8576b\"], [0.6666666666666666, \"#ed7953\"], [0.7777777777777778, \"#fb9f3a\"], [0.8888888888888888, \"#fdca26\"], [1.0, \"#f0f921\"]], \"type\": \"histogram2d\"}], \"histogram2dcontour\": [{\"colorbar\": {\"outlinewidth\": 0, \"ticks\": \"\"}, \"colorscale\": [[0.0, \"#0d0887\"], [0.1111111111111111, \"#46039f\"], [0.2222222222222222, \"#7201a8\"], [0.3333333333333333, \"#9c179e\"], [0.4444444444444444, \"#bd3786\"], [0.5555555555555556, \"#d8576b\"], [0.6666666666666666, \"#ed7953\"], [0.7777777777777778, \"#fb9f3a\"], [0.8888888888888888, \"#fdca26\"], [1.0, \"#f0f921\"]], \"type\": \"histogram2dcontour\"}], \"mesh3d\": [{\"colorbar\": {\"outlinewidth\": 0, \"ticks\": \"\"}, \"type\": \"mesh3d\"}], \"parcoords\": [{\"line\": {\"colorbar\": {\"outlinewidth\": 0, \"ticks\": \"\"}}, \"type\": \"parcoords\"}], \"pie\": [{\"automargin\": true, \"type\": \"pie\"}], \"scatter\": [{\"marker\": {\"colorbar\": {\"outlinewidth\": 0, \"ticks\": \"\"}}, \"type\": \"scatter\"}], \"scatter3d\": [{\"line\": {\"colorbar\": {\"outlinewidth\": 0, \"ticks\": \"\"}}, \"marker\": {\"colorbar\": {\"outlinewidth\": 0, \"ticks\": \"\"}}, \"type\": \"scatter3d\"}], \"scattercarpet\": [{\"marker\": {\"colorbar\": {\"outlinewidth\": 0, \"ticks\": \"\"}}, \"type\": \"scattercarpet\"}], \"scattergeo\": [{\"marker\": {\"colorbar\": {\"outlinewidth\": 0, \"ticks\": \"\"}}, \"type\": \"scattergeo\"}], \"scattergl\": [{\"marker\": {\"colorbar\": {\"outlinewidth\": 0, \"ticks\": \"\"}}, \"type\": \"scattergl\"}], \"scattermapbox\": [{\"marker\": {\"colorbar\": {\"outlinewidth\": 0, \"ticks\": \"\"}}, \"type\": \"scattermapbox\"}], \"scatterpolar\": [{\"marker\": {\"colorbar\": {\"outlinewidth\": 0, \"ticks\": \"\"}}, \"type\": \"scatterpolar\"}], \"scatterpolargl\": [{\"marker\": {\"colorbar\": {\"outlinewidth\": 0, \"ticks\": \"\"}}, \"type\": \"scatterpolargl\"}], \"scatterternary\": [{\"marker\": {\"colorbar\": {\"outlinewidth\": 0, \"ticks\": \"\"}}, \"type\": \"scatterternary\"}], \"surface\": [{\"colorbar\": {\"outlinewidth\": 0, \"ticks\": \"\"}, \"colorscale\": [[0.0, \"#0d0887\"], [0.1111111111111111, \"#46039f\"], [0.2222222222222222, \"#7201a8\"], [0.3333333333333333, \"#9c179e\"], [0.4444444444444444, \"#bd3786\"], [0.5555555555555556, \"#d8576b\"], [0.6666666666666666, \"#ed7953\"], [0.7777777777777778, \"#fb9f3a\"], [0.8888888888888888, \"#fdca26\"], [1.0, \"#f0f921\"]], \"type\": \"surface\"}], \"table\": [{\"cells\": {\"fill\": {\"color\": \"#EBF0F8\"}, \"line\": {\"color\": \"white\"}}, \"header\": {\"fill\": {\"color\": \"#C8D4E3\"}, \"line\": {\"color\": \"white\"}}, \"type\": \"table\"}]}, \"layout\": {\"annotationdefaults\": {\"arrowcolor\": \"#2a3f5f\", \"arrowhead\": 0, \"arrowwidth\": 1}, \"coloraxis\": {\"colorbar\": {\"outlinewidth\": 0, \"ticks\": \"\"}}, \"colorscale\": {\"diverging\": [[0, \"#8e0152\"], [0.1, \"#c51b7d\"], [0.2, \"#de77ae\"], [0.3, \"#f1b6da\"], [0.4, \"#fde0ef\"], [0.5, \"#f7f7f7\"], [0.6, \"#e6f5d0\"], [0.7, \"#b8e186\"], [0.8, \"#7fbc41\"], [0.9, \"#4d9221\"], [1, \"#276419\"]], \"sequential\": [[0.0, \"#0d0887\"], [0.1111111111111111, \"#46039f\"], [0.2222222222222222, \"#7201a8\"], [0.3333333333333333, \"#9c179e\"], [0.4444444444444444, \"#bd3786\"], [0.5555555555555556, \"#d8576b\"], [0.6666666666666666, \"#ed7953\"], [0.7777777777777778, \"#fb9f3a\"], [0.8888888888888888, \"#fdca26\"], [1.0, \"#f0f921\"]], \"sequentialminus\": [[0.0, \"#0d0887\"], [0.1111111111111111, \"#46039f\"], [0.2222222222222222, \"#7201a8\"], [0.3333333333333333, \"#9c179e\"], [0.4444444444444444, \"#bd3786\"], [0.5555555555555556, \"#d8576b\"], [0.6666666666666666, \"#ed7953\"], [0.7777777777777778, \"#fb9f3a\"], [0.8888888888888888, \"#fdca26\"], [1.0, \"#f0f921\"]]}, \"colorway\": [\"#636efa\", \"#EF553B\", \"#00cc96\", \"#ab63fa\", \"#FFA15A\", \"#19d3f3\", \"#FF6692\", \"#B6E880\", \"#FF97FF\", \"#FECB52\"], \"font\": {\"color\": \"#2a3f5f\"}, \"geo\": {\"bgcolor\": \"white\", \"lakecolor\": \"white\", \"landcolor\": \"#E5ECF6\", \"showlakes\": true, \"showland\": true, \"subunitcolor\": \"white\"}, \"hoverlabel\": {\"align\": \"left\"}, \"hovermode\": \"closest\", \"mapbox\": {\"style\": \"light\"}, \"paper_bgcolor\": \"white\", \"plot_bgcolor\": \"#E5ECF6\", \"polar\": {\"angularaxis\": {\"gridcolor\": \"white\", \"linecolor\": \"white\", \"ticks\": \"\"}, \"bgcolor\": \"#E5ECF6\", \"radialaxis\": {\"gridcolor\": \"white\", \"linecolor\": \"white\", \"ticks\": \"\"}}, \"scene\": {\"xaxis\": {\"backgroundcolor\": \"#E5ECF6\", \"gridcolor\": \"white\", \"gridwidth\": 2, \"linecolor\": \"white\", \"showbackground\": true, \"ticks\": \"\", \"zerolinecolor\": \"white\"}, \"yaxis\": {\"backgroundcolor\": \"#E5ECF6\", \"gridcolor\": \"white\", \"gridwidth\": 2, \"linecolor\": \"white\", \"showbackground\": true, \"ticks\": \"\", \"zerolinecolor\": \"white\"}, \"zaxis\": {\"backgroundcolor\": \"#E5ECF6\", \"gridcolor\": \"white\", \"gridwidth\": 2, \"linecolor\": \"white\", \"showbackground\": true, \"ticks\": \"\", \"zerolinecolor\": \"white\"}}, \"shapedefaults\": {\"line\": {\"color\": \"#2a3f5f\"}}, \"ternary\": {\"aaxis\": {\"gridcolor\": \"white\", \"linecolor\": \"white\", \"ticks\": \"\"}, \"baxis\": {\"gridcolor\": \"white\", \"linecolor\": \"white\", \"ticks\": \"\"}, \"bgcolor\": \"#E5ECF6\", \"caxis\": {\"gridcolor\": \"white\", \"linecolor\": \"white\", \"ticks\": \"\"}}, \"title\": {\"x\": 0.05}, \"xaxis\": {\"automargin\": true, \"gridcolor\": \"white\", \"linecolor\": \"white\", \"ticks\": \"\", \"title\": {\"standoff\": 15}, \"zerolinecolor\": \"white\", \"zerolinewidth\": 2}, \"yaxis\": {\"automargin\": true, \"gridcolor\": \"white\", \"linecolor\": \"white\", \"ticks\": \"\", \"title\": {\"standoff\": 15}, \"zerolinecolor\": \"white\", \"zerolinewidth\": 2}}}, \"title\": {\"text\": \"Top 20 Word count\"}, \"xaxis\": {\"automargin\": true, \"title\": {\"text\": \"Word\"}}, \"yaxis\": {\"automargin\": true, \"title\": {\"text\": \"Frequency\"}}},\n",
       "                        {\"showLink\": true, \"linkText\": \"Export to plot.ly\", \"plotlyServerURL\": \"https://plot.ly\", \"responsive\": true}\n",
       "                    ).then(function(){\n",
       "                            \n",
       "var gd = document.getElementById('e4a40619-9c0c-49a7-8fae-54c45f77b679');\n",
       "var x = new MutationObserver(function (mutations, observer) {{\n",
       "        var display = window.getComputedStyle(gd).display;\n",
       "        if (!display || display === 'none') {{\n",
       "            console.log([gd, 'removed!']);\n",
       "            Plotly.purge(gd);\n",
       "            observer.disconnect();\n",
       "        }}\n",
       "}});\n",
       "\n",
       "// Listen for the removal of the full notebook cells\n",
       "var notebookContainer = gd.closest('#notebook-container');\n",
       "if (notebookContainer) {{\n",
       "    x.observe(notebookContainer, {childList: true});\n",
       "}}\n",
       "\n",
       "// Listen for the clearing of the current output cell\n",
       "var outputEl = gd.closest('.output');\n",
       "if (outputEl) {{\n",
       "    x.observe(outputEl, {childList: true});\n",
       "}}\n",
       "\n",
       "                        })\n",
       "                };\n",
       "                });\n",
       "            </script>\n",
       "        </div>"
      ]
     },
     "metadata": {},
     "output_type": "display_data"
    }
   ],
   "source": [
    "# show barchart form word frequency\n",
    "df_freq = pd.DataFrame.from_dict(data = wordcloud.words_, orient='index')\n",
    "df_freq = df_freq.head(20)\n",
    "layout1=dict(autosize=True, yaxis=dict(automargin=True, title=\"Frequency\"), xaxis=dict(automargin=True, title=\"Word\"),title=\"Top 20 Word count\")\n",
    "df_freq.iplot(kind='bar', title = 'Top 20 Word frequency', color=\"blue\", layout=layout1)\n"
   ]
  },
  {
   "cell_type": "markdown",
   "metadata": {},
   "source": [
    "### Reference:\n",
    "**How to get API Keys and Tokens for Twitter<br/>\n",
    "https://www.slickremix.com/docs/how-to-get-api-keys-and-tokens-for-twitter/<br/>\n",
    "Stream Tweets in Under 15 Lines of Code + Some Interactive Data Visualization<br/>\n",
    "https://dzone.com/articles/stream-tweets-the-easy-way-in-under-15-lines-of-co<br/>\n",
    "Twitter Firehose vs. Twitter API: What’s the difference and why should you care?<br/>\n",
    "https://brightplanet.com/2013/06/25/twitter-firehose-vs-twitter-api-whats-the-difference-and-why-should-you-care/ <br/>\n",
    "Twitter Data Visualisation<br/>\n",
    "https://nbviewer.jupyter.org/github/SantaDS/DataVisualisation/blob/master/TwitterDataAnalysis/twitter_data_analysis.ipynb<br/>\n",
    "Dynamic Visualization For Twitter Data<br/>\n",
    "https://github.com/shihao1007/vggm<br/>\n",
    "Mine Twitter's Stream For Hashtags Or Words<br/>\n",
    "https://chrisalbon.com/python/other/mine_a_twitter_hashtags_and_words/<br/>\n",
    "Twitter Data Visualisation<br/>\n",
    "https://www.kaggle.com/tuncbileko/twitter-data-visualisation/<br/>\n",
    "Tweepy API Reference<br/>\n",
    "http://docs.tweepy.org/en/latest/api.html#API.search<br/>\n",
    "Tweepy Streaming<br/>\n",
    "https://github.com/tweepy/tweepy/blob/78d2883a922fa5232e8cdfab0c272c24b8ce37c4/tweepy/streaming.py<br/>\n",
    "Twitter API<br/>\n",
    "https://developer.twitter.com/en/docs/twitter-api/v1/data-dictionary/object-model/user<br/>**"
   ]
  }
 ],
 "metadata": {
  "kernelspec": {
   "display_name": "Python 3",
   "language": "python",
   "name": "python3"
  },
  "language_info": {
   "codemirror_mode": {
    "name": "ipython",
    "version": 3
   },
   "file_extension": ".py",
   "mimetype": "text/x-python",
   "name": "python",
   "nbconvert_exporter": "python",
   "pygments_lexer": "ipython3",
   "version": "3.6.9"
  }
 },
 "nbformat": 4,
 "nbformat_minor": 4
}
