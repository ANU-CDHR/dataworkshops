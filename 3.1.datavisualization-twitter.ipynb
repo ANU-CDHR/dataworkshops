{
 "cells": [
  {
   "cell_type": "markdown",
   "metadata": {},
   "source": [
    "3 Data analysis and visualization\n",
    "======\n",
    "***"
   ]
  },
  {
   "cell_type": "markdown",
   "metadata": {},
   "source": [
    "3.1 Twitter data analysis and visualization\n",
    "------"
   ]
  },
  {
   "cell_type": "markdown",
   "metadata": {},
   "source": [
    "### 3.1.1 Check data frame information "
   ]
  },
  {
   "cell_type": "code",
   "execution_count": 2,
   "metadata": {},
   "outputs": [],
   "source": [
    "# import numpy and pandas python libraries\n",
    "import numpy as np\n",
    "import pandas as pd\n",
    "\n",
    "import warnings\n",
    "warnings.filterwarnings(\"ignore\")"
   ]
  },
  {
   "cell_type": "code",
   "execution_count": 3,
   "metadata": {},
   "outputs": [],
   "source": [
    "# read csv to dataframe, remove first column (index)\n",
    "df = pd.read_csv(\"dh_tweets.csv\") \n",
    "df = df.drop(df.columns[0], axis=1)\n"
   ]
  },
  {
   "cell_type": "code",
   "execution_count": 4,
   "metadata": {},
   "outputs": [
    {
     "data": {
      "text/html": [
       "<div>\n",
       "<style scoped>\n",
       "    .dataframe tbody tr th:only-of-type {\n",
       "        vertical-align: middle;\n",
       "    }\n",
       "\n",
       "    .dataframe tbody tr th {\n",
       "        vertical-align: top;\n",
       "    }\n",
       "\n",
       "    .dataframe thead th {\n",
       "        text-align: right;\n",
       "    }\n",
       "</style>\n",
       "<table border=\"1\" class=\"dataframe\">\n",
       "  <thead>\n",
       "    <tr style=\"text-align: right;\">\n",
       "      <th></th>\n",
       "      <th>Tweets</th>\n",
       "      <th>User</th>\n",
       "      <th>User_statuses_count</th>\n",
       "      <th>user_followers</th>\n",
       "      <th>User_location</th>\n",
       "      <th>User_verified</th>\n",
       "      <th>fav_count</th>\n",
       "      <th>rt_count</th>\n",
       "      <th>tweet_date</th>\n",
       "      <th>User_lat</th>\n",
       "      <th>User_lng</th>\n",
       "    </tr>\n",
       "  </thead>\n",
       "  <tbody>\n",
       "    <tr>\n",
       "      <th>0</th>\n",
       "      <td>RT @dgolumbia: 1/ in the olden days, I used to...</td>\n",
       "      <td>Paul A. Bové</td>\n",
       "      <td>13883</td>\n",
       "      <td>390</td>\n",
       "      <td>Wexford, PA</td>\n",
       "      <td>False</td>\n",
       "      <td>0</td>\n",
       "      <td>2</td>\n",
       "      <td>2020-10-11 16:00:37</td>\n",
       "      <td>40.626456</td>\n",
       "      <td>-80.055891</td>\n",
       "    </tr>\n",
       "    <tr>\n",
       "      <th>1</th>\n",
       "      <td>RT @dgolumbia: 1/ in the olden days, I used to...</td>\n",
       "      <td>K. White</td>\n",
       "      <td>30765</td>\n",
       "      <td>532</td>\n",
       "      <td>NaN</td>\n",
       "      <td>False</td>\n",
       "      <td>0</td>\n",
       "      <td>2</td>\n",
       "      <td>2020-10-11 14:23:06</td>\n",
       "      <td>NaN</td>\n",
       "      <td>NaN</td>\n",
       "    </tr>\n",
       "    <tr>\n",
       "      <th>2</th>\n",
       "      <td>1/ in the olden days, I used to occasionally s...</td>\n",
       "      <td>David Prospefity Golumbia</td>\n",
       "      <td>85558</td>\n",
       "      <td>5578</td>\n",
       "      <td>Richmond, VA</td>\n",
       "      <td>False</td>\n",
       "      <td>3</td>\n",
       "      <td>2</td>\n",
       "      <td>2020-10-11 14:08:53</td>\n",
       "      <td>37.538509</td>\n",
       "      <td>-77.434280</td>\n",
       "    </tr>\n",
       "    <tr>\n",
       "      <th>3</th>\n",
       "      <td>RT @dariahTeach: Looking to improve your #crea...</td>\n",
       "      <td>Susan Schreibman</td>\n",
       "      <td>1945</td>\n",
       "      <td>981</td>\n",
       "      <td>Maastricht</td>\n",
       "      <td>False</td>\n",
       "      <td>0</td>\n",
       "      <td>4</td>\n",
       "      <td>2020-10-10 17:16:19</td>\n",
       "      <td>50.851244</td>\n",
       "      <td>5.690977</td>\n",
       "    </tr>\n",
       "    <tr>\n",
       "      <th>4</th>\n",
       "      <td>RT @dariahTeach: Looking to improve your #crea...</td>\n",
       "      <td>K. White</td>\n",
       "      <td>30765</td>\n",
       "      <td>532</td>\n",
       "      <td>NaN</td>\n",
       "      <td>False</td>\n",
       "      <td>0</td>\n",
       "      <td>4</td>\n",
       "      <td>2020-10-10 15:22:50</td>\n",
       "      <td>NaN</td>\n",
       "      <td>NaN</td>\n",
       "    </tr>\n",
       "  </tbody>\n",
       "</table>\n",
       "</div>"
      ],
      "text/plain": [
       "                                              Tweets  \\\n",
       "0  RT @dgolumbia: 1/ in the olden days, I used to...   \n",
       "1  RT @dgolumbia: 1/ in the olden days, I used to...   \n",
       "2  1/ in the olden days, I used to occasionally s...   \n",
       "3  RT @dariahTeach: Looking to improve your #crea...   \n",
       "4  RT @dariahTeach: Looking to improve your #crea...   \n",
       "\n",
       "                        User  User_statuses_count  user_followers  \\\n",
       "0               Paul A. Bové                13883             390   \n",
       "1                   K. White                30765             532   \n",
       "2  David Prospefity Golumbia                85558            5578   \n",
       "3           Susan Schreibman                 1945             981   \n",
       "4                   K. White                30765             532   \n",
       "\n",
       "  User_location  User_verified  fav_count  rt_count           tweet_date  \\\n",
       "0   Wexford, PA          False          0         2  2020-10-11 16:00:37   \n",
       "1           NaN          False          0         2  2020-10-11 14:23:06   \n",
       "2  Richmond, VA          False          3         2  2020-10-11 14:08:53   \n",
       "3    Maastricht          False          0         4  2020-10-10 17:16:19   \n",
       "4           NaN          False          0         4  2020-10-10 15:22:50   \n",
       "\n",
       "    User_lat   User_lng  \n",
       "0  40.626456 -80.055891  \n",
       "1        NaN        NaN  \n",
       "2  37.538509 -77.434280  \n",
       "3  50.851244   5.690977  \n",
       "4        NaN        NaN  "
      ]
     },
     "execution_count": 4,
     "metadata": {},
     "output_type": "execute_result"
    }
   ],
   "source": [
    "# check dataframe\n",
    "df.head()"
   ]
  },
  {
   "cell_type": "code",
   "execution_count": 6,
   "metadata": {},
   "outputs": [
    {
     "name": "stdout",
     "output_type": "stream",
     "text": [
      "<class 'pandas.core.frame.DataFrame'>\n",
      "RangeIndex: 100 entries, 0 to 99\n",
      "Data columns (total 11 columns):\n",
      " #   Column               Non-Null Count  Dtype  \n",
      "---  ------               --------------  -----  \n",
      " 0   Tweets               100 non-null    object \n",
      " 1   User                 100 non-null    object \n",
      " 2   User_statuses_count  100 non-null    int64  \n",
      " 3   user_followers       100 non-null    int64  \n",
      " 4   User_location        60 non-null     object \n",
      " 5   User_verified        100 non-null    bool   \n",
      " 6   fav_count            100 non-null    int64  \n",
      " 7   rt_count             100 non-null    int64  \n",
      " 8   tweet_date           100 non-null    object \n",
      " 9   User_lat             57 non-null     float64\n",
      " 10  User_lng             57 non-null     float64\n",
      "dtypes: bool(1), float64(2), int64(4), object(4)\n",
      "memory usage: 8.0+ KB\n"
     ]
    }
   ],
   "source": [
    "# check dataframe\n",
    "df.info()"
   ]
  },
  {
   "cell_type": "markdown",
   "metadata": {},
   "source": [
    "### 3.1.2 Bar chart visualization "
   ]
  },
  {
   "cell_type": "code",
   "execution_count": 5,
   "metadata": {},
   "outputs": [
    {
     "data": {
      "text/html": [
       "        <script type=\"text/javascript\">\n",
       "        window.PlotlyConfig = {MathJaxConfig: 'local'};\n",
       "        if (window.MathJax) {MathJax.Hub.Config({SVG: {font: \"STIX-Web\"}});}\n",
       "        if (typeof require !== 'undefined') {\n",
       "        require.undef(\"plotly\");\n",
       "        requirejs.config({\n",
       "            paths: {\n",
       "                'plotly': ['https://cdn.plot.ly/plotly-latest.min']\n",
       "            }\n",
       "        });\n",
       "        require(['plotly'], function(Plotly) {\n",
       "            window._Plotly = Plotly;\n",
       "        });\n",
       "        }\n",
       "        </script>\n",
       "        "
      ]
     },
     "metadata": {},
     "output_type": "display_data"
    },
    {
     "data": {
      "text/html": [
       "        <script type=\"text/javascript\">\n",
       "        window.PlotlyConfig = {MathJaxConfig: 'local'};\n",
       "        if (window.MathJax) {MathJax.Hub.Config({SVG: {font: \"STIX-Web\"}});}\n",
       "        if (typeof require !== 'undefined') {\n",
       "        require.undef(\"plotly\");\n",
       "        requirejs.config({\n",
       "            paths: {\n",
       "                'plotly': ['https://cdn.plot.ly/plotly-latest.min']\n",
       "            }\n",
       "        });\n",
       "        require(['plotly'], function(Plotly) {\n",
       "            window._Plotly = Plotly;\n",
       "        });\n",
       "        }\n",
       "        </script>\n",
       "        "
      ]
     },
     "metadata": {},
     "output_type": "display_data"
    },
    {
     "data": {
      "text/html": [
       "        <script type=\"text/javascript\">\n",
       "        window.PlotlyConfig = {MathJaxConfig: 'local'};\n",
       "        if (window.MathJax) {MathJax.Hub.Config({SVG: {font: \"STIX-Web\"}});}\n",
       "        if (typeof require !== 'undefined') {\n",
       "        require.undef(\"plotly\");\n",
       "        requirejs.config({\n",
       "            paths: {\n",
       "                'plotly': ['https://cdn.plot.ly/plotly-latest.min']\n",
       "            }\n",
       "        });\n",
       "        require(['plotly'], function(Plotly) {\n",
       "            window._Plotly = Plotly;\n",
       "        });\n",
       "        }\n",
       "        </script>\n",
       "        "
      ]
     },
     "metadata": {},
     "output_type": "display_data"
    }
   ],
   "source": [
    "# import required libraries for visualisation \n",
    "from textblob import TextBlob\n",
    "from wordcloud import WordCloud, STOPWORDS\n",
    "import chart_studio.plotly as py\n",
    "import plotly.graph_objs as go\n",
    "from plotly.offline import iplot\n",
    "import cufflinks\n",
    "cufflinks.go_offline()\n",
    "cufflinks.set_config_file(world_readable=True, theme='pearl', offline=True)\n",
    "import matplotlib.pyplot as plt\n"
   ]
  },
  {
   "cell_type": "code",
   "execution_count": 65,
   "metadata": {},
   "outputs": [
    {
     "data": {
      "application/vnd.plotly.v1+json": {
       "config": {
        "linkText": "Export to plot.ly",
        "plotlyServerURL": "https://plot.ly",
        "showLink": true
       },
       "data": [
        {
         "marker": {
          "color": "rgba(55, 128, 191, 0.6)",
          "line": {
           "color": "rgba(55, 128, 191, 1.0)",
           "width": 1
          }
         },
         "name": "User",
         "orientation": "v",
         "text": "",
         "type": "bar",
         "x": [
          "Paul A. Bové",
          "Kalliopi Kontiza",
          "Jeff Schramm",
          "Xavier Rubio-Campillo",
          "Francesc C. Conesa",
          "Dr Megan Kasten",
          "GeohumanDARIAH",
          "Dr Sara Perry",
          "Kathryn Morgan",
          "elena cantarell",
          "Rebecca O'S",
          "Louise Nicholas",
          "Maria Yubero",
          "Dr. Kira Jones, unaccredited prismatoid",
          "Alison Atkinson-Phillip",
          "Bouldering Epigrammetry",
          "Bartomeu Vallori",
          "Doris Gutsmiedl-Schümann",
          "Jared Hansen",
          "Zoe Arthurs",
          "Maxime Durand",
          "dr Iza Romanowska",
          "DesignThinkBot",
          "Josema Galán",
          "Iris Rodríguez Alcaide",
          "Sebastian Hageneuer",
          "Fyk O.M. Fei 😷",
          "TAMU_CoDHR",
          "HistoryBathSpa",
          "erik champion",
          "SprintbaseBot",
          "Anna",
          "Till A. Heilmann",
          "Mikko Toivanen",
          "George Bruseker",
          "#dariahTeach",
          "Jessica MillwardPhD",
          "Mª del Mar Rodríguez",
          "Stephania Savva, PhD",
          "Farah Sheikh Garcia",
          "Tom Chadwin",
          "Game Dev News",
          "tuubanurs",
          "Mireia Comas Via🎗️",
          "Andreas Angourakis",
          "Tine Rassalle",
          "Dr Barbora Wouters",
          "triplingual",
          "Shawn Graham",
          "Tom Armitage",
          "Center for Black Digital Research",
          "Pol Junyent",
          "Rob Lancefield",
          "Ivan Briz Godino",
          "idw News",
          "Jessica Unger",
          "100DaysofDH",
          "Heather",
          "AIUCD",
          "Hans Huisman",
          "Àlex",
          "Maria Feliu-Torruella",
          "Núria Jornet",
          "Rosie",
          "Miguel Ramirez",
          "Isabel Boj Cullell",
          "Enrico R. Crema",
          "Natalia Égüez",
          "Susan Schreibman",
          "Jairo Melo",
          "Jenn O'Lantern",
          "Inkless Editions",
          "Pgogy WebStuff",
          "Dr Coleman A Dennehy",
          "David Prospefity Golumbia",
          "Linda Bjerketvedt",
          "Sara Gutierrez Enriq",
          "Nicolas Parés",
          "Rebecca Lambert: Punk As F***😊",
          "Katayoun Torabi, Ph.D.",
          "RedInt",
          "museweb",
          "Vanessa Holloway 🤬🤬🤬",
          "K. White"
         ],
         "y": [
          1,
          1,
          1,
          1,
          1,
          1,
          1,
          1,
          1,
          1,
          1,
          1,
          1,
          1,
          1,
          1,
          1,
          1,
          1,
          1,
          1,
          1,
          1,
          1,
          1,
          1,
          1,
          1,
          1,
          1,
          1,
          1,
          1,
          1,
          1,
          1,
          1,
          1,
          1,
          1,
          1,
          1,
          1,
          1,
          1,
          1,
          1,
          1,
          1,
          1,
          1,
          1,
          1,
          1,
          1,
          1,
          1,
          1,
          1,
          1,
          1,
          1,
          1,
          1,
          1,
          1,
          1,
          1,
          1,
          1,
          1,
          1,
          1,
          1,
          1,
          1,
          1,
          1,
          1,
          1,
          2,
          2,
          2,
          14
         ]
        }
       ],
       "layout": {
        "autosize": true,
        "template": {
         "data": {
          "bar": [
           {
            "error_x": {
             "color": "#2a3f5f"
            },
            "error_y": {
             "color": "#2a3f5f"
            },
            "marker": {
             "line": {
              "color": "#E5ECF6",
              "width": 0.5
             }
            },
            "type": "bar"
           }
          ],
          "barpolar": [
           {
            "marker": {
             "line": {
              "color": "#E5ECF6",
              "width": 0.5
             }
            },
            "type": "barpolar"
           }
          ],
          "carpet": [
           {
            "aaxis": {
             "endlinecolor": "#2a3f5f",
             "gridcolor": "white",
             "linecolor": "white",
             "minorgridcolor": "white",
             "startlinecolor": "#2a3f5f"
            },
            "baxis": {
             "endlinecolor": "#2a3f5f",
             "gridcolor": "white",
             "linecolor": "white",
             "minorgridcolor": "white",
             "startlinecolor": "#2a3f5f"
            },
            "type": "carpet"
           }
          ],
          "choropleth": [
           {
            "colorbar": {
             "outlinewidth": 0,
             "ticks": ""
            },
            "type": "choropleth"
           }
          ],
          "contour": [
           {
            "colorbar": {
             "outlinewidth": 0,
             "ticks": ""
            },
            "colorscale": [
             [
              0,
              "#0d0887"
             ],
             [
              0.1111111111111111,
              "#46039f"
             ],
             [
              0.2222222222222222,
              "#7201a8"
             ],
             [
              0.3333333333333333,
              "#9c179e"
             ],
             [
              0.4444444444444444,
              "#bd3786"
             ],
             [
              0.5555555555555556,
              "#d8576b"
             ],
             [
              0.6666666666666666,
              "#ed7953"
             ],
             [
              0.7777777777777778,
              "#fb9f3a"
             ],
             [
              0.8888888888888888,
              "#fdca26"
             ],
             [
              1,
              "#f0f921"
             ]
            ],
            "type": "contour"
           }
          ],
          "contourcarpet": [
           {
            "colorbar": {
             "outlinewidth": 0,
             "ticks": ""
            },
            "type": "contourcarpet"
           }
          ],
          "heatmap": [
           {
            "colorbar": {
             "outlinewidth": 0,
             "ticks": ""
            },
            "colorscale": [
             [
              0,
              "#0d0887"
             ],
             [
              0.1111111111111111,
              "#46039f"
             ],
             [
              0.2222222222222222,
              "#7201a8"
             ],
             [
              0.3333333333333333,
              "#9c179e"
             ],
             [
              0.4444444444444444,
              "#bd3786"
             ],
             [
              0.5555555555555556,
              "#d8576b"
             ],
             [
              0.6666666666666666,
              "#ed7953"
             ],
             [
              0.7777777777777778,
              "#fb9f3a"
             ],
             [
              0.8888888888888888,
              "#fdca26"
             ],
             [
              1,
              "#f0f921"
             ]
            ],
            "type": "heatmap"
           }
          ],
          "heatmapgl": [
           {
            "colorbar": {
             "outlinewidth": 0,
             "ticks": ""
            },
            "colorscale": [
             [
              0,
              "#0d0887"
             ],
             [
              0.1111111111111111,
              "#46039f"
             ],
             [
              0.2222222222222222,
              "#7201a8"
             ],
             [
              0.3333333333333333,
              "#9c179e"
             ],
             [
              0.4444444444444444,
              "#bd3786"
             ],
             [
              0.5555555555555556,
              "#d8576b"
             ],
             [
              0.6666666666666666,
              "#ed7953"
             ],
             [
              0.7777777777777778,
              "#fb9f3a"
             ],
             [
              0.8888888888888888,
              "#fdca26"
             ],
             [
              1,
              "#f0f921"
             ]
            ],
            "type": "heatmapgl"
           }
          ],
          "histogram": [
           {
            "marker": {
             "colorbar": {
              "outlinewidth": 0,
              "ticks": ""
             }
            },
            "type": "histogram"
           }
          ],
          "histogram2d": [
           {
            "colorbar": {
             "outlinewidth": 0,
             "ticks": ""
            },
            "colorscale": [
             [
              0,
              "#0d0887"
             ],
             [
              0.1111111111111111,
              "#46039f"
             ],
             [
              0.2222222222222222,
              "#7201a8"
             ],
             [
              0.3333333333333333,
              "#9c179e"
             ],
             [
              0.4444444444444444,
              "#bd3786"
             ],
             [
              0.5555555555555556,
              "#d8576b"
             ],
             [
              0.6666666666666666,
              "#ed7953"
             ],
             [
              0.7777777777777778,
              "#fb9f3a"
             ],
             [
              0.8888888888888888,
              "#fdca26"
             ],
             [
              1,
              "#f0f921"
             ]
            ],
            "type": "histogram2d"
           }
          ],
          "histogram2dcontour": [
           {
            "colorbar": {
             "outlinewidth": 0,
             "ticks": ""
            },
            "colorscale": [
             [
              0,
              "#0d0887"
             ],
             [
              0.1111111111111111,
              "#46039f"
             ],
             [
              0.2222222222222222,
              "#7201a8"
             ],
             [
              0.3333333333333333,
              "#9c179e"
             ],
             [
              0.4444444444444444,
              "#bd3786"
             ],
             [
              0.5555555555555556,
              "#d8576b"
             ],
             [
              0.6666666666666666,
              "#ed7953"
             ],
             [
              0.7777777777777778,
              "#fb9f3a"
             ],
             [
              0.8888888888888888,
              "#fdca26"
             ],
             [
              1,
              "#f0f921"
             ]
            ],
            "type": "histogram2dcontour"
           }
          ],
          "mesh3d": [
           {
            "colorbar": {
             "outlinewidth": 0,
             "ticks": ""
            },
            "type": "mesh3d"
           }
          ],
          "parcoords": [
           {
            "line": {
             "colorbar": {
              "outlinewidth": 0,
              "ticks": ""
             }
            },
            "type": "parcoords"
           }
          ],
          "pie": [
           {
            "automargin": true,
            "type": "pie"
           }
          ],
          "scatter": [
           {
            "marker": {
             "colorbar": {
              "outlinewidth": 0,
              "ticks": ""
             }
            },
            "type": "scatter"
           }
          ],
          "scatter3d": [
           {
            "line": {
             "colorbar": {
              "outlinewidth": 0,
              "ticks": ""
             }
            },
            "marker": {
             "colorbar": {
              "outlinewidth": 0,
              "ticks": ""
             }
            },
            "type": "scatter3d"
           }
          ],
          "scattercarpet": [
           {
            "marker": {
             "colorbar": {
              "outlinewidth": 0,
              "ticks": ""
             }
            },
            "type": "scattercarpet"
           }
          ],
          "scattergeo": [
           {
            "marker": {
             "colorbar": {
              "outlinewidth": 0,
              "ticks": ""
             }
            },
            "type": "scattergeo"
           }
          ],
          "scattergl": [
           {
            "marker": {
             "colorbar": {
              "outlinewidth": 0,
              "ticks": ""
             }
            },
            "type": "scattergl"
           }
          ],
          "scattermapbox": [
           {
            "marker": {
             "colorbar": {
              "outlinewidth": 0,
              "ticks": ""
             }
            },
            "type": "scattermapbox"
           }
          ],
          "scatterpolar": [
           {
            "marker": {
             "colorbar": {
              "outlinewidth": 0,
              "ticks": ""
             }
            },
            "type": "scatterpolar"
           }
          ],
          "scatterpolargl": [
           {
            "marker": {
             "colorbar": {
              "outlinewidth": 0,
              "ticks": ""
             }
            },
            "type": "scatterpolargl"
           }
          ],
          "scatterternary": [
           {
            "marker": {
             "colorbar": {
              "outlinewidth": 0,
              "ticks": ""
             }
            },
            "type": "scatterternary"
           }
          ],
          "surface": [
           {
            "colorbar": {
             "outlinewidth": 0,
             "ticks": ""
            },
            "colorscale": [
             [
              0,
              "#0d0887"
             ],
             [
              0.1111111111111111,
              "#46039f"
             ],
             [
              0.2222222222222222,
              "#7201a8"
             ],
             [
              0.3333333333333333,
              "#9c179e"
             ],
             [
              0.4444444444444444,
              "#bd3786"
             ],
             [
              0.5555555555555556,
              "#d8576b"
             ],
             [
              0.6666666666666666,
              "#ed7953"
             ],
             [
              0.7777777777777778,
              "#fb9f3a"
             ],
             [
              0.8888888888888888,
              "#fdca26"
             ],
             [
              1,
              "#f0f921"
             ]
            ],
            "type": "surface"
           }
          ],
          "table": [
           {
            "cells": {
             "fill": {
              "color": "#EBF0F8"
             },
             "line": {
              "color": "white"
             }
            },
            "header": {
             "fill": {
              "color": "#C8D4E3"
             },
             "line": {
              "color": "white"
             }
            },
            "type": "table"
           }
          ]
         },
         "layout": {
          "annotationdefaults": {
           "arrowcolor": "#2a3f5f",
           "arrowhead": 0,
           "arrowwidth": 1
          },
          "coloraxis": {
           "colorbar": {
            "outlinewidth": 0,
            "ticks": ""
           }
          },
          "colorscale": {
           "diverging": [
            [
             0,
             "#8e0152"
            ],
            [
             0.1,
             "#c51b7d"
            ],
            [
             0.2,
             "#de77ae"
            ],
            [
             0.3,
             "#f1b6da"
            ],
            [
             0.4,
             "#fde0ef"
            ],
            [
             0.5,
             "#f7f7f7"
            ],
            [
             0.6,
             "#e6f5d0"
            ],
            [
             0.7,
             "#b8e186"
            ],
            [
             0.8,
             "#7fbc41"
            ],
            [
             0.9,
             "#4d9221"
            ],
            [
             1,
             "#276419"
            ]
           ],
           "sequential": [
            [
             0,
             "#0d0887"
            ],
            [
             0.1111111111111111,
             "#46039f"
            ],
            [
             0.2222222222222222,
             "#7201a8"
            ],
            [
             0.3333333333333333,
             "#9c179e"
            ],
            [
             0.4444444444444444,
             "#bd3786"
            ],
            [
             0.5555555555555556,
             "#d8576b"
            ],
            [
             0.6666666666666666,
             "#ed7953"
            ],
            [
             0.7777777777777778,
             "#fb9f3a"
            ],
            [
             0.8888888888888888,
             "#fdca26"
            ],
            [
             1,
             "#f0f921"
            ]
           ],
           "sequentialminus": [
            [
             0,
             "#0d0887"
            ],
            [
             0.1111111111111111,
             "#46039f"
            ],
            [
             0.2222222222222222,
             "#7201a8"
            ],
            [
             0.3333333333333333,
             "#9c179e"
            ],
            [
             0.4444444444444444,
             "#bd3786"
            ],
            [
             0.5555555555555556,
             "#d8576b"
            ],
            [
             0.6666666666666666,
             "#ed7953"
            ],
            [
             0.7777777777777778,
             "#fb9f3a"
            ],
            [
             0.8888888888888888,
             "#fdca26"
            ],
            [
             1,
             "#f0f921"
            ]
           ]
          },
          "colorway": [
           "#636efa",
           "#EF553B",
           "#00cc96",
           "#ab63fa",
           "#FFA15A",
           "#19d3f3",
           "#FF6692",
           "#B6E880",
           "#FF97FF",
           "#FECB52"
          ],
          "font": {
           "color": "#2a3f5f"
          },
          "geo": {
           "bgcolor": "white",
           "lakecolor": "white",
           "landcolor": "#E5ECF6",
           "showlakes": true,
           "showland": true,
           "subunitcolor": "white"
          },
          "hoverlabel": {
           "align": "left"
          },
          "hovermode": "closest",
          "mapbox": {
           "style": "light"
          },
          "paper_bgcolor": "white",
          "plot_bgcolor": "#E5ECF6",
          "polar": {
           "angularaxis": {
            "gridcolor": "white",
            "linecolor": "white",
            "ticks": ""
           },
           "bgcolor": "#E5ECF6",
           "radialaxis": {
            "gridcolor": "white",
            "linecolor": "white",
            "ticks": ""
           }
          },
          "scene": {
           "xaxis": {
            "backgroundcolor": "#E5ECF6",
            "gridcolor": "white",
            "gridwidth": 2,
            "linecolor": "white",
            "showbackground": true,
            "ticks": "",
            "zerolinecolor": "white"
           },
           "yaxis": {
            "backgroundcolor": "#E5ECF6",
            "gridcolor": "white",
            "gridwidth": 2,
            "linecolor": "white",
            "showbackground": true,
            "ticks": "",
            "zerolinecolor": "white"
           },
           "zaxis": {
            "backgroundcolor": "#E5ECF6",
            "gridcolor": "white",
            "gridwidth": 2,
            "linecolor": "white",
            "showbackground": true,
            "ticks": "",
            "zerolinecolor": "white"
           }
          },
          "shapedefaults": {
           "line": {
            "color": "#2a3f5f"
           }
          },
          "ternary": {
           "aaxis": {
            "gridcolor": "white",
            "linecolor": "white",
            "ticks": ""
           },
           "baxis": {
            "gridcolor": "white",
            "linecolor": "white",
            "ticks": ""
           },
           "bgcolor": "#E5ECF6",
           "caxis": {
            "gridcolor": "white",
            "linecolor": "white",
            "ticks": ""
           }
          },
          "title": {
           "x": 0.05
          },
          "xaxis": {
           "automargin": true,
           "gridcolor": "white",
           "linecolor": "white",
           "ticks": "",
           "title": {
            "standoff": 15
           },
           "zerolinecolor": "white",
           "zerolinewidth": 2
          },
          "yaxis": {
           "automargin": true,
           "gridcolor": "white",
           "linecolor": "white",
           "ticks": "",
           "title": {
            "standoff": 15
           },
           "zerolinecolor": "white",
           "zerolinewidth": 2
          }
         }
        },
        "title": {
         "text": "Number of twitter for each user"
        },
        "xaxis": {
         "automargin": true,
         "autorange": true,
         "range": [
          -0.5,
          83.5
         ],
         "type": "category"
        },
        "yaxis": {
         "autorange": true,
         "range": [
          0,
          14.736842105263158
         ],
         "type": "linear"
        }
       }
      },
      "image/png": "[encoded data removed]",
      "text/html": [
       "<div>\n",
       "        \n",
       "        \n",
       "            <div id=\"bbf57419-f76b-4ab0-ba8a-a93720048587\" class=\"plotly-graph-div\" style=\"height:525px; width:100%;\"></div>\n",
       "            <script type=\"text/javascript\">\n",
       "                require([\"plotly\"], function(Plotly) {\n",
       "                    window.PLOTLYENV=window.PLOTLYENV || {};\n",
       "                    window.PLOTLYENV.BASE_URL='https://plot.ly';\n",
       "                    \n",
       "                if (document.getElementById(\"bbf57419-f76b-4ab0-ba8a-a93720048587\")) {\n",
       "                    Plotly.newPlot(\n",
       "                        'bbf57419-f76b-4ab0-ba8a-a93720048587',\n",
       "                        [{\"marker\": {\"color\": \"rgba(55, 128, 191, 0.6)\", \"line\": {\"color\": \"rgba(55, 128, 191, 1.0)\", \"width\": 1}}, \"name\": \"User\", \"orientation\": \"v\", \"text\": \"\", \"type\": \"bar\", \"x\": [\"Paul A. Bov\\u00e9\", \"Kalliopi Kontiza\", \"Jeff Schramm\", \"Xavier Rubio-Campillo\", \"Francesc C. Conesa\", \"Dr Megan Kasten\", \"GeohumanDARIAH\", \"Dr Sara Perry\", \"Kathryn Morgan\", \"elena cantarell\", \"Rebecca O'S\", \"Louise Nicholas\", \"Maria Yubero\", \"Dr. Kira Jones, unaccredited prismatoid\", \"Alison Atkinson-Phillip\", \"Bouldering Epigrammetry\", \"Bartomeu Vallori\", \"Doris Gutsmiedl-Sch\\u00fcmann\", \"Jared Hansen\", \"Zoe Arthurs\", \"Maxime Durand\", \"dr Iza Romanowska\", \"DesignThinkBot\", \"Josema Gal\\u00e1n\", \"Iris Rodr\\u00edguez Alcaide\", \"Sebastian Hageneuer\", \"Fyk O.M. Fei \\ud83d\\ude37\", \"TAMU_CoDHR\", \"HistoryBathSpa\", \"erik champion\", \"SprintbaseBot\", \"Anna\", \"Till A. Heilmann\", \"Mikko Toivanen\", \"George Bruseker\", \"#dariahTeach\", \"Jessica MillwardPhD\", \"M\\u00aa del Mar Rodr\\u00edguez\", \"Stephania Savva, PhD\", \"Farah Sheikh Garcia\", \"Tom Chadwin\", \"Game Dev News\", \"tuubanurs\", \"Mireia Comas Via\\ud83c\\udf97\\ufe0f\", \"Andreas Angourakis\", \"Tine Rassalle\", \"Dr Barbora Wouters\", \"triplingual\", \"Shawn Graham\", \"Tom Armitage\", \"Center for Black Digital Research\", \"Pol Junyent\", \"Rob Lancefield\", \"Ivan Briz Godino\", \"idw News\", \"Jessica Unger\", \"100DaysofDH\", \"Heather\", \"AIUCD\", \"Hans Huisman\", \"\\u00c0lex\", \"Maria Feliu-Torruella\", \"N\\u00faria Jornet\", \"Rosie\", \"Miguel Ramirez\", \"Isabel Boj Cullell\", \"Enrico R. Crema\", \"Natalia \\u00c9g\\u00fcez\", \"Susan Schreibman\", \"Jairo Melo\", \"Jenn O'Lantern\", \"Inkless Editions\", \"Pgogy WebStuff\", \"Dr Coleman A Dennehy\", \"David Prospefity Golumbia\", \"Linda Bjerketvedt\", \"Sara Gutierrez Enriq\", \"Nicolas Par\\u00e9s\", \"Rebecca Lambert: Punk As F***\\ud83d\\ude0a\", \"Katayoun Torabi, Ph.D.\", \"RedInt\", \"museweb\", \"Vanessa Holloway \\ud83e\\udd2c\\ud83e\\udd2c\\ud83e\\udd2c\", \"K. White\"], \"y\": [1, 1, 1, 1, 1, 1, 1, 1, 1, 1, 1, 1, 1, 1, 1, 1, 1, 1, 1, 1, 1, 1, 1, 1, 1, 1, 1, 1, 1, 1, 1, 1, 1, 1, 1, 1, 1, 1, 1, 1, 1, 1, 1, 1, 1, 1, 1, 1, 1, 1, 1, 1, 1, 1, 1, 1, 1, 1, 1, 1, 1, 1, 1, 1, 1, 1, 1, 1, 1, 1, 1, 1, 1, 1, 1, 1, 1, 1, 1, 1, 2, 2, 2, 14]}],\n",
       "                        {\"autosize\": true, \"template\": {\"data\": {\"bar\": [{\"error_x\": {\"color\": \"#2a3f5f\"}, \"error_y\": {\"color\": \"#2a3f5f\"}, \"marker\": {\"line\": {\"color\": \"#E5ECF6\", \"width\": 0.5}}, \"type\": \"bar\"}], \"barpolar\": [{\"marker\": {\"line\": {\"color\": \"#E5ECF6\", \"width\": 0.5}}, \"type\": \"barpolar\"}], \"carpet\": [{\"aaxis\": {\"endlinecolor\": \"#2a3f5f\", \"gridcolor\": \"white\", \"linecolor\": \"white\", \"minorgridcolor\": \"white\", \"startlinecolor\": \"#2a3f5f\"}, \"baxis\": {\"endlinecolor\": \"#2a3f5f\", \"gridcolor\": \"white\", \"linecolor\": \"white\", \"minorgridcolor\": \"white\", \"startlinecolor\": \"#2a3f5f\"}, \"type\": \"carpet\"}], \"choropleth\": [{\"colorbar\": {\"outlinewidth\": 0, \"ticks\": \"\"}, \"type\": \"choropleth\"}], \"contour\": [{\"colorbar\": {\"outlinewidth\": 0, \"ticks\": \"\"}, \"colorscale\": [[0.0, \"#0d0887\"], [0.1111111111111111, \"#46039f\"], [0.2222222222222222, \"#7201a8\"], [0.3333333333333333, \"#9c179e\"], [0.4444444444444444, \"#bd3786\"], [0.5555555555555556, \"#d8576b\"], [0.6666666666666666, \"#ed7953\"], [0.7777777777777778, \"#fb9f3a\"], [0.8888888888888888, \"#fdca26\"], [1.0, \"#f0f921\"]], \"type\": \"contour\"}], \"contourcarpet\": [{\"colorbar\": {\"outlinewidth\": 0, \"ticks\": \"\"}, \"type\": \"contourcarpet\"}], \"heatmap\": [{\"colorbar\": {\"outlinewidth\": 0, \"ticks\": \"\"}, \"colorscale\": [[0.0, \"#0d0887\"], [0.1111111111111111, \"#46039f\"], [0.2222222222222222, \"#7201a8\"], [0.3333333333333333, \"#9c179e\"], [0.4444444444444444, \"#bd3786\"], [0.5555555555555556, \"#d8576b\"], [0.6666666666666666, \"#ed7953\"], [0.7777777777777778, \"#fb9f3a\"], [0.8888888888888888, \"#fdca26\"], [1.0, \"#f0f921\"]], \"type\": \"heatmap\"}], \"heatmapgl\": [{\"colorbar\": {\"outlinewidth\": 0, \"ticks\": \"\"}, \"colorscale\": [[0.0, \"#0d0887\"], [0.1111111111111111, \"#46039f\"], [0.2222222222222222, \"#7201a8\"], [0.3333333333333333, \"#9c179e\"], [0.4444444444444444, \"#bd3786\"], [0.5555555555555556, \"#d8576b\"], [0.6666666666666666, \"#ed7953\"], [0.7777777777777778, \"#fb9f3a\"], [0.8888888888888888, \"#fdca26\"], [1.0, \"#f0f921\"]], \"type\": \"heatmapgl\"}], \"histogram\": [{\"marker\": {\"colorbar\": {\"outlinewidth\": 0, \"ticks\": \"\"}}, \"type\": \"histogram\"}], \"histogram2d\": [{\"colorbar\": {\"outlinewidth\": 0, \"ticks\": \"\"}, \"colorscale\": [[0.0, \"#0d0887\"], [0.1111111111111111, \"#46039f\"], [0.2222222222222222, \"#7201a8\"], [0.3333333333333333, \"#9c179e\"], [0.4444444444444444, \"#bd3786\"], [0.5555555555555556, \"#d8576b\"], [0.6666666666666666, \"#ed7953\"], [0.7777777777777778, \"#fb9f3a\"], [0.8888888888888888, \"#fdca26\"], [1.0, \"#f0f921\"]], \"type\": \"histogram2d\"}], \"histogram2dcontour\": [{\"colorbar\": {\"outlinewidth\": 0, \"ticks\": \"\"}, \"colorscale\": [[0.0, \"#0d0887\"], [0.1111111111111111, \"#46039f\"], [0.2222222222222222, \"#7201a8\"], [0.3333333333333333, \"#9c179e\"], [0.4444444444444444, \"#bd3786\"], [0.5555555555555556, \"#d8576b\"], [0.6666666666666666, \"#ed7953\"], [0.7777777777777778, \"#fb9f3a\"], [0.8888888888888888, \"#fdca26\"], [1.0, \"#f0f921\"]], \"type\": \"histogram2dcontour\"}], \"mesh3d\": [{\"colorbar\": {\"outlinewidth\": 0, \"ticks\": \"\"}, \"type\": \"mesh3d\"}], \"parcoords\": [{\"line\": {\"colorbar\": {\"outlinewidth\": 0, \"ticks\": \"\"}}, \"type\": \"parcoords\"}], \"pie\": [{\"automargin\": true, \"type\": \"pie\"}], \"scatter\": [{\"marker\": {\"colorbar\": {\"outlinewidth\": 0, \"ticks\": \"\"}}, \"type\": \"scatter\"}], \"scatter3d\": [{\"line\": {\"colorbar\": {\"outlinewidth\": 0, \"ticks\": \"\"}}, \"marker\": {\"colorbar\": {\"outlinewidth\": 0, \"ticks\": \"\"}}, \"type\": \"scatter3d\"}], \"scattercarpet\": [{\"marker\": {\"colorbar\": {\"outlinewidth\": 0, \"ticks\": \"\"}}, \"type\": \"scattercarpet\"}], \"scattergeo\": [{\"marker\": {\"colorbar\": {\"outlinewidth\": 0, \"ticks\": \"\"}}, \"type\": \"scattergeo\"}], \"scattergl\": [{\"marker\": {\"colorbar\": {\"outlinewidth\": 0, \"ticks\": \"\"}}, \"type\": \"scattergl\"}], \"scattermapbox\": [{\"marker\": {\"colorbar\": {\"outlinewidth\": 0, \"ticks\": \"\"}}, \"type\": \"scattermapbox\"}], \"scatterpolar\": [{\"marker\": {\"colorbar\": {\"outlinewidth\": 0, \"ticks\": \"\"}}, \"type\": \"scatterpolar\"}], \"scatterpolargl\": [{\"marker\": {\"colorbar\": {\"outlinewidth\": 0, \"ticks\": \"\"}}, \"type\": \"scatterpolargl\"}], \"scatterternary\": [{\"marker\": {\"colorbar\": {\"outlinewidth\": 0, \"ticks\": \"\"}}, \"type\": \"scatterternary\"}], \"surface\": [{\"colorbar\": {\"outlinewidth\": 0, \"ticks\": \"\"}, \"colorscale\": [[0.0, \"#0d0887\"], [0.1111111111111111, \"#46039f\"], [0.2222222222222222, \"#7201a8\"], [0.3333333333333333, \"#9c179e\"], [0.4444444444444444, \"#bd3786\"], [0.5555555555555556, \"#d8576b\"], [0.6666666666666666, \"#ed7953\"], [0.7777777777777778, \"#fb9f3a\"], [0.8888888888888888, \"#fdca26\"], [1.0, \"#f0f921\"]], \"type\": \"surface\"}], \"table\": [{\"cells\": {\"fill\": {\"color\": \"#EBF0F8\"}, \"line\": {\"color\": \"white\"}}, \"header\": {\"fill\": {\"color\": \"#C8D4E3\"}, \"line\": {\"color\": \"white\"}}, \"type\": \"table\"}]}, \"layout\": {\"annotationdefaults\": {\"arrowcolor\": \"#2a3f5f\", \"arrowhead\": 0, \"arrowwidth\": 1}, \"coloraxis\": {\"colorbar\": {\"outlinewidth\": 0, \"ticks\": \"\"}}, \"colorscale\": {\"diverging\": [[0, \"#8e0152\"], [0.1, \"#c51b7d\"], [0.2, \"#de77ae\"], [0.3, \"#f1b6da\"], [0.4, \"#fde0ef\"], [0.5, \"#f7f7f7\"], [0.6, \"#e6f5d0\"], [0.7, \"#b8e186\"], [0.8, \"#7fbc41\"], [0.9, \"#4d9221\"], [1, \"#276419\"]], \"sequential\": [[0.0, \"#0d0887\"], [0.1111111111111111, \"#46039f\"], [0.2222222222222222, \"#7201a8\"], [0.3333333333333333, \"#9c179e\"], [0.4444444444444444, \"#bd3786\"], [0.5555555555555556, \"#d8576b\"], [0.6666666666666666, \"#ed7953\"], [0.7777777777777778, \"#fb9f3a\"], [0.8888888888888888, \"#fdca26\"], [1.0, \"#f0f921\"]], \"sequentialminus\": [[0.0, \"#0d0887\"], [0.1111111111111111, \"#46039f\"], [0.2222222222222222, \"#7201a8\"], [0.3333333333333333, \"#9c179e\"], [0.4444444444444444, \"#bd3786\"], [0.5555555555555556, \"#d8576b\"], [0.6666666666666666, \"#ed7953\"], [0.7777777777777778, \"#fb9f3a\"], [0.8888888888888888, \"#fdca26\"], [1.0, \"#f0f921\"]]}, \"colorway\": [\"#636efa\", \"#EF553B\", \"#00cc96\", \"#ab63fa\", \"#FFA15A\", \"#19d3f3\", \"#FF6692\", \"#B6E880\", \"#FF97FF\", \"#FECB52\"], \"font\": {\"color\": \"#2a3f5f\"}, \"geo\": {\"bgcolor\": \"white\", \"lakecolor\": \"white\", \"landcolor\": \"#E5ECF6\", \"showlakes\": true, \"showland\": true, \"subunitcolor\": \"white\"}, \"hoverlabel\": {\"align\": \"left\"}, \"hovermode\": \"closest\", \"mapbox\": {\"style\": \"light\"}, \"paper_bgcolor\": \"white\", \"plot_bgcolor\": \"#E5ECF6\", \"polar\": {\"angularaxis\": {\"gridcolor\": \"white\", \"linecolor\": \"white\", \"ticks\": \"\"}, \"bgcolor\": \"#E5ECF6\", \"radialaxis\": {\"gridcolor\": \"white\", \"linecolor\": \"white\", \"ticks\": \"\"}}, \"scene\": {\"xaxis\": {\"backgroundcolor\": \"#E5ECF6\", \"gridcolor\": \"white\", \"gridwidth\": 2, \"linecolor\": \"white\", \"showbackground\": true, \"ticks\": \"\", \"zerolinecolor\": \"white\"}, \"yaxis\": {\"backgroundcolor\": \"#E5ECF6\", \"gridcolor\": \"white\", \"gridwidth\": 2, \"linecolor\": \"white\", \"showbackground\": true, \"ticks\": \"\", \"zerolinecolor\": \"white\"}, \"zaxis\": {\"backgroundcolor\": \"#E5ECF6\", \"gridcolor\": \"white\", \"gridwidth\": 2, \"linecolor\": \"white\", \"showbackground\": true, \"ticks\": \"\", \"zerolinecolor\": \"white\"}}, \"shapedefaults\": {\"line\": {\"color\": \"#2a3f5f\"}}, \"ternary\": {\"aaxis\": {\"gridcolor\": \"white\", \"linecolor\": \"white\", \"ticks\": \"\"}, \"baxis\": {\"gridcolor\": \"white\", \"linecolor\": \"white\", \"ticks\": \"\"}, \"bgcolor\": \"#E5ECF6\", \"caxis\": {\"gridcolor\": \"white\", \"linecolor\": \"white\", \"ticks\": \"\"}}, \"title\": {\"x\": 0.05}, \"xaxis\": {\"automargin\": true, \"gridcolor\": \"white\", \"linecolor\": \"white\", \"ticks\": \"\", \"title\": {\"standoff\": 15}, \"zerolinecolor\": \"white\", \"zerolinewidth\": 2}, \"yaxis\": {\"automargin\": true, \"gridcolor\": \"white\", \"linecolor\": \"white\", \"ticks\": \"\", \"title\": {\"standoff\": 15}, \"zerolinecolor\": \"white\", \"zerolinewidth\": 2}}}, \"title\": {\"text\": \"Number of twitter for each user\"}, \"xaxis\": {\"automargin\": true}},\n",
       "                        {\"showLink\": true, \"linkText\": \"Export to plot.ly\", \"plotlyServerURL\": \"https://plot.ly\", \"responsive\": true}\n",
       "                    ).then(function(){\n",
       "                            \n",
       "var gd = document.getElementById('bbf57419-f76b-4ab0-ba8a-a93720048587');\n",
       "var x = new MutationObserver(function (mutations, observer) {{\n",
       "        var display = window.getComputedStyle(gd).display;\n",
       "        if (!display || display === 'none') {{\n",
       "            console.log([gd, 'removed!']);\n",
       "            Plotly.purge(gd);\n",
       "            observer.disconnect();\n",
       "        }}\n",
       "}});\n",
       "\n",
       "// Listen for the removal of the full notebook cells\n",
       "var notebookContainer = gd.closest('#notebook-container');\n",
       "if (notebookContainer) {{\n",
       "    x.observe(notebookContainer, {childList: true});\n",
       "}}\n",
       "\n",
       "// Listen for the clearing of the current output cell\n",
       "var outputEl = gd.closest('.output');\n",
       "if (outputEl) {{\n",
       "    x.observe(outputEl, {childList: true});\n",
       "}}\n",
       "\n",
       "                        })\n",
       "                };\n",
       "                });\n",
       "            </script>\n",
       "        </div>"
      ]
     },
     "metadata": {},
     "output_type": "display_data"
    }
   ],
   "source": [
    "\n",
    "\n",
    "# plot barchart for Number of twitter for each user\n",
    "layout1=dict(autosize=True, xaxis=dict(automargin=True),title=\"Number of twitter for each user\")\n",
    "df['User'].value_counts(ascending=True).iplot(kind='bar',title=\"Number of twitter for each user\", color=\"blue\",layout=layout1)\n"
   ]
  },
  {
   "cell_type": "code",
   "execution_count": 8,
   "metadata": {},
   "outputs": [
    {
     "name": "stdout",
     "output_type": "stream",
     "text": [
      "                         User  user_followers\n",
      "15                    museweb           63505\n",
      "30              Dr Sara Perry            9137\n",
      "5              DesignThinkBot            8212\n",
      "76               Shawn Graham            5982\n",
      "2   David Prospefity Golumbia            5578\n",
      "..                        ...             ...\n",
      "83     Katayoun Torabi, Ph.D.              58\n",
      "8        Vanessa Holloway 🤬🤬🤬              55\n",
      "37                      Rosie              45\n",
      "98              Nicolas Parés              28\n",
      "57        Farah Sheikh Garcia              15\n",
      "\n",
      "[84 rows x 2 columns]\n"
     ]
    }
   ],
   "source": [
    "\n",
    "#import warnings\n",
    "#warnings.filterwarnings(\"ignore\")\n",
    "# print table for number of followers for each user\n",
    "followersdf = pd.DataFrame(df, columns=['User','user_followers']).drop_duplicates()\n",
    "followersdf.sort_values([\"user_followers\", \"User\"], axis=0, ascending=False, inplace=True)\n",
    "print(followersdf)\n",
    "\n",
    "\n"
   ]
  },
  {
   "cell_type": "code",
   "execution_count": 68,
   "metadata": {},
   "outputs": [
    {
     "data": {
      "application/vnd.plotly.v1+json": {
       "config": {
        "linkText": "Export to plot.ly",
        "plotlyServerURL": "https://plot.ly",
        "showLink": true
       },
       "data": [
        {
         "marker": {
          "color": "rgba(255, 153, 51, 0.6)",
          "line": {
           "color": "rgba(255, 153, 51, 1.0)",
           "width": 1
          }
         },
         "name": "user_followers",
         "orientation": "v",
         "text": "",
         "type": "bar",
         "x": [
          "Farah Sheikh Garcia",
          "Nicolas Parés",
          "Rosie",
          "Vanessa Holloway 🤬🤬🤬",
          "Katayoun Torabi, Ph.D.",
          "Isabel Boj Cullell",
          "Anna",
          "Bouldering Epigrammetry",
          "Hans Huisman",
          "Till A. Heilmann",
          "tuubanurs",
          "Inkless Editions",
          "Jared Hansen",
          "100DaysofDH",
          "Kathryn Morgan",
          "GeohumanDARIAH",
          "Miguel Ramirez",
          "Rebecca O'S",
          "idw News",
          "Ivan Briz Godino",
          "Zoe Arthurs",
          "Jessica Unger",
          "Sara Gutierrez Enriq",
          "George Bruseker",
          "HistoryBathSpa",
          "elena cantarell",
          "Josema Galán",
          "Linda Bjerketvedt",
          "Sebastian Hageneuer",
          "Paul A. Bové",
          "Heather",
          "Maria Yubero",
          "Doris Gutsmiedl-Schümann",
          "Francesc C. Conesa",
          "Maria Feliu-Torruella",
          "Dr Megan Kasten",
          "Bartomeu Vallori",
          "K. White",
          "Tine Rassalle",
          "Mikko Toivanen",
          "Dr Barbora Wouters",
          "Xavier Rubio-Campillo",
          "RedInt",
          "Jenn O'Lantern",
          "Pol Junyent",
          "Jairo Melo",
          "TAMU_CoDHR",
          "Susan Schreibman",
          "Fyk O.M. Fei 😷",
          "Louise Nicholas",
          "AIUCD",
          "SprintbaseBot",
          "Mireia Comas Via🎗️",
          "Enrico R. Crema",
          "Pgogy WebStuff",
          "Center for Black Digital Research",
          "Núria Jornet",
          "Mª del Mar Rodríguez",
          "Kalliopi Kontiza",
          "#dariahTeach",
          "Rob Lancefield",
          "Andreas Angourakis",
          "Natalia Égüez",
          "Dr. Kira Jones, unaccredited prismatoid",
          "triplingual",
          "Tom Chadwin",
          "erik champion",
          "Maxime Durand",
          "Alison Atkinson-Phillip",
          "Àlex",
          "dr Iza Romanowska",
          "Jeff Schramm",
          "Stephania Savva, PhD",
          "Iris Rodríguez Alcaide",
          "Tom Armitage",
          "Jessica MillwardPhD",
          "Game Dev News",
          "Dr Coleman A Dennehy",
          "Rebecca Lambert: Punk As F***😊",
          "David Prospefity Golumbia",
          "Shawn Graham",
          "DesignThinkBot",
          "Dr Sara Perry",
          "museweb"
         ],
         "y": [
          15,
          28,
          45,
          55,
          58,
          86,
          131,
          139,
          141,
          151,
          157,
          158,
          166,
          175,
          184,
          200,
          216,
          218,
          230,
          286,
          303,
          307,
          315,
          316,
          331,
          341,
          367,
          370,
          378,
          390,
          396,
          416,
          420,
          437,
          479,
          504,
          507,
          532,
          545,
          561,
          618,
          708,
          786,
          800,
          819,
          909,
          913,
          981,
          995,
          999,
          1006,
          1014,
          1036,
          1043,
          1053,
          1075,
          1143,
          1155,
          1157,
          1170,
          1252,
          1273,
          1332,
          1344,
          1367,
          1471,
          1639,
          1694,
          1786,
          1834,
          1871,
          1874,
          2388,
          2423,
          2491,
          3048,
          3110,
          3255,
          5056,
          5578,
          5982,
          8212,
          9137,
          63505
         ]
        }
       ],
       "layout": {
        "autosize": true,
        "template": {
         "data": {
          "bar": [
           {
            "error_x": {
             "color": "#2a3f5f"
            },
            "error_y": {
             "color": "#2a3f5f"
            },
            "marker": {
             "line": {
              "color": "#E5ECF6",
              "width": 0.5
             }
            },
            "type": "bar"
           }
          ],
          "barpolar": [
           {
            "marker": {
             "line": {
              "color": "#E5ECF6",
              "width": 0.5
             }
            },
            "type": "barpolar"
           }
          ],
          "carpet": [
           {
            "aaxis": {
             "endlinecolor": "#2a3f5f",
             "gridcolor": "white",
             "linecolor": "white",
             "minorgridcolor": "white",
             "startlinecolor": "#2a3f5f"
            },
            "baxis": {
             "endlinecolor": "#2a3f5f",
             "gridcolor": "white",
             "linecolor": "white",
             "minorgridcolor": "white",
             "startlinecolor": "#2a3f5f"
            },
            "type": "carpet"
           }
          ],
          "choropleth": [
           {
            "colorbar": {
             "outlinewidth": 0,
             "ticks": ""
            },
            "type": "choropleth"
           }
          ],
          "contour": [
           {
            "colorbar": {
             "outlinewidth": 0,
             "ticks": ""
            },
            "colorscale": [
             [
              0,
              "#0d0887"
             ],
             [
              0.1111111111111111,
              "#46039f"
             ],
             [
              0.2222222222222222,
              "#7201a8"
             ],
             [
              0.3333333333333333,
              "#9c179e"
             ],
             [
              0.4444444444444444,
              "#bd3786"
             ],
             [
              0.5555555555555556,
              "#d8576b"
             ],
             [
              0.6666666666666666,
              "#ed7953"
             ],
             [
              0.7777777777777778,
              "#fb9f3a"
             ],
             [
              0.8888888888888888,
              "#fdca26"
             ],
             [
              1,
              "#f0f921"
             ]
            ],
            "type": "contour"
           }
          ],
          "contourcarpet": [
           {
            "colorbar": {
             "outlinewidth": 0,
             "ticks": ""
            },
            "type": "contourcarpet"
           }
          ],
          "heatmap": [
           {
            "colorbar": {
             "outlinewidth": 0,
             "ticks": ""
            },
            "colorscale": [
             [
              0,
              "#0d0887"
             ],
             [
              0.1111111111111111,
              "#46039f"
             ],
             [
              0.2222222222222222,
              "#7201a8"
             ],
             [
              0.3333333333333333,
              "#9c179e"
             ],
             [
              0.4444444444444444,
              "#bd3786"
             ],
             [
              0.5555555555555556,
              "#d8576b"
             ],
             [
              0.6666666666666666,
              "#ed7953"
             ],
             [
              0.7777777777777778,
              "#fb9f3a"
             ],
             [
              0.8888888888888888,
              "#fdca26"
             ],
             [
              1,
              "#f0f921"
             ]
            ],
            "type": "heatmap"
           }
          ],
          "heatmapgl": [
           {
            "colorbar": {
             "outlinewidth": 0,
             "ticks": ""
            },
            "colorscale": [
             [
              0,
              "#0d0887"
             ],
             [
              0.1111111111111111,
              "#46039f"
             ],
             [
              0.2222222222222222,
              "#7201a8"
             ],
             [
              0.3333333333333333,
              "#9c179e"
             ],
             [
              0.4444444444444444,
              "#bd3786"
             ],
             [
              0.5555555555555556,
              "#d8576b"
             ],
             [
              0.6666666666666666,
              "#ed7953"
             ],
             [
              0.7777777777777778,
              "#fb9f3a"
             ],
             [
              0.8888888888888888,
              "#fdca26"
             ],
             [
              1,
              "#f0f921"
             ]
            ],
            "type": "heatmapgl"
           }
          ],
          "histogram": [
           {
            "marker": {
             "colorbar": {
              "outlinewidth": 0,
              "ticks": ""
             }
            },
            "type": "histogram"
           }
          ],
          "histogram2d": [
           {
            "colorbar": {
             "outlinewidth": 0,
             "ticks": ""
            },
            "colorscale": [
             [
              0,
              "#0d0887"
             ],
             [
              0.1111111111111111,
              "#46039f"
             ],
             [
              0.2222222222222222,
              "#7201a8"
             ],
             [
              0.3333333333333333,
              "#9c179e"
             ],
             [
              0.4444444444444444,
              "#bd3786"
             ],
             [
              0.5555555555555556,
              "#d8576b"
             ],
             [
              0.6666666666666666,
              "#ed7953"
             ],
             [
              0.7777777777777778,
              "#fb9f3a"
             ],
             [
              0.8888888888888888,
              "#fdca26"
             ],
             [
              1,
              "#f0f921"
             ]
            ],
            "type": "histogram2d"
           }
          ],
          "histogram2dcontour": [
           {
            "colorbar": {
             "outlinewidth": 0,
             "ticks": ""
            },
            "colorscale": [
             [
              0,
              "#0d0887"
             ],
             [
              0.1111111111111111,
              "#46039f"
             ],
             [
              0.2222222222222222,
              "#7201a8"
             ],
             [
              0.3333333333333333,
              "#9c179e"
             ],
             [
              0.4444444444444444,
              "#bd3786"
             ],
             [
              0.5555555555555556,
              "#d8576b"
             ],
             [
              0.6666666666666666,
              "#ed7953"
             ],
             [
              0.7777777777777778,
              "#fb9f3a"
             ],
             [
              0.8888888888888888,
              "#fdca26"
             ],
             [
              1,
              "#f0f921"
             ]
            ],
            "type": "histogram2dcontour"
           }
          ],
          "mesh3d": [
           {
            "colorbar": {
             "outlinewidth": 0,
             "ticks": ""
            },
            "type": "mesh3d"
           }
          ],
          "parcoords": [
           {
            "line": {
             "colorbar": {
              "outlinewidth": 0,
              "ticks": ""
             }
            },
            "type": "parcoords"
           }
          ],
          "pie": [
           {
            "automargin": true,
            "type": "pie"
           }
          ],
          "scatter": [
           {
            "marker": {
             "colorbar": {
              "outlinewidth": 0,
              "ticks": ""
             }
            },
            "type": "scatter"
           }
          ],
          "scatter3d": [
           {
            "line": {
             "colorbar": {
              "outlinewidth": 0,
              "ticks": ""
             }
            },
            "marker": {
             "colorbar": {
              "outlinewidth": 0,
              "ticks": ""
             }
            },
            "type": "scatter3d"
           }
          ],
          "scattercarpet": [
           {
            "marker": {
             "colorbar": {
              "outlinewidth": 0,
              "ticks": ""
             }
            },
            "type": "scattercarpet"
           }
          ],
          "scattergeo": [
           {
            "marker": {
             "colorbar": {
              "outlinewidth": 0,
              "ticks": ""
             }
            },
            "type": "scattergeo"
           }
          ],
          "scattergl": [
           {
            "marker": {
             "colorbar": {
              "outlinewidth": 0,
              "ticks": ""
             }
            },
            "type": "scattergl"
           }
          ],
          "scattermapbox": [
           {
            "marker": {
             "colorbar": {
              "outlinewidth": 0,
              "ticks": ""
             }
            },
            "type": "scattermapbox"
           }
          ],
          "scatterpolar": [
           {
            "marker": {
             "colorbar": {
              "outlinewidth": 0,
              "ticks": ""
             }
            },
            "type": "scatterpolar"
           }
          ],
          "scatterpolargl": [
           {
            "marker": {
             "colorbar": {
              "outlinewidth": 0,
              "ticks": ""
             }
            },
            "type": "scatterpolargl"
           }
          ],
          "scatterternary": [
           {
            "marker": {
             "colorbar": {
              "outlinewidth": 0,
              "ticks": ""
             }
            },
            "type": "scatterternary"
           }
          ],
          "surface": [
           {
            "colorbar": {
             "outlinewidth": 0,
             "ticks": ""
            },
            "colorscale": [
             [
              0,
              "#0d0887"
             ],
             [
              0.1111111111111111,
              "#46039f"
             ],
             [
              0.2222222222222222,
              "#7201a8"
             ],
             [
              0.3333333333333333,
              "#9c179e"
             ],
             [
              0.4444444444444444,
              "#bd3786"
             ],
             [
              0.5555555555555556,
              "#d8576b"
             ],
             [
              0.6666666666666666,
              "#ed7953"
             ],
             [
              0.7777777777777778,
              "#fb9f3a"
             ],
             [
              0.8888888888888888,
              "#fdca26"
             ],
             [
              1,
              "#f0f921"
             ]
            ],
            "type": "surface"
           }
          ],
          "table": [
           {
            "cells": {
             "fill": {
              "color": "#EBF0F8"
             },
             "line": {
              "color": "white"
             }
            },
            "header": {
             "fill": {
              "color": "#C8D4E3"
             },
             "line": {
              "color": "white"
             }
            },
            "type": "table"
           }
          ]
         },
         "layout": {
          "annotationdefaults": {
           "arrowcolor": "#2a3f5f",
           "arrowhead": 0,
           "arrowwidth": 1
          },
          "coloraxis": {
           "colorbar": {
            "outlinewidth": 0,
            "ticks": ""
           }
          },
          "colorscale": {
           "diverging": [
            [
             0,
             "#8e0152"
            ],
            [
             0.1,
             "#c51b7d"
            ],
            [
             0.2,
             "#de77ae"
            ],
            [
             0.3,
             "#f1b6da"
            ],
            [
             0.4,
             "#fde0ef"
            ],
            [
             0.5,
             "#f7f7f7"
            ],
            [
             0.6,
             "#e6f5d0"
            ],
            [
             0.7,
             "#b8e186"
            ],
            [
             0.8,
             "#7fbc41"
            ],
            [
             0.9,
             "#4d9221"
            ],
            [
             1,
             "#276419"
            ]
           ],
           "sequential": [
            [
             0,
             "#0d0887"
            ],
            [
             0.1111111111111111,
             "#46039f"
            ],
            [
             0.2222222222222222,
             "#7201a8"
            ],
            [
             0.3333333333333333,
             "#9c179e"
            ],
            [
             0.4444444444444444,
             "#bd3786"
            ],
            [
             0.5555555555555556,
             "#d8576b"
            ],
            [
             0.6666666666666666,
             "#ed7953"
            ],
            [
             0.7777777777777778,
             "#fb9f3a"
            ],
            [
             0.8888888888888888,
             "#fdca26"
            ],
            [
             1,
             "#f0f921"
            ]
           ],
           "sequentialminus": [
            [
             0,
             "#0d0887"
            ],
            [
             0.1111111111111111,
             "#46039f"
            ],
            [
             0.2222222222222222,
             "#7201a8"
            ],
            [
             0.3333333333333333,
             "#9c179e"
            ],
            [
             0.4444444444444444,
             "#bd3786"
            ],
            [
             0.5555555555555556,
             "#d8576b"
            ],
            [
             0.6666666666666666,
             "#ed7953"
            ],
            [
             0.7777777777777778,
             "#fb9f3a"
            ],
            [
             0.8888888888888888,
             "#fdca26"
            ],
            [
             1,
             "#f0f921"
            ]
           ]
          },
          "colorway": [
           "#636efa",
           "#EF553B",
           "#00cc96",
           "#ab63fa",
           "#FFA15A",
           "#19d3f3",
           "#FF6692",
           "#B6E880",
           "#FF97FF",
           "#FECB52"
          ],
          "font": {
           "color": "#2a3f5f"
          },
          "geo": {
           "bgcolor": "white",
           "lakecolor": "white",
           "landcolor": "#E5ECF6",
           "showlakes": true,
           "showland": true,
           "subunitcolor": "white"
          },
          "hoverlabel": {
           "align": "left"
          },
          "hovermode": "closest",
          "mapbox": {
           "style": "light"
          },
          "paper_bgcolor": "white",
          "plot_bgcolor": "#E5ECF6",
          "polar": {
           "angularaxis": {
            "gridcolor": "white",
            "linecolor": "white",
            "ticks": ""
           },
           "bgcolor": "#E5ECF6",
           "radialaxis": {
            "gridcolor": "white",
            "linecolor": "white",
            "ticks": ""
           }
          },
          "scene": {
           "xaxis": {
            "backgroundcolor": "#E5ECF6",
            "gridcolor": "white",
            "gridwidth": 2,
            "linecolor": "white",
            "showbackground": true,
            "ticks": "",
            "zerolinecolor": "white"
           },
           "yaxis": {
            "backgroundcolor": "#E5ECF6",
            "gridcolor": "white",
            "gridwidth": 2,
            "linecolor": "white",
            "showbackground": true,
            "ticks": "",
            "zerolinecolor": "white"
           },
           "zaxis": {
            "backgroundcolor": "#E5ECF6",
            "gridcolor": "white",
            "gridwidth": 2,
            "linecolor": "white",
            "showbackground": true,
            "ticks": "",
            "zerolinecolor": "white"
           }
          },
          "shapedefaults": {
           "line": {
            "color": "#2a3f5f"
           }
          },
          "ternary": {
           "aaxis": {
            "gridcolor": "white",
            "linecolor": "white",
            "ticks": ""
           },
           "baxis": {
            "gridcolor": "white",
            "linecolor": "white",
            "ticks": ""
           },
           "bgcolor": "#E5ECF6",
           "caxis": {
            "gridcolor": "white",
            "linecolor": "white",
            "ticks": ""
           }
          },
          "title": {
           "x": 0.05
          },
          "xaxis": {
           "automargin": true,
           "gridcolor": "white",
           "linecolor": "white",
           "ticks": "",
           "title": {
            "standoff": 15
           },
           "zerolinecolor": "white",
           "zerolinewidth": 2
          },
          "yaxis": {
           "automargin": true,
           "gridcolor": "white",
           "linecolor": "white",
           "ticks": "",
           "title": {
            "standoff": 15
           },
           "zerolinecolor": "white",
           "zerolinewidth": 2
          }
         }
        },
        "title": {
         "text": "Number of followers for each user"
        },
        "xaxis": {
         "automargin": true,
         "autorange": true,
         "range": [
          -0.5,
          83.5
         ],
         "type": "category"
        },
        "yaxis": {
         "autorange": true,
         "range": [
          0,
          66847.36842105263
         ],
         "type": "linear"
        }
       }
      },
      "image/png": "[encoded data removed]",
      "text/html": [
       "<div>\n",
       "        \n",
       "        \n",
       "            <div id=\"9e84d038-cb3d-419c-aebb-7a6d14ac2cca\" class=\"plotly-graph-div\" style=\"height:525px; width:100%;\"></div>\n",
       "            <script type=\"text/javascript\">\n",
       "                require([\"plotly\"], function(Plotly) {\n",
       "                    window.PLOTLYENV=window.PLOTLYENV || {};\n",
       "                    window.PLOTLYENV.BASE_URL='https://plot.ly';\n",
       "                    \n",
       "                if (document.getElementById(\"9e84d038-cb3d-419c-aebb-7a6d14ac2cca\")) {\n",
       "                    Plotly.newPlot(\n",
       "                        '9e84d038-cb3d-419c-aebb-7a6d14ac2cca',\n",
       "                        [{\"marker\": {\"color\": \"rgba(255, 153, 51, 0.6)\", \"line\": {\"color\": \"rgba(255, 153, 51, 1.0)\", \"width\": 1}}, \"name\": \"user_followers\", \"orientation\": \"v\", \"text\": \"\", \"type\": \"bar\", \"x\": [\"Farah Sheikh Garcia\", \"Nicolas Par\\u00e9s\", \"Rosie\", \"Vanessa Holloway \\ud83e\\udd2c\\ud83e\\udd2c\\ud83e\\udd2c\", \"Katayoun Torabi, Ph.D.\", \"Isabel Boj Cullell\", \"Anna\", \"Bouldering Epigrammetry\", \"Hans Huisman\", \"Till A. Heilmann\", \"tuubanurs\", \"Inkless Editions\", \"Jared Hansen\", \"100DaysofDH\", \"Kathryn Morgan\", \"GeohumanDARIAH\", \"Miguel Ramirez\", \"Rebecca O'S\", \"idw News\", \"Ivan Briz Godino\", \"Zoe Arthurs\", \"Jessica Unger\", \"Sara Gutierrez Enriq\", \"George Bruseker\", \"HistoryBathSpa\", \"elena cantarell\", \"Josema Gal\\u00e1n\", \"Linda Bjerketvedt\", \"Sebastian Hageneuer\", \"Paul A. Bov\\u00e9\", \"Heather\", \"Maria Yubero\", \"Doris Gutsmiedl-Sch\\u00fcmann\", \"Francesc C. Conesa\", \"Maria Feliu-Torruella\", \"Dr Megan Kasten\", \"Bartomeu Vallori\", \"K. White\", \"Tine Rassalle\", \"Mikko Toivanen\", \"Dr Barbora Wouters\", \"Xavier Rubio-Campillo\", \"RedInt\", \"Jenn O'Lantern\", \"Pol Junyent\", \"Jairo Melo\", \"TAMU_CoDHR\", \"Susan Schreibman\", \"Fyk O.M. Fei \\ud83d\\ude37\", \"Louise Nicholas\", \"AIUCD\", \"SprintbaseBot\", \"Mireia Comas Via\\ud83c\\udf97\\ufe0f\", \"Enrico R. Crema\", \"Pgogy WebStuff\", \"Center for Black Digital Research\", \"N\\u00faria Jornet\", \"M\\u00aa del Mar Rodr\\u00edguez\", \"Kalliopi Kontiza\", \"#dariahTeach\", \"Rob Lancefield\", \"Andreas Angourakis\", \"Natalia \\u00c9g\\u00fcez\", \"Dr. Kira Jones, unaccredited prismatoid\", \"triplingual\", \"Tom Chadwin\", \"erik champion\", \"Maxime Durand\", \"Alison Atkinson-Phillip\", \"\\u00c0lex\", \"dr Iza Romanowska\", \"Jeff Schramm\", \"Stephania Savva, PhD\", \"Iris Rodr\\u00edguez Alcaide\", \"Tom Armitage\", \"Jessica MillwardPhD\", \"Game Dev News\", \"Dr Coleman A Dennehy\", \"Rebecca Lambert: Punk As F***\\ud83d\\ude0a\", \"David Prospefity Golumbia\", \"Shawn Graham\", \"DesignThinkBot\", \"Dr Sara Perry\", \"museweb\"], \"y\": [15, 28, 45, 55, 58, 86, 131, 139, 141, 151, 157, 158, 166, 175, 184, 200, 216, 218, 230, 286, 303, 307, 315, 316, 331, 341, 367, 370, 378, 390, 396, 416, 420, 437, 479, 504, 507, 532, 545, 561, 618, 708, 786, 800, 819, 909, 913, 981, 995, 999, 1006, 1014, 1036, 1043, 1053, 1075, 1143, 1155, 1157, 1170, 1252, 1273, 1332, 1344, 1367, 1471, 1639, 1694, 1786, 1834, 1871, 1874, 2388, 2423, 2491, 3048, 3110, 3255, 5056, 5578, 5982, 8212, 9137, 63505]}],\n",
       "                        {\"autosize\": true, \"template\": {\"data\": {\"bar\": [{\"error_x\": {\"color\": \"#2a3f5f\"}, \"error_y\": {\"color\": \"#2a3f5f\"}, \"marker\": {\"line\": {\"color\": \"#E5ECF6\", \"width\": 0.5}}, \"type\": \"bar\"}], \"barpolar\": [{\"marker\": {\"line\": {\"color\": \"#E5ECF6\", \"width\": 0.5}}, \"type\": \"barpolar\"}], \"carpet\": [{\"aaxis\": {\"endlinecolor\": \"#2a3f5f\", \"gridcolor\": \"white\", \"linecolor\": \"white\", \"minorgridcolor\": \"white\", \"startlinecolor\": \"#2a3f5f\"}, \"baxis\": {\"endlinecolor\": \"#2a3f5f\", \"gridcolor\": \"white\", \"linecolor\": \"white\", \"minorgridcolor\": \"white\", \"startlinecolor\": \"#2a3f5f\"}, \"type\": \"carpet\"}], \"choropleth\": [{\"colorbar\": {\"outlinewidth\": 0, \"ticks\": \"\"}, \"type\": \"choropleth\"}], \"contour\": [{\"colorbar\": {\"outlinewidth\": 0, \"ticks\": \"\"}, \"colorscale\": [[0.0, \"#0d0887\"], [0.1111111111111111, \"#46039f\"], [0.2222222222222222, \"#7201a8\"], [0.3333333333333333, \"#9c179e\"], [0.4444444444444444, \"#bd3786\"], [0.5555555555555556, \"#d8576b\"], [0.6666666666666666, \"#ed7953\"], [0.7777777777777778, \"#fb9f3a\"], [0.8888888888888888, \"#fdca26\"], [1.0, \"#f0f921\"]], \"type\": \"contour\"}], \"contourcarpet\": [{\"colorbar\": {\"outlinewidth\": 0, \"ticks\": \"\"}, \"type\": \"contourcarpet\"}], \"heatmap\": [{\"colorbar\": {\"outlinewidth\": 0, \"ticks\": \"\"}, \"colorscale\": [[0.0, \"#0d0887\"], [0.1111111111111111, \"#46039f\"], [0.2222222222222222, \"#7201a8\"], [0.3333333333333333, \"#9c179e\"], [0.4444444444444444, \"#bd3786\"], [0.5555555555555556, \"#d8576b\"], [0.6666666666666666, \"#ed7953\"], [0.7777777777777778, \"#fb9f3a\"], [0.8888888888888888, \"#fdca26\"], [1.0, \"#f0f921\"]], \"type\": \"heatmap\"}], \"heatmapgl\": [{\"colorbar\": {\"outlinewidth\": 0, \"ticks\": \"\"}, \"colorscale\": [[0.0, \"#0d0887\"], [0.1111111111111111, \"#46039f\"], [0.2222222222222222, \"#7201a8\"], [0.3333333333333333, \"#9c179e\"], [0.4444444444444444, \"#bd3786\"], [0.5555555555555556, \"#d8576b\"], [0.6666666666666666, \"#ed7953\"], [0.7777777777777778, \"#fb9f3a\"], [0.8888888888888888, \"#fdca26\"], [1.0, \"#f0f921\"]], \"type\": \"heatmapgl\"}], \"histogram\": [{\"marker\": {\"colorbar\": {\"outlinewidth\": 0, \"ticks\": \"\"}}, \"type\": \"histogram\"}], \"histogram2d\": [{\"colorbar\": {\"outlinewidth\": 0, \"ticks\": \"\"}, \"colorscale\": [[0.0, \"#0d0887\"], [0.1111111111111111, \"#46039f\"], [0.2222222222222222, \"#7201a8\"], [0.3333333333333333, \"#9c179e\"], [0.4444444444444444, \"#bd3786\"], [0.5555555555555556, \"#d8576b\"], [0.6666666666666666, \"#ed7953\"], [0.7777777777777778, \"#fb9f3a\"], [0.8888888888888888, \"#fdca26\"], [1.0, \"#f0f921\"]], \"type\": \"histogram2d\"}], \"histogram2dcontour\": [{\"colorbar\": {\"outlinewidth\": 0, \"ticks\": \"\"}, \"colorscale\": [[0.0, \"#0d0887\"], [0.1111111111111111, \"#46039f\"], [0.2222222222222222, \"#7201a8\"], [0.3333333333333333, \"#9c179e\"], [0.4444444444444444, \"#bd3786\"], [0.5555555555555556, \"#d8576b\"], [0.6666666666666666, \"#ed7953\"], [0.7777777777777778, \"#fb9f3a\"], [0.8888888888888888, \"#fdca26\"], [1.0, \"#f0f921\"]], \"type\": \"histogram2dcontour\"}], \"mesh3d\": [{\"colorbar\": {\"outlinewidth\": 0, \"ticks\": \"\"}, \"type\": \"mesh3d\"}], \"parcoords\": [{\"line\": {\"colorbar\": {\"outlinewidth\": 0, \"ticks\": \"\"}}, \"type\": \"parcoords\"}], \"pie\": [{\"automargin\": true, \"type\": \"pie\"}], \"scatter\": [{\"marker\": {\"colorbar\": {\"outlinewidth\": 0, \"ticks\": \"\"}}, \"type\": \"scatter\"}], \"scatter3d\": [{\"line\": {\"colorbar\": {\"outlinewidth\": 0, \"ticks\": \"\"}}, \"marker\": {\"colorbar\": {\"outlinewidth\": 0, \"ticks\": \"\"}}, \"type\": \"scatter3d\"}], \"scattercarpet\": [{\"marker\": {\"colorbar\": {\"outlinewidth\": 0, \"ticks\": \"\"}}, \"type\": \"scattercarpet\"}], \"scattergeo\": [{\"marker\": {\"colorbar\": {\"outlinewidth\": 0, \"ticks\": \"\"}}, \"type\": \"scattergeo\"}], \"scattergl\": [{\"marker\": {\"colorbar\": {\"outlinewidth\": 0, \"ticks\": \"\"}}, \"type\": \"scattergl\"}], \"scattermapbox\": [{\"marker\": {\"colorbar\": {\"outlinewidth\": 0, \"ticks\": \"\"}}, \"type\": \"scattermapbox\"}], \"scatterpolar\": [{\"marker\": {\"colorbar\": {\"outlinewidth\": 0, \"ticks\": \"\"}}, \"type\": \"scatterpolar\"}], \"scatterpolargl\": [{\"marker\": {\"colorbar\": {\"outlinewidth\": 0, \"ticks\": \"\"}}, \"type\": \"scatterpolargl\"}], \"scatterternary\": [{\"marker\": {\"colorbar\": {\"outlinewidth\": 0, \"ticks\": \"\"}}, \"type\": \"scatterternary\"}], \"surface\": [{\"colorbar\": {\"outlinewidth\": 0, \"ticks\": \"\"}, \"colorscale\": [[0.0, \"#0d0887\"], [0.1111111111111111, \"#46039f\"], [0.2222222222222222, \"#7201a8\"], [0.3333333333333333, \"#9c179e\"], [0.4444444444444444, \"#bd3786\"], [0.5555555555555556, \"#d8576b\"], [0.6666666666666666, \"#ed7953\"], [0.7777777777777778, \"#fb9f3a\"], [0.8888888888888888, \"#fdca26\"], [1.0, \"#f0f921\"]], \"type\": \"surface\"}], \"table\": [{\"cells\": {\"fill\": {\"color\": \"#EBF0F8\"}, \"line\": {\"color\": \"white\"}}, \"header\": {\"fill\": {\"color\": \"#C8D4E3\"}, \"line\": {\"color\": \"white\"}}, \"type\": \"table\"}]}, \"layout\": {\"annotationdefaults\": {\"arrowcolor\": \"#2a3f5f\", \"arrowhead\": 0, \"arrowwidth\": 1}, \"coloraxis\": {\"colorbar\": {\"outlinewidth\": 0, \"ticks\": \"\"}}, \"colorscale\": {\"diverging\": [[0, \"#8e0152\"], [0.1, \"#c51b7d\"], [0.2, \"#de77ae\"], [0.3, \"#f1b6da\"], [0.4, \"#fde0ef\"], [0.5, \"#f7f7f7\"], [0.6, \"#e6f5d0\"], [0.7, \"#b8e186\"], [0.8, \"#7fbc41\"], [0.9, \"#4d9221\"], [1, \"#276419\"]], \"sequential\": [[0.0, \"#0d0887\"], [0.1111111111111111, \"#46039f\"], [0.2222222222222222, \"#7201a8\"], [0.3333333333333333, \"#9c179e\"], [0.4444444444444444, \"#bd3786\"], [0.5555555555555556, \"#d8576b\"], [0.6666666666666666, \"#ed7953\"], [0.7777777777777778, \"#fb9f3a\"], [0.8888888888888888, \"#fdca26\"], [1.0, \"#f0f921\"]], \"sequentialminus\": [[0.0, \"#0d0887\"], [0.1111111111111111, \"#46039f\"], [0.2222222222222222, \"#7201a8\"], [0.3333333333333333, \"#9c179e\"], [0.4444444444444444, \"#bd3786\"], [0.5555555555555556, \"#d8576b\"], [0.6666666666666666, \"#ed7953\"], [0.7777777777777778, \"#fb9f3a\"], [0.8888888888888888, \"#fdca26\"], [1.0, \"#f0f921\"]]}, \"colorway\": [\"#636efa\", \"#EF553B\", \"#00cc96\", \"#ab63fa\", \"#FFA15A\", \"#19d3f3\", \"#FF6692\", \"#B6E880\", \"#FF97FF\", \"#FECB52\"], \"font\": {\"color\": \"#2a3f5f\"}, \"geo\": {\"bgcolor\": \"white\", \"lakecolor\": \"white\", \"landcolor\": \"#E5ECF6\", \"showlakes\": true, \"showland\": true, \"subunitcolor\": \"white\"}, \"hoverlabel\": {\"align\": \"left\"}, \"hovermode\": \"closest\", \"mapbox\": {\"style\": \"light\"}, \"paper_bgcolor\": \"white\", \"plot_bgcolor\": \"#E5ECF6\", \"polar\": {\"angularaxis\": {\"gridcolor\": \"white\", \"linecolor\": \"white\", \"ticks\": \"\"}, \"bgcolor\": \"#E5ECF6\", \"radialaxis\": {\"gridcolor\": \"white\", \"linecolor\": \"white\", \"ticks\": \"\"}}, \"scene\": {\"xaxis\": {\"backgroundcolor\": \"#E5ECF6\", \"gridcolor\": \"white\", \"gridwidth\": 2, \"linecolor\": \"white\", \"showbackground\": true, \"ticks\": \"\", \"zerolinecolor\": \"white\"}, \"yaxis\": {\"backgroundcolor\": \"#E5ECF6\", \"gridcolor\": \"white\", \"gridwidth\": 2, \"linecolor\": \"white\", \"showbackground\": true, \"ticks\": \"\", \"zerolinecolor\": \"white\"}, \"zaxis\": {\"backgroundcolor\": \"#E5ECF6\", \"gridcolor\": \"white\", \"gridwidth\": 2, \"linecolor\": \"white\", \"showbackground\": true, \"ticks\": \"\", \"zerolinecolor\": \"white\"}}, \"shapedefaults\": {\"line\": {\"color\": \"#2a3f5f\"}}, \"ternary\": {\"aaxis\": {\"gridcolor\": \"white\", \"linecolor\": \"white\", \"ticks\": \"\"}, \"baxis\": {\"gridcolor\": \"white\", \"linecolor\": \"white\", \"ticks\": \"\"}, \"bgcolor\": \"#E5ECF6\", \"caxis\": {\"gridcolor\": \"white\", \"linecolor\": \"white\", \"ticks\": \"\"}}, \"title\": {\"x\": 0.05}, \"xaxis\": {\"automargin\": true, \"gridcolor\": \"white\", \"linecolor\": \"white\", \"ticks\": \"\", \"title\": {\"standoff\": 15}, \"zerolinecolor\": \"white\", \"zerolinewidth\": 2}, \"yaxis\": {\"automargin\": true, \"gridcolor\": \"white\", \"linecolor\": \"white\", \"ticks\": \"\", \"title\": {\"standoff\": 15}, \"zerolinecolor\": \"white\", \"zerolinewidth\": 2}}}, \"title\": {\"text\": \"Number of followers for each user\"}, \"xaxis\": {\"automargin\": true}},\n",
       "                        {\"showLink\": true, \"linkText\": \"Export to plot.ly\", \"plotlyServerURL\": \"https://plot.ly\", \"responsive\": true}\n",
       "                    ).then(function(){\n",
       "                            \n",
       "var gd = document.getElementById('9e84d038-cb3d-419c-aebb-7a6d14ac2cca');\n",
       "var x = new MutationObserver(function (mutations, observer) {{\n",
       "        var display = window.getComputedStyle(gd).display;\n",
       "        if (!display || display === 'none') {{\n",
       "            console.log([gd, 'removed!']);\n",
       "            Plotly.purge(gd);\n",
       "            observer.disconnect();\n",
       "        }}\n",
       "}});\n",
       "\n",
       "// Listen for the removal of the full notebook cells\n",
       "var notebookContainer = gd.closest('#notebook-container');\n",
       "if (notebookContainer) {{\n",
       "    x.observe(notebookContainer, {childList: true});\n",
       "}}\n",
       "\n",
       "// Listen for the clearing of the current output cell\n",
       "var outputEl = gd.closest('.output');\n",
       "if (outputEl) {{\n",
       "    x.observe(outputEl, {childList: true});\n",
       "}}\n",
       "\n",
       "                        })\n",
       "                };\n",
       "                });\n",
       "            </script>\n",
       "        </div>"
      ]
     },
     "metadata": {},
     "output_type": "display_data"
    }
   ],
   "source": [
    "\n",
    "# plot barchart for Number of User Followers for each user\n",
    "layout1=dict(autosize=True, xaxis=dict(automargin=True),title=\"Number of followers for each user\")\n",
    "followersdf.sort_values(\"user_followers\", ascending=True).iplot(kind=\"bar\",x=\"User\", y=\"user_followers\", title=\"Number of Followers\", layout=layout1);\n"
   ]
  },
  {
   "cell_type": "markdown",
   "metadata": {},
   "source": [
    "### 3.1.3 Mapping visualization "
   ]
  },
  {
   "cell_type": "code",
   "execution_count": 76,
   "metadata": {},
   "outputs": [
    {
     "data": {
      "text/html": [
       "<div style=\"width:100%;\"><div style=\"position:relative;width:100%;height:0;padding-bottom:60%;\"><span style=\"color:#565656\">Make this Notebook Trusted to load map: File -> Trust Notebook</span><iframe src=\"about:blank\" style=\"position:absolute;width:100%;height:100%;left:0;top:0;border:none !important;\" data-html=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 onload=\"this.contentDocument.open();this.contentDocument.write(atob(this.getAttribute('data-html')));this.contentDocument.close();\" allowfullscreen webkitallowfullscreen mozallowfullscreen></iframe></div></div>"
      ],
      "text/plain": [
       "<folium.folium.Map at 0x7f8c9652d710>"
      ]
     },
     "execution_count": 76,
     "metadata": {},
     "output_type": "execute_result"
    }
   ],
   "source": [
    "import folium\n",
    "# remove rows which  latitude data is NA\n",
    "loc_df = df[df['User_lat'].notna()]\n",
    "# map initialization, set map centre and zoom level\n",
    "folium_map = folium.Map(location=[30.4202, -9.5982], zoom_start=1, tiles=\"cartodbpositron\")\n",
    "\n",
    "# iterate over map dataframe to draw the circles on map; circles are indicating all listed thought leaders current location\n",
    "for index, row in loc_df.iterrows():\n",
    "    # popup text content\n",
    "    popup_text = \"\"\"\n",
    "                Twitter Handle: {}<br> \n",
    "                User Followers: {}<br>\n",
    "                Tweets date: {}<br>\n",
    "                Retweets: {}<br>\n",
    "                Likes: {}\"\"\"\n",
    "    \n",
    "    popup_text = popup_text.format(#row[\"image_link\"],\n",
    "                               row[\"User\"],\n",
    "                               row[\"user_followers\"],\n",
    "                               row[\"tweet_date\"],\n",
    "                               row[\"rt_count\"],\n",
    "                               row[\"fav_count\"])\n",
    "    # tooltip content\n",
    "    tooltip = row[\"User\"]\n",
    "    # draw marker on map\n",
    "    folium.Marker(location=(float(row[\"User_lat\"])+np.random.uniform(0.001, 10**(-20))-0.005,float(row[\"User_lng\"])+np.random.uniform(0.001, 10**(-20))-0.005),\n",
    "                  icon=folium.Icon(icon='twitter',prefix='fa', color='blue'),\n",
    "                  popup=popup_text,\n",
    "                  tooltip=tooltip).add_to(folium_map)\n",
    "    \n",
    "\n",
    "# show map\n",
    "folium_map\n"
   ]
  },
  {
   "cell_type": "markdown",
   "metadata": {},
   "source": [
    "### 3.1.4 Sentiment analysis and visualization "
   ]
  },
  {
   "cell_type": "code",
   "execution_count": 11,
   "metadata": {},
   "outputs": [],
   "source": [
    "# function to clean tweet data\n",
    "def clean_tweet(tweet):\n",
    "    return ' '.join(re.sub('(@[A-Za-z0-9]+)|([^0-9A-Za-z \\t])|(\\w+:\\/\\/\\S+)', ' ', tweet).split())\n"
   ]
  },
  {
   "cell_type": "code",
   "execution_count": 12,
   "metadata": {},
   "outputs": [],
   "source": [
    "# function to analyze sentiment\n",
    "def analyze_sentiment(tweet):\n",
    "    analysis = TextBlob(tweet)\n",
    "    if analysis.sentiment.polarity > 0:\n",
    "        return 'Positive'\n",
    "    elif analysis.sentiment.polarity ==0:\n",
    "        return 'Neutral'\n",
    "    else:\n",
    "        return 'Negative'"
   ]
  },
  {
   "cell_type": "code",
   "execution_count": 13,
   "metadata": {},
   "outputs": [],
   "source": [
    "# import Regular Expression python library\n",
    "import re\n",
    "# apply clean_tweet and analyze_sentiment to twitter data\n",
    "df['clean_tweet'] = df['Tweets'].apply(lambda x: clean_tweet(x))\n",
    "df['Sentiment'] = df['clean_tweet'].apply(lambda x: analyze_sentiment(x))\n"
   ]
  },
  {
   "cell_type": "code",
   "execution_count": 15,
   "metadata": {},
   "outputs": [
    {
     "name": "stdout",
     "output_type": "stream",
     "text": [
      "Original tweet:\n",
      "Great discussion in the #Digitalhumanities session about how this work counts for tenure and promotion. Calls for e… https://t.co/c8sP9GORzy\n",
      "\n",
      "Clean tweet:\n",
      "Great discussion in the Digitalhumanities session about how this work counts for tenure and promotion Calls for e\n",
      "\n",
      "Sentiment:\n",
      "Positive\n"
     ]
    }
   ],
   "source": [
    "# check no 10 twitter sentiment \n",
    "\n",
    "n=10\n",
    "print('Original tweet:\\n'+ df['Tweets'][n])\n",
    "print()\n",
    "print('Clean tweet:\\n'+df['clean_tweet'][n])\n",
    "print()\n",
    "print('Sentiment:\\n'+df['Sentiment'][n])"
   ]
  },
  {
   "cell_type": "code",
   "execution_count": 69,
   "metadata": {},
   "outputs": [
    {
     "data": {
      "application/vnd.plotly.v1+json": {
       "config": {
        "linkText": "Export to plot.ly",
        "plotlyServerURL": "https://plot.ly",
        "showLink": true
       },
       "data": [
        {
         "marker": {
          "color": "rgba(55, 128, 191, 0.6)",
          "line": {
           "color": "rgba(55, 128, 191, 1.0)",
           "width": 1
          }
         },
         "name": "Sentiment",
         "orientation": "v",
         "text": "",
         "type": "bar",
         "x": [
          "Negative",
          "Neutral",
          "Positive"
         ],
         "y": [
          55,
          25,
          20
         ]
        }
       ],
       "layout": {
        "autosize": true,
        "template": {
         "data": {
          "bar": [
           {
            "error_x": {
             "color": "#2a3f5f"
            },
            "error_y": {
             "color": "#2a3f5f"
            },
            "marker": {
             "line": {
              "color": "#E5ECF6",
              "width": 0.5
             }
            },
            "type": "bar"
           }
          ],
          "barpolar": [
           {
            "marker": {
             "line": {
              "color": "#E5ECF6",
              "width": 0.5
             }
            },
            "type": "barpolar"
           }
          ],
          "carpet": [
           {
            "aaxis": {
             "endlinecolor": "#2a3f5f",
             "gridcolor": "white",
             "linecolor": "white",
             "minorgridcolor": "white",
             "startlinecolor": "#2a3f5f"
            },
            "baxis": {
             "endlinecolor": "#2a3f5f",
             "gridcolor": "white",
             "linecolor": "white",
             "minorgridcolor": "white",
             "startlinecolor": "#2a3f5f"
            },
            "type": "carpet"
           }
          ],
          "choropleth": [
           {
            "colorbar": {
             "outlinewidth": 0,
             "ticks": ""
            },
            "type": "choropleth"
           }
          ],
          "contour": [
           {
            "colorbar": {
             "outlinewidth": 0,
             "ticks": ""
            },
            "colorscale": [
             [
              0,
              "#0d0887"
             ],
             [
              0.1111111111111111,
              "#46039f"
             ],
             [
              0.2222222222222222,
              "#7201a8"
             ],
             [
              0.3333333333333333,
              "#9c179e"
             ],
             [
              0.4444444444444444,
              "#bd3786"
             ],
             [
              0.5555555555555556,
              "#d8576b"
             ],
             [
              0.6666666666666666,
              "#ed7953"
             ],
             [
              0.7777777777777778,
              "#fb9f3a"
             ],
             [
              0.8888888888888888,
              "#fdca26"
             ],
             [
              1,
              "#f0f921"
             ]
            ],
            "type": "contour"
           }
          ],
          "contourcarpet": [
           {
            "colorbar": {
             "outlinewidth": 0,
             "ticks": ""
            },
            "type": "contourcarpet"
           }
          ],
          "heatmap": [
           {
            "colorbar": {
             "outlinewidth": 0,
             "ticks": ""
            },
            "colorscale": [
             [
              0,
              "#0d0887"
             ],
             [
              0.1111111111111111,
              "#46039f"
             ],
             [
              0.2222222222222222,
              "#7201a8"
             ],
             [
              0.3333333333333333,
              "#9c179e"
             ],
             [
              0.4444444444444444,
              "#bd3786"
             ],
             [
              0.5555555555555556,
              "#d8576b"
             ],
             [
              0.6666666666666666,
              "#ed7953"
             ],
             [
              0.7777777777777778,
              "#fb9f3a"
             ],
             [
              0.8888888888888888,
              "#fdca26"
             ],
             [
              1,
              "#f0f921"
             ]
            ],
            "type": "heatmap"
           }
          ],
          "heatmapgl": [
           {
            "colorbar": {
             "outlinewidth": 0,
             "ticks": ""
            },
            "colorscale": [
             [
              0,
              "#0d0887"
             ],
             [
              0.1111111111111111,
              "#46039f"
             ],
             [
              0.2222222222222222,
              "#7201a8"
             ],
             [
              0.3333333333333333,
              "#9c179e"
             ],
             [
              0.4444444444444444,
              "#bd3786"
             ],
             [
              0.5555555555555556,
              "#d8576b"
             ],
             [
              0.6666666666666666,
              "#ed7953"
             ],
             [
              0.7777777777777778,
              "#fb9f3a"
             ],
             [
              0.8888888888888888,
              "#fdca26"
             ],
             [
              1,
              "#f0f921"
             ]
            ],
            "type": "heatmapgl"
           }
          ],
          "histogram": [
           {
            "marker": {
             "colorbar": {
              "outlinewidth": 0,
              "ticks": ""
             }
            },
            "type": "histogram"
           }
          ],
          "histogram2d": [
           {
            "colorbar": {
             "outlinewidth": 0,
             "ticks": ""
            },
            "colorscale": [
             [
              0,
              "#0d0887"
             ],
             [
              0.1111111111111111,
              "#46039f"
             ],
             [
              0.2222222222222222,
              "#7201a8"
             ],
             [
              0.3333333333333333,
              "#9c179e"
             ],
             [
              0.4444444444444444,
              "#bd3786"
             ],
             [
              0.5555555555555556,
              "#d8576b"
             ],
             [
              0.6666666666666666,
              "#ed7953"
             ],
             [
              0.7777777777777778,
              "#fb9f3a"
             ],
             [
              0.8888888888888888,
              "#fdca26"
             ],
             [
              1,
              "#f0f921"
             ]
            ],
            "type": "histogram2d"
           }
          ],
          "histogram2dcontour": [
           {
            "colorbar": {
             "outlinewidth": 0,
             "ticks": ""
            },
            "colorscale": [
             [
              0,
              "#0d0887"
             ],
             [
              0.1111111111111111,
              "#46039f"
             ],
             [
              0.2222222222222222,
              "#7201a8"
             ],
             [
              0.3333333333333333,
              "#9c179e"
             ],
             [
              0.4444444444444444,
              "#bd3786"
             ],
             [
              0.5555555555555556,
              "#d8576b"
             ],
             [
              0.6666666666666666,
              "#ed7953"
             ],
             [
              0.7777777777777778,
              "#fb9f3a"
             ],
             [
              0.8888888888888888,
              "#fdca26"
             ],
             [
              1,
              "#f0f921"
             ]
            ],
            "type": "histogram2dcontour"
           }
          ],
          "mesh3d": [
           {
            "colorbar": {
             "outlinewidth": 0,
             "ticks": ""
            },
            "type": "mesh3d"
           }
          ],
          "parcoords": [
           {
            "line": {
             "colorbar": {
              "outlinewidth": 0,
              "ticks": ""
             }
            },
            "type": "parcoords"
           }
          ],
          "pie": [
           {
            "automargin": true,
            "type": "pie"
           }
          ],
          "scatter": [
           {
            "marker": {
             "colorbar": {
              "outlinewidth": 0,
              "ticks": ""
             }
            },
            "type": "scatter"
           }
          ],
          "scatter3d": [
           {
            "line": {
             "colorbar": {
              "outlinewidth": 0,
              "ticks": ""
             }
            },
            "marker": {
             "colorbar": {
              "outlinewidth": 0,
              "ticks": ""
             }
            },
            "type": "scatter3d"
           }
          ],
          "scattercarpet": [
           {
            "marker": {
             "colorbar": {
              "outlinewidth": 0,
              "ticks": ""
             }
            },
            "type": "scattercarpet"
           }
          ],
          "scattergeo": [
           {
            "marker": {
             "colorbar": {
              "outlinewidth": 0,
              "ticks": ""
             }
            },
            "type": "scattergeo"
           }
          ],
          "scattergl": [
           {
            "marker": {
             "colorbar": {
              "outlinewidth": 0,
              "ticks": ""
             }
            },
            "type": "scattergl"
           }
          ],
          "scattermapbox": [
           {
            "marker": {
             "colorbar": {
              "outlinewidth": 0,
              "ticks": ""
             }
            },
            "type": "scattermapbox"
           }
          ],
          "scatterpolar": [
           {
            "marker": {
             "colorbar": {
              "outlinewidth": 0,
              "ticks": ""
             }
            },
            "type": "scatterpolar"
           }
          ],
          "scatterpolargl": [
           {
            "marker": {
             "colorbar": {
              "outlinewidth": 0,
              "ticks": ""
             }
            },
            "type": "scatterpolargl"
           }
          ],
          "scatterternary": [
           {
            "marker": {
             "colorbar": {
              "outlinewidth": 0,
              "ticks": ""
             }
            },
            "type": "scatterternary"
           }
          ],
          "surface": [
           {
            "colorbar": {
             "outlinewidth": 0,
             "ticks": ""
            },
            "colorscale": [
             [
              0,
              "#0d0887"
             ],
             [
              0.1111111111111111,
              "#46039f"
             ],
             [
              0.2222222222222222,
              "#7201a8"
             ],
             [
              0.3333333333333333,
              "#9c179e"
             ],
             [
              0.4444444444444444,
              "#bd3786"
             ],
             [
              0.5555555555555556,
              "#d8576b"
             ],
             [
              0.6666666666666666,
              "#ed7953"
             ],
             [
              0.7777777777777778,
              "#fb9f3a"
             ],
             [
              0.8888888888888888,
              "#fdca26"
             ],
             [
              1,
              "#f0f921"
             ]
            ],
            "type": "surface"
           }
          ],
          "table": [
           {
            "cells": {
             "fill": {
              "color": "#EBF0F8"
             },
             "line": {
              "color": "white"
             }
            },
            "header": {
             "fill": {
              "color": "#C8D4E3"
             },
             "line": {
              "color": "white"
             }
            },
            "type": "table"
           }
          ]
         },
         "layout": {
          "annotationdefaults": {
           "arrowcolor": "#2a3f5f",
           "arrowhead": 0,
           "arrowwidth": 1
          },
          "coloraxis": {
           "colorbar": {
            "outlinewidth": 0,
            "ticks": ""
           }
          },
          "colorscale": {
           "diverging": [
            [
             0,
             "#8e0152"
            ],
            [
             0.1,
             "#c51b7d"
            ],
            [
             0.2,
             "#de77ae"
            ],
            [
             0.3,
             "#f1b6da"
            ],
            [
             0.4,
             "#fde0ef"
            ],
            [
             0.5,
             "#f7f7f7"
            ],
            [
             0.6,
             "#e6f5d0"
            ],
            [
             0.7,
             "#b8e186"
            ],
            [
             0.8,
             "#7fbc41"
            ],
            [
             0.9,
             "#4d9221"
            ],
            [
             1,
             "#276419"
            ]
           ],
           "sequential": [
            [
             0,
             "#0d0887"
            ],
            [
             0.1111111111111111,
             "#46039f"
            ],
            [
             0.2222222222222222,
             "#7201a8"
            ],
            [
             0.3333333333333333,
             "#9c179e"
            ],
            [
             0.4444444444444444,
             "#bd3786"
            ],
            [
             0.5555555555555556,
             "#d8576b"
            ],
            [
             0.6666666666666666,
             "#ed7953"
            ],
            [
             0.7777777777777778,
             "#fb9f3a"
            ],
            [
             0.8888888888888888,
             "#fdca26"
            ],
            [
             1,
             "#f0f921"
            ]
           ],
           "sequentialminus": [
            [
             0,
             "#0d0887"
            ],
            [
             0.1111111111111111,
             "#46039f"
            ],
            [
             0.2222222222222222,
             "#7201a8"
            ],
            [
             0.3333333333333333,
             "#9c179e"
            ],
            [
             0.4444444444444444,
             "#bd3786"
            ],
            [
             0.5555555555555556,
             "#d8576b"
            ],
            [
             0.6666666666666666,
             "#ed7953"
            ],
            [
             0.7777777777777778,
             "#fb9f3a"
            ],
            [
             0.8888888888888888,
             "#fdca26"
            ],
            [
             1,
             "#f0f921"
            ]
           ]
          },
          "colorway": [
           "#636efa",
           "#EF553B",
           "#00cc96",
           "#ab63fa",
           "#FFA15A",
           "#19d3f3",
           "#FF6692",
           "#B6E880",
           "#FF97FF",
           "#FECB52"
          ],
          "font": {
           "color": "#2a3f5f"
          },
          "geo": {
           "bgcolor": "white",
           "lakecolor": "white",
           "landcolor": "#E5ECF6",
           "showlakes": true,
           "showland": true,
           "subunitcolor": "white"
          },
          "hoverlabel": {
           "align": "left"
          },
          "hovermode": "closest",
          "mapbox": {
           "style": "light"
          },
          "paper_bgcolor": "white",
          "plot_bgcolor": "#E5ECF6",
          "polar": {
           "angularaxis": {
            "gridcolor": "white",
            "linecolor": "white",
            "ticks": ""
           },
           "bgcolor": "#E5ECF6",
           "radialaxis": {
            "gridcolor": "white",
            "linecolor": "white",
            "ticks": ""
           }
          },
          "scene": {
           "xaxis": {
            "backgroundcolor": "#E5ECF6",
            "gridcolor": "white",
            "gridwidth": 2,
            "linecolor": "white",
            "showbackground": true,
            "ticks": "",
            "zerolinecolor": "white"
           },
           "yaxis": {
            "backgroundcolor": "#E5ECF6",
            "gridcolor": "white",
            "gridwidth": 2,
            "linecolor": "white",
            "showbackground": true,
            "ticks": "",
            "zerolinecolor": "white"
           },
           "zaxis": {
            "backgroundcolor": "#E5ECF6",
            "gridcolor": "white",
            "gridwidth": 2,
            "linecolor": "white",
            "showbackground": true,
            "ticks": "",
            "zerolinecolor": "white"
           }
          },
          "shapedefaults": {
           "line": {
            "color": "#2a3f5f"
           }
          },
          "ternary": {
           "aaxis": {
            "gridcolor": "white",
            "linecolor": "white",
            "ticks": ""
           },
           "baxis": {
            "gridcolor": "white",
            "linecolor": "white",
            "ticks": ""
           },
           "bgcolor": "#E5ECF6",
           "caxis": {
            "gridcolor": "white",
            "linecolor": "white",
            "ticks": ""
           }
          },
          "title": {
           "x": 0.05
          },
          "xaxis": {
           "automargin": true,
           "gridcolor": "white",
           "linecolor": "white",
           "ticks": "",
           "title": {
            "standoff": 15
           },
           "zerolinecolor": "white",
           "zerolinewidth": 2
          },
          "yaxis": {
           "automargin": true,
           "gridcolor": "white",
           "linecolor": "white",
           "ticks": "",
           "title": {
            "standoff": 15
           },
           "zerolinecolor": "white",
           "zerolinewidth": 2
          }
         }
        },
        "title": {
         "text": "Overall Sentiment Distribution"
        },
        "xaxis": {
         "automargin": true,
         "autorange": true,
         "range": [
          -0.5,
          2.5
         ],
         "title": {
          "text": "Sentiment"
         },
         "type": "category"
        },
        "yaxis": {
         "automargin": true,
         "autorange": true,
         "range": [
          0,
          57.89473684210526
         ],
         "title": {
          "text": "Count"
         },
         "type": "linear"
        }
       }
      },
      "image/png": "[encoded data removed]",
      "text/html": [
       "<div>\n",
       "        \n",
       "        \n",
       "            <div id=\"b4a4894d-a8fa-496d-98a6-4ebfff88a20e\" class=\"plotly-graph-div\" style=\"height:525px; width:100%;\"></div>\n",
       "            <script type=\"text/javascript\">\n",
       "                require([\"plotly\"], function(Plotly) {\n",
       "                    window.PLOTLYENV=window.PLOTLYENV || {};\n",
       "                    window.PLOTLYENV.BASE_URL='https://plot.ly';\n",
       "                    \n",
       "                if (document.getElementById(\"b4a4894d-a8fa-496d-98a6-4ebfff88a20e\")) {\n",
       "                    Plotly.newPlot(\n",
       "                        'b4a4894d-a8fa-496d-98a6-4ebfff88a20e',\n",
       "                        [{\"marker\": {\"color\": \"rgba(55, 128, 191, 0.6)\", \"line\": {\"color\": \"rgba(55, 128, 191, 1.0)\", \"width\": 1}}, \"name\": \"Sentiment\", \"orientation\": \"v\", \"text\": \"\", \"type\": \"bar\", \"x\": [\"Negative\", \"Neutral\", \"Positive\"], \"y\": [55, 25, 20]}],\n",
       "                        {\"autosize\": true, \"template\": {\"data\": {\"bar\": [{\"error_x\": {\"color\": \"#2a3f5f\"}, \"error_y\": {\"color\": \"#2a3f5f\"}, \"marker\": {\"line\": {\"color\": \"#E5ECF6\", \"width\": 0.5}}, \"type\": \"bar\"}], \"barpolar\": [{\"marker\": {\"line\": {\"color\": \"#E5ECF6\", \"width\": 0.5}}, \"type\": \"barpolar\"}], \"carpet\": [{\"aaxis\": {\"endlinecolor\": \"#2a3f5f\", \"gridcolor\": \"white\", \"linecolor\": \"white\", \"minorgridcolor\": \"white\", \"startlinecolor\": \"#2a3f5f\"}, \"baxis\": {\"endlinecolor\": \"#2a3f5f\", \"gridcolor\": \"white\", \"linecolor\": \"white\", \"minorgridcolor\": \"white\", \"startlinecolor\": \"#2a3f5f\"}, \"type\": \"carpet\"}], \"choropleth\": [{\"colorbar\": {\"outlinewidth\": 0, \"ticks\": \"\"}, \"type\": \"choropleth\"}], \"contour\": [{\"colorbar\": {\"outlinewidth\": 0, \"ticks\": \"\"}, \"colorscale\": [[0.0, \"#0d0887\"], [0.1111111111111111, \"#46039f\"], [0.2222222222222222, \"#7201a8\"], [0.3333333333333333, \"#9c179e\"], [0.4444444444444444, \"#bd3786\"], [0.5555555555555556, \"#d8576b\"], [0.6666666666666666, \"#ed7953\"], [0.7777777777777778, \"#fb9f3a\"], [0.8888888888888888, \"#fdca26\"], [1.0, \"#f0f921\"]], \"type\": \"contour\"}], \"contourcarpet\": [{\"colorbar\": {\"outlinewidth\": 0, \"ticks\": \"\"}, \"type\": \"contourcarpet\"}], \"heatmap\": [{\"colorbar\": {\"outlinewidth\": 0, \"ticks\": \"\"}, \"colorscale\": [[0.0, \"#0d0887\"], [0.1111111111111111, \"#46039f\"], [0.2222222222222222, \"#7201a8\"], [0.3333333333333333, \"#9c179e\"], [0.4444444444444444, \"#bd3786\"], [0.5555555555555556, \"#d8576b\"], [0.6666666666666666, \"#ed7953\"], [0.7777777777777778, \"#fb9f3a\"], [0.8888888888888888, \"#fdca26\"], [1.0, \"#f0f921\"]], \"type\": \"heatmap\"}], \"heatmapgl\": [{\"colorbar\": {\"outlinewidth\": 0, \"ticks\": \"\"}, \"colorscale\": [[0.0, \"#0d0887\"], [0.1111111111111111, \"#46039f\"], [0.2222222222222222, \"#7201a8\"], [0.3333333333333333, \"#9c179e\"], [0.4444444444444444, \"#bd3786\"], [0.5555555555555556, \"#d8576b\"], [0.6666666666666666, \"#ed7953\"], [0.7777777777777778, \"#fb9f3a\"], [0.8888888888888888, \"#fdca26\"], [1.0, \"#f0f921\"]], \"type\": \"heatmapgl\"}], \"histogram\": [{\"marker\": {\"colorbar\": {\"outlinewidth\": 0, \"ticks\": \"\"}}, \"type\": \"histogram\"}], \"histogram2d\": [{\"colorbar\": {\"outlinewidth\": 0, \"ticks\": \"\"}, \"colorscale\": [[0.0, \"#0d0887\"], [0.1111111111111111, \"#46039f\"], [0.2222222222222222, \"#7201a8\"], [0.3333333333333333, \"#9c179e\"], [0.4444444444444444, \"#bd3786\"], [0.5555555555555556, \"#d8576b\"], [0.6666666666666666, \"#ed7953\"], [0.7777777777777778, \"#fb9f3a\"], [0.8888888888888888, \"#fdca26\"], [1.0, \"#f0f921\"]], \"type\": \"histogram2d\"}], \"histogram2dcontour\": [{\"colorbar\": {\"outlinewidth\": 0, \"ticks\": \"\"}, \"colorscale\": [[0.0, \"#0d0887\"], [0.1111111111111111, \"#46039f\"], [0.2222222222222222, \"#7201a8\"], [0.3333333333333333, \"#9c179e\"], [0.4444444444444444, \"#bd3786\"], [0.5555555555555556, \"#d8576b\"], [0.6666666666666666, \"#ed7953\"], [0.7777777777777778, \"#fb9f3a\"], [0.8888888888888888, \"#fdca26\"], [1.0, \"#f0f921\"]], \"type\": \"histogram2dcontour\"}], \"mesh3d\": [{\"colorbar\": {\"outlinewidth\": 0, \"ticks\": \"\"}, \"type\": \"mesh3d\"}], \"parcoords\": [{\"line\": {\"colorbar\": {\"outlinewidth\": 0, \"ticks\": \"\"}}, \"type\": \"parcoords\"}], \"pie\": [{\"automargin\": true, \"type\": \"pie\"}], \"scatter\": [{\"marker\": {\"colorbar\": {\"outlinewidth\": 0, \"ticks\": \"\"}}, \"type\": \"scatter\"}], \"scatter3d\": [{\"line\": {\"colorbar\": {\"outlinewidth\": 0, \"ticks\": \"\"}}, \"marker\": {\"colorbar\": {\"outlinewidth\": 0, \"ticks\": \"\"}}, \"type\": \"scatter3d\"}], \"scattercarpet\": [{\"marker\": {\"colorbar\": {\"outlinewidth\": 0, \"ticks\": \"\"}}, \"type\": \"scattercarpet\"}], \"scattergeo\": [{\"marker\": {\"colorbar\": {\"outlinewidth\": 0, \"ticks\": \"\"}}, \"type\": \"scattergeo\"}], \"scattergl\": [{\"marker\": {\"colorbar\": {\"outlinewidth\": 0, \"ticks\": \"\"}}, \"type\": \"scattergl\"}], \"scattermapbox\": [{\"marker\": {\"colorbar\": {\"outlinewidth\": 0, \"ticks\": \"\"}}, \"type\": \"scattermapbox\"}], \"scatterpolar\": [{\"marker\": {\"colorbar\": {\"outlinewidth\": 0, \"ticks\": \"\"}}, \"type\": \"scatterpolar\"}], \"scatterpolargl\": [{\"marker\": {\"colorbar\": {\"outlinewidth\": 0, \"ticks\": \"\"}}, \"type\": \"scatterpolargl\"}], \"scatterternary\": [{\"marker\": {\"colorbar\": {\"outlinewidth\": 0, \"ticks\": \"\"}}, \"type\": \"scatterternary\"}], \"surface\": [{\"colorbar\": {\"outlinewidth\": 0, \"ticks\": \"\"}, \"colorscale\": [[0.0, \"#0d0887\"], [0.1111111111111111, \"#46039f\"], [0.2222222222222222, \"#7201a8\"], [0.3333333333333333, \"#9c179e\"], [0.4444444444444444, \"#bd3786\"], [0.5555555555555556, \"#d8576b\"], [0.6666666666666666, \"#ed7953\"], [0.7777777777777778, \"#fb9f3a\"], [0.8888888888888888, \"#fdca26\"], [1.0, \"#f0f921\"]], \"type\": \"surface\"}], \"table\": [{\"cells\": {\"fill\": {\"color\": \"#EBF0F8\"}, \"line\": {\"color\": \"white\"}}, \"header\": {\"fill\": {\"color\": \"#C8D4E3\"}, \"line\": {\"color\": \"white\"}}, \"type\": \"table\"}]}, \"layout\": {\"annotationdefaults\": {\"arrowcolor\": \"#2a3f5f\", \"arrowhead\": 0, \"arrowwidth\": 1}, \"coloraxis\": {\"colorbar\": {\"outlinewidth\": 0, \"ticks\": \"\"}}, \"colorscale\": {\"diverging\": [[0, \"#8e0152\"], [0.1, \"#c51b7d\"], [0.2, \"#de77ae\"], [0.3, \"#f1b6da\"], [0.4, \"#fde0ef\"], [0.5, \"#f7f7f7\"], [0.6, \"#e6f5d0\"], [0.7, \"#b8e186\"], [0.8, \"#7fbc41\"], [0.9, \"#4d9221\"], [1, \"#276419\"]], \"sequential\": [[0.0, \"#0d0887\"], [0.1111111111111111, \"#46039f\"], [0.2222222222222222, \"#7201a8\"], [0.3333333333333333, \"#9c179e\"], [0.4444444444444444, \"#bd3786\"], [0.5555555555555556, \"#d8576b\"], [0.6666666666666666, \"#ed7953\"], [0.7777777777777778, \"#fb9f3a\"], [0.8888888888888888, \"#fdca26\"], [1.0, \"#f0f921\"]], \"sequentialminus\": [[0.0, \"#0d0887\"], [0.1111111111111111, \"#46039f\"], [0.2222222222222222, \"#7201a8\"], [0.3333333333333333, \"#9c179e\"], [0.4444444444444444, \"#bd3786\"], [0.5555555555555556, \"#d8576b\"], [0.6666666666666666, \"#ed7953\"], [0.7777777777777778, \"#fb9f3a\"], [0.8888888888888888, \"#fdca26\"], [1.0, \"#f0f921\"]]}, \"colorway\": [\"#636efa\", \"#EF553B\", \"#00cc96\", \"#ab63fa\", \"#FFA15A\", \"#19d3f3\", \"#FF6692\", \"#B6E880\", \"#FF97FF\", \"#FECB52\"], \"font\": {\"color\": \"#2a3f5f\"}, \"geo\": {\"bgcolor\": \"white\", \"lakecolor\": \"white\", \"landcolor\": \"#E5ECF6\", \"showlakes\": true, \"showland\": true, \"subunitcolor\": \"white\"}, \"hoverlabel\": {\"align\": \"left\"}, \"hovermode\": \"closest\", \"mapbox\": {\"style\": \"light\"}, \"paper_bgcolor\": \"white\", \"plot_bgcolor\": \"#E5ECF6\", \"polar\": {\"angularaxis\": {\"gridcolor\": \"white\", \"linecolor\": \"white\", \"ticks\": \"\"}, \"bgcolor\": \"#E5ECF6\", \"radialaxis\": {\"gridcolor\": \"white\", \"linecolor\": \"white\", \"ticks\": \"\"}}, \"scene\": {\"xaxis\": {\"backgroundcolor\": \"#E5ECF6\", \"gridcolor\": \"white\", \"gridwidth\": 2, \"linecolor\": \"white\", \"showbackground\": true, \"ticks\": \"\", \"zerolinecolor\": \"white\"}, \"yaxis\": {\"backgroundcolor\": \"#E5ECF6\", \"gridcolor\": \"white\", \"gridwidth\": 2, \"linecolor\": \"white\", \"showbackground\": true, \"ticks\": \"\", \"zerolinecolor\": \"white\"}, \"zaxis\": {\"backgroundcolor\": \"#E5ECF6\", \"gridcolor\": \"white\", \"gridwidth\": 2, \"linecolor\": \"white\", \"showbackground\": true, \"ticks\": \"\", \"zerolinecolor\": \"white\"}}, \"shapedefaults\": {\"line\": {\"color\": \"#2a3f5f\"}}, \"ternary\": {\"aaxis\": {\"gridcolor\": \"white\", \"linecolor\": \"white\", \"ticks\": \"\"}, \"baxis\": {\"gridcolor\": \"white\", \"linecolor\": \"white\", \"ticks\": \"\"}, \"bgcolor\": \"#E5ECF6\", \"caxis\": {\"gridcolor\": \"white\", \"linecolor\": \"white\", \"ticks\": \"\"}}, \"title\": {\"x\": 0.05}, \"xaxis\": {\"automargin\": true, \"gridcolor\": \"white\", \"linecolor\": \"white\", \"ticks\": \"\", \"title\": {\"standoff\": 15}, \"zerolinecolor\": \"white\", \"zerolinewidth\": 2}, \"yaxis\": {\"automargin\": true, \"gridcolor\": \"white\", \"linecolor\": \"white\", \"ticks\": \"\", \"title\": {\"standoff\": 15}, \"zerolinecolor\": \"white\", \"zerolinewidth\": 2}}}, \"title\": {\"text\": \"Overall Sentiment Distribution\"}, \"xaxis\": {\"automargin\": true, \"title\": {\"text\": \"Sentiment\"}}, \"yaxis\": {\"automargin\": true, \"title\": {\"text\": \"Count\"}}},\n",
       "                        {\"showLink\": true, \"linkText\": \"Export to plot.ly\", \"plotlyServerURL\": \"https://plot.ly\", \"responsive\": true}\n",
       "                    ).then(function(){\n",
       "                            \n",
       "var gd = document.getElementById('b4a4894d-a8fa-496d-98a6-4ebfff88a20e');\n",
       "var x = new MutationObserver(function (mutations, observer) {{\n",
       "        var display = window.getComputedStyle(gd).display;\n",
       "        if (!display || display === 'none') {{\n",
       "            console.log([gd, 'removed!']);\n",
       "            Plotly.purge(gd);\n",
       "            observer.disconnect();\n",
       "        }}\n",
       "}});\n",
       "\n",
       "// Listen for the removal of the full notebook cells\n",
       "var notebookContainer = gd.closest('#notebook-container');\n",
       "if (notebookContainer) {{\n",
       "    x.observe(notebookContainer, {childList: true});\n",
       "}}\n",
       "\n",
       "// Listen for the clearing of the current output cell\n",
       "var outputEl = gd.closest('.output');\n",
       "if (outputEl) {{\n",
       "    x.observe(outputEl, {childList: true});\n",
       "}}\n",
       "\n",
       "                        })\n",
       "                };\n",
       "                });\n",
       "            </script>\n",
       "        </div>"
      ]
     },
     "metadata": {},
     "output_type": "display_data"
    }
   ],
   "source": [
    "# show barchart of overall twitter sentiment\n",
    "layout1=dict(autosize=True, yaxis=dict(automargin=True, title=\"Count\"), xaxis=dict(automargin=True, title=\"Sentiment\"),title=\"Overall Sentiment Distribution\")\n",
    "df['Sentiment'].value_counts().iplot(kind='bar', title='Overall Sentiment Distribution', color=\"blue\", layout=layout1)\n"
   ]
  },
  {
   "cell_type": "code",
   "execution_count": 72,
   "metadata": {},
   "outputs": [
    {
     "data": {
      "application/vnd.plotly.v1+json": {
       "config": {
        "linkText": "Export to plot.ly",
        "plotlyServerURL": "https://plot.ly",
        "showLink": true
       },
       "data": [
        {
         "marker": {
          "color": "rgba(55, 128, 191, 0.6)",
          "line": {
           "color": "rgba(55, 128, 191, 1.0)",
           "width": 1
          }
         },
         "name": "Sentiment",
         "orientation": "v",
         "text": "",
         "type": "bar",
         "x": [
          "Negative",
          "Positive",
          "Neutral"
         ],
         "y": [
          55,
          2,
          1
         ]
        }
       ],
       "layout": {
        "autosize": true,
        "template": {
         "data": {
          "bar": [
           {
            "error_x": {
             "color": "#2a3f5f"
            },
            "error_y": {
             "color": "#2a3f5f"
            },
            "marker": {
             "line": {
              "color": "#E5ECF6",
              "width": 0.5
             }
            },
            "type": "bar"
           }
          ],
          "barpolar": [
           {
            "marker": {
             "line": {
              "color": "#E5ECF6",
              "width": 0.5
             }
            },
            "type": "barpolar"
           }
          ],
          "carpet": [
           {
            "aaxis": {
             "endlinecolor": "#2a3f5f",
             "gridcolor": "white",
             "linecolor": "white",
             "minorgridcolor": "white",
             "startlinecolor": "#2a3f5f"
            },
            "baxis": {
             "endlinecolor": "#2a3f5f",
             "gridcolor": "white",
             "linecolor": "white",
             "minorgridcolor": "white",
             "startlinecolor": "#2a3f5f"
            },
            "type": "carpet"
           }
          ],
          "choropleth": [
           {
            "colorbar": {
             "outlinewidth": 0,
             "ticks": ""
            },
            "type": "choropleth"
           }
          ],
          "contour": [
           {
            "colorbar": {
             "outlinewidth": 0,
             "ticks": ""
            },
            "colorscale": [
             [
              0,
              "#0d0887"
             ],
             [
              0.1111111111111111,
              "#46039f"
             ],
             [
              0.2222222222222222,
              "#7201a8"
             ],
             [
              0.3333333333333333,
              "#9c179e"
             ],
             [
              0.4444444444444444,
              "#bd3786"
             ],
             [
              0.5555555555555556,
              "#d8576b"
             ],
             [
              0.6666666666666666,
              "#ed7953"
             ],
             [
              0.7777777777777778,
              "#fb9f3a"
             ],
             [
              0.8888888888888888,
              "#fdca26"
             ],
             [
              1,
              "#f0f921"
             ]
            ],
            "type": "contour"
           }
          ],
          "contourcarpet": [
           {
            "colorbar": {
             "outlinewidth": 0,
             "ticks": ""
            },
            "type": "contourcarpet"
           }
          ],
          "heatmap": [
           {
            "colorbar": {
             "outlinewidth": 0,
             "ticks": ""
            },
            "colorscale": [
             [
              0,
              "#0d0887"
             ],
             [
              0.1111111111111111,
              "#46039f"
             ],
             [
              0.2222222222222222,
              "#7201a8"
             ],
             [
              0.3333333333333333,
              "#9c179e"
             ],
             [
              0.4444444444444444,
              "#bd3786"
             ],
             [
              0.5555555555555556,
              "#d8576b"
             ],
             [
              0.6666666666666666,
              "#ed7953"
             ],
             [
              0.7777777777777778,
              "#fb9f3a"
             ],
             [
              0.8888888888888888,
              "#fdca26"
             ],
             [
              1,
              "#f0f921"
             ]
            ],
            "type": "heatmap"
           }
          ],
          "heatmapgl": [
           {
            "colorbar": {
             "outlinewidth": 0,
             "ticks": ""
            },
            "colorscale": [
             [
              0,
              "#0d0887"
             ],
             [
              0.1111111111111111,
              "#46039f"
             ],
             [
              0.2222222222222222,
              "#7201a8"
             ],
             [
              0.3333333333333333,
              "#9c179e"
             ],
             [
              0.4444444444444444,
              "#bd3786"
             ],
             [
              0.5555555555555556,
              "#d8576b"
             ],
             [
              0.6666666666666666,
              "#ed7953"
             ],
             [
              0.7777777777777778,
              "#fb9f3a"
             ],
             [
              0.8888888888888888,
              "#fdca26"
             ],
             [
              1,
              "#f0f921"
             ]
            ],
            "type": "heatmapgl"
           }
          ],
          "histogram": [
           {
            "marker": {
             "colorbar": {
              "outlinewidth": 0,
              "ticks": ""
             }
            },
            "type": "histogram"
           }
          ],
          "histogram2d": [
           {
            "colorbar": {
             "outlinewidth": 0,
             "ticks": ""
            },
            "colorscale": [
             [
              0,
              "#0d0887"
             ],
             [
              0.1111111111111111,
              "#46039f"
             ],
             [
              0.2222222222222222,
              "#7201a8"
             ],
             [
              0.3333333333333333,
              "#9c179e"
             ],
             [
              0.4444444444444444,
              "#bd3786"
             ],
             [
              0.5555555555555556,
              "#d8576b"
             ],
             [
              0.6666666666666666,
              "#ed7953"
             ],
             [
              0.7777777777777778,
              "#fb9f3a"
             ],
             [
              0.8888888888888888,
              "#fdca26"
             ],
             [
              1,
              "#f0f921"
             ]
            ],
            "type": "histogram2d"
           }
          ],
          "histogram2dcontour": [
           {
            "colorbar": {
             "outlinewidth": 0,
             "ticks": ""
            },
            "colorscale": [
             [
              0,
              "#0d0887"
             ],
             [
              0.1111111111111111,
              "#46039f"
             ],
             [
              0.2222222222222222,
              "#7201a8"
             ],
             [
              0.3333333333333333,
              "#9c179e"
             ],
             [
              0.4444444444444444,
              "#bd3786"
             ],
             [
              0.5555555555555556,
              "#d8576b"
             ],
             [
              0.6666666666666666,
              "#ed7953"
             ],
             [
              0.7777777777777778,
              "#fb9f3a"
             ],
             [
              0.8888888888888888,
              "#fdca26"
             ],
             [
              1,
              "#f0f921"
             ]
            ],
            "type": "histogram2dcontour"
           }
          ],
          "mesh3d": [
           {
            "colorbar": {
             "outlinewidth": 0,
             "ticks": ""
            },
            "type": "mesh3d"
           }
          ],
          "parcoords": [
           {
            "line": {
             "colorbar": {
              "outlinewidth": 0,
              "ticks": ""
             }
            },
            "type": "parcoords"
           }
          ],
          "pie": [
           {
            "automargin": true,
            "type": "pie"
           }
          ],
          "scatter": [
           {
            "marker": {
             "colorbar": {
              "outlinewidth": 0,
              "ticks": ""
             }
            },
            "type": "scatter"
           }
          ],
          "scatter3d": [
           {
            "line": {
             "colorbar": {
              "outlinewidth": 0,
              "ticks": ""
             }
            },
            "marker": {
             "colorbar": {
              "outlinewidth": 0,
              "ticks": ""
             }
            },
            "type": "scatter3d"
           }
          ],
          "scattercarpet": [
           {
            "marker": {
             "colorbar": {
              "outlinewidth": 0,
              "ticks": ""
             }
            },
            "type": "scattercarpet"
           }
          ],
          "scattergeo": [
           {
            "marker": {
             "colorbar": {
              "outlinewidth": 0,
              "ticks": ""
             }
            },
            "type": "scattergeo"
           }
          ],
          "scattergl": [
           {
            "marker": {
             "colorbar": {
              "outlinewidth": 0,
              "ticks": ""
             }
            },
            "type": "scattergl"
           }
          ],
          "scattermapbox": [
           {
            "marker": {
             "colorbar": {
              "outlinewidth": 0,
              "ticks": ""
             }
            },
            "type": "scattermapbox"
           }
          ],
          "scatterpolar": [
           {
            "marker": {
             "colorbar": {
              "outlinewidth": 0,
              "ticks": ""
             }
            },
            "type": "scatterpolar"
           }
          ],
          "scatterpolargl": [
           {
            "marker": {
             "colorbar": {
              "outlinewidth": 0,
              "ticks": ""
             }
            },
            "type": "scatterpolargl"
           }
          ],
          "scatterternary": [
           {
            "marker": {
             "colorbar": {
              "outlinewidth": 0,
              "ticks": ""
             }
            },
            "type": "scatterternary"
           }
          ],
          "surface": [
           {
            "colorbar": {
             "outlinewidth": 0,
             "ticks": ""
            },
            "colorscale": [
             [
              0,
              "#0d0887"
             ],
             [
              0.1111111111111111,
              "#46039f"
             ],
             [
              0.2222222222222222,
              "#7201a8"
             ],
             [
              0.3333333333333333,
              "#9c179e"
             ],
             [
              0.4444444444444444,
              "#bd3786"
             ],
             [
              0.5555555555555556,
              "#d8576b"
             ],
             [
              0.6666666666666666,
              "#ed7953"
             ],
             [
              0.7777777777777778,
              "#fb9f3a"
             ],
             [
              0.8888888888888888,
              "#fdca26"
             ],
             [
              1,
              "#f0f921"
             ]
            ],
            "type": "surface"
           }
          ],
          "table": [
           {
            "cells": {
             "fill": {
              "color": "#EBF0F8"
             },
             "line": {
              "color": "white"
             }
            },
            "header": {
             "fill": {
              "color": "#C8D4E3"
             },
             "line": {
              "color": "white"
             }
            },
            "type": "table"
           }
          ]
         },
         "layout": {
          "annotationdefaults": {
           "arrowcolor": "#2a3f5f",
           "arrowhead": 0,
           "arrowwidth": 1
          },
          "coloraxis": {
           "colorbar": {
            "outlinewidth": 0,
            "ticks": ""
           }
          },
          "colorscale": {
           "diverging": [
            [
             0,
             "#8e0152"
            ],
            [
             0.1,
             "#c51b7d"
            ],
            [
             0.2,
             "#de77ae"
            ],
            [
             0.3,
             "#f1b6da"
            ],
            [
             0.4,
             "#fde0ef"
            ],
            [
             0.5,
             "#f7f7f7"
            ],
            [
             0.6,
             "#e6f5d0"
            ],
            [
             0.7,
             "#b8e186"
            ],
            [
             0.8,
             "#7fbc41"
            ],
            [
             0.9,
             "#4d9221"
            ],
            [
             1,
             "#276419"
            ]
           ],
           "sequential": [
            [
             0,
             "#0d0887"
            ],
            [
             0.1111111111111111,
             "#46039f"
            ],
            [
             0.2222222222222222,
             "#7201a8"
            ],
            [
             0.3333333333333333,
             "#9c179e"
            ],
            [
             0.4444444444444444,
             "#bd3786"
            ],
            [
             0.5555555555555556,
             "#d8576b"
            ],
            [
             0.6666666666666666,
             "#ed7953"
            ],
            [
             0.7777777777777778,
             "#fb9f3a"
            ],
            [
             0.8888888888888888,
             "#fdca26"
            ],
            [
             1,
             "#f0f921"
            ]
           ],
           "sequentialminus": [
            [
             0,
             "#0d0887"
            ],
            [
             0.1111111111111111,
             "#46039f"
            ],
            [
             0.2222222222222222,
             "#7201a8"
            ],
            [
             0.3333333333333333,
             "#9c179e"
            ],
            [
             0.4444444444444444,
             "#bd3786"
            ],
            [
             0.5555555555555556,
             "#d8576b"
            ],
            [
             0.6666666666666666,
             "#ed7953"
            ],
            [
             0.7777777777777778,
             "#fb9f3a"
            ],
            [
             0.8888888888888888,
             "#fdca26"
            ],
            [
             1,
             "#f0f921"
            ]
           ]
          },
          "colorway": [
           "#636efa",
           "#EF553B",
           "#00cc96",
           "#ab63fa",
           "#FFA15A",
           "#19d3f3",
           "#FF6692",
           "#B6E880",
           "#FF97FF",
           "#FECB52"
          ],
          "font": {
           "color": "#2a3f5f"
          },
          "geo": {
           "bgcolor": "white",
           "lakecolor": "white",
           "landcolor": "#E5ECF6",
           "showlakes": true,
           "showland": true,
           "subunitcolor": "white"
          },
          "hoverlabel": {
           "align": "left"
          },
          "hovermode": "closest",
          "mapbox": {
           "style": "light"
          },
          "paper_bgcolor": "white",
          "plot_bgcolor": "#E5ECF6",
          "polar": {
           "angularaxis": {
            "gridcolor": "white",
            "linecolor": "white",
            "ticks": ""
           },
           "bgcolor": "#E5ECF6",
           "radialaxis": {
            "gridcolor": "white",
            "linecolor": "white",
            "ticks": ""
           }
          },
          "scene": {
           "xaxis": {
            "backgroundcolor": "#E5ECF6",
            "gridcolor": "white",
            "gridwidth": 2,
            "linecolor": "white",
            "showbackground": true,
            "ticks": "",
            "zerolinecolor": "white"
           },
           "yaxis": {
            "backgroundcolor": "#E5ECF6",
            "gridcolor": "white",
            "gridwidth": 2,
            "linecolor": "white",
            "showbackground": true,
            "ticks": "",
            "zerolinecolor": "white"
           },
           "zaxis": {
            "backgroundcolor": "#E5ECF6",
            "gridcolor": "white",
            "gridwidth": 2,
            "linecolor": "white",
            "showbackground": true,
            "ticks": "",
            "zerolinecolor": "white"
           }
          },
          "shapedefaults": {
           "line": {
            "color": "#2a3f5f"
           }
          },
          "ternary": {
           "aaxis": {
            "gridcolor": "white",
            "linecolor": "white",
            "ticks": ""
           },
           "baxis": {
            "gridcolor": "white",
            "linecolor": "white",
            "ticks": ""
           },
           "bgcolor": "#E5ECF6",
           "caxis": {
            "gridcolor": "white",
            "linecolor": "white",
            "ticks": ""
           }
          },
          "title": {
           "x": 0.05
          },
          "xaxis": {
           "automargin": true,
           "gridcolor": "white",
           "linecolor": "white",
           "ticks": "",
           "title": {
            "standoff": 15
           },
           "zerolinecolor": "white",
           "zerolinewidth": 2
          },
          "yaxis": {
           "automargin": true,
           "gridcolor": "white",
           "linecolor": "white",
           "ticks": "",
           "title": {
            "standoff": 15
           },
           "zerolinecolor": "white",
           "zerolinewidth": 2
          }
         }
        },
        "title": {
         "text": "Overall Sentiment Distribution"
        },
        "xaxis": {
         "automargin": true,
         "autorange": true,
         "range": [
          -0.5,
          2.5
         ],
         "title": {
          "text": "Sentiment"
         },
         "type": "category"
        },
        "yaxis": {
         "automargin": true,
         "autorange": true,
         "range": [
          0,
          57.89473684210526
         ],
         "title": {
          "text": "Count"
         },
         "type": "linear"
        }
       }
      },
      "image/png": "[encoded data removed]",
      "text/html": [
       "<div>\n",
       "        \n",
       "        \n",
       "            <div id=\"96449f35-29d8-4885-977c-20dba6fc097b\" class=\"plotly-graph-div\" style=\"height:525px; width:100%;\"></div>\n",
       "            <script type=\"text/javascript\">\n",
       "                require([\"plotly\"], function(Plotly) {\n",
       "                    window.PLOTLYENV=window.PLOTLYENV || {};\n",
       "                    window.PLOTLYENV.BASE_URL='https://plot.ly';\n",
       "                    \n",
       "                if (document.getElementById(\"96449f35-29d8-4885-977c-20dba6fc097b\")) {\n",
       "                    Plotly.newPlot(\n",
       "                        '96449f35-29d8-4885-977c-20dba6fc097b',\n",
       "                        [{\"marker\": {\"color\": \"rgba(55, 128, 191, 0.6)\", \"line\": {\"color\": \"rgba(55, 128, 191, 1.0)\", \"width\": 1}}, \"name\": \"Sentiment\", \"orientation\": \"v\", \"text\": \"\", \"type\": \"bar\", \"x\": [\"Negative\", \"Positive\", \"Neutral\"], \"y\": [55, 2, 1]}],\n",
       "                        {\"autosize\": true, \"template\": {\"data\": {\"bar\": [{\"error_x\": {\"color\": \"#2a3f5f\"}, \"error_y\": {\"color\": \"#2a3f5f\"}, \"marker\": {\"line\": {\"color\": \"#E5ECF6\", \"width\": 0.5}}, \"type\": \"bar\"}], \"barpolar\": [{\"marker\": {\"line\": {\"color\": \"#E5ECF6\", \"width\": 0.5}}, \"type\": \"barpolar\"}], \"carpet\": [{\"aaxis\": {\"endlinecolor\": \"#2a3f5f\", \"gridcolor\": \"white\", \"linecolor\": \"white\", \"minorgridcolor\": \"white\", \"startlinecolor\": \"#2a3f5f\"}, \"baxis\": {\"endlinecolor\": \"#2a3f5f\", \"gridcolor\": \"white\", \"linecolor\": \"white\", \"minorgridcolor\": \"white\", \"startlinecolor\": \"#2a3f5f\"}, \"type\": \"carpet\"}], \"choropleth\": [{\"colorbar\": {\"outlinewidth\": 0, \"ticks\": \"\"}, \"type\": \"choropleth\"}], \"contour\": [{\"colorbar\": {\"outlinewidth\": 0, \"ticks\": \"\"}, \"colorscale\": [[0.0, \"#0d0887\"], [0.1111111111111111, \"#46039f\"], [0.2222222222222222, \"#7201a8\"], [0.3333333333333333, \"#9c179e\"], [0.4444444444444444, \"#bd3786\"], [0.5555555555555556, \"#d8576b\"], [0.6666666666666666, \"#ed7953\"], [0.7777777777777778, \"#fb9f3a\"], [0.8888888888888888, \"#fdca26\"], [1.0, \"#f0f921\"]], \"type\": \"contour\"}], \"contourcarpet\": [{\"colorbar\": {\"outlinewidth\": 0, \"ticks\": \"\"}, \"type\": \"contourcarpet\"}], \"heatmap\": [{\"colorbar\": {\"outlinewidth\": 0, \"ticks\": \"\"}, \"colorscale\": [[0.0, \"#0d0887\"], [0.1111111111111111, \"#46039f\"], [0.2222222222222222, \"#7201a8\"], [0.3333333333333333, \"#9c179e\"], [0.4444444444444444, \"#bd3786\"], [0.5555555555555556, \"#d8576b\"], [0.6666666666666666, \"#ed7953\"], [0.7777777777777778, \"#fb9f3a\"], [0.8888888888888888, \"#fdca26\"], [1.0, \"#f0f921\"]], \"type\": \"heatmap\"}], \"heatmapgl\": [{\"colorbar\": {\"outlinewidth\": 0, \"ticks\": \"\"}, \"colorscale\": [[0.0, \"#0d0887\"], [0.1111111111111111, \"#46039f\"], [0.2222222222222222, \"#7201a8\"], [0.3333333333333333, \"#9c179e\"], [0.4444444444444444, \"#bd3786\"], [0.5555555555555556, \"#d8576b\"], [0.6666666666666666, \"#ed7953\"], [0.7777777777777778, \"#fb9f3a\"], [0.8888888888888888, \"#fdca26\"], [1.0, \"#f0f921\"]], \"type\": \"heatmapgl\"}], \"histogram\": [{\"marker\": {\"colorbar\": {\"outlinewidth\": 0, \"ticks\": \"\"}}, \"type\": \"histogram\"}], \"histogram2d\": [{\"colorbar\": {\"outlinewidth\": 0, \"ticks\": \"\"}, \"colorscale\": [[0.0, \"#0d0887\"], [0.1111111111111111, \"#46039f\"], [0.2222222222222222, \"#7201a8\"], [0.3333333333333333, \"#9c179e\"], [0.4444444444444444, \"#bd3786\"], [0.5555555555555556, \"#d8576b\"], [0.6666666666666666, \"#ed7953\"], [0.7777777777777778, \"#fb9f3a\"], [0.8888888888888888, \"#fdca26\"], [1.0, \"#f0f921\"]], \"type\": \"histogram2d\"}], \"histogram2dcontour\": [{\"colorbar\": {\"outlinewidth\": 0, \"ticks\": \"\"}, \"colorscale\": [[0.0, \"#0d0887\"], [0.1111111111111111, \"#46039f\"], [0.2222222222222222, \"#7201a8\"], [0.3333333333333333, \"#9c179e\"], [0.4444444444444444, \"#bd3786\"], [0.5555555555555556, \"#d8576b\"], [0.6666666666666666, \"#ed7953\"], [0.7777777777777778, \"#fb9f3a\"], [0.8888888888888888, \"#fdca26\"], [1.0, \"#f0f921\"]], \"type\": \"histogram2dcontour\"}], \"mesh3d\": [{\"colorbar\": {\"outlinewidth\": 0, \"ticks\": \"\"}, \"type\": \"mesh3d\"}], \"parcoords\": [{\"line\": {\"colorbar\": {\"outlinewidth\": 0, \"ticks\": \"\"}}, \"type\": \"parcoords\"}], \"pie\": [{\"automargin\": true, \"type\": \"pie\"}], \"scatter\": [{\"marker\": {\"colorbar\": {\"outlinewidth\": 0, \"ticks\": \"\"}}, \"type\": \"scatter\"}], \"scatter3d\": [{\"line\": {\"colorbar\": {\"outlinewidth\": 0, \"ticks\": \"\"}}, \"marker\": {\"colorbar\": {\"outlinewidth\": 0, \"ticks\": \"\"}}, \"type\": \"scatter3d\"}], \"scattercarpet\": [{\"marker\": {\"colorbar\": {\"outlinewidth\": 0, \"ticks\": \"\"}}, \"type\": \"scattercarpet\"}], \"scattergeo\": [{\"marker\": {\"colorbar\": {\"outlinewidth\": 0, \"ticks\": \"\"}}, \"type\": \"scattergeo\"}], \"scattergl\": [{\"marker\": {\"colorbar\": {\"outlinewidth\": 0, \"ticks\": \"\"}}, \"type\": \"scattergl\"}], \"scattermapbox\": [{\"marker\": {\"colorbar\": {\"outlinewidth\": 0, \"ticks\": \"\"}}, \"type\": \"scattermapbox\"}], \"scatterpolar\": [{\"marker\": {\"colorbar\": {\"outlinewidth\": 0, \"ticks\": \"\"}}, \"type\": \"scatterpolar\"}], \"scatterpolargl\": [{\"marker\": {\"colorbar\": {\"outlinewidth\": 0, \"ticks\": \"\"}}, \"type\": \"scatterpolargl\"}], \"scatterternary\": [{\"marker\": {\"colorbar\": {\"outlinewidth\": 0, \"ticks\": \"\"}}, \"type\": \"scatterternary\"}], \"surface\": [{\"colorbar\": {\"outlinewidth\": 0, \"ticks\": \"\"}, \"colorscale\": [[0.0, \"#0d0887\"], [0.1111111111111111, \"#46039f\"], [0.2222222222222222, \"#7201a8\"], [0.3333333333333333, \"#9c179e\"], [0.4444444444444444, \"#bd3786\"], [0.5555555555555556, \"#d8576b\"], [0.6666666666666666, \"#ed7953\"], [0.7777777777777778, \"#fb9f3a\"], [0.8888888888888888, \"#fdca26\"], [1.0, \"#f0f921\"]], \"type\": \"surface\"}], \"table\": [{\"cells\": {\"fill\": {\"color\": \"#EBF0F8\"}, \"line\": {\"color\": \"white\"}}, \"header\": {\"fill\": {\"color\": \"#C8D4E3\"}, \"line\": {\"color\": \"white\"}}, \"type\": \"table\"}]}, \"layout\": {\"annotationdefaults\": {\"arrowcolor\": \"#2a3f5f\", \"arrowhead\": 0, \"arrowwidth\": 1}, \"coloraxis\": {\"colorbar\": {\"outlinewidth\": 0, \"ticks\": \"\"}}, \"colorscale\": {\"diverging\": [[0, \"#8e0152\"], [0.1, \"#c51b7d\"], [0.2, \"#de77ae\"], [0.3, \"#f1b6da\"], [0.4, \"#fde0ef\"], [0.5, \"#f7f7f7\"], [0.6, \"#e6f5d0\"], [0.7, \"#b8e186\"], [0.8, \"#7fbc41\"], [0.9, \"#4d9221\"], [1, \"#276419\"]], \"sequential\": [[0.0, \"#0d0887\"], [0.1111111111111111, \"#46039f\"], [0.2222222222222222, \"#7201a8\"], [0.3333333333333333, \"#9c179e\"], [0.4444444444444444, \"#bd3786\"], [0.5555555555555556, \"#d8576b\"], [0.6666666666666666, \"#ed7953\"], [0.7777777777777778, \"#fb9f3a\"], [0.8888888888888888, \"#fdca26\"], [1.0, \"#f0f921\"]], \"sequentialminus\": [[0.0, \"#0d0887\"], [0.1111111111111111, \"#46039f\"], [0.2222222222222222, \"#7201a8\"], [0.3333333333333333, \"#9c179e\"], [0.4444444444444444, \"#bd3786\"], [0.5555555555555556, \"#d8576b\"], [0.6666666666666666, \"#ed7953\"], [0.7777777777777778, \"#fb9f3a\"], [0.8888888888888888, \"#fdca26\"], [1.0, \"#f0f921\"]]}, \"colorway\": [\"#636efa\", \"#EF553B\", \"#00cc96\", \"#ab63fa\", \"#FFA15A\", \"#19d3f3\", \"#FF6692\", \"#B6E880\", \"#FF97FF\", \"#FECB52\"], \"font\": {\"color\": \"#2a3f5f\"}, \"geo\": {\"bgcolor\": \"white\", \"lakecolor\": \"white\", \"landcolor\": \"#E5ECF6\", \"showlakes\": true, \"showland\": true, \"subunitcolor\": \"white\"}, \"hoverlabel\": {\"align\": \"left\"}, \"hovermode\": \"closest\", \"mapbox\": {\"style\": \"light\"}, \"paper_bgcolor\": \"white\", \"plot_bgcolor\": \"#E5ECF6\", \"polar\": {\"angularaxis\": {\"gridcolor\": \"white\", \"linecolor\": \"white\", \"ticks\": \"\"}, \"bgcolor\": \"#E5ECF6\", \"radialaxis\": {\"gridcolor\": \"white\", \"linecolor\": \"white\", \"ticks\": \"\"}}, \"scene\": {\"xaxis\": {\"backgroundcolor\": \"#E5ECF6\", \"gridcolor\": \"white\", \"gridwidth\": 2, \"linecolor\": \"white\", \"showbackground\": true, \"ticks\": \"\", \"zerolinecolor\": \"white\"}, \"yaxis\": {\"backgroundcolor\": \"#E5ECF6\", \"gridcolor\": \"white\", \"gridwidth\": 2, \"linecolor\": \"white\", \"showbackground\": true, \"ticks\": \"\", \"zerolinecolor\": \"white\"}, \"zaxis\": {\"backgroundcolor\": \"#E5ECF6\", \"gridcolor\": \"white\", \"gridwidth\": 2, \"linecolor\": \"white\", \"showbackground\": true, \"ticks\": \"\", \"zerolinecolor\": \"white\"}}, \"shapedefaults\": {\"line\": {\"color\": \"#2a3f5f\"}}, \"ternary\": {\"aaxis\": {\"gridcolor\": \"white\", \"linecolor\": \"white\", \"ticks\": \"\"}, \"baxis\": {\"gridcolor\": \"white\", \"linecolor\": \"white\", \"ticks\": \"\"}, \"bgcolor\": \"#E5ECF6\", \"caxis\": {\"gridcolor\": \"white\", \"linecolor\": \"white\", \"ticks\": \"\"}}, \"title\": {\"x\": 0.05}, \"xaxis\": {\"automargin\": true, \"gridcolor\": \"white\", \"linecolor\": \"white\", \"ticks\": \"\", \"title\": {\"standoff\": 15}, \"zerolinecolor\": \"white\", \"zerolinewidth\": 2}, \"yaxis\": {\"automargin\": true, \"gridcolor\": \"white\", \"linecolor\": \"white\", \"ticks\": \"\", \"title\": {\"standoff\": 15}, \"zerolinecolor\": \"white\", \"zerolinewidth\": 2}}}, \"title\": {\"text\": \"Overall Sentiment Distribution\"}, \"xaxis\": {\"automargin\": true, \"title\": {\"text\": \"Sentiment\"}}, \"yaxis\": {\"automargin\": true, \"title\": {\"text\": \"Count\"}}},\n",
       "                        {\"showLink\": true, \"linkText\": \"Export to plot.ly\", \"plotlyServerURL\": \"https://plot.ly\", \"responsive\": true}\n",
       "                    ).then(function(){\n",
       "                            \n",
       "var gd = document.getElementById('96449f35-29d8-4885-977c-20dba6fc097b');\n",
       "var x = new MutationObserver(function (mutations, observer) {{\n",
       "        var display = window.getComputedStyle(gd).display;\n",
       "        if (!display || display === 'none') {{\n",
       "            console.log([gd, 'removed!']);\n",
       "            Plotly.purge(gd);\n",
       "            observer.disconnect();\n",
       "        }}\n",
       "}});\n",
       "\n",
       "// Listen for the removal of the full notebook cells\n",
       "var notebookContainer = gd.closest('#notebook-container');\n",
       "if (notebookContainer) {{\n",
       "    x.observe(notebookContainer, {childList: true});\n",
       "}}\n",
       "\n",
       "// Listen for the clearing of the current output cell\n",
       "var outputEl = gd.closest('.output');\n",
       "if (outputEl) {{\n",
       "    x.observe(outputEl, {childList: true});\n",
       "}}\n",
       "\n",
       "                        })\n",
       "                };\n",
       "                });\n",
       "            </script>\n",
       "        </div>"
      ]
     },
     "metadata": {},
     "output_type": "display_data"
    }
   ],
   "source": [
    "# show barchart of retweet>=5 twitter sentiment\n",
    "df_over5 = df[df['rt_count'] >= 5]\n",
    "layout1=dict(autosize=True, yaxis=dict(automargin=True, title=\"Count\"), xaxis=dict(automargin=True, title=\"Sentiment\"),title=\"Overall Sentiment Distribution\")\n",
    "df_over5['Sentiment'].value_counts().iplot(kind='bar', title = 'Sentiment Distribution for <br> tweets (Above 5)', color=\"blue\", layout=layout1)\n"
   ]
  },
  {
   "cell_type": "markdown",
   "metadata": {},
   "source": [
    "### 3.1.5 Wordcloud visualization "
   ]
  },
  {
   "cell_type": "code",
   "execution_count": 29,
   "metadata": {},
   "outputs": [],
   "source": [
    "# join clean_tweets to create text for wordcloud\n",
    "all_tweets = ' '.join(tweet for tweet in df['clean_tweet'])\n",
    "# remove stopwords and generate wordcloud content\n",
    "wordcloud = WordCloud(width = 3000, height = 2000, random_state=1, background_color='salmon', colormap='Pastel1', collocations=False, stopwords=STOPWORDS).generate(all_tweets)\n",
    "\n",
    "#wordcloud = WordCloud(width = 3000, height = 2000, random_state=1, background_color='black', colormap='Set2', collocations=False, stopwords=STOPWORDS).generate(all_tweets)\n",
    "\n",
    "#wordcloud = WordCloud(width = 3000, height = 2000, random_state=1, background_color='navy', colormap='rainbow', collocations=False, stopwords=STOPWORDS).generate(all_tweets)"
   ]
  },
  {
   "cell_type": "code",
   "execution_count": 30,
   "metadata": {},
   "outputs": [
    {
     "data": {
      "image/png": "[encoded data removed]",
      "text/plain": [
       "<Figure size 720x720 with 1 Axes>"
      ]
     },
     "metadata": {
      "needs_background": "light"
     },
     "output_type": "display_data"
    }
   ],
   "source": [
    "# import python plot graph library\n",
    "import matplotlib.pyplot as plt\n",
    "# show wordcloud\n",
    "plt.figure(figsize = (10,10))\n",
    "plt.imshow(wordcloud, interpolation='bilinear')\n",
    "plt.axis(\"off\")\n",
    "plt.show()"
   ]
  },
  {
   "cell_type": "code",
   "execution_count": 77,
   "metadata": {},
   "outputs": [
    {
     "data": {
      "application/vnd.plotly.v1+json": {
       "config": {
        "linkText": "Export to plot.ly",
        "plotlyServerURL": "https://plot.ly",
        "showLink": true
       },
       "data": [
        {
         "marker": {
          "color": "rgba(55, 128, 191, 0.6)",
          "line": {
           "color": "rgba(55, 128, 191, 1.0)",
           "width": 1
          }
         },
         "name": "0",
         "orientation": "v",
         "text": "",
         "type": "bar",
         "x": [
          "RT",
          "digitalhumanities",
          "want",
          "pursue",
          "PhD",
          "heritage",
          "archaeogaming",
          "game",
          "based",
          "learning",
          "DC",
          "two",
          "Conference",
          "Looking",
          "deadline",
          "submit",
          "proposal",
          "Join",
          "online",
          "Data"
         ],
         "y": [
          1,
          0.8095238095238095,
          0.6904761904761905,
          0.6547619047619048,
          0.6547619047619048,
          0.6547619047619048,
          0.6547619047619048,
          0.6547619047619048,
          0.6547619047619048,
          0.6547619047619048,
          0.11904761904761904,
          0.10714285714285714,
          0.09523809523809523,
          0.08333333333333333,
          0.08333333333333333,
          0.08333333333333333,
          0.08333333333333333,
          0.07142857142857142,
          0.07142857142857142,
          0.07142857142857142
         ]
        }
       ],
       "layout": {
        "autosize": true,
        "template": {
         "data": {
          "bar": [
           {
            "error_x": {
             "color": "#2a3f5f"
            },
            "error_y": {
             "color": "#2a3f5f"
            },
            "marker": {
             "line": {
              "color": "#E5ECF6",
              "width": 0.5
             }
            },
            "type": "bar"
           }
          ],
          "barpolar": [
           {
            "marker": {
             "line": {
              "color": "#E5ECF6",
              "width": 0.5
             }
            },
            "type": "barpolar"
           }
          ],
          "carpet": [
           {
            "aaxis": {
             "endlinecolor": "#2a3f5f",
             "gridcolor": "white",
             "linecolor": "white",
             "minorgridcolor": "white",
             "startlinecolor": "#2a3f5f"
            },
            "baxis": {
             "endlinecolor": "#2a3f5f",
             "gridcolor": "white",
             "linecolor": "white",
             "minorgridcolor": "white",
             "startlinecolor": "#2a3f5f"
            },
            "type": "carpet"
           }
          ],
          "choropleth": [
           {
            "colorbar": {
             "outlinewidth": 0,
             "ticks": ""
            },
            "type": "choropleth"
           }
          ],
          "contour": [
           {
            "colorbar": {
             "outlinewidth": 0,
             "ticks": ""
            },
            "colorscale": [
             [
              0,
              "#0d0887"
             ],
             [
              0.1111111111111111,
              "#46039f"
             ],
             [
              0.2222222222222222,
              "#7201a8"
             ],
             [
              0.3333333333333333,
              "#9c179e"
             ],
             [
              0.4444444444444444,
              "#bd3786"
             ],
             [
              0.5555555555555556,
              "#d8576b"
             ],
             [
              0.6666666666666666,
              "#ed7953"
             ],
             [
              0.7777777777777778,
              "#fb9f3a"
             ],
             [
              0.8888888888888888,
              "#fdca26"
             ],
             [
              1,
              "#f0f921"
             ]
            ],
            "type": "contour"
           }
          ],
          "contourcarpet": [
           {
            "colorbar": {
             "outlinewidth": 0,
             "ticks": ""
            },
            "type": "contourcarpet"
           }
          ],
          "heatmap": [
           {
            "colorbar": {
             "outlinewidth": 0,
             "ticks": ""
            },
            "colorscale": [
             [
              0,
              "#0d0887"
             ],
             [
              0.1111111111111111,
              "#46039f"
             ],
             [
              0.2222222222222222,
              "#7201a8"
             ],
             [
              0.3333333333333333,
              "#9c179e"
             ],
             [
              0.4444444444444444,
              "#bd3786"
             ],
             [
              0.5555555555555556,
              "#d8576b"
             ],
             [
              0.6666666666666666,
              "#ed7953"
             ],
             [
              0.7777777777777778,
              "#fb9f3a"
             ],
             [
              0.8888888888888888,
              "#fdca26"
             ],
             [
              1,
              "#f0f921"
             ]
            ],
            "type": "heatmap"
           }
          ],
          "heatmapgl": [
           {
            "colorbar": {
             "outlinewidth": 0,
             "ticks": ""
            },
            "colorscale": [
             [
              0,
              "#0d0887"
             ],
             [
              0.1111111111111111,
              "#46039f"
             ],
             [
              0.2222222222222222,
              "#7201a8"
             ],
             [
              0.3333333333333333,
              "#9c179e"
             ],
             [
              0.4444444444444444,
              "#bd3786"
             ],
             [
              0.5555555555555556,
              "#d8576b"
             ],
             [
              0.6666666666666666,
              "#ed7953"
             ],
             [
              0.7777777777777778,
              "#fb9f3a"
             ],
             [
              0.8888888888888888,
              "#fdca26"
             ],
             [
              1,
              "#f0f921"
             ]
            ],
            "type": "heatmapgl"
           }
          ],
          "histogram": [
           {
            "marker": {
             "colorbar": {
              "outlinewidth": 0,
              "ticks": ""
             }
            },
            "type": "histogram"
           }
          ],
          "histogram2d": [
           {
            "colorbar": {
             "outlinewidth": 0,
             "ticks": ""
            },
            "colorscale": [
             [
              0,
              "#0d0887"
             ],
             [
              0.1111111111111111,
              "#46039f"
             ],
             [
              0.2222222222222222,
              "#7201a8"
             ],
             [
              0.3333333333333333,
              "#9c179e"
             ],
             [
              0.4444444444444444,
              "#bd3786"
             ],
             [
              0.5555555555555556,
              "#d8576b"
             ],
             [
              0.6666666666666666,
              "#ed7953"
             ],
             [
              0.7777777777777778,
              "#fb9f3a"
             ],
             [
              0.8888888888888888,
              "#fdca26"
             ],
             [
              1,
              "#f0f921"
             ]
            ],
            "type": "histogram2d"
           }
          ],
          "histogram2dcontour": [
           {
            "colorbar": {
             "outlinewidth": 0,
             "ticks": ""
            },
            "colorscale": [
             [
              0,
              "#0d0887"
             ],
             [
              0.1111111111111111,
              "#46039f"
             ],
             [
              0.2222222222222222,
              "#7201a8"
             ],
             [
              0.3333333333333333,
              "#9c179e"
             ],
             [
              0.4444444444444444,
              "#bd3786"
             ],
             [
              0.5555555555555556,
              "#d8576b"
             ],
             [
              0.6666666666666666,
              "#ed7953"
             ],
             [
              0.7777777777777778,
              "#fb9f3a"
             ],
             [
              0.8888888888888888,
              "#fdca26"
             ],
             [
              1,
              "#f0f921"
             ]
            ],
            "type": "histogram2dcontour"
           }
          ],
          "mesh3d": [
           {
            "colorbar": {
             "outlinewidth": 0,
             "ticks": ""
            },
            "type": "mesh3d"
           }
          ],
          "parcoords": [
           {
            "line": {
             "colorbar": {
              "outlinewidth": 0,
              "ticks": ""
             }
            },
            "type": "parcoords"
           }
          ],
          "pie": [
           {
            "automargin": true,
            "type": "pie"
           }
          ],
          "scatter": [
           {
            "marker": {
             "colorbar": {
              "outlinewidth": 0,
              "ticks": ""
             }
            },
            "type": "scatter"
           }
          ],
          "scatter3d": [
           {
            "line": {
             "colorbar": {
              "outlinewidth": 0,
              "ticks": ""
             }
            },
            "marker": {
             "colorbar": {
              "outlinewidth": 0,
              "ticks": ""
             }
            },
            "type": "scatter3d"
           }
          ],
          "scattercarpet": [
           {
            "marker": {
             "colorbar": {
              "outlinewidth": 0,
              "ticks": ""
             }
            },
            "type": "scattercarpet"
           }
          ],
          "scattergeo": [
           {
            "marker": {
             "colorbar": {
              "outlinewidth": 0,
              "ticks": ""
             }
            },
            "type": "scattergeo"
           }
          ],
          "scattergl": [
           {
            "marker": {
             "colorbar": {
              "outlinewidth": 0,
              "ticks": ""
             }
            },
            "type": "scattergl"
           }
          ],
          "scattermapbox": [
           {
            "marker": {
             "colorbar": {
              "outlinewidth": 0,
              "ticks": ""
             }
            },
            "type": "scattermapbox"
           }
          ],
          "scatterpolar": [
           {
            "marker": {
             "colorbar": {
              "outlinewidth": 0,
              "ticks": ""
             }
            },
            "type": "scatterpolar"
           }
          ],
          "scatterpolargl": [
           {
            "marker": {
             "colorbar": {
              "outlinewidth": 0,
              "ticks": ""
             }
            },
            "type": "scatterpolargl"
           }
          ],
          "scatterternary": [
           {
            "marker": {
             "colorbar": {
              "outlinewidth": 0,
              "ticks": ""
             }
            },
            "type": "scatterternary"
           }
          ],
          "surface": [
           {
            "colorbar": {
             "outlinewidth": 0,
             "ticks": ""
            },
            "colorscale": [
             [
              0,
              "#0d0887"
             ],
             [
              0.1111111111111111,
              "#46039f"
             ],
             [
              0.2222222222222222,
              "#7201a8"
             ],
             [
              0.3333333333333333,
              "#9c179e"
             ],
             [
              0.4444444444444444,
              "#bd3786"
             ],
             [
              0.5555555555555556,
              "#d8576b"
             ],
             [
              0.6666666666666666,
              "#ed7953"
             ],
             [
              0.7777777777777778,
              "#fb9f3a"
             ],
             [
              0.8888888888888888,
              "#fdca26"
             ],
             [
              1,
              "#f0f921"
             ]
            ],
            "type": "surface"
           }
          ],
          "table": [
           {
            "cells": {
             "fill": {
              "color": "#EBF0F8"
             },
             "line": {
              "color": "white"
             }
            },
            "header": {
             "fill": {
              "color": "#C8D4E3"
             },
             "line": {
              "color": "white"
             }
            },
            "type": "table"
           }
          ]
         },
         "layout": {
          "annotationdefaults": {
           "arrowcolor": "#2a3f5f",
           "arrowhead": 0,
           "arrowwidth": 1
          },
          "coloraxis": {
           "colorbar": {
            "outlinewidth": 0,
            "ticks": ""
           }
          },
          "colorscale": {
           "diverging": [
            [
             0,
             "#8e0152"
            ],
            [
             0.1,
             "#c51b7d"
            ],
            [
             0.2,
             "#de77ae"
            ],
            [
             0.3,
             "#f1b6da"
            ],
            [
             0.4,
             "#fde0ef"
            ],
            [
             0.5,
             "#f7f7f7"
            ],
            [
             0.6,
             "#e6f5d0"
            ],
            [
             0.7,
             "#b8e186"
            ],
            [
             0.8,
             "#7fbc41"
            ],
            [
             0.9,
             "#4d9221"
            ],
            [
             1,
             "#276419"
            ]
           ],
           "sequential": [
            [
             0,
             "#0d0887"
            ],
            [
             0.1111111111111111,
             "#46039f"
            ],
            [
             0.2222222222222222,
             "#7201a8"
            ],
            [
             0.3333333333333333,
             "#9c179e"
            ],
            [
             0.4444444444444444,
             "#bd3786"
            ],
            [
             0.5555555555555556,
             "#d8576b"
            ],
            [
             0.6666666666666666,
             "#ed7953"
            ],
            [
             0.7777777777777778,
             "#fb9f3a"
            ],
            [
             0.8888888888888888,
             "#fdca26"
            ],
            [
             1,
             "#f0f921"
            ]
           ],
           "sequentialminus": [
            [
             0,
             "#0d0887"
            ],
            [
             0.1111111111111111,
             "#46039f"
            ],
            [
             0.2222222222222222,
             "#7201a8"
            ],
            [
             0.3333333333333333,
             "#9c179e"
            ],
            [
             0.4444444444444444,
             "#bd3786"
            ],
            [
             0.5555555555555556,
             "#d8576b"
            ],
            [
             0.6666666666666666,
             "#ed7953"
            ],
            [
             0.7777777777777778,
             "#fb9f3a"
            ],
            [
             0.8888888888888888,
             "#fdca26"
            ],
            [
             1,
             "#f0f921"
            ]
           ]
          },
          "colorway": [
           "#636efa",
           "#EF553B",
           "#00cc96",
           "#ab63fa",
           "#FFA15A",
           "#19d3f3",
           "#FF6692",
           "#B6E880",
           "#FF97FF",
           "#FECB52"
          ],
          "font": {
           "color": "#2a3f5f"
          },
          "geo": {
           "bgcolor": "white",
           "lakecolor": "white",
           "landcolor": "#E5ECF6",
           "showlakes": true,
           "showland": true,
           "subunitcolor": "white"
          },
          "hoverlabel": {
           "align": "left"
          },
          "hovermode": "closest",
          "mapbox": {
           "style": "light"
          },
          "paper_bgcolor": "white",
          "plot_bgcolor": "#E5ECF6",
          "polar": {
           "angularaxis": {
            "gridcolor": "white",
            "linecolor": "white",
            "ticks": ""
           },
           "bgcolor": "#E5ECF6",
           "radialaxis": {
            "gridcolor": "white",
            "linecolor": "white",
            "ticks": ""
           }
          },
          "scene": {
           "xaxis": {
            "backgroundcolor": "#E5ECF6",
            "gridcolor": "white",
            "gridwidth": 2,
            "linecolor": "white",
            "showbackground": true,
            "ticks": "",
            "zerolinecolor": "white"
           },
           "yaxis": {
            "backgroundcolor": "#E5ECF6",
            "gridcolor": "white",
            "gridwidth": 2,
            "linecolor": "white",
            "showbackground": true,
            "ticks": "",
            "zerolinecolor": "white"
           },
           "zaxis": {
            "backgroundcolor": "#E5ECF6",
            "gridcolor": "white",
            "gridwidth": 2,
            "linecolor": "white",
            "showbackground": true,
            "ticks": "",
            "zerolinecolor": "white"
           }
          },
          "shapedefaults": {
           "line": {
            "color": "#2a3f5f"
           }
          },
          "ternary": {
           "aaxis": {
            "gridcolor": "white",
            "linecolor": "white",
            "ticks": ""
           },
           "baxis": {
            "gridcolor": "white",
            "linecolor": "white",
            "ticks": ""
           },
           "bgcolor": "#E5ECF6",
           "caxis": {
            "gridcolor": "white",
            "linecolor": "white",
            "ticks": ""
           }
          },
          "title": {
           "x": 0.05
          },
          "xaxis": {
           "automargin": true,
           "gridcolor": "white",
           "linecolor": "white",
           "ticks": "",
           "title": {
            "standoff": 15
           },
           "zerolinecolor": "white",
           "zerolinewidth": 2
          },
          "yaxis": {
           "automargin": true,
           "gridcolor": "white",
           "linecolor": "white",
           "ticks": "",
           "title": {
            "standoff": 15
           },
           "zerolinecolor": "white",
           "zerolinewidth": 2
          }
         }
        },
        "title": {
         "text": "Top 20 Word count"
        },
        "xaxis": {
         "automargin": true,
         "autorange": true,
         "range": [
          -0.5,
          19.5
         ],
         "title": {
          "text": "Word"
         },
         "type": "category"
        },
        "yaxis": {
         "automargin": true,
         "autorange": true,
         "range": [
          0,
          1.0526315789473684
         ],
         "title": {
          "text": "Frequency"
         },
         "type": "linear"
        }
       }
      },
      "image/png": "[encoded data removed]",
      "text/html": [
       "<div>\n",
       "        \n",
       "        \n",
       "            <div id=\"0bbcfe41-13bb-4ae5-9b90-3c9f6476a28b\" class=\"plotly-graph-div\" style=\"height:525px; width:100%;\"></div>\n",
       "            <script type=\"text/javascript\">\n",
       "                require([\"plotly\"], function(Plotly) {\n",
       "                    window.PLOTLYENV=window.PLOTLYENV || {};\n",
       "                    window.PLOTLYENV.BASE_URL='https://plot.ly';\n",
       "                    \n",
       "                if (document.getElementById(\"0bbcfe41-13bb-4ae5-9b90-3c9f6476a28b\")) {\n",
       "                    Plotly.newPlot(\n",
       "                        '0bbcfe41-13bb-4ae5-9b90-3c9f6476a28b',\n",
       "                        [{\"marker\": {\"color\": \"rgba(55, 128, 191, 0.6)\", \"line\": {\"color\": \"rgba(55, 128, 191, 1.0)\", \"width\": 1}}, \"name\": \"0\", \"orientation\": \"v\", \"text\": \"\", \"type\": \"bar\", \"x\": [\"RT\", \"digitalhumanities\", \"want\", \"pursue\", \"PhD\", \"heritage\", \"archaeogaming\", \"game\", \"based\", \"learning\", \"DC\", \"two\", \"Conference\", \"Looking\", \"deadline\", \"submit\", \"proposal\", \"Join\", \"online\", \"Data\"], \"y\": [1.0, 0.8095238095238095, 0.6904761904761905, 0.6547619047619048, 0.6547619047619048, 0.6547619047619048, 0.6547619047619048, 0.6547619047619048, 0.6547619047619048, 0.6547619047619048, 0.11904761904761904, 0.10714285714285714, 0.09523809523809523, 0.08333333333333333, 0.08333333333333333, 0.08333333333333333, 0.08333333333333333, 0.07142857142857142, 0.07142857142857142, 0.07142857142857142]}],\n",
       "                        {\"autosize\": true, \"template\": {\"data\": {\"bar\": [{\"error_x\": {\"color\": \"#2a3f5f\"}, \"error_y\": {\"color\": \"#2a3f5f\"}, \"marker\": {\"line\": {\"color\": \"#E5ECF6\", \"width\": 0.5}}, \"type\": \"bar\"}], \"barpolar\": [{\"marker\": {\"line\": {\"color\": \"#E5ECF6\", \"width\": 0.5}}, \"type\": \"barpolar\"}], \"carpet\": [{\"aaxis\": {\"endlinecolor\": \"#2a3f5f\", \"gridcolor\": \"white\", \"linecolor\": \"white\", \"minorgridcolor\": \"white\", \"startlinecolor\": \"#2a3f5f\"}, \"baxis\": {\"endlinecolor\": \"#2a3f5f\", \"gridcolor\": \"white\", \"linecolor\": \"white\", \"minorgridcolor\": \"white\", \"startlinecolor\": \"#2a3f5f\"}, \"type\": \"carpet\"}], \"choropleth\": [{\"colorbar\": {\"outlinewidth\": 0, \"ticks\": \"\"}, \"type\": \"choropleth\"}], \"contour\": [{\"colorbar\": {\"outlinewidth\": 0, \"ticks\": \"\"}, \"colorscale\": [[0.0, \"#0d0887\"], [0.1111111111111111, \"#46039f\"], [0.2222222222222222, \"#7201a8\"], [0.3333333333333333, \"#9c179e\"], [0.4444444444444444, \"#bd3786\"], [0.5555555555555556, \"#d8576b\"], [0.6666666666666666, \"#ed7953\"], [0.7777777777777778, \"#fb9f3a\"], [0.8888888888888888, \"#fdca26\"], [1.0, \"#f0f921\"]], \"type\": \"contour\"}], \"contourcarpet\": [{\"colorbar\": {\"outlinewidth\": 0, \"ticks\": \"\"}, \"type\": \"contourcarpet\"}], \"heatmap\": [{\"colorbar\": {\"outlinewidth\": 0, \"ticks\": \"\"}, \"colorscale\": [[0.0, \"#0d0887\"], [0.1111111111111111, \"#46039f\"], [0.2222222222222222, \"#7201a8\"], [0.3333333333333333, \"#9c179e\"], [0.4444444444444444, \"#bd3786\"], [0.5555555555555556, \"#d8576b\"], [0.6666666666666666, \"#ed7953\"], [0.7777777777777778, \"#fb9f3a\"], [0.8888888888888888, \"#fdca26\"], [1.0, \"#f0f921\"]], \"type\": \"heatmap\"}], \"heatmapgl\": [{\"colorbar\": {\"outlinewidth\": 0, \"ticks\": \"\"}, \"colorscale\": [[0.0, \"#0d0887\"], [0.1111111111111111, \"#46039f\"], [0.2222222222222222, \"#7201a8\"], [0.3333333333333333, \"#9c179e\"], [0.4444444444444444, \"#bd3786\"], [0.5555555555555556, \"#d8576b\"], [0.6666666666666666, \"#ed7953\"], [0.7777777777777778, \"#fb9f3a\"], [0.8888888888888888, \"#fdca26\"], [1.0, \"#f0f921\"]], \"type\": \"heatmapgl\"}], \"histogram\": [{\"marker\": {\"colorbar\": {\"outlinewidth\": 0, \"ticks\": \"\"}}, \"type\": \"histogram\"}], \"histogram2d\": [{\"colorbar\": {\"outlinewidth\": 0, \"ticks\": \"\"}, \"colorscale\": [[0.0, \"#0d0887\"], [0.1111111111111111, \"#46039f\"], [0.2222222222222222, \"#7201a8\"], [0.3333333333333333, \"#9c179e\"], [0.4444444444444444, \"#bd3786\"], [0.5555555555555556, \"#d8576b\"], [0.6666666666666666, \"#ed7953\"], [0.7777777777777778, \"#fb9f3a\"], [0.8888888888888888, \"#fdca26\"], [1.0, \"#f0f921\"]], \"type\": \"histogram2d\"}], \"histogram2dcontour\": [{\"colorbar\": {\"outlinewidth\": 0, \"ticks\": \"\"}, \"colorscale\": [[0.0, \"#0d0887\"], [0.1111111111111111, \"#46039f\"], [0.2222222222222222, \"#7201a8\"], [0.3333333333333333, \"#9c179e\"], [0.4444444444444444, \"#bd3786\"], [0.5555555555555556, \"#d8576b\"], [0.6666666666666666, \"#ed7953\"], [0.7777777777777778, \"#fb9f3a\"], [0.8888888888888888, \"#fdca26\"], [1.0, \"#f0f921\"]], \"type\": \"histogram2dcontour\"}], \"mesh3d\": [{\"colorbar\": {\"outlinewidth\": 0, \"ticks\": \"\"}, \"type\": \"mesh3d\"}], \"parcoords\": [{\"line\": {\"colorbar\": {\"outlinewidth\": 0, \"ticks\": \"\"}}, \"type\": \"parcoords\"}], \"pie\": [{\"automargin\": true, \"type\": \"pie\"}], \"scatter\": [{\"marker\": {\"colorbar\": {\"outlinewidth\": 0, \"ticks\": \"\"}}, \"type\": \"scatter\"}], \"scatter3d\": [{\"line\": {\"colorbar\": {\"outlinewidth\": 0, \"ticks\": \"\"}}, \"marker\": {\"colorbar\": {\"outlinewidth\": 0, \"ticks\": \"\"}}, \"type\": \"scatter3d\"}], \"scattercarpet\": [{\"marker\": {\"colorbar\": {\"outlinewidth\": 0, \"ticks\": \"\"}}, \"type\": \"scattercarpet\"}], \"scattergeo\": [{\"marker\": {\"colorbar\": {\"outlinewidth\": 0, \"ticks\": \"\"}}, \"type\": \"scattergeo\"}], \"scattergl\": [{\"marker\": {\"colorbar\": {\"outlinewidth\": 0, \"ticks\": \"\"}}, \"type\": \"scattergl\"}], \"scattermapbox\": [{\"marker\": {\"colorbar\": {\"outlinewidth\": 0, \"ticks\": \"\"}}, \"type\": \"scattermapbox\"}], \"scatterpolar\": [{\"marker\": {\"colorbar\": {\"outlinewidth\": 0, \"ticks\": \"\"}}, \"type\": \"scatterpolar\"}], \"scatterpolargl\": [{\"marker\": {\"colorbar\": {\"outlinewidth\": 0, \"ticks\": \"\"}}, \"type\": \"scatterpolargl\"}], \"scatterternary\": [{\"marker\": {\"colorbar\": {\"outlinewidth\": 0, \"ticks\": \"\"}}, \"type\": \"scatterternary\"}], \"surface\": [{\"colorbar\": {\"outlinewidth\": 0, \"ticks\": \"\"}, \"colorscale\": [[0.0, \"#0d0887\"], [0.1111111111111111, \"#46039f\"], [0.2222222222222222, \"#7201a8\"], [0.3333333333333333, \"#9c179e\"], [0.4444444444444444, \"#bd3786\"], [0.5555555555555556, \"#d8576b\"], [0.6666666666666666, \"#ed7953\"], [0.7777777777777778, \"#fb9f3a\"], [0.8888888888888888, \"#fdca26\"], [1.0, \"#f0f921\"]], \"type\": \"surface\"}], \"table\": [{\"cells\": {\"fill\": {\"color\": \"#EBF0F8\"}, \"line\": {\"color\": \"white\"}}, \"header\": {\"fill\": {\"color\": \"#C8D4E3\"}, \"line\": {\"color\": \"white\"}}, \"type\": \"table\"}]}, \"layout\": {\"annotationdefaults\": {\"arrowcolor\": \"#2a3f5f\", \"arrowhead\": 0, \"arrowwidth\": 1}, \"coloraxis\": {\"colorbar\": {\"outlinewidth\": 0, \"ticks\": \"\"}}, \"colorscale\": {\"diverging\": [[0, \"#8e0152\"], [0.1, \"#c51b7d\"], [0.2, \"#de77ae\"], [0.3, \"#f1b6da\"], [0.4, \"#fde0ef\"], [0.5, \"#f7f7f7\"], [0.6, \"#e6f5d0\"], [0.7, \"#b8e186\"], [0.8, \"#7fbc41\"], [0.9, \"#4d9221\"], [1, \"#276419\"]], \"sequential\": [[0.0, \"#0d0887\"], [0.1111111111111111, \"#46039f\"], [0.2222222222222222, \"#7201a8\"], [0.3333333333333333, \"#9c179e\"], [0.4444444444444444, \"#bd3786\"], [0.5555555555555556, \"#d8576b\"], [0.6666666666666666, \"#ed7953\"], [0.7777777777777778, \"#fb9f3a\"], [0.8888888888888888, \"#fdca26\"], [1.0, \"#f0f921\"]], \"sequentialminus\": [[0.0, \"#0d0887\"], [0.1111111111111111, \"#46039f\"], [0.2222222222222222, \"#7201a8\"], [0.3333333333333333, \"#9c179e\"], [0.4444444444444444, \"#bd3786\"], [0.5555555555555556, \"#d8576b\"], [0.6666666666666666, \"#ed7953\"], [0.7777777777777778, \"#fb9f3a\"], [0.8888888888888888, \"#fdca26\"], [1.0, \"#f0f921\"]]}, \"colorway\": [\"#636efa\", \"#EF553B\", \"#00cc96\", \"#ab63fa\", \"#FFA15A\", \"#19d3f3\", \"#FF6692\", \"#B6E880\", \"#FF97FF\", \"#FECB52\"], \"font\": {\"color\": \"#2a3f5f\"}, \"geo\": {\"bgcolor\": \"white\", \"lakecolor\": \"white\", \"landcolor\": \"#E5ECF6\", \"showlakes\": true, \"showland\": true, \"subunitcolor\": \"white\"}, \"hoverlabel\": {\"align\": \"left\"}, \"hovermode\": \"closest\", \"mapbox\": {\"style\": \"light\"}, \"paper_bgcolor\": \"white\", \"plot_bgcolor\": \"#E5ECF6\", \"polar\": {\"angularaxis\": {\"gridcolor\": \"white\", \"linecolor\": \"white\", \"ticks\": \"\"}, \"bgcolor\": \"#E5ECF6\", \"radialaxis\": {\"gridcolor\": \"white\", \"linecolor\": \"white\", \"ticks\": \"\"}}, \"scene\": {\"xaxis\": {\"backgroundcolor\": \"#E5ECF6\", \"gridcolor\": \"white\", \"gridwidth\": 2, \"linecolor\": \"white\", \"showbackground\": true, \"ticks\": \"\", \"zerolinecolor\": \"white\"}, \"yaxis\": {\"backgroundcolor\": \"#E5ECF6\", \"gridcolor\": \"white\", \"gridwidth\": 2, \"linecolor\": \"white\", \"showbackground\": true, \"ticks\": \"\", \"zerolinecolor\": \"white\"}, \"zaxis\": {\"backgroundcolor\": \"#E5ECF6\", \"gridcolor\": \"white\", \"gridwidth\": 2, \"linecolor\": \"white\", \"showbackground\": true, \"ticks\": \"\", \"zerolinecolor\": \"white\"}}, \"shapedefaults\": {\"line\": {\"color\": \"#2a3f5f\"}}, \"ternary\": {\"aaxis\": {\"gridcolor\": \"white\", \"linecolor\": \"white\", \"ticks\": \"\"}, \"baxis\": {\"gridcolor\": \"white\", \"linecolor\": \"white\", \"ticks\": \"\"}, \"bgcolor\": \"#E5ECF6\", \"caxis\": {\"gridcolor\": \"white\", \"linecolor\": \"white\", \"ticks\": \"\"}}, \"title\": {\"x\": 0.05}, \"xaxis\": {\"automargin\": true, \"gridcolor\": \"white\", \"linecolor\": \"white\", \"ticks\": \"\", \"title\": {\"standoff\": 15}, \"zerolinecolor\": \"white\", \"zerolinewidth\": 2}, \"yaxis\": {\"automargin\": true, \"gridcolor\": \"white\", \"linecolor\": \"white\", \"ticks\": \"\", \"title\": {\"standoff\": 15}, \"zerolinecolor\": \"white\", \"zerolinewidth\": 2}}}, \"title\": {\"text\": \"Top 20 Word count\"}, \"xaxis\": {\"automargin\": true, \"title\": {\"text\": \"Word\"}}, \"yaxis\": {\"automargin\": true, \"title\": {\"text\": \"Frequency\"}}},\n",
       "                        {\"showLink\": true, \"linkText\": \"Export to plot.ly\", \"plotlyServerURL\": \"https://plot.ly\", \"responsive\": true}\n",
       "                    ).then(function(){\n",
       "                            \n",
       "var gd = document.getElementById('0bbcfe41-13bb-4ae5-9b90-3c9f6476a28b');\n",
       "var x = new MutationObserver(function (mutations, observer) {{\n",
       "        var display = window.getComputedStyle(gd).display;\n",
       "        if (!display || display === 'none') {{\n",
       "            console.log([gd, 'removed!']);\n",
       "            Plotly.purge(gd);\n",
       "            observer.disconnect();\n",
       "        }}\n",
       "}});\n",
       "\n",
       "// Listen for the removal of the full notebook cells\n",
       "var notebookContainer = gd.closest('#notebook-container');\n",
       "if (notebookContainer) {{\n",
       "    x.observe(notebookContainer, {childList: true});\n",
       "}}\n",
       "\n",
       "// Listen for the clearing of the current output cell\n",
       "var outputEl = gd.closest('.output');\n",
       "if (outputEl) {{\n",
       "    x.observe(outputEl, {childList: true});\n",
       "}}\n",
       "\n",
       "                        })\n",
       "                };\n",
       "                });\n",
       "            </script>\n",
       "        </div>"
      ]
     },
     "metadata": {},
     "output_type": "display_data"
    }
   ],
   "source": [
    "# show barchart form word frequency\n",
    "df_freq = pd.DataFrame.from_dict(data = wordcloud.words_, orient='index')\n",
    "df_freq = df_freq.head(20)\n",
    "layout1=dict(autosize=True, yaxis=dict(automargin=True, title=\"Frequency\"), xaxis=dict(automargin=True, title=\"Word\"),title=\"Top 20 Word count\")\n",
    "df_freq.iplot(kind='bar', title = 'Top 20 Word frequency', color=\"blue\", layout=layout1)\n"
   ]
  }
 ],
 "metadata": {
  "kernelspec": {
   "display_name": "Python 3",
   "language": "python",
   "name": "python3"
  },
  "language_info": {
   "codemirror_mode": {
    "name": "ipython",
    "version": 3
   },
   "file_extension": ".py",
   "mimetype": "text/x-python",
   "name": "python",
   "nbconvert_exporter": "python",
   "pygments_lexer": "ipython3",
   "version": "3.6.9"
  }
 },
 "nbformat": 4,
 "nbformat_minor": 4
}
