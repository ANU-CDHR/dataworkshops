{
 "cells": [
  {
   "cell_type": "markdown",
   "metadata": {},
   "source": [
    "2 Data preparation and cleaning\n",
    "======\n",
    "***"
   ]
  },
  {
   "cell_type": "markdown",
   "metadata": {},
   "source": [
    "2.1 Wikipedia data preparation and cleaning\n",
    "------"
   ]
  },
  {
   "cell_type": "code",
   "execution_count": 152,
   "metadata": {},
   "outputs": [],
   "source": [
    "import pandas as pd \n",
    "pd.set_option('display.max_rows', 100)"
   ]
  },
  {
   "cell_type": "code",
   "execution_count": 153,
   "metadata": {},
   "outputs": [
    {
     "name": "stdout",
     "output_type": "stream",
     "text": [
      "                              Name Modern (and former) nationality Centuries  \\\n",
      "0                 Antonio de Abreu                      Portuguese      16th   \n",
      "1                    William Adams                         English      17th   \n",
      "2                     Diogo Afonso                      Portuguese      15th   \n",
      "3  Sir Crispin Agnew of Lochnaw Bt                        Scottish      20th   \n",
      "4                  Charles Albanel                          French      17th   \n",
      "\n",
      "                                 Main areas explored  \n",
      "0                                          Indonesia  \n",
      "1                                              Japan  \n",
      "2                            Northwest African coast  \n",
      "3  Greenland, Elephant Island, Northern Patagonia...  \n",
      "4                                             Canada  \n",
      "(596, 4)\n"
     ]
    }
   ],
   "source": [
    "# Read data from file \n",
    "data = pd.read_csv(\"output_List_of_explorers_t0.tsv\",sep='\\t') \n",
    "# Preview the first 5 lines of the loaded data \n",
    "print(data.head())\n",
    "print(data.shape)\n"
   ]
  },
  {
   "cell_type": "code",
   "execution_count": 154,
   "metadata": {},
   "outputs": [
    {
     "data": {
      "text/plain": [
       "(596, 4)"
      ]
     },
     "execution_count": 154,
     "metadata": {},
     "output_type": "execute_result"
    }
   ],
   "source": [
    "data.drop_duplicates()\n",
    "data.shape"
   ]
  },
  {
   "cell_type": "code",
   "execution_count": 155,
   "metadata": {},
   "outputs": [
    {
     "name": "stdout",
     "output_type": "stream",
     "text": [
      "19th            132\n",
      "16th             87\n",
      "20th             73\n",
      "18th             55\n",
      "15th             49\n",
      "17th             47\n",
      "19th/20th        31\n",
      "15th/16th        28\n",
      "18th/19th        14\n",
      "20th/21st        13\n",
      "16th/17th        10\n",
      "21st              9\n",
      "13th              6\n",
      "9th               5\n",
      "14th              5\n",
      "10th              4\n",
      "6th BC            4\n",
      "11th              3\n",
      "8th               3\n",
      "4th BC            3\n",
      "13th/14th         2\n",
      "2nd BC            2\n",
      "1st BC            2\n",
      "17th/18th         2\n",
      "21st/20th BC      1\n",
      "6th               1\n",
      "12th              1\n",
      "15th BC           1\n",
      "7th               1\n",
      "3rd BC            1\n",
      "5th BC            1\n",
      "Name: Centuries, dtype: int64\n"
     ]
    }
   ],
   "source": [
    "print(data['Centuries'].value_counts(ascending=False))\n"
   ]
  },
  {
   "cell_type": "code",
   "execution_count": 156,
   "metadata": {},
   "outputs": [
    {
     "name": "stdout",
     "output_type": "stream",
     "text": [
      "  nationality  counts\n",
      "0  Portuguese     100\n",
      "1     English      69\n",
      "2     Spanish      57\n",
      "3    American      51\n",
      "4     Russian      36\n",
      "(95, 2)\n"
     ]
    }
   ],
   "source": [
    "\n",
    "natCountF = data['Modern (and former) nationality'].value_counts(ascending=False).rename_axis('nationality').reset_index(name='counts')\n",
    "print(natCountF.head())\n",
    "print(natCountF.shape)\n",
    "#print(natCountF)"
   ]
  },
  {
   "cell_type": "code",
   "execution_count": 157,
   "metadata": {},
   "outputs": [
    {
     "name": "stdout",
     "output_type": "stream",
     "text": [
      "                              name nationality century  \\\n",
      "0                 Antonio de Abreu  Portuguese    16th   \n",
      "1                    William Adams     English    17th   \n",
      "2                     Diogo Afonso  Portuguese    15th   \n",
      "3  Sir Crispin Agnew of Lochnaw Bt    Scottish    20th   \n",
      "4                  Charles Albanel      French    17th   \n",
      "\n",
      "                                                area  \n",
      "0                                          Indonesia  \n",
      "1                                              Japan  \n",
      "2                            Northwest African coast  \n",
      "3  Greenland, Elephant Island, Northern Patagonia...  \n",
      "4                                             Canada  \n"
     ]
    }
   ],
   "source": [
    "# rename columns\n",
    "data.columns = ['name','nationality','century','area']\n",
    "print(data.head())"
   ]
  },
  {
   "cell_type": "code",
   "execution_count": 158,
   "metadata": {},
   "outputs": [
    {
     "name": "stdout",
     "output_type": "stream",
     "text": [
      "0    16th\n",
      "1    17th\n",
      "2    15th\n",
      "3    20th\n",
      "4    17th\n",
      "Name: century, dtype: object\n",
      "                              name nationality  \\\n",
      "0                 Antonio de Abreu  Portuguese   \n",
      "1                    William Adams     English   \n",
      "2                     Diogo Afonso  Portuguese   \n",
      "3  Sir Crispin Agnew of Lochnaw Bt    Scottish   \n",
      "4                  Charles Albanel      French   \n",
      "\n",
      "                                                area century  \n",
      "0                                          Indonesia    16th  \n",
      "1                                              Japan    17th  \n",
      "2                            Northwest African coast    15th  \n",
      "3  Greenland, Elephant Island, Northern Patagonia...    20th  \n",
      "4                                             Canada    17th  \n",
      "(697, 4)\n"
     ]
    }
   ],
   "source": [
    "from pandas import Series\n",
    "# copy dataframe to cleandata\n",
    "cleandata = data.copy()\n",
    "# split centuries by / to seperated rows \n",
    "century = cleandata['century'].str.split('/').apply(Series, 1).stack()\n",
    "# line up with clean data index\n",
    "century.index = century.index.droplevel(-1)\n",
    "# set join column name\n",
    "century.name = 'century'\n",
    "print(century.head())\n",
    "\n",
    "# remove original century column\n",
    "del cleandata['century']\n",
    "# join with century dataframe\n",
    "cleandata = cleandata.join(century)\n",
    "# reindex\n",
    "cleandata=cleandata.reset_index(drop=True)\n",
    "print(cleandata.head())\n",
    "#print(cleandata)\n",
    "print(cleandata.shape)"
   ]
  },
  {
   "cell_type": "code",
   "execution_count": 159,
   "metadata": {},
   "outputs": [],
   "source": [
    "#print(cleandata)"
   ]
  },
  {
   "cell_type": "code",
   "execution_count": 160,
   "metadata": {},
   "outputs": [
    {
     "name": "stdout",
     "output_type": "stream",
     "text": [
      "0    Portuguese\n",
      "1       English\n",
      "2    Portuguese\n",
      "3      Scottish\n",
      "4        French\n",
      "Name: nationality, dtype: object\n",
      "                              name  \\\n",
      "0                 Antonio de Abreu   \n",
      "1                    William Adams   \n",
      "2                     Diogo Afonso   \n",
      "3  Sir Crispin Agnew of Lochnaw Bt   \n",
      "4                  Charles Albanel   \n",
      "\n",
      "                                                area century nationality  \n",
      "0                                          Indonesia    16th  Portuguese  \n",
      "1                                              Japan    17th     English  \n",
      "2                            Northwest African coast    15th  Portuguese  \n",
      "3  Greenland, Elephant Island, Northern Patagonia...    20th    Scottish  \n",
      "4                                             Canada    17th      French  \n",
      "(816, 4)\n"
     ]
    }
   ],
   "source": [
    "# split nationalities by - to seperated rows, , also need to clean – , () and / [11]\n",
    "nationality = cleandata['nationality'].str.split('-|–|,|/|and|\\(|\\)|\\[11]| ').apply(Series, 1).stack()\n",
    "# line up with clean data index\n",
    "nationality.index = nationality.index.droplevel(-1)\n",
    "# set join column name\n",
    "nationality.name = 'nationality'\n",
    "print(nationality.head())\n",
    "\n",
    "# remove original nationality column\n",
    "del cleandata['nationality']\n",
    "# join with nationality dataframe\n",
    "cleandata = cleandata.join(nationality)\n",
    "# reindex\n",
    "cleandata=cleandata.reset_index(drop=True)\n",
    "print(cleandata.head())\n",
    "print(cleandata.shape)"
   ]
  },
  {
   "cell_type": "code",
   "execution_count": 161,
   "metadata": {},
   "outputs": [],
   "source": [
    "# trim empty space before and after content\n",
    "cleandata['nationality'] = cleandata['nationality'].str.strip()\n",
    "# remove roww with empty nationality\n",
    "cleandata = cleandata[cleandata['nationality']!='']\n",
    "\n",
    "# reindex\n",
    "cleandata=cleandata.reset_index(drop=True)"
   ]
  },
  {
   "cell_type": "code",
   "execution_count": 164,
   "metadata": {},
   "outputs": [
    {
     "data": {
      "text/plain": [
       "(787, 4)"
      ]
     },
     "execution_count": 164,
     "metadata": {},
     "output_type": "execute_result"
    }
   ],
   "source": [
    "#print(cleandata)\n",
    "cleandata.drop_duplicates()\n",
    "cleandata.shape"
   ]
  },
  {
   "cell_type": "code",
   "execution_count": 163,
   "metadata": {},
   "outputs": [],
   "source": [
    "cleandata.to_csv('{}.csv'.format(\"cleandata_explorers\"),index = False, header=True)"
   ]
  }
 ],
 "metadata": {
  "kernelspec": {
   "display_name": "Python 3",
   "language": "python",
   "name": "python3"
  },
  "language_info": {
   "codemirror_mode": {
    "name": "ipython",
    "version": 3
   },
   "file_extension": ".py",
   "mimetype": "text/x-python",
   "name": "python",
   "nbconvert_exporter": "python",
   "pygments_lexer": "ipython3",
   "version": "3.6.9"
  }
 },
 "nbformat": 4,
 "nbformat_minor": 4
}
