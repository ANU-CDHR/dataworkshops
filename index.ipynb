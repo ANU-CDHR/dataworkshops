{
 "cells": [
  {
   "cell_type": "markdown",
   "metadata": {},
   "source": [
    "These notebooks showcase the processes of data gathering and visualization including data gathering for social media platforms, wikipedia, webpage, news sources and so on through APIs, download and webscraping; data cleaning and preparation; data analysis and visualization from the acquired data."
   ]
  },
  {
   "cell_type": "markdown",
   "metadata": {},
   "source": [
    "<b>1 Data gathering</b>\n",
    "======\n",
    "***"
   ]
  },
  {
   "cell_type": "markdown",
   "metadata": {},
   "source": [
    "1.1 Getting data via APIs\n",
    "------\n"
   ]
  },
  {
   "cell_type": "markdown",
   "metadata": {},
   "source": [
    "### 1.1.1 Twitter API"
   ]
  },
  {
   "cell_type": "markdown",
   "metadata": {},
   "source": [
    "<a data-content=\"Twitter\" href=\"1.1.1.datagathering-api-twitter.ipynb\" target=\"_blank\" class=\"test\"><img class='thumbnail' width=\"200\" style='float: left; width: 18%; height: 18%; margin-right: 15px; margin-top: 15px; -web-kit-shadow: None !important; box-shadow: None !important; margin-bottom: 0px;' src=\"images/Twitter_Logo_WhiteOnBlue.png\"></a>\n"
   ]
  },
  {
   "cell_type": "markdown",
   "metadata": {},
   "source": [
    "1.2 Getting data via Web scraping\n",
    "------"
   ]
  },
  {
   "cell_type": "markdown",
   "metadata": {},
   "source": [
    "### 1.2.1 Scraping Wikipedia page"
   ]
  },
  {
   "cell_type": "markdown",
   "metadata": {},
   "source": [
    "<a data-content=\"Wiki\" href=\"1.2.1.datagathering-webscraping-wiki.ipynb\" target=\"_blank\" class=\"test\"><img class='thumbnail' width=\"200\" style='float: left; width: 18%; height: 18%; margin-right: 15px; margin-top: 15px; -web-kit-shadow: None !important; box-shadow: None !important; margin-bottom: 0px;' src=\"images/Wikipedia-logo.png\"></a>"
   ]
  },
  {
   "cell_type": "markdown",
   "metadata": {},
   "source": [
    "1.3 Getting data via Public data sources\n",
    "------"
   ]
  },
  {
   "cell_type": "markdown",
   "metadata": {},
   "source": [
    "### 1.3.1 Kaggle"
   ]
  },
  {
   "cell_type": "markdown",
   "metadata": {},
   "source": [
    "<a data-content=\"Kaggle\" href=\"1.3.1. 2.2.datapreclean-kaggle.ipynb\" target=\"_blank\" class=\"test\"><img class='thumbnail' width=\"200\" style='float: left; width: 18%; height: 18%; margin-right: 15px; margin-top: 15px; -web-kit-shadow: None !important; box-shadow: None !important; margin-bottom: 0px;' src=\"images/Kaggle_logo.png\"></a>"
   ]
  },
  {
   "cell_type": "markdown",
   "metadata": {},
   "source": [
    "<b>2 Data preparation and cleaning</b>\n",
    "======\n",
    "***"
   ]
  },
  {
   "cell_type": "markdown",
   "metadata": {},
   "source": [
    "2.1 Wikipedia data preparation and cleaning\n",
    "------"
   ]
  },
  {
   "cell_type": "markdown",
   "metadata": {},
   "source": [
    "<a data-content=\"Wiki\" href=\"2.1.datapreclean-wiki.ipynb\" target=\"_blank\" class=\"test\"><img class='thumbnail' width=\"200\" style='float: left; width: 23%; height: 23%; margin-right: 15px; margin-top: 15px; -web-kit-shadow: None !important; box-shadow: None !important; margin-bottom: 0px;' src=\"images/wiki-vis.png\"></a>"
   ]
  },
  {
   "cell_type": "markdown",
   "metadata": {},
   "source": [
    "2.2 Kaggle data preparation and cleaning\n",
    "------"
   ]
  },
  {
   "cell_type": "markdown",
   "metadata": {},
   "source": [
    "<a data-content=\"Kabble\" href=\"1.3.1. 2.2.datapreclean-kaggle.ipynb\" target=\"_blank\" class=\"test\"><img class='thumbnail' width=\"200\" style='float: left; width: 23%; height: 23%; margin-right: 15px; margin-top: 15px; -web-kit-shadow: None !important; box-shadow: None !important; margin-bottom: 0px;' src=\"images/Kaggle-pre.png\"></a>\n"
   ]
  },
  {
   "cell_type": "markdown",
   "metadata": {},
   "source": [
    "<b>3 Data analysis and visualization</b>\n",
    "======\n",
    "***"
   ]
  },
  {
   "cell_type": "markdown",
   "metadata": {},
   "source": [
    "3.1 Twitter\n",
    "------"
   ]
  },
  {
   "cell_type": "markdown",
   "metadata": {},
   "source": [
    "<a data-content=\"Twitter\" href=\"3.1.datavisualization-twitter.ipynb\" target=\"_blank\" class=\"test\"><img class='thumbnail' width=\"200\" style='float: left; width: 23%; height: 23%; margin-right: 15px; margin-top: 15px; -web-kit-shadow: None !important; box-shadow: None !important; margin-bottom: 0px;' src=\"images/twitter-vis2.png\"></a>\n"
   ]
  },
  {
   "cell_type": "markdown",
   "metadata": {},
   "source": [
    "3.2 Wikipeida\n",
    "------"
   ]
  },
  {
   "cell_type": "markdown",
   "metadata": {},
   "source": [
    "<a data-content=\"Wiki\" href=\"3.2.datavisualization-wiki.ipynb\" target=\"_blank\" class=\"test\"><img class='thumbnail' width=\"200\" style='float: left; width: 25%; height: 30%; margin-right: 15px; margin-top: 15px; -web-kit-shadow: None !important; box-shadow: None !important; margin-bottom: 0px;' src=\"images/wiki-vis2.png\"></a>\n"
   ]
  },
  {
   "cell_type": "markdown",
   "metadata": {},
   "source": [
    "3.3 Kaggle\n",
    "------"
   ]
  },
  {
   "cell_type": "markdown",
   "metadata": {},
   "source": [
    "<a data-content=\"Twitter\" href=\"3.3.datavisualization-kaggle.ipynb\" target=\"_blank\" class=\"test\"><img class='thumbnail' width=\"200\" style='float: left; width: 23%; height: 23%; margin-right: 15px; margin-top: 15px; -web-kit-shadow: None !important; box-shadow: None !important; margin-bottom: 0px;' src=\"images/titanic-vis2.png\"></a>\n"
   ]
  },
  {
   "cell_type": "code",
   "execution_count": null,
   "metadata": {},
   "outputs": [],
   "source": []
  }
 ],
 "metadata": {
  "kernelspec": {
   "display_name": "Python 3",
   "language": "python",
   "name": "python3"
  },
  "language_info": {
   "codemirror_mode": {
    "name": "ipython",
    "version": 3
   },
   "file_extension": ".py",
   "mimetype": "text/x-python",
   "name": "python",
   "nbconvert_exporter": "python",
   "pygments_lexer": "ipython3",
   "version": "3.6.9"
  }
 },
 "nbformat": 4,
 "nbformat_minor": 4
}
