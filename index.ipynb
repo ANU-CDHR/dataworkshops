{
 "cells": [
  {
   "cell_type": "markdown",
   "metadata": {},
   "source": [
    "These notebooks showcase the processes of data gathering and visualization including data gathering for social media platforms, wikipedia, webpage, news sources and so on through APIs, download and webscraping; data cleaning and preparation; data analysis and visualization from the acquired data.\n",
    "======\n",
    "***"
   ]
  },
  {
   "cell_type": "markdown",
   "metadata": {},
   "source": [
    "<br/>"
   ]
  },
  {
   "cell_type": "markdown",
   "metadata": {},
   "source": [
    "<b>1 Twitter</b>\n",
    "======\n",
    "***"
   ]
  },
  {
   "cell_type": "markdown",
   "metadata": {},
   "source": [
    "1.1 Getting data via Twitter APIs\n",
    "------\n"
   ]
  },
  {
   "cell_type": "markdown",
   "metadata": {},
   "source": [
    "<a data-content=\"Twitter\" href=\"1.1.datagathering-api-twitter.ipynb\" target=\"_blank\" onclick=\"return ! window.open(this.href);\" class=\"test\"><img class='thumbnail' width=\"200\" style='float: left; width: 16%; height: 15%; margin-right: 15px; margin-top: 15px; -web-kit-shadow: None !important; box-shadow: None !important; margin-bottom: 0px;' src=\"images/Twitter_Logo_WhiteOnBlue.png\"></a>\n"
   ]
  },
  {
   "cell_type": "markdown",
   "metadata": {},
   "source": [
    "<br/>"
   ]
  },
  {
   "cell_type": "markdown",
   "metadata": {},
   "source": [
    "1.2 Twitter data analysis and visualization\n",
    "------"
   ]
  },
  {
   "cell_type": "markdown",
   "metadata": {},
   "source": [
    "<a data-content=\"Twitter\" href=\"1.2.datavisualization-twitter.ipynb\" target=\"_blank\" onclick=\"return ! window.open(this.href);\" class=\"test\"><img class='thumbnail' width=\"200\" style='float: left; width: 23%; height: 23%; margin-right: 15px; margin-top: 15px; -web-kit-shadow: None !important; box-shadow: None !important; margin-bottom: 0px;' src=\"images/twitter-vis2.png\"></a>\n"
   ]
  },
  {
   "cell_type": "markdown",
   "metadata": {},
   "source": [
    "<br/>\n"
   ]
  },
  {
   "cell_type": "markdown",
   "metadata": {},
   "source": [
    "<b>2 Wikipedia</b>\n",
    "======\n",
    "***"
   ]
  },
  {
   "cell_type": "markdown",
   "metadata": {},
   "source": [
    "2.1 Getting data via web scraping Wikipedia page\n",
    "------"
   ]
  },
  {
   "cell_type": "markdown",
   "metadata": {},
   "source": [
    "<a data-content=\"Wiki\" href=\"2.1.datagathering-webscraping-wiki.ipynb\" target=\"_blank\" onclick=\"return ! window.open(this.href);\" class=\"test\"><img class='thumbnail' width=\"200\" style='float: left; width: 17%; height: 17%; margin-right: 15px; margin-top: 15px; -web-kit-shadow: None !important; box-shadow: None !important; margin-bottom: 0px;' src=\"images/Wikipedia-logo.png\"></a>"
   ]
  },
  {
   "cell_type": "markdown",
   "metadata": {},
   "source": [
    "<br/>\n"
   ]
  },
  {
   "cell_type": "markdown",
   "metadata": {},
   "source": [
    "2.2 Wikipedia data preparation and cleaning\n",
    "------"
   ]
  },
  {
   "cell_type": "markdown",
   "metadata": {},
   "source": [
    "<a data-content=\"Wiki\" href=\"2.2.datapreclean-wiki.ipynb\" target=\"_blank\" onclick=\"return ! window.open(this.href);\" class=\"test\"><img class='thumbnail' width=\"200\" style='float: left; width: 23%; height: 23%; margin-right: 15px; margin-top: 15px; -web-kit-shadow: None !important; box-shadow: None !important; margin-bottom: 0px;' src=\"images/wiki-vis.png\"></a>"
   ]
  },
  {
   "cell_type": "markdown",
   "metadata": {},
   "source": [
    "<br/>\n"
   ]
  },
  {
   "cell_type": "markdown",
   "metadata": {},
   "source": [
    "2.3 Wikipedia data analysis and visualization\n",
    "------"
   ]
  },
  {
   "cell_type": "markdown",
   "metadata": {},
   "source": [
    "<a data-content=\"Wiki\" href=\"2.3.datavisualization-wiki.ipynb\" target=\"_blank\" onclick=\"return ! window.open(this.href);\" class=\"test\"><img class='thumbnail' width=\"200\" style='float: left; width: 25%; height: 30%; margin-right: 15px; margin-top: 15px; -web-kit-shadow: None !important; box-shadow: None !important; margin-bottom: 0px;' src=\"images/wiki-vis2.png\"></a>\n"
   ]
  },
  {
   "cell_type": "markdown",
   "metadata": {},
   "source": [
    "<br/>\n"
   ]
  },
  {
   "cell_type": "markdown",
   "metadata": {},
   "source": [
    "<br/>\n"
   ]
  },
  {
   "cell_type": "markdown",
   "metadata": {},
   "source": [
    "<b>3 Google play</b>\n",
    "======\n",
    "***"
   ]
  },
  {
   "cell_type": "markdown",
   "metadata": {},
   "source": [
    "3.1 Getting review data via web scraping Google play app page\n",
    "------"
   ]
  },
  {
   "cell_type": "markdown",
   "metadata": {},
   "source": [
    "<a data-content=\"Wiki\" href=\"3.1.datagathering-webscraping-googleplay.ipynb\" target=\"_blank\" onclick=\"return ! window.open(this.href);\" class=\"test\"><img class='thumbnail' width=\"200\" style='float: left; width: 20%; height: 20%; margin-right: 15px; margin-top: 15px; -web-kit-shadow: None !important; box-shadow: None !important; margin-bottom: 0px;' src=\"images/google-play-badge.png\"></a>\n"
   ]
  },
  {
   "cell_type": "markdown",
   "metadata": {},
   "source": [
    "<br/>\n"
   ]
  },
  {
   "cell_type": "markdown",
   "metadata": {},
   "source": [
    "3.2 Google play app review data analysis and visualization\n",
    "------"
   ]
  },
  {
   "cell_type": "markdown",
   "metadata": {},
   "source": [
    "<a data-content=\"Twitter\" href=\"3.2.datavisualization-googleplay.ipynb\" target=\"_blank\" onclick=\"return ! window.open(this.href);\" class=\"test\"><img class='thumbnail' width=\"200\" style='float: left; width: 25%; height: 30%; margin-right: 15px; margin-top: 15px; -web-kit-shadow: None !important; box-shadow: None !important; margin-bottom: 0px;' src=\"images/googleplay-vis.png\"></a>\n"
   ]
  },
  {
   "cell_type": "markdown",
   "metadata": {},
   "source": [
    "<br/>\n"
   ]
  },
  {
   "cell_type": "markdown",
   "metadata": {},
   "source": [
    "<b>4 Kaggle</b>\n",
    "======\n",
    "***"
   ]
  },
  {
   "cell_type": "markdown",
   "metadata": {},
   "source": [
    "4.1 Getting data via public data sources - Kaggle\n",
    "------"
   ]
  },
  {
   "cell_type": "markdown",
   "metadata": {},
   "source": [
    "<a data-content=\"Kaggle\" href=\"4.1 4.2.datapreclean-kaggle.ipynb\" target=\"_blank\" onclick=\"return ! window.open(this.href);\" class=\"test\"><img class='thumbnail' width=\"200\" style='float: left; width: 18%; height: 18%; margin-right: 15px; margin-top: 15px; -web-kit-shadow: None !important; box-shadow: None !important; margin-bottom: 0px;' src=\"images/Kaggle_logo.png\"></a>"
   ]
  },
  {
   "cell_type": "markdown",
   "metadata": {},
   "source": [
    "<br/>\n"
   ]
  },
  {
   "cell_type": "markdown",
   "metadata": {},
   "source": [
    "4.2 Kaggle data preparation and cleaning\n",
    "------"
   ]
  },
  {
   "cell_type": "markdown",
   "metadata": {},
   "source": [
    "<a data-content=\"Kaggle\" href=\"4.1 4.2.datapreclean-kaggle.ipynb\" target=\"_blank\" onclick=\"return ! window.open(this.href);\" class=\"test\"><img class='thumbnail' width=\"200\" style='float: left; width: 23%; height: 23%; margin-right: 15px; margin-top: 15px; -web-kit-shadow: None !important; box-shadow: None !important; margin-bottom: 0px;' src=\"images/Kaggle-pre.png\"></a>\n"
   ]
  },
  {
   "cell_type": "markdown",
   "metadata": {},
   "source": [
    "<br/>\n"
   ]
  },
  {
   "cell_type": "markdown",
   "metadata": {},
   "source": [
    "4.3 Kaggle data analysis and visualization\n",
    "------"
   ]
  },
  {
   "cell_type": "markdown",
   "metadata": {},
   "source": [
    "<a data-content=\"Twitter\" href=\"4.3.datavisualization-kaggle.ipynb\" target=\"_blank\" onclick=\"return ! window.open(this.href);\" class=\"test\"><img class='thumbnail' width=\"200\" style='float: left; width: 23%; height: 23%; margin-right: 15px; margin-top: 15px; -web-kit-shadow: None !important; box-shadow: None !important; margin-bottom: 0px;' src=\"images/titanic-vis2.png\"></a>\n"
   ]
  },
  {
   "cell_type": "markdown",
   "metadata": {},
   "source": [
    "<br/><br/>"
   ]
  }
 ],
 "metadata": {
  "kernelspec": {
   "display_name": "Python 3",
   "language": "python",
   "name": "python3"
  },
  "language_info": {
   "codemirror_mode": {
    "name": "ipython",
    "version": 3
   },
   "file_extension": ".py",
   "mimetype": "text/x-python",
   "name": "python",
   "nbconvert_exporter": "python",
   "pygments_lexer": "ipython3",
   "version": "3.6.9"
  }
 },
 "nbformat": 4,
 "nbformat_minor": 4
}
