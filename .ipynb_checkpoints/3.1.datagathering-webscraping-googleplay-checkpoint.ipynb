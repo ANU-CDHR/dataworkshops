{
 "cells": [
  {
   "cell_type": "markdown",
   "metadata": {},
   "source": [
    "3.1 Getting review data via web scraping Google play app page\n",
    "======"
   ]
  },
  {
   "cell_type": "markdown",
   "metadata": {},
   "source": [
    "**In this section we demonstrate how to scrape Google play app page, especially the one with large amount of review data such as Whatsapp. A customised reviews_all function is used below to save the retrieved data into sepereated CSV files with 100000 reviews per file. Be mindful that the process may take a long time and occupy much space depends on the number of reviews for the requested Google play app. Eg, Whatsapp return around 12 millions reviews and 3GB data.**"
   ]
  },
  {
   "cell_type": "markdown",
   "metadata": {},
   "source": [
    "_The following Python modules need to be installed in order to run this notebook (run without ! under command line or with ! in the notebook, for SWAN, see https://support.aarnet.edu.au/hc/en-us/articles/360000668076-How-do-I-add-code-libraries-to-my-Notebook-):_"
   ]
  },
  {
   "cell_type": "code",
   "execution_count": null,
   "metadata": {},
   "outputs": [],
   "source": [
    "# comment out to run install\n",
    "#!pip install google_play_scraper"
   ]
  },
  {
   "cell_type": "markdown",
   "metadata": {},
   "source": [
    "**Import required libraries.**"
   ]
  },
  {
   "cell_type": "code",
   "execution_count": 1,
   "metadata": {},
   "outputs": [],
   "source": [
    "from google_play_scraper import app\n",
    "from google_play_scraper import Sort, reviews, reviews_all\n",
    "import json\n",
    "import pandas as pd\n",
    "from time import sleep\n",
    "import os\n",
    "import random\n",
    "import math\n"
   ]
  },
  {
   "cell_type": "markdown",
   "metadata": {},
   "source": [
    "**Get app information from app id.**"
   ]
  },
  {
   "cell_type": "code",
   "execution_count": 2,
   "metadata": {},
   "outputs": [],
   "source": [
    "result = app(\n",
    "    'com.yummly.android',\n",
    "    lang='en', # defaults to 'en'\n",
    "    country='us' # defaults to 'us'\n",
    ")\n",
    "#print(result)"
   ]
  },
  {
   "cell_type": "markdown",
   "metadata": {},
   "source": [
    "**Test getting first 3 most relevant reviews. Read more at https://github.com/JoMingyu/google-play-scraper.**"
   ]
  },
  {
   "cell_type": "code",
   "execution_count": 3,
   "metadata": {},
   "outputs": [],
   "source": [
    "\n",
    "\n",
    "result, continuation_token = reviews(\n",
    "    'com.yummly.android',\n",
    "    lang='en', # defaults to 'en'\n",
    "    country='us', # defaults to 'us'\n",
    "    sort=Sort.MOST_RELEVANT, # defaults to Sort.MOST_RELEVANT\n",
    "    count=3, # defaults to 100\n",
    "    #filter_score_with=5 # defaults to None(means all score)\n",
    ")\n",
    "\n",
    "# If you pass `continuation_token` as an argument to the reviews function at this point,\n",
    "# it will crawl the items after 3 review items.\n",
    "\n",
    "result, _ = reviews(\n",
    "    'com.whatsapp',\n",
    "    continuation_token=continuation_token # defaults to None(load from the beginning)\n",
    ")"
   ]
  },
  {
   "cell_type": "markdown",
   "metadata": {},
   "source": [
    "**Print and check result.**"
   ]
  },
  {
   "cell_type": "code",
   "execution_count": 4,
   "metadata": {},
   "outputs": [
    {
     "name": "stdout",
     "output_type": "stream",
     "text": [
      "3\n",
      "[{'reviewId': 'gp:AOqpTOH3aQnZIPouGz_RGKngcb5mvpXYD9dVMiYjvfepoAYw_cVlKClpF1nOFAP3bwsu1LJK4B-xAFKYQCqN9DQ', 'userName': 'Joseph Antony', 'userImage': 'https://play-lh.googleusercontent.com/a-/AOh14GipzrgTfmJFesmFKrPF5St1f_DSaEMUHwP-apCE', 'content': \"Watts app is waste app it doesn't support to send large video files. only 2 minutes 50 seconds can be send at a time. It is not worth for video call and voice call. Often the video is blurry and voice quality is too bad. It need more improvement. It doesn't allow to forward chats in large. When i hear voice message it is too much annoying me. Watts app is utilizing more battery and running in background. I don't want it. I don't want to give any stars.\", 'score': 1, 'thumbsUpCount': 452, 'reviewCreatedVersion': '2.20.206.24', 'at': datetime.datetime(2021, 1, 9, 6, 58, 34), 'replyContent': None, 'repliedAt': None}, {'reviewId': 'gp:AOqpTOHhVYr5eMSffUnlrkZYjRA8IblE9FYFP_s9YmggNTJtTRGg1_05tS_8Nq_-t3bj7gvTxxWf0KoqAZNO04c', 'userName': 'ΜŘ ŘΔĦỮŁ ŘΔĴ', 'userImage': 'https://play-lh.googleusercontent.com/a-/AOh14GjM36r7HpTMwrWvVj398O04M9z2rJ1yMWAdlsEj8w', 'content': 'Why is my audio and video aren’t synchronizing in my WhatsApp status. My device information - Samsung A10, OS- ONE UI 2.0 , ANDROID 10', 'score': 1, 'thumbsUpCount': 11, 'reviewCreatedVersion': '2.21.1.13', 'at': datetime.datetime(2021, 1, 22, 13, 2, 38), 'replyContent': None, 'repliedAt': None}, {'reviewId': 'gp:AOqpTOHsSTpgvL2Kd9KkgSdIgmr-640xm1sKgCtz3K-_iiBnDtdtjepnD5QtwHLPJ2cft8Ls15_mqr_sVGGzPXI', 'userName': 'Mario Ivanov', 'userImage': 'https://play-lh.googleusercontent.com/-1hptI9Irhg8/AAAAAAAAAAI/AAAAAAAAAJw/AMZuuck6xfjUawky1CJL8qk9Ub3i_Oi94A/photo.jpg', 'content': 'Got used on using this app but will probably stop using it due to new privacy terms. It is good for text messages and voice messages, but not so good for voice calls. Has a big delay and it is making confusion because of that. Othervise is totally OK app, but will consider to switch to signal messaging app or something else that is better privacy vise', 'score': 3, 'thumbsUpCount': 961, 'reviewCreatedVersion': '2.20.206.24', 'at': datetime.datetime(2021, 1, 10, 16, 46, 8), 'replyContent': None, 'repliedAt': None}]\n"
     ]
    }
   ],
   "source": [
    "print(len(result))\n",
    "print(result)\n"
   ]
  },
  {
   "cell_type": "markdown",
   "metadata": {},
   "source": [
    "**Custmoise reviews_all function for saving reviews as csv files. Read more at https://github.com/JoMingyu/google-play-scraper.**"
   ]
  },
  {
   "cell_type": "code",
   "execution_count": 5,
   "metadata": {},
   "outputs": [],
   "source": [
    "# define the custmosed reviews_all function\n",
    "# define the custmosed reviews_all function\n",
    "def reviews_all_customise(app_id, sleep_milliseconds=0, max_csvrows=10000, folder_name=\"com.yummly.android\",**kwargs):\n",
    "    kwargs.pop(\"count\", None)\n",
    "    kwargs.pop(\"continuation_token\", None)\n",
    "\n",
    "    _csvcount = 0\n",
    "    _count = 199 # Google Play Store limit (up to 200 reviews can be fetched at a time)\n",
    "    _continuation_token = None # the start of next review position to scrape after scaping _count of reviews\n",
    "    result = []\n",
    "    totalcount = 0\n",
    "    _lastvalid_continuation_token = None # if token and last result_ are not none save the last valid token to resume scraping after sleep\n",
    "    \n",
    "    while True:\n",
    "        try:\n",
    "            result_, _continuation_token = reviews(\n",
    "                app_id, count=_count, continuation_token=_continuation_token, **kwargs\n",
    "            )\n",
    "            if _continuation_token is not None and _continuation_token.token is not None and str(result_)!='[]':\n",
    "                _lastvalid_continuation_token = _continuation_token\n",
    "            #print total count and token\n",
    "            totalcount+=len(result_)\n",
    "            print(\"totalcount so far:\"+str(totalcount))\n",
    "            print(\"token:\"+str(_continuation_token.token))\n",
    "            result += result_\n",
    "            # check if the return results reach the max rows per csv file, save the current results to csv file if it does and reset the result array \n",
    "            if(len(result)>=max_csvrows):\n",
    "                app_reviews_df = pd.DataFrame(result)\n",
    "                app_reviews_df.to_csv(folder_name+'/'+folder_name+'_reviews_'+str(_csvcount)+'.csv', index=None, header=True)\n",
    "                #print last csv file number\n",
    "                print(\"last csv file number:\"+str(_csvcount))\n",
    "                _csvcount = _csvcount+1\n",
    "                result = []\n",
    "                #sleep 0-1 random mins every csv file\n",
    "                sleep(random.randint(0,60))\n",
    "            # check if there is more continuation token to run next if none then save the current results to csv file, if last result_ is empty, the scraping may have been cut off,sleep 30-45 random mins before resuming scrape, otherwise break the scaping process\n",
    "            if _continuation_token.token is None:\n",
    "                app_reviews_df = pd.DataFrame(result)\n",
    "                app_reviews_df.to_csv(folder_name+'/'+folder_name+'_reviews_'+str(_csvcount)+'.csv', index=None, header=True)\n",
    "                #print last csv file number\n",
    "                print(\"last csv file number:\"+str(_csvcount))\n",
    "                #print warning re cut off\n",
    "                print(\"returned continuation token is none, if the last returned result number and result_ below are also none the scraping may have been cut off, unless totalcount so far is 0, which means App has 0 review .\")\n",
    "                print(\"last result_ number:\"+str(len(result_)))\n",
    "                print(\"last result_ :\"+str(result_))\n",
    "                # if last result_is empty sleep 30-45 random mins before resuming scrape\n",
    "                if(str(result_)=='[]' and totalcount!=0):\n",
    "                    _continuation_token = _lastvalid_continuation_token\n",
    "                    print(\"sleep 30-45 random mins before resuming scraping using the last valid token\"+str(_lastvalid_continuation_token.token) )\n",
    "                    sleep(random.randint(30,45)*60)\n",
    "                    continue\n",
    "                else:\n",
    "                    print(\"finished.\")\n",
    "                    break\n",
    "            #sleep 0-0.3 random second if random\n",
    "            if sleep_milliseconds==\"random\":\n",
    "                sleep(round(random.uniform(0,0.3), 3))\n",
    "            else:\n",
    "                sleep(sleep_milliseconds / 1000)\n",
    "            \n",
    "            \n",
    "            \n",
    "         # If some error occurs\n",
    "        except Exception as e:\n",
    "            # Print the error\n",
    "            print(e)\n",
    "            _continuation_token = _lastvalid_continuation_token\n",
    "            print(\"sleep 5-15 mins before resuming scraping using the last valid token\"+str(_lastvalid_continuation_token.token) )\n",
    "            sleep(random.randint(5,15)*60)\n",
    "            continue\n",
    "            \n",
    "\n",
    "    return result"
   ]
  },
  {
   "cell_type": "markdown",
   "metadata": {},
   "source": [
    "You may see larger number of stars and reviews on the app page than the returned data, see the reason below:\n",
    "\"reviews and reviews_all function scrape reviews with content. People can post review with star rating only(without review contents). These reviews aggregated for total reviews in Google Play, but don't displayed to review list.\" https://github.com/JoMingyu/google-play-scraper/issues/65 "
   ]
  },
  {
   "cell_type": "markdown",
   "metadata": {},
   "source": [
    "**Get all reivews and save in csv files. Comment out to get all the review data. Be mindful that it may take a long time and occupy much space depends on the number of reviews for the requested Google play app. Eg, Whatsapp return around 12 millions reviews and 3GB data.**"
   ]
  },
  {
   "cell_type": "code",
   "execution_count": 7,
   "metadata": {},
   "outputs": [
    {
     "data": {
      "text/plain": [
       "'app_name = \"com.yummly.android\"\\n#create app folder\\npath = app_name\\ntry:\\n    os.mkdir(path)\\nexcept OSError:\\n    print (\"Creation of the app folder %s failed\" % path)\\n    raise\\nelse:\\n    print (\"Successfully created the app folder %s \" % path)\\n\\n\\nresult = reviews_all_customise(\\n    app_name,\\n    sleep_milliseconds=100, # defaults to 0, \\n    max_csvrows=100000, # maximum rows in each csv file\\n    folder_name=app_name,\\n    lang=\\'en\\', # defaults to \\'en\\'\\n    country=\\'us\\', # defaults to \\'us\\'\\n    sort=Sort.NEWEST, # defaults to Sort.MOST_RELEVANT\\n    #filter_score_with=5 # defaults to None(means all score)\\n)\\n'"
      ]
     },
     "execution_count": 7,
     "metadata": {},
     "output_type": "execute_result"
    }
   ],
   "source": [
    "'''app_name = \"com.yummly.android\"\n",
    "#create app folder\n",
    "path = app_name\n",
    "try:\n",
    "    os.mkdir(path)\n",
    "except OSError:\n",
    "    print (\"Creation of the app folder %s failed\" % path)\n",
    "    raise\n",
    "else:\n",
    "    print (\"Successfully created the app folder %s \" % path)\n",
    "\n",
    "\n",
    "result = reviews_all_customise(\n",
    "    app_name,\n",
    "    sleep_milliseconds=100, # defaults to 0, \n",
    "    max_csvrows=100000, # maximum rows in each csv file\n",
    "    folder_name=app_name,\n",
    "    lang='en', # defaults to 'en'\n",
    "    country='us', # defaults to 'us'\n",
    "    sort=Sort.NEWEST, # defaults to Sort.MOST_RELEVANT\n",
    "    #filter_score_with=5 # defaults to None(means all score)\n",
    ")\n",
    "'''"
   ]
  }
 ],
 "metadata": {
  "kernelspec": {
   "display_name": "Python 3",
   "language": "python",
   "name": "python3"
  },
  "language_info": {
   "codemirror_mode": {
    "name": "ipython",
    "version": 3
   },
   "file_extension": ".py",
   "mimetype": "text/x-python",
   "name": "python",
   "nbconvert_exporter": "python",
   "pygments_lexer": "ipython3",
   "version": "3.6.9"
  }
 },
 "nbformat": 4,
 "nbformat_minor": 4
}
