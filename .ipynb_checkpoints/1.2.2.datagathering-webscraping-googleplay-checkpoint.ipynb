{
 "cells": [
  {
   "cell_type": "markdown",
   "metadata": {},
   "source": [
    "1.2 Getting data via Web scraping\n",
    "------"
   ]
  },
  {
   "cell_type": "markdown",
   "metadata": {},
   "source": [
    "### 1.2.2 Scraping Google play app page"
   ]
  },
  {
   "cell_type": "markdown",
   "metadata": {},
   "source": [
    "**In this section we demonstrate how to scrape Google play app page, especially the one with large amount of review data such as Whatsapp. A customised reviews_all function is used below to save the retrieved data into sepereated CSV files with 100000 reviews per file. Be mindful that the process may take a long time and occupy much space depends on the number of reviews for the requested Google play app. Eg, Whatsapp return around 7 millions reviews and 2GB data.**"
   ]
  },
  {
   "cell_type": "markdown",
   "metadata": {},
   "source": [
    "**Import required libraries.**"
   ]
  },
  {
   "cell_type": "code",
   "execution_count": 3,
   "metadata": {},
   "outputs": [],
   "source": [
    "from google_play_scraper import app\n",
    "from google_play_scraper import Sort, reviews, reviews_all\n",
    "import json\n",
    "import pandas as pd\n",
    "from time import sleep\n"
   ]
  },
  {
   "cell_type": "markdown",
   "metadata": {},
   "source": [
    "**Get app information from app id.**"
   ]
  },
  {
   "cell_type": "code",
   "execution_count": 4,
   "metadata": {},
   "outputs": [],
   "source": [
    "result = app(\n",
    "    'com.whatsapp',\n",
    "    lang='en', # defaults to 'en'\n",
    "    country='us' # defaults to 'us'\n",
    ")\n",
    "#print(result)"
   ]
  },
  {
   "cell_type": "markdown",
   "metadata": {},
   "source": [
    "**Test getting first 3 most relevant reviews. Read more at https://github.com/JoMingyu/google-play-scraper.**"
   ]
  },
  {
   "cell_type": "code",
   "execution_count": 5,
   "metadata": {},
   "outputs": [],
   "source": [
    "\n",
    "\n",
    "result, continuation_token = reviews(\n",
    "    'com.whatsapp',\n",
    "    lang='en', # defaults to 'en'\n",
    "    country='us', # defaults to 'us'\n",
    "    sort=Sort.MOST_RELEVANT, # defaults to Sort.MOST_RELEVANT\n",
    "    count=3, # defaults to 100\n",
    "    #filter_score_with=5 # defaults to None(means all score)\n",
    ")\n",
    "\n",
    "# If you pass `continuation_token` as an argument to the reviews function at this point,\n",
    "# it will crawl the items after 3 review items.\n",
    "\n",
    "result, _ = reviews(\n",
    "    'com.whatsapp',\n",
    "    continuation_token=continuation_token # defaults to None(load from the beginning)\n",
    ")"
   ]
  },
  {
   "cell_type": "markdown",
   "metadata": {},
   "source": [
    "**Print and check result.**"
   ]
  },
  {
   "cell_type": "code",
   "execution_count": 8,
   "metadata": {},
   "outputs": [
    {
     "name": "stdout",
     "output_type": "stream",
     "text": [
      "[{'reviewId': 'gp:AOqpTOHHgOCMQc40y-SvzC0ywAIHRlAZs5vi2UhzMD8fU8vXp8RPxUtz_x3WWrnWA7iZXYrUeXiohG-sd0RD-CU', 'userName': 'mathewsyriac syriac', 'userImage': 'https://play-lh.googleusercontent.com/-xGfXIuvKHxQ/AAAAAAAAAAI/AAAAAAAAAAA/AMZuuclG5F_WVk2713JFh9MadPON5fEvxA/photo.jpg', 'content': 'Whatsapp has been my all time favorite. Adfree and convenient chatting and calling is something most of the apps lack. I really appreciate the team for their hard work. But the only problem I face while using Whatsapp is that all the backup files, voice notes, images and documents are all saved in the internal storage which decreases all the space left. I hope the Whatsapp team would bring an feature to store all multimedia files in an external storage such as an SD card.', 'score': 4, 'thumbsUpCount': 2, 'reviewCreatedVersion': '2.20.202.21', 'at': datetime.datetime(2020, 11, 9, 1, 3, 7), 'replyContent': None, 'repliedAt': None}, {'reviewId': 'gp:AOqpTOH0xoNRDw2EMfBWXAXI5ACmGc_hy22a6ULXnfZQ_3dZRkK3CSCISVkiACS6g9OvVpNfPtAV6p8nsU3BH5M', 'userName': 'falzo oluwaseun', 'userImage': 'https://play-lh.googleusercontent.com/a-/AOh14GiK_Z_NZMVOmJAUEKQS3LUBBc9RyyIlNFb4-yjd', 'content': \"The app is really good, but please fix the issue of pictures getting blurry when uploaded on status, it's resolution might be reduced, but let it not be too much, whenever I snap with my phone and upload it's always blurry, but when people snaps me with their phones and send it to me and I upload, it isn't always as blurry as mine, please fix this issue on the app\", 'score': 4, 'thumbsUpCount': 1008, 'reviewCreatedVersion': '2.20.202.21', 'at': datetime.datetime(2020, 11, 8, 17, 3, 15), 'replyContent': None, 'repliedAt': None}, {'reviewId': 'gp:AOqpTOFhqFxz8221sXqL_XJAcYxNi3J5gupauIO-bY6BPf2pF2tmcwz9d1D5DYOVXXBdE0IhThyE-TvmoKdYjWQ', 'userName': 'Kiara Khan', 'userImage': 'https://play-lh.googleusercontent.com/-nrnflnj20LY/AAAAAAAAAAI/AAAAAAAAAAA/AMZuucmw6OS218Hfk4RRZ39a40MWlE0igw/photo.jpg', 'content': 'There should be a system in which if we mute some of our chat or group then it should straight go to the bottom of our chat box and even if someone text in that particular group, we should not get any notification and that group should stick to the bottom untill we personally go to the bottom to look for that group. Please try to make this happen, it is so frustrating to see the number of texts getting increased in the that particular group.', 'score': 3, 'thumbsUpCount': 66, 'reviewCreatedVersion': '2.20.202.21', 'at': datetime.datetime(2020, 11, 8, 17, 1, 48), 'replyContent': None, 'repliedAt': None}]\n",
      "3\n"
     ]
    }
   ],
   "source": [
    "print(len(result))\n",
    "print(result)\n"
   ]
  },
  {
   "cell_type": "markdown",
   "metadata": {},
   "source": [
    "**Custmoise reviews_all function for saving reviews as csv files. Read more at https://github.com/JoMingyu/google-play-scraper.**"
   ]
  },
  {
   "cell_type": "code",
   "execution_count": 32,
   "metadata": {},
   "outputs": [],
   "source": [
    "# define the custmosed reviews_all function\n",
    "def reviews_all_customise(app_id, sleep_milliseconds=0, max_csvrows=100000, **kwargs):\n",
    "    kwargs.pop(\"count\", None)\n",
    "    kwargs.pop(\"continuation_token\", None)\n",
    "\n",
    "    _csvcount = 0\n",
    "    _count = 199 # Google Play Store limit (up to 200 reviews can be fetched at a time)\n",
    "    _continuation_token = None # the start of next review position to scrape after scaping _count of reviews\n",
    "    result = []\n",
    "\n",
    "    while True:\n",
    "        result_, _continuation_token = reviews(\n",
    "            app_id, count=_count, continuation_token=_continuation_token, **kwargs\n",
    "        )\n",
    "\n",
    "        result += result_\n",
    "        # check if the return results reach the max rows per csv file, save the current results to csv file if it does and reset the result array \n",
    "        if(len(result)>=max_csvrows):\n",
    "            app_reviews_df = pd.DataFrame(result)\n",
    "            app_reviews_df.to_csv('reviews_'+str(_csvcount)+'.csv', index=None, header=True)\n",
    "            _csvcount = _csvcount+1\n",
    "            result = []\n",
    "        # check if there is more continuation token to run next if none then save the current results to csv file and break the scaping process\n",
    "        if _continuation_token.token is None:\n",
    "            app_reviews_df = pd.DataFrame(result)\n",
    "            app_reviews_df.to_csv('reviews_'+str(_csvcount)+'.csv', index=None, header=True)\n",
    "            break\n",
    "\n",
    "        if sleep_milliseconds:\n",
    "            sleep(sleep_milliseconds / 1000)\n",
    "\n",
    "    return result"
   ]
  },
  {
   "cell_type": "markdown",
   "metadata": {},
   "source": [
    "You may see larger number of stars and reviews on the app page than the returned data, see the reason below:\n",
    "\"reviews and reviews_all function scrape reviews with content. People can post review with star rating only(without review contents). These reviews aggregated for total reviews in Google Play, but don't displayed to review list.\" https://github.com/JoMingyu/google-play-scraper/issues/65 "
   ]
  },
  {
   "cell_type": "markdown",
   "metadata": {},
   "source": [
    "**Get all reivews and save in csv files. Comment out to get all the review data. Be mindful that it may take a long time and occupy much space depends on the number of reviews for the requested Google play app. Eg, Whatsapp return around 7 millions reviews and 2GB data.**"
   ]
  },
  {
   "cell_type": "code",
   "execution_count": 6,
   "metadata": {},
   "outputs": [
    {
     "data": {
      "text/plain": [
       "\"result = reviews_all_customise(\\n    'com.whatsapp',\\n    sleep_milliseconds=100, # defaults to 0\\n    max_csvrows=100000, # maximum rows in each csv file\\n    lang='en', # defaults to 'en'\\n    country='us', # defaults to 'us'\\n    sort=Sort.MOST_RELEVANT, # defaults to Sort.MOST_RELEVANT\\n    #filter_score_with=5 # defaults to None(means all score)\\n)\""
      ]
     },
     "execution_count": 6,
     "metadata": {},
     "output_type": "execute_result"
    }
   ],
   "source": [
    "'''result = reviews_all_customise(\n",
    "    'com.whatsapp',\n",
    "    sleep_milliseconds=100, # defaults to 0\n",
    "    max_csvrows=100000, # maximum rows in each csv file\n",
    "    lang='en', # defaults to 'en'\n",
    "    country='us', # defaults to 'us'\n",
    "    sort=Sort.MOST_RELEVANT, # defaults to Sort.MOST_RELEVANT\n",
    "    #filter_score_with=5 # defaults to None(means all score)\n",
    ")'''\n"
   ]
  }
 ],
 "metadata": {
  "kernelspec": {
   "display_name": "Python 3",
   "language": "python",
   "name": "python3"
  },
  "language_info": {
   "codemirror_mode": {
    "name": "ipython",
    "version": 3
   },
   "file_extension": ".py",
   "mimetype": "text/x-python",
   "name": "python",
   "nbconvert_exporter": "python",
   "pygments_lexer": "ipython3",
   "version": "3.6.9"
  }
 },
 "nbformat": 4,
 "nbformat_minor": 4
}
